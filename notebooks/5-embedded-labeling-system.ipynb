{
 "cells": [
  {
   "cell_type": "code",
   "execution_count": null,
   "id": "e0732f90",
   "metadata": {},
   "outputs": [],
   "source": [
    "import sys\n",
    "\n",
    "sys.path.append('../jupyter')"
   ]
  },
  {
   "cell_type": "code",
   "execution_count": null,
   "id": "646ee960",
   "metadata": {},
   "outputs": [],
   "source": [
    "from api import OneLabeler\n",
    "\n",
    "labeler = OneLabeler()\n",
    "labeler.display()"
   ]
  },
  {
   "cell_type": "code",
   "execution_count": null,
   "id": "284f34e5",
   "metadata": {},
   "outputs": [],
   "source": [
    "# API: start_new_project\n",
    "\n",
    "from sklearn.datasets import fetch_20newsgroups\n",
    "\n",
    "X, _ = fetch_20newsgroups(subset='all', remove=['headers', 'footers', 'quotes'], return_X_y=True)\n",
    "indices = [i for i, x in enumerate(X) if len(x) == 0]\n",
    "X = [x for i, x in enumerate(X) if i not in indices]\n",
    "data_objects = [{ 'uuid': i, 'content': x, } for i, x in enumerate(X)]\n",
    "\n",
    "labeler.start_new_project(data_objects=data_objects)"
   ]
  },
  {
   "cell_type": "code",
   "execution_count": null,
   "id": "5b456bed",
   "metadata": {},
   "outputs": [],
   "source": [
    "# API: get_labels\n",
    "\n",
    "labeler.get_labels()"
   ]
  },
  {
   "cell_type": "code",
   "execution_count": null,
   "id": "e15730a3",
   "metadata": {},
   "outputs": [],
   "source": [
    "# API: get_data_objects\n",
    "\n",
    "labeler.get_data_objects()"
   ]
  },
  {
   "cell_type": "code",
   "execution_count": null,
   "id": "6157a305",
   "metadata": {},
   "outputs": [],
   "source": []
  }
 ],
 "metadata": {
  "hide_input": false,
  "kernelspec": {
   "display_name": "Python 3 (ipykernel)",
   "language": "python",
   "name": "python3"
  },
  "language_info": {
   "codemirror_mode": {
    "name": "ipython",
    "version": 3
   },
   "file_extension": ".py",
   "mimetype": "text/x-python",
   "name": "python",
   "nbconvert_exporter": "python",
   "pygments_lexer": "ipython3",
   "version": "3.9.7"
  },
  "toc": {
   "base_numbering": 1,
   "nav_menu": {},
   "number_sections": true,
   "sideBar": true,
   "skip_h1_title": false,
   "title_cell": "Table of Contents",
   "title_sidebar": "Contents",
   "toc_cell": false,
   "toc_position": {},
   "toc_section_display": true,
   "toc_window_display": false
  },
  "varInspector": {
   "cols": {
    "lenName": 16,
    "lenType": 16,
    "lenVar": 40
   },
   "kernels_config": {
    "python": {
     "delete_cmd_postfix": "",
     "delete_cmd_prefix": "del ",
     "library": "var_list.py",
     "varRefreshCmd": "print(var_dic_list())"
    },
    "r": {
     "delete_cmd_postfix": ") ",
     "delete_cmd_prefix": "rm(",
     "library": "var_list.r",
     "varRefreshCmd": "cat(var_dic_list()) "
    }
   },
   "types_to_exclude": [
    "module",
    "function",
    "builtin_function_or_method",
    "instance",
    "_Feature"
   ],
   "window_display": false
  }
 },
 "nbformat": 4,
 "nbformat_minor": 5
}

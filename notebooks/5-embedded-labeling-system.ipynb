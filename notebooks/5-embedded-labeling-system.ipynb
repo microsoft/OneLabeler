{
 "cells": [
  {
   "cell_type": "code",
   "execution_count": 2,
   "id": "055e5598",
   "metadata": {
    "ExecuteTime": {
     "end_time": "2021-08-02T03:15:44.599070Z",
     "start_time": "2021-08-02T03:15:44.587073Z"
    }
   },
   "outputs": [
    {
     "data": {
      "text/html": [
       "<iframe src=\"http://localhost:8080/\" style=\"width: 100%\" height=\"400\"></iframe>\n"
      ],
      "text/plain": [
       "<IPython.core.display.HTML object>"
      ]
     },
     "metadata": {},
     "output_type": "display_data"
    }
   ],
   "source": [
    "%%html\n",
    "<iframe src=\"http://localhost:8080/\" style=\"width: 100%\" height=\"400\"></iframe>"
   ]
  },
  {
   "cell_type": "code",
   "execution_count": 3,
   "id": "5a6ccef1",
   "metadata": {
    "ExecuteTime": {
     "end_time": "2021-08-02T03:15:49.284741Z",
     "start_time": "2021-08-02T03:15:49.093863Z"
    },
    "code_folding": [
     5
    ]
   },
   "outputs": [],
   "source": [
    "from typing import Any\n",
    "import pymongo\n",
    "import pickle\n",
    "from bson.objectid import ObjectId\n",
    "\n",
    "def load_from_db(inserted_id: ObjectId,\n",
    "                 url: str,\n",
    "                 db_name: str,\n",
    "                 collection_name: str) -> Any:\n",
    "    \"\"\"\n",
    "    Load data from mongodb.\n",
    "\n",
    "    Args\n",
    "    ----\n",
    "    inserted_id : ObjectId\n",
    "        The key to the data object in the database.\n",
    "    url : str\n",
    "        The url for connecting the mongo client.\n",
    "    db_name : str\n",
    "        The name of the database.\n",
    "    collection_name : str\n",
    "        The name of the data collection in the database.\n",
    "\n",
    "    Returns\n",
    "    -------\n",
    "    data : Any\n",
    "        The stored data.\n",
    "    \"\"\"\n",
    "    # pylint: disable=invalid-name\n",
    "\n",
    "    # create connection\n",
    "    client = pymongo.MongoClient(url)\n",
    "\n",
    "    # get database\n",
    "    db = client[db_name]\n",
    "\n",
    "    # get collection\n",
    "    collection = db[collection_name]\n",
    "\n",
    "    # get data\n",
    "    data = collection.find_one({'_id': inserted_id})\n",
    "    pickled_data = data['data']\n",
    "\n",
    "    data = pickle.loads(pickled_data)\n",
    "    return data"
   ]
  },
  {
   "cell_type": "code",
   "execution_count": null,
   "id": "5c928292",
   "metadata": {},
   "outputs": [],
   "source": [
    "load_from_db()"
   ]
  },
  {
   "cell_type": "code",
   "execution_count": null,
   "id": "55885e97",
   "metadata": {},
   "outputs": [],
   "source": []
  }
 ],
 "metadata": {
  "hide_input": false,
  "kernelspec": {
   "display_name": "Python 3",
   "language": "python",
   "name": "python3"
  },
  "language_info": {
   "codemirror_mode": {
    "name": "ipython",
    "version": 3
   },
   "file_extension": ".py",
   "mimetype": "text/x-python",
   "name": "python",
   "nbconvert_exporter": "python",
   "pygments_lexer": "ipython3",
   "version": "3.6.4"
  },
  "toc": {
   "base_numbering": 1,
   "nav_menu": {},
   "number_sections": true,
   "sideBar": true,
   "skip_h1_title": false,
   "title_cell": "Table of Contents",
   "title_sidebar": "Contents",
   "toc_cell": false,
   "toc_position": {},
   "toc_section_display": true,
   "toc_window_display": false
  },
  "varInspector": {
   "cols": {
    "lenName": 16,
    "lenType": 16,
    "lenVar": 40
   },
   "kernels_config": {
    "python": {
     "delete_cmd_postfix": "",
     "delete_cmd_prefix": "del ",
     "library": "var_list.py",
     "varRefreshCmd": "print(var_dic_list())"
    },
    "r": {
     "delete_cmd_postfix": ") ",
     "delete_cmd_prefix": "rm(",
     "library": "var_list.r",
     "varRefreshCmd": "cat(var_dic_list()) "
    }
   },
   "types_to_exclude": [
    "module",
    "function",
    "builtin_function_or_method",
    "instance",
    "_Feature"
   ],
   "window_display": false
  }
 },
 "nbformat": 4,
 "nbformat_minor": 5
}

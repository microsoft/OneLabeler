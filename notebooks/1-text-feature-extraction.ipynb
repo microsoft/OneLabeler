{
 "cells": [
  {
   "cell_type": "markdown",
   "id": "e2bd3dd1",
   "metadata": {},
   "source": [
    "# Text Feature Extraction"
   ]
  },
  {
   "cell_type": "code",
   "execution_count": null,
   "id": "b8f7d14d",
   "metadata": {},
   "outputs": [],
   "source": [
    "import altair as alt\n",
    "import matplotlib.pyplot as plt\n",
    "import numpy as np\n",
    "import pandas as pd\n",
    "import tensorflow as tf\n",
    "\n",
    "import sys\n",
    "\n",
    "sys.path.append('../')\n",
    "\n",
    "alt.renderers.enable('default')"
   ]
  },
  {
   "cell_type": "code",
   "execution_count": null,
   "id": "0ff34a5f",
   "metadata": {},
   "outputs": [],
   "source": [
    "from sklearn import decomposition\n",
    "\n",
    "def plot_proj(X, y):\n",
    "    reducer = decomposition.TruncatedSVD(n_components=2)\n",
    "    X_proj = reducer.fit_transform(X) if X.shape[1] > 2 else X\n",
    "\n",
    "    chart = alt.Chart(pd.DataFrame({\n",
    "        'dim-1': X_proj[:, 0],\n",
    "        'dim-2': X_proj[:, 1],\n",
    "        'label': y,\n",
    "    })).mark_point().encode(\n",
    "        x='dim-1:Q',\n",
    "        y='dim-2:Q',\n",
    "        color='label:N',\n",
    "    )\n",
    "    return chart"
   ]
  },
  {
   "cell_type": "code",
   "execution_count": null,
   "id": "be74c82e",
   "metadata": {},
   "outputs": [],
   "source": [
    "import json\n",
    "from sklearn.datasets import fetch_20newsgroups\n",
    "\n",
    "X, y = fetch_20newsgroups(subset='all', remove=['headers', 'footers', 'quotes'], return_X_y=True)\n",
    "#X, y = fetch_20newsgroups(subset='all', remove=['headers', 'footers', 'quotes'], return_X_y=True, categories=['alt.atheism', 'talk.religion.misc', 'comp.graphics', 'sci.space'])\n",
    "#X, y = fetch_20newsgroups(subset='all', return_X_y=True)\n",
    "\n",
    "# filter data objects with empty body\n",
    "indices = [i for i, x in enumerate(X) if len(x) == 0]\n",
    "X = [x for i, x in enumerate(X) if i not in indices]\n",
    "y = [y for i, y in enumerate(y) if i not in indices]"
   ]
  },
  {
   "cell_type": "code",
   "execution_count": null,
   "id": "a07580c1",
   "metadata": {},
   "outputs": [],
   "source": [
    "from sklearn.feature_extraction.text import TfidfVectorizer\n",
    "from sklearn.decomposition import NMF\n",
    "\n",
    "tfidf_vectorizer = TfidfVectorizer(max_df=0.95, min_df=2,\n",
    "                                   max_features=5000,\n",
    "                                   stop_words='english')\n",
    "X_tfidf = tfidf_vectorizer.fit_transform(X)\n",
    "nmf = NMF(n_components=20, init='random', random_state=0, alpha=.1, l1_ratio=.5)\n",
    "X_nmf = nmf.fit_transform(X_tfidf)\n",
    "\n",
    "print(X_nmf.shape)\n",
    "\n",
    "plot_proj(X_nmf[:5000], y[:5000]).interactive()"
   ]
  },
  {
   "cell_type": "code",
   "execution_count": null,
   "id": "c7b9e919",
   "metadata": {},
   "outputs": [],
   "source": [
    "from sklearn.feature_extraction.text import CountVectorizer\n",
    "from sklearn.decomposition import LatentDirichletAllocation\n",
    "\n",
    "tf_vectorizer = CountVectorizer(max_df=0.95, min_df=2, max_features=1000)\n",
    "X_tf = tf_vectorizer.fit_transform(X)\n",
    "lda = LatentDirichletAllocation(n_components=50, learning_method='online', max_iter=5, random_state=0)\n",
    "X_lda = lda.fit_transform(X_tf)\n",
    "\n",
    "print(X_lda.shape)\n",
    "\n",
    "plot_proj(X_lda[:5000], y[:5000]).interactive()"
   ]
  },
  {
   "cell_type": "code",
   "execution_count": null,
   "id": "103610b0",
   "metadata": {},
   "outputs": [],
   "source": []
  }
 ],
 "metadata": {
  "hide_input": false,
  "kernelspec": {
   "display_name": "Python 3",
   "language": "python",
   "name": "python3"
  },
  "language_info": {
   "codemirror_mode": {
    "name": "ipython",
    "version": 3
   },
   "file_extension": ".py",
   "mimetype": "text/x-python",
   "name": "python",
   "nbconvert_exporter": "python",
   "pygments_lexer": "ipython3",
   "version": "3.6.4"
  },
  "toc": {
   "base_numbering": 1,
   "nav_menu": {},
   "number_sections": true,
   "sideBar": true,
   "skip_h1_title": false,
   "title_cell": "Table of Contents",
   "title_sidebar": "Contents",
   "toc_cell": false,
   "toc_position": {},
   "toc_section_display": true,
   "toc_window_display": false
  },
  "varInspector": {
   "cols": {
    "lenName": 16,
    "lenType": 16,
    "lenVar": 40
   },
   "kernels_config": {
    "python": {
     "delete_cmd_postfix": "",
     "delete_cmd_prefix": "del ",
     "library": "var_list.py",
     "varRefreshCmd": "print(var_dic_list())"
    },
    "r": {
     "delete_cmd_postfix": ") ",
     "delete_cmd_prefix": "rm(",
     "library": "var_list.r",
     "varRefreshCmd": "cat(var_dic_list()) "
    }
   },
   "types_to_exclude": [
    "module",
    "function",
    "builtin_function_or_method",
    "instance",
    "_Feature"
   ],
   "window_display": false
  }
 },
 "nbformat": 4,
 "nbformat_minor": 5
}

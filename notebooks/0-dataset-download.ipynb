{
 "cells": [
  {
   "cell_type": "markdown",
   "id": "682d8902",
   "metadata": {},
   "source": [
    "# Dataset Download"
   ]
  },
  {
   "cell_type": "markdown",
   "id": "b3860783",
   "metadata": {},
   "source": [
    "## UCI ML hand-written digits datasets\n",
    "\n",
    "- data object type: gray image\n",
    "    - image size: 8 * 8\n",
    "- number of data objects: 1797\n",
    "- label task: classification\n",
    "    - classes: 0, ..., 9\n",
    "\n",
    "Reference\n",
    "\n",
    "1. sklearn dataset download api ([link](https://scikit-learn.org/stable/modules/generated/sklearn.datasets.load_digits.html))\n",
    "2. dataset homepage ([link](https://archive.ics.uci.edu/ml/datasets/Optical+Recognition+of+Handwritten+Digits))"
   ]
  },
  {
   "cell_type": "code",
   "execution_count": null,
   "id": "6ee8a817",
   "metadata": {},
   "outputs": [],
   "source": [
    "import os\n",
    "import cv2 as cv\n",
    "import numpy as np\n",
    "from sklearn.datasets import load_digits\n",
    "\n",
    "digits = load_digits()\n",
    "\n",
    "X_raw = (digits.images.astype(float) / 16 * 255).astype(np.uint8)\n",
    "y = digits.target\n",
    "\n",
    "dataset_name = 'UCI_handwritten_digits'\n",
    "if not os.path.exists(dataset_name):\n",
    "    os.makedirs(dataset_name)\n",
    "\n",
    "for i, img in enumerate(X_raw):\n",
    "    cv.imwrite(f'{dataset_name}/{i}.png', img)"
   ]
  },
  {
   "cell_type": "markdown",
   "id": "10f0d59c",
   "metadata": {},
   "source": [
    "## Cifar-10\n",
    "\n",
    "- data object type: color image\n",
    "    - image size: 32 * 32\n",
    "- number of data objects: 50000 (train) + 10000 (test)\n",
    "- label task: classification\n",
    "    - classes:\n",
    "        - 0 = airplane\n",
    "        - 1 = automobile\n",
    "        - 2 = bird\n",
    "        - 3 = cat\n",
    "        - 4 = deer\n",
    "        - 5 = dog\n",
    "        - 6 = frog\n",
    "        - 7 = horse\n",
    "        - 8 = ship\n",
    "        - 9 = truck\n",
    "\n",
    "Reference\n",
    "\n",
    "1. tensorflow dataset download api ([link](https://www.tensorflow.org/datasets/catalog/cifar10))\n",
    "2. dataset homepage ([link](https://www.cs.toronto.edu/~kriz/cifar.html))"
   ]
  },
  {
   "cell_type": "code",
   "execution_count": null,
   "id": "87b3a4f7",
   "metadata": {},
   "outputs": [],
   "source": [
    "import os\n",
    "import cv2 as cv\n",
    "import tensorflow_datasets as tfds\n",
    "\n",
    "cifar10 = tfds.load('cifar10', download=True)\n",
    "train = [*tfds.as_numpy(cifar10)['train']]\n",
    "test = [*tfds.as_numpy(cifar10)['test']]\n",
    "\n",
    "dataset_name = 'Cifar-10'\n",
    "if not os.path.exists(dataset_name):\n",
    "    os.makedirs(dataset_name)\n",
    "if not os.path.exists(f'{dataset_name}/train'):\n",
    "    os.makedirs(f'{dataset_name}/train')\n",
    "if not os.path.exists(f'{dataset_name}/test'):\n",
    "    os.makedirs(f'{dataset_name}/test')\n",
    "\n",
    "for i in range(len(train)):\n",
    "    img = train[i]['image']\n",
    "    title = train[i]['id'].decode()\n",
    "    cv.imwrite(f'{dataset_name}/train/{title}.png', img)\n",
    "for i in range(len(test)):\n",
    "    img = test[i]['image']\n",
    "    title = test[i]['id'].decode()\n",
    "    cv.imwrite(f'{dataset_name}/test/{title}.png', img)"
   ]
  },
  {
   "cell_type": "markdown",
   "id": "6a1d0a87",
   "metadata": {},
   "source": [
    "## imagenette\n",
    "\n",
    "- data object type: color image\n",
    "    - image size: >= 160 * 160 (shortest side is 160)\n",
    "- number of data objcets: 12894 (train) + 500 (validation)\n",
    "- label task: classification\n",
    "    - classes:\n",
    "        - n01440764 = 'tench'\n",
    "        - n02102040 = 'English springer'\n",
    "        - n02979186 = 'cassette player'\n",
    "        - n03000684 = 'chain saw'\n",
    "        - n03028079 = 'church'\n",
    "        - n03394916 = 'French horn'\n",
    "        - n03417042 = 'garbage truck'\n",
    "        - n03425413 = 'gas pump'\n",
    "        - n03445777 = 'golf ball'\n",
    "        - n03888257 = 'parachute'\n",
    "\n",
    "Reference\n",
    "\n",
    "1. tensorflow dataset download api ([link](https://www.tensorflow.org/datasets/catalog/imagenette))\n",
    "2. dataset homepage ([link](https://github.com/fastai/imagenette))"
   ]
  },
  {
   "cell_type": "code",
   "execution_count": 1,
   "id": "c8579d5e",
   "metadata": {
    "ExecuteTime": {
     "end_time": "2021-07-21T03:03:20.964128Z",
     "start_time": "2021-07-21T02:53:56.724723Z"
    },
    "scrolled": false
   },
   "outputs": [
    {
     "name": "stdout",
     "output_type": "stream",
     "text": [
      "Downloading and preparing dataset Unknown size (download: Unknown size, generated: Unknown size, total: Unknown size) to C:\\Users\\jonat\\tensorflow_datasets\\imagenette\\160px\\1.0.0...\n"
     ]
    },
    {
     "data": {
      "application/vnd.jupyter.widget-view+json": {
       "model_id": "90451de7d97e4b9eade6d13e7a4e8360",
       "version_major": 2,
       "version_minor": 0
      },
      "text/plain": [
       "HBox(children=(IntProgress(value=1, bar_style='info', description='Dl Completed...', max=1, style=ProgressStyl…"
      ]
     },
     "metadata": {},
     "output_type": "display_data"
    },
    {
     "data": {
      "application/vnd.jupyter.widget-view+json": {
       "model_id": "5e4e1095f4fa43ba91da9bd62f5b2cfe",
       "version_major": 2,
       "version_minor": 0
      },
      "text/plain": [
       "HBox(children=(IntProgress(value=1, bar_style='info', description='Dl Size...', max=1, style=ProgressStyle(des…"
      ]
     },
     "metadata": {},
     "output_type": "display_data"
    },
    {
     "data": {
      "application/vnd.jupyter.widget-view+json": {
       "model_id": "db8f0c3f3cdd411ca922f02b585d04b9",
       "version_major": 2,
       "version_minor": 0
      },
      "text/plain": [
       "HBox(children=(IntProgress(value=1, bar_style='info', description='Extraction completed...', max=1, style=Prog…"
      ]
     },
     "metadata": {},
     "output_type": "display_data"
    },
    {
     "name": "stdout",
     "output_type": "stream",
     "text": [
      "\n"
     ]
    },
    {
     "data": {
      "application/vnd.jupyter.widget-view+json": {
       "model_id": "",
       "version_major": 2,
       "version_minor": 0
      },
      "text/plain": [
       "HBox(children=(IntProgress(value=0, description='Generating splits...', max=2, style=ProgressStyle(description…"
      ]
     },
     "metadata": {},
     "output_type": "display_data"
    },
    {
     "data": {
      "application/vnd.jupyter.widget-view+json": {
       "model_id": "",
       "version_major": 2,
       "version_minor": 0
      },
      "text/plain": [
       "HBox(children=(IntProgress(value=1, bar_style='info', description='Generating train examples...', max=1, style…"
      ]
     },
     "metadata": {},
     "output_type": "display_data"
    },
    {
     "data": {
      "application/vnd.jupyter.widget-view+json": {
       "model_id": "",
       "version_major": 2,
       "version_minor": 0
      },
      "text/plain": [
       "HBox(children=(IntProgress(value=0, description='Shuffling imagenette-train.tfrecord...', max=12894, style=Pro…"
      ]
     },
     "metadata": {},
     "output_type": "display_data"
    },
    {
     "data": {
      "application/vnd.jupyter.widget-view+json": {
       "model_id": "",
       "version_major": 2,
       "version_minor": 0
      },
      "text/plain": [
       "HBox(children=(IntProgress(value=1, bar_style='info', description='Generating validation examples...', max=1, …"
      ]
     },
     "metadata": {},
     "output_type": "display_data"
    },
    {
     "data": {
      "application/vnd.jupyter.widget-view+json": {
       "model_id": "",
       "version_major": 2,
       "version_minor": 0
      },
      "text/plain": [
       "HBox(children=(IntProgress(value=0, description='Shuffling imagenette-validation.tfrecord...', max=500, style=…"
      ]
     },
     "metadata": {},
     "output_type": "display_data"
    },
    {
     "name": "stdout",
     "output_type": "stream",
     "text": [
      "Dataset imagenette downloaded and prepared to C:\\Users\\jonat\\tensorflow_datasets\\imagenette\\160px\\1.0.0. Subsequent calls will reuse this data.\n"
     ]
    }
   ],
   "source": [
    "import os\n",
    "import cv2 as cv\n",
    "import tensorflow_datasets as tfds\n",
    "\n",
    "imagenette = tfds.load('imagenette/160px', download=True)\n",
    "train = [*tfds.as_numpy(imagenette)['train']]\n",
    "validation = [*tfds.as_numpy(imagenette)['validation']]\n",
    "\n",
    "dataset_name = 'imagenette'\n",
    "if not os.path.exists(dataset_name):\n",
    "    os.makedirs(dataset_name)\n",
    "if not os.path.exists(f'{dataset_name}/train'):\n",
    "    os.makedirs(f'{dataset_name}/train')\n",
    "if not os.path.exists(f'{dataset_name}/validation'):\n",
    "    os.makedirs(f'{dataset_name}/validation')\n",
    "\n",
    "# imagenette dataset originally stored the image in bgr order\n",
    "for i in range(len(train)):\n",
    "    img = cv.cvtColor(train[i]['image'], cv.COLOR_BGR2RGB)\n",
    "    label = train[i]['label']\n",
    "    cv.imwrite(f'{dataset_name}/train/{i}-{label}.png', img)\n",
    "for i in range(len(validation)):\n",
    "    img = cv.cvtColor(validation[i]['image'], cv.COLOR_BGR2RGB)\n",
    "    label = validation[i]['label']\n",
    "    cv.imwrite(f'{dataset_name}/validation/{i}-{label}.png', img)"
   ]
  },
  {
   "cell_type": "markdown",
   "id": "1e76550e",
   "metadata": {},
   "source": [
    "## 20 Newsgroups\n",
    "\n",
    "- data object type: document\n",
    "- number of data objects: 18846 (total), 18466 (empty body filtered)\n",
    "- task: classification\n",
    "    - classes:\n",
    "        - 'alt.atheism'\n",
    "        - 'comp.graphics'\n",
    "        - 'comp.os.ms-windows.misc'\n",
    "        - 'comp.sys.ibm.pc.hardware'\n",
    "        - 'comp.sys.mac.hardware'\n",
    "        - 'comp.windows.x'\n",
    "        - 'misc.forsale'\n",
    "        - 'rec.autos'\n",
    "        - 'rec.motorcycles'\n",
    "        - 'rec.sport.baseball'\n",
    "        - 'rec.sport.hockey'\n",
    "        - 'sci.crypt'\n",
    "        - 'sci.electronics'\n",
    "        - 'sci.med'\n",
    "        - 'sci.space'\n",
    "        - 'soc.religion.christian'\n",
    "        - 'talk.politics.guns'\n",
    "        - 'talk.politics.mideast'\n",
    "        - 'talk.politics.misc'\n",
    "        - 'talk.religion.misc'\n",
    "\n",
    "Reference\n",
    "\n",
    "1. sklearn dataset download api ([link](https://scikit-learn.org/stable/modules/generated/sklearn.datasets.fetch_20newsgroups.html))\n",
    "2. dataset homepage ([link](http://qwone.com/~jason/20Newsgroups/))"
   ]
  },
  {
   "cell_type": "code",
   "execution_count": 2,
   "id": "be0725bd",
   "metadata": {
    "ExecuteTime": {
     "end_time": "2021-07-21T02:35:21.622131Z",
     "start_time": "2021-07-21T02:29:43.606901Z"
    }
   },
   "outputs": [
    {
     "name": "stderr",
     "output_type": "stream",
     "text": [
      "Downloading 20news dataset. This may take a few minutes.\n",
      "WARNING: Logging before flag parsing goes to stderr.\n",
      "I0721 10:29:46.980602 26652 _twenty_newsgroups.py:248] Downloading 20news dataset. This may take a few minutes.\n",
      "Downloading dataset from https://ndownloader.figshare.com/files/5975967 (14 MB)\n",
      "I0721 10:29:46.996604 26652 _twenty_newsgroups.py:72] Downloading dataset from https://ndownloader.figshare.com/files/5975967 (14 MB)\n"
     ]
    }
   ],
   "source": [
    "import json\n",
    "from sklearn.datasets import fetch_20newsgroups\n",
    "\n",
    "\n",
    "X, y = fetch_20newsgroups(subset='all', remove=['headers', 'footers', 'quotes'], return_X_y=True)\n",
    "#X, y = fetch_20newsgroups(subset='all', return_X_y=True)\n",
    "\n",
    "# filter data objects with empty body\n",
    "indices = [i for i, x in enumerate(X) if len(x) == 0]\n",
    "X = [x for i, x in enumerate(X) if i not in indices]\n",
    "y = [y for i, y in enumerate(y) if i not in indices]\n",
    "\n",
    "with open('20newsgroups.json', 'w', encoding='utf-8') as f:\n",
    "    json.dump(X, f, ensure_ascii=False, indent=4)"
   ]
  },
  {
   "cell_type": "markdown",
   "id": "9457ff56",
   "metadata": {},
   "source": [
    "## KTH\n",
    "\n",
    "- data object type: video\n",
    "- number of data objects: 600\n",
    "- task: classification\n",
    "    - classes:\n",
    "        - 'walking'\n",
    "        - 'jogging'\n",
    "        - 'running'\n",
    "        - 'boxing'\n",
    "        - 'handwaving'\n",
    "        - 'handclapping'\n",
    "\n",
    "Reference\n",
    "\n",
    "1. dataset homepage ([link](https://www.csc.kth.se/cvap/actions/))"
   ]
  },
  {
   "cell_type": "code",
   "execution_count": 1,
   "id": "9541a663",
   "metadata": {
    "ExecuteTime": {
     "end_time": "2021-07-21T06:54:27.149661Z",
     "start_time": "2021-07-21T04:48:13.332266Z"
    },
    "code_folding": [
     11
    ]
   },
   "outputs": [
    {
     "name": "stderr",
     "output_type": "stream",
     "text": [
      "100% |########################################################################|\n"
     ]
    },
    {
     "name": "stdout",
     "output_type": "stream",
     "text": [
      "Moviepy - Building video ./KTH-Action-dataset/boxing\\person01_boxing_d1_uncomp.mp4.\n",
      "Moviepy - Writing video ./KTH-Action-dataset/boxing\\person01_boxing_d1_uncomp.mp4\n",
      "\n"
     ]
    },
    {
     "name": "stderr",
     "output_type": "stream",
     "text": [
      "                                                                                               \r"
     ]
    },
    {
     "name": "stdout",
     "output_type": "stream",
     "text": [
      "Moviepy - Done !\n",
      "Moviepy - video ready ./KTH-Action-dataset/boxing\\person01_boxing_d1_uncomp.mp4\n",
      "Moviepy - Building video ./KTH-Action-dataset/boxing\\person01_boxing_d2_uncomp.mp4.\n",
      "Moviepy - Writing video ./KTH-Action-dataset/boxing\\person01_boxing_d2_uncomp.mp4\n",
      "\n"
     ]
    },
    {
     "name": "stderr",
     "output_type": "stream",
     "text": [
      "                                                                                               \r"
     ]
    },
    {
     "name": "stdout",
     "output_type": "stream",
     "text": [
      "Moviepy - Done !\n",
      "Moviepy - video ready ./KTH-Action-dataset/boxing\\person01_boxing_d2_uncomp.mp4\n",
      "Moviepy - Building video ./KTH-Action-dataset/boxing\\person01_boxing_d3_uncomp.mp4.\n",
      "Moviepy - Writing video ./KTH-Action-dataset/boxing\\person01_boxing_d3_uncomp.mp4\n",
      "\n"
     ]
    },
    {
     "name": "stderr",
     "output_type": "stream",
     "text": [
      "                                                                                               \r"
     ]
    },
    {
     "name": "stdout",
     "output_type": "stream",
     "text": [
      "Moviepy - Done !\n",
      "Moviepy - video ready ./KTH-Action-dataset/boxing\\person01_boxing_d3_uncomp.mp4\n",
      "Moviepy - Building video ./KTH-Action-dataset/boxing\\person01_boxing_d4_uncomp.mp4.\n",
      "Moviepy - Writing video ./KTH-Action-dataset/boxing\\person01_boxing_d4_uncomp.mp4\n",
      "\n"
     ]
    },
    {
     "name": "stderr",
     "output_type": "stream",
     "text": [
      "                                                                                               \r"
     ]
    },
    {
     "name": "stdout",
     "output_type": "stream",
     "text": [
      "Moviepy - Done !\n",
      "Moviepy - video ready ./KTH-Action-dataset/boxing\\person01_boxing_d4_uncomp.mp4\n",
      "Moviepy - Building video ./KTH-Action-dataset/boxing\\person02_boxing_d1_uncomp.mp4.\n",
      "Moviepy - Writing video ./KTH-Action-dataset/boxing\\person02_boxing_d1_uncomp.mp4\n",
      "\n"
     ]
    },
    {
     "name": "stderr",
     "output_type": "stream",
     "text": [
      "                                                                                               \r"
     ]
    },
    {
     "name": "stdout",
     "output_type": "stream",
     "text": [
      "Moviepy - Done !\n",
      "Moviepy - video ready ./KTH-Action-dataset/boxing\\person02_boxing_d1_uncomp.mp4\n",
      "Moviepy - Building video ./KTH-Action-dataset/boxing\\person02_boxing_d2_uncomp.mp4.\n",
      "Moviepy - Writing video ./KTH-Action-dataset/boxing\\person02_boxing_d2_uncomp.mp4\n",
      "\n"
     ]
    },
    {
     "name": "stderr",
     "output_type": "stream",
     "text": [
      "                                                                                               \r"
     ]
    },
    {
     "name": "stdout",
     "output_type": "stream",
     "text": [
      "Moviepy - Done !\n",
      "Moviepy - video ready ./KTH-Action-dataset/boxing\\person02_boxing_d2_uncomp.mp4\n",
      "Moviepy - Building video ./KTH-Action-dataset/boxing\\person02_boxing_d3_uncomp.mp4.\n",
      "Moviepy - Writing video ./KTH-Action-dataset/boxing\\person02_boxing_d3_uncomp.mp4\n",
      "\n"
     ]
    },
    {
     "name": "stderr",
     "output_type": "stream",
     "text": [
      "                                                                                               \r"
     ]
    },
    {
     "name": "stdout",
     "output_type": "stream",
     "text": [
      "Moviepy - Done !\n",
      "Moviepy - video ready ./KTH-Action-dataset/boxing\\person02_boxing_d3_uncomp.mp4\n",
      "Moviepy - Building video ./KTH-Action-dataset/boxing\\person02_boxing_d4_uncomp.mp4.\n",
      "Moviepy - Writing video ./KTH-Action-dataset/boxing\\person02_boxing_d4_uncomp.mp4\n",
      "\n"
     ]
    },
    {
     "name": "stderr",
     "output_type": "stream",
     "text": [
      "                                                                                               \r"
     ]
    },
    {
     "name": "stdout",
     "output_type": "stream",
     "text": [
      "Moviepy - Done !\n",
      "Moviepy - video ready ./KTH-Action-dataset/boxing\\person02_boxing_d4_uncomp.mp4\n",
      "Moviepy - Building video ./KTH-Action-dataset/boxing\\person03_boxing_d1_uncomp.mp4.\n",
      "Moviepy - Writing video ./KTH-Action-dataset/boxing\\person03_boxing_d1_uncomp.mp4\n",
      "\n"
     ]
    },
    {
     "name": "stderr",
     "output_type": "stream",
     "text": [
      "                                                                                               \r"
     ]
    },
    {
     "name": "stdout",
     "output_type": "stream",
     "text": [
      "Moviepy - Done !\n",
      "Moviepy - video ready ./KTH-Action-dataset/boxing\\person03_boxing_d1_uncomp.mp4\n",
      "Moviepy - Building video ./KTH-Action-dataset/boxing\\person03_boxing_d2_uncomp.mp4.\n",
      "Moviepy - Writing video ./KTH-Action-dataset/boxing\\person03_boxing_d2_uncomp.mp4\n",
      "\n"
     ]
    },
    {
     "name": "stderr",
     "output_type": "stream",
     "text": [
      "                                                                                               \r"
     ]
    },
    {
     "name": "stdout",
     "output_type": "stream",
     "text": [
      "Moviepy - Done !\n",
      "Moviepy - video ready ./KTH-Action-dataset/boxing\\person03_boxing_d2_uncomp.mp4\n",
      "Moviepy - Building video ./KTH-Action-dataset/boxing\\person03_boxing_d3_uncomp.mp4.\n",
      "Moviepy - Writing video ./KTH-Action-dataset/boxing\\person03_boxing_d3_uncomp.mp4\n",
      "\n"
     ]
    },
    {
     "name": "stderr",
     "output_type": "stream",
     "text": [
      "                                                                                               \r"
     ]
    },
    {
     "name": "stdout",
     "output_type": "stream",
     "text": [
      "Moviepy - Done !\n",
      "Moviepy - video ready ./KTH-Action-dataset/boxing\\person03_boxing_d3_uncomp.mp4\n",
      "Moviepy - Building video ./KTH-Action-dataset/boxing\\person03_boxing_d4_uncomp.mp4.\n",
      "Moviepy - Writing video ./KTH-Action-dataset/boxing\\person03_boxing_d4_uncomp.mp4\n",
      "\n"
     ]
    },
    {
     "name": "stderr",
     "output_type": "stream",
     "text": [
      "                                                                                               \r"
     ]
    },
    {
     "name": "stdout",
     "output_type": "stream",
     "text": [
      "Moviepy - Done !\n",
      "Moviepy - video ready ./KTH-Action-dataset/boxing\\person03_boxing_d4_uncomp.mp4\n",
      "Moviepy - Building video ./KTH-Action-dataset/boxing\\person04_boxing_d1_uncomp.mp4.\n",
      "Moviepy - Writing video ./KTH-Action-dataset/boxing\\person04_boxing_d1_uncomp.mp4\n",
      "\n"
     ]
    },
    {
     "name": "stderr",
     "output_type": "stream",
     "text": [
      "                                                                                               \r"
     ]
    },
    {
     "name": "stdout",
     "output_type": "stream",
     "text": [
      "Moviepy - Done !\n",
      "Moviepy - video ready ./KTH-Action-dataset/boxing\\person04_boxing_d1_uncomp.mp4\n",
      "Moviepy - Building video ./KTH-Action-dataset/boxing\\person04_boxing_d2_uncomp.mp4.\n",
      "Moviepy - Writing video ./KTH-Action-dataset/boxing\\person04_boxing_d2_uncomp.mp4\n",
      "\n"
     ]
    },
    {
     "name": "stderr",
     "output_type": "stream",
     "text": [
      "                                                                                               \r"
     ]
    },
    {
     "name": "stdout",
     "output_type": "stream",
     "text": [
      "Moviepy - Done !\n",
      "Moviepy - video ready ./KTH-Action-dataset/boxing\\person04_boxing_d2_uncomp.mp4\n",
      "Moviepy - Building video ./KTH-Action-dataset/boxing\\person04_boxing_d3_uncomp.mp4.\n",
      "Moviepy - Writing video ./KTH-Action-dataset/boxing\\person04_boxing_d3_uncomp.mp4\n",
      "\n"
     ]
    },
    {
     "name": "stderr",
     "output_type": "stream",
     "text": [
      "                                                                                               \r"
     ]
    },
    {
     "name": "stdout",
     "output_type": "stream",
     "text": [
      "Moviepy - Done !\n",
      "Moviepy - video ready ./KTH-Action-dataset/boxing\\person04_boxing_d3_uncomp.mp4\n",
      "Moviepy - Building video ./KTH-Action-dataset/boxing\\person04_boxing_d4_uncomp.mp4.\n",
      "Moviepy - Writing video ./KTH-Action-dataset/boxing\\person04_boxing_d4_uncomp.mp4\n",
      "\n"
     ]
    },
    {
     "name": "stderr",
     "output_type": "stream",
     "text": [
      "                                                                                               \r"
     ]
    },
    {
     "name": "stdout",
     "output_type": "stream",
     "text": [
      "Moviepy - Done !\n",
      "Moviepy - video ready ./KTH-Action-dataset/boxing\\person04_boxing_d4_uncomp.mp4\n",
      "Moviepy - Building video ./KTH-Action-dataset/boxing\\person05_boxing_d1_uncomp.mp4.\n",
      "Moviepy - Writing video ./KTH-Action-dataset/boxing\\person05_boxing_d1_uncomp.mp4\n",
      "\n"
     ]
    },
    {
     "name": "stderr",
     "output_type": "stream",
     "text": [
      "                                                                                               \r"
     ]
    },
    {
     "name": "stdout",
     "output_type": "stream",
     "text": [
      "Moviepy - Done !\n",
      "Moviepy - video ready ./KTH-Action-dataset/boxing\\person05_boxing_d1_uncomp.mp4\n",
      "Moviepy - Building video ./KTH-Action-dataset/boxing\\person05_boxing_d2_uncomp.mp4.\n",
      "Moviepy - Writing video ./KTH-Action-dataset/boxing\\person05_boxing_d2_uncomp.mp4\n",
      "\n"
     ]
    },
    {
     "name": "stderr",
     "output_type": "stream",
     "text": [
      "                                                                                               \r"
     ]
    },
    {
     "name": "stdout",
     "output_type": "stream",
     "text": [
      "Moviepy - Done !\n",
      "Moviepy - video ready ./KTH-Action-dataset/boxing\\person05_boxing_d2_uncomp.mp4\n",
      "Moviepy - Building video ./KTH-Action-dataset/boxing\\person05_boxing_d3_uncomp.mp4.\n",
      "Moviepy - Writing video ./KTH-Action-dataset/boxing\\person05_boxing_d3_uncomp.mp4\n",
      "\n"
     ]
    },
    {
     "name": "stderr",
     "output_type": "stream",
     "text": [
      "                                                                                               \r"
     ]
    },
    {
     "name": "stdout",
     "output_type": "stream",
     "text": [
      "Moviepy - Done !\n",
      "Moviepy - video ready ./KTH-Action-dataset/boxing\\person05_boxing_d3_uncomp.mp4\n",
      "Moviepy - Building video ./KTH-Action-dataset/boxing\\person05_boxing_d4_uncomp.mp4.\n",
      "Moviepy - Writing video ./KTH-Action-dataset/boxing\\person05_boxing_d4_uncomp.mp4\n",
      "\n"
     ]
    },
    {
     "name": "stderr",
     "output_type": "stream",
     "text": [
      "                                                                                               \r"
     ]
    },
    {
     "name": "stdout",
     "output_type": "stream",
     "text": [
      "Moviepy - Done !\n",
      "Moviepy - video ready ./KTH-Action-dataset/boxing\\person05_boxing_d4_uncomp.mp4\n",
      "Moviepy - Building video ./KTH-Action-dataset/boxing\\person06_boxing_d1_uncomp.mp4.\n",
      "Moviepy - Writing video ./KTH-Action-dataset/boxing\\person06_boxing_d1_uncomp.mp4\n",
      "\n"
     ]
    },
    {
     "name": "stderr",
     "output_type": "stream",
     "text": [
      "                                                                                               \r"
     ]
    },
    {
     "name": "stdout",
     "output_type": "stream",
     "text": [
      "Moviepy - Done !\n",
      "Moviepy - video ready ./KTH-Action-dataset/boxing\\person06_boxing_d1_uncomp.mp4\n",
      "Moviepy - Building video ./KTH-Action-dataset/boxing\\person06_boxing_d2_uncomp.mp4.\n",
      "Moviepy - Writing video ./KTH-Action-dataset/boxing\\person06_boxing_d2_uncomp.mp4\n",
      "\n"
     ]
    },
    {
     "name": "stderr",
     "output_type": "stream",
     "text": [
      "                                                                                               \r"
     ]
    },
    {
     "name": "stdout",
     "output_type": "stream",
     "text": [
      "Moviepy - Done !\n",
      "Moviepy - video ready ./KTH-Action-dataset/boxing\\person06_boxing_d2_uncomp.mp4\n",
      "Moviepy - Building video ./KTH-Action-dataset/boxing\\person06_boxing_d3_uncomp.mp4.\n",
      "Moviepy - Writing video ./KTH-Action-dataset/boxing\\person06_boxing_d3_uncomp.mp4\n",
      "\n"
     ]
    },
    {
     "name": "stderr",
     "output_type": "stream",
     "text": [
      "                                                                                               \r"
     ]
    },
    {
     "name": "stdout",
     "output_type": "stream",
     "text": [
      "Moviepy - Done !\n",
      "Moviepy - video ready ./KTH-Action-dataset/boxing\\person06_boxing_d3_uncomp.mp4\n",
      "Moviepy - Building video ./KTH-Action-dataset/boxing\\person06_boxing_d4_uncomp.mp4.\n",
      "Moviepy - Writing video ./KTH-Action-dataset/boxing\\person06_boxing_d4_uncomp.mp4\n",
      "\n"
     ]
    },
    {
     "name": "stderr",
     "output_type": "stream",
     "text": [
      "                                                                                               \r"
     ]
    },
    {
     "name": "stdout",
     "output_type": "stream",
     "text": [
      "Moviepy - Done !\n",
      "Moviepy - video ready ./KTH-Action-dataset/boxing\\person06_boxing_d4_uncomp.mp4\n",
      "Moviepy - Building video ./KTH-Action-dataset/boxing\\person07_boxing_d1_uncomp.mp4.\n",
      "Moviepy - Writing video ./KTH-Action-dataset/boxing\\person07_boxing_d1_uncomp.mp4\n",
      "\n"
     ]
    },
    {
     "name": "stderr",
     "output_type": "stream",
     "text": [
      "                                                                                               \r"
     ]
    },
    {
     "name": "stdout",
     "output_type": "stream",
     "text": [
      "Moviepy - Done !\n",
      "Moviepy - video ready ./KTH-Action-dataset/boxing\\person07_boxing_d1_uncomp.mp4\n",
      "Moviepy - Building video ./KTH-Action-dataset/boxing\\person07_boxing_d2_uncomp.mp4.\n",
      "Moviepy - Writing video ./KTH-Action-dataset/boxing\\person07_boxing_d2_uncomp.mp4\n",
      "\n"
     ]
    },
    {
     "name": "stderr",
     "output_type": "stream",
     "text": [
      "                                                                                               \r"
     ]
    },
    {
     "name": "stdout",
     "output_type": "stream",
     "text": [
      "Moviepy - Done !\n",
      "Moviepy - video ready ./KTH-Action-dataset/boxing\\person07_boxing_d2_uncomp.mp4\n",
      "Moviepy - Building video ./KTH-Action-dataset/boxing\\person07_boxing_d3_uncomp.mp4.\n",
      "Moviepy - Writing video ./KTH-Action-dataset/boxing\\person07_boxing_d3_uncomp.mp4\n",
      "\n"
     ]
    },
    {
     "name": "stderr",
     "output_type": "stream",
     "text": [
      "                                                                                               \r"
     ]
    },
    {
     "name": "stdout",
     "output_type": "stream",
     "text": [
      "Moviepy - Done !\n",
      "Moviepy - video ready ./KTH-Action-dataset/boxing\\person07_boxing_d3_uncomp.mp4\n",
      "Moviepy - Building video ./KTH-Action-dataset/boxing\\person07_boxing_d4_uncomp.mp4.\n",
      "Moviepy - Writing video ./KTH-Action-dataset/boxing\\person07_boxing_d4_uncomp.mp4\n",
      "\n"
     ]
    },
    {
     "name": "stderr",
     "output_type": "stream",
     "text": [
      "                                                                                               \r"
     ]
    },
    {
     "name": "stdout",
     "output_type": "stream",
     "text": [
      "Moviepy - Done !\n",
      "Moviepy - video ready ./KTH-Action-dataset/boxing\\person07_boxing_d4_uncomp.mp4\n",
      "Moviepy - Building video ./KTH-Action-dataset/boxing\\person08_boxing_d1_uncomp.mp4.\n",
      "Moviepy - Writing video ./KTH-Action-dataset/boxing\\person08_boxing_d1_uncomp.mp4\n",
      "\n"
     ]
    },
    {
     "name": "stderr",
     "output_type": "stream",
     "text": [
      "                                                                                               \r"
     ]
    },
    {
     "name": "stdout",
     "output_type": "stream",
     "text": [
      "Moviepy - Done !\n",
      "Moviepy - video ready ./KTH-Action-dataset/boxing\\person08_boxing_d1_uncomp.mp4\n",
      "Moviepy - Building video ./KTH-Action-dataset/boxing\\person08_boxing_d2_uncomp.mp4.\n",
      "Moviepy - Writing video ./KTH-Action-dataset/boxing\\person08_boxing_d2_uncomp.mp4\n",
      "\n"
     ]
    },
    {
     "name": "stderr",
     "output_type": "stream",
     "text": [
      "                                                                                               \r"
     ]
    },
    {
     "name": "stdout",
     "output_type": "stream",
     "text": [
      "Moviepy - Done !\n",
      "Moviepy - video ready ./KTH-Action-dataset/boxing\\person08_boxing_d2_uncomp.mp4\n",
      "Moviepy - Building video ./KTH-Action-dataset/boxing\\person08_boxing_d3_uncomp.mp4.\n",
      "Moviepy - Writing video ./KTH-Action-dataset/boxing\\person08_boxing_d3_uncomp.mp4\n",
      "\n"
     ]
    },
    {
     "name": "stderr",
     "output_type": "stream",
     "text": [
      "                                                                                               \r"
     ]
    },
    {
     "name": "stdout",
     "output_type": "stream",
     "text": [
      "Moviepy - Done !\n",
      "Moviepy - video ready ./KTH-Action-dataset/boxing\\person08_boxing_d3_uncomp.mp4\n",
      "Moviepy - Building video ./KTH-Action-dataset/boxing\\person08_boxing_d4_uncomp.mp4.\n",
      "Moviepy - Writing video ./KTH-Action-dataset/boxing\\person08_boxing_d4_uncomp.mp4\n",
      "\n"
     ]
    },
    {
     "name": "stderr",
     "output_type": "stream",
     "text": [
      "                                                                                               \r"
     ]
    },
    {
     "name": "stdout",
     "output_type": "stream",
     "text": [
      "Moviepy - Done !\n",
      "Moviepy - video ready ./KTH-Action-dataset/boxing\\person08_boxing_d4_uncomp.mp4\n",
      "Moviepy - Building video ./KTH-Action-dataset/boxing\\person09_boxing_d1_uncomp.mp4.\n",
      "Moviepy - Writing video ./KTH-Action-dataset/boxing\\person09_boxing_d1_uncomp.mp4\n",
      "\n"
     ]
    },
    {
     "name": "stderr",
     "output_type": "stream",
     "text": [
      "                                                                                               \r"
     ]
    },
    {
     "name": "stdout",
     "output_type": "stream",
     "text": [
      "Moviepy - Done !\n",
      "Moviepy - video ready ./KTH-Action-dataset/boxing\\person09_boxing_d1_uncomp.mp4\n",
      "Moviepy - Building video ./KTH-Action-dataset/boxing\\person09_boxing_d2_uncomp.mp4.\n",
      "Moviepy - Writing video ./KTH-Action-dataset/boxing\\person09_boxing_d2_uncomp.mp4\n",
      "\n"
     ]
    },
    {
     "name": "stderr",
     "output_type": "stream",
     "text": [
      "                                                                                               \r"
     ]
    },
    {
     "name": "stdout",
     "output_type": "stream",
     "text": [
      "Moviepy - Done !\n",
      "Moviepy - video ready ./KTH-Action-dataset/boxing\\person09_boxing_d2_uncomp.mp4\n",
      "Moviepy - Building video ./KTH-Action-dataset/boxing\\person09_boxing_d3_uncomp.mp4.\n",
      "Moviepy - Writing video ./KTH-Action-dataset/boxing\\person09_boxing_d3_uncomp.mp4\n",
      "\n"
     ]
    },
    {
     "name": "stderr",
     "output_type": "stream",
     "text": [
      "                                                                                               \r"
     ]
    },
    {
     "name": "stdout",
     "output_type": "stream",
     "text": [
      "Moviepy - Done !\n",
      "Moviepy - video ready ./KTH-Action-dataset/boxing\\person09_boxing_d3_uncomp.mp4\n",
      "Moviepy - Building video ./KTH-Action-dataset/boxing\\person09_boxing_d4_uncomp.mp4.\n",
      "Moviepy - Writing video ./KTH-Action-dataset/boxing\\person09_boxing_d4_uncomp.mp4\n",
      "\n"
     ]
    },
    {
     "name": "stderr",
     "output_type": "stream",
     "text": [
      "                                                                                               \r"
     ]
    },
    {
     "name": "stdout",
     "output_type": "stream",
     "text": [
      "Moviepy - Done !\n",
      "Moviepy - video ready ./KTH-Action-dataset/boxing\\person09_boxing_d4_uncomp.mp4\n",
      "Moviepy - Building video ./KTH-Action-dataset/boxing\\person10_boxing_d1_uncomp.mp4.\n",
      "Moviepy - Writing video ./KTH-Action-dataset/boxing\\person10_boxing_d1_uncomp.mp4\n",
      "\n"
     ]
    },
    {
     "name": "stderr",
     "output_type": "stream",
     "text": [
      "                                                                                               \r"
     ]
    },
    {
     "name": "stdout",
     "output_type": "stream",
     "text": [
      "Moviepy - Done !\n",
      "Moviepy - video ready ./KTH-Action-dataset/boxing\\person10_boxing_d1_uncomp.mp4\n",
      "Moviepy - Building video ./KTH-Action-dataset/boxing\\person10_boxing_d2_uncomp.mp4.\n",
      "Moviepy - Writing video ./KTH-Action-dataset/boxing\\person10_boxing_d2_uncomp.mp4\n",
      "\n"
     ]
    },
    {
     "name": "stderr",
     "output_type": "stream",
     "text": [
      "                                                                                               \r"
     ]
    },
    {
     "name": "stdout",
     "output_type": "stream",
     "text": [
      "Moviepy - Done !\n",
      "Moviepy - video ready ./KTH-Action-dataset/boxing\\person10_boxing_d2_uncomp.mp4\n",
      "Moviepy - Building video ./KTH-Action-dataset/boxing\\person10_boxing_d3_uncomp.mp4.\n",
      "Moviepy - Writing video ./KTH-Action-dataset/boxing\\person10_boxing_d3_uncomp.mp4\n",
      "\n"
     ]
    },
    {
     "name": "stderr",
     "output_type": "stream",
     "text": [
      "                                                                                               \r"
     ]
    },
    {
     "name": "stdout",
     "output_type": "stream",
     "text": [
      "Moviepy - Done !\n",
      "Moviepy - video ready ./KTH-Action-dataset/boxing\\person10_boxing_d3_uncomp.mp4\n",
      "Moviepy - Building video ./KTH-Action-dataset/boxing\\person10_boxing_d4_uncomp.mp4.\n",
      "Moviepy - Writing video ./KTH-Action-dataset/boxing\\person10_boxing_d4_uncomp.mp4\n",
      "\n"
     ]
    },
    {
     "name": "stderr",
     "output_type": "stream",
     "text": [
      "                                                                                               \r"
     ]
    },
    {
     "name": "stdout",
     "output_type": "stream",
     "text": [
      "Moviepy - Done !\n",
      "Moviepy - video ready ./KTH-Action-dataset/boxing\\person10_boxing_d4_uncomp.mp4\n",
      "Moviepy - Building video ./KTH-Action-dataset/boxing\\person11_boxing_d1_uncomp.mp4.\n",
      "Moviepy - Writing video ./KTH-Action-dataset/boxing\\person11_boxing_d1_uncomp.mp4\n",
      "\n"
     ]
    },
    {
     "name": "stderr",
     "output_type": "stream",
     "text": [
      "                                                                                               \r"
     ]
    },
    {
     "name": "stdout",
     "output_type": "stream",
     "text": [
      "Moviepy - Done !\n",
      "Moviepy - video ready ./KTH-Action-dataset/boxing\\person11_boxing_d1_uncomp.mp4\n",
      "Moviepy - Building video ./KTH-Action-dataset/boxing\\person11_boxing_d2_uncomp.mp4.\n",
      "Moviepy - Writing video ./KTH-Action-dataset/boxing\\person11_boxing_d2_uncomp.mp4\n",
      "\n"
     ]
    },
    {
     "name": "stderr",
     "output_type": "stream",
     "text": [
      "                                                                                               \r"
     ]
    },
    {
     "name": "stdout",
     "output_type": "stream",
     "text": [
      "Moviepy - Done !\n",
      "Moviepy - video ready ./KTH-Action-dataset/boxing\\person11_boxing_d2_uncomp.mp4\n",
      "Moviepy - Building video ./KTH-Action-dataset/boxing\\person11_boxing_d3_uncomp.mp4.\n",
      "Moviepy - Writing video ./KTH-Action-dataset/boxing\\person11_boxing_d3_uncomp.mp4\n",
      "\n"
     ]
    },
    {
     "name": "stderr",
     "output_type": "stream",
     "text": [
      "                                                                                               \r"
     ]
    },
    {
     "name": "stdout",
     "output_type": "stream",
     "text": [
      "Moviepy - Done !\n",
      "Moviepy - video ready ./KTH-Action-dataset/boxing\\person11_boxing_d3_uncomp.mp4\n",
      "Moviepy - Building video ./KTH-Action-dataset/boxing\\person11_boxing_d4_uncomp.mp4.\n",
      "Moviepy - Writing video ./KTH-Action-dataset/boxing\\person11_boxing_d4_uncomp.mp4\n",
      "\n"
     ]
    },
    {
     "name": "stderr",
     "output_type": "stream",
     "text": [
      "                                                                                               \r"
     ]
    },
    {
     "name": "stdout",
     "output_type": "stream",
     "text": [
      "Moviepy - Done !\n",
      "Moviepy - video ready ./KTH-Action-dataset/boxing\\person11_boxing_d4_uncomp.mp4\n",
      "Moviepy - Building video ./KTH-Action-dataset/boxing\\person12_boxing_d1_uncomp.mp4.\n",
      "Moviepy - Writing video ./KTH-Action-dataset/boxing\\person12_boxing_d1_uncomp.mp4\n",
      "\n"
     ]
    },
    {
     "name": "stderr",
     "output_type": "stream",
     "text": [
      "                                                                                               \r"
     ]
    },
    {
     "name": "stdout",
     "output_type": "stream",
     "text": [
      "Moviepy - Done !\n",
      "Moviepy - video ready ./KTH-Action-dataset/boxing\\person12_boxing_d1_uncomp.mp4\n",
      "Moviepy - Building video ./KTH-Action-dataset/boxing\\person12_boxing_d2_uncomp.mp4.\n",
      "Moviepy - Writing video ./KTH-Action-dataset/boxing\\person12_boxing_d2_uncomp.mp4\n",
      "\n"
     ]
    },
    {
     "name": "stderr",
     "output_type": "stream",
     "text": [
      "                                                                                               \r"
     ]
    },
    {
     "name": "stdout",
     "output_type": "stream",
     "text": [
      "Moviepy - Done !\n",
      "Moviepy - video ready ./KTH-Action-dataset/boxing\\person12_boxing_d2_uncomp.mp4\n",
      "Moviepy - Building video ./KTH-Action-dataset/boxing\\person12_boxing_d3_uncomp.mp4.\n",
      "Moviepy - Writing video ./KTH-Action-dataset/boxing\\person12_boxing_d3_uncomp.mp4\n",
      "\n"
     ]
    },
    {
     "name": "stderr",
     "output_type": "stream",
     "text": [
      "                                                                                               \r"
     ]
    },
    {
     "name": "stdout",
     "output_type": "stream",
     "text": [
      "Moviepy - Done !\n",
      "Moviepy - video ready ./KTH-Action-dataset/boxing\\person12_boxing_d3_uncomp.mp4\n",
      "Moviepy - Building video ./KTH-Action-dataset/boxing\\person12_boxing_d4_uncomp.mp4.\n",
      "Moviepy - Writing video ./KTH-Action-dataset/boxing\\person12_boxing_d4_uncomp.mp4\n",
      "\n"
     ]
    },
    {
     "name": "stderr",
     "output_type": "stream",
     "text": [
      "                                                                                               \r"
     ]
    },
    {
     "name": "stdout",
     "output_type": "stream",
     "text": [
      "Moviepy - Done !\n",
      "Moviepy - video ready ./KTH-Action-dataset/boxing\\person12_boxing_d4_uncomp.mp4\n",
      "Moviepy - Building video ./KTH-Action-dataset/boxing\\person13_boxing_d1_uncomp.mp4.\n",
      "Moviepy - Writing video ./KTH-Action-dataset/boxing\\person13_boxing_d1_uncomp.mp4\n",
      "\n"
     ]
    },
    {
     "name": "stderr",
     "output_type": "stream",
     "text": [
      "                                                                                               \r"
     ]
    },
    {
     "name": "stdout",
     "output_type": "stream",
     "text": [
      "Moviepy - Done !\n",
      "Moviepy - video ready ./KTH-Action-dataset/boxing\\person13_boxing_d1_uncomp.mp4\n",
      "Moviepy - Building video ./KTH-Action-dataset/boxing\\person13_boxing_d2_uncomp.mp4.\n",
      "Moviepy - Writing video ./KTH-Action-dataset/boxing\\person13_boxing_d2_uncomp.mp4\n",
      "\n"
     ]
    },
    {
     "name": "stderr",
     "output_type": "stream",
     "text": [
      "                                                                                               \r"
     ]
    },
    {
     "name": "stdout",
     "output_type": "stream",
     "text": [
      "Moviepy - Done !\n",
      "Moviepy - video ready ./KTH-Action-dataset/boxing\\person13_boxing_d2_uncomp.mp4\n",
      "Moviepy - Building video ./KTH-Action-dataset/boxing\\person13_boxing_d3_uncomp.mp4.\n",
      "Moviepy - Writing video ./KTH-Action-dataset/boxing\\person13_boxing_d3_uncomp.mp4\n",
      "\n"
     ]
    },
    {
     "name": "stderr",
     "output_type": "stream",
     "text": [
      "                                                                                               \r"
     ]
    },
    {
     "name": "stdout",
     "output_type": "stream",
     "text": [
      "Moviepy - Done !\n",
      "Moviepy - video ready ./KTH-Action-dataset/boxing\\person13_boxing_d3_uncomp.mp4\n",
      "Moviepy - Building video ./KTH-Action-dataset/boxing\\person13_boxing_d4_uncomp.mp4.\n",
      "Moviepy - Writing video ./KTH-Action-dataset/boxing\\person13_boxing_d4_uncomp.mp4\n",
      "\n"
     ]
    },
    {
     "name": "stderr",
     "output_type": "stream",
     "text": [
      "                                                                                               \r"
     ]
    },
    {
     "name": "stdout",
     "output_type": "stream",
     "text": [
      "Moviepy - Done !\n",
      "Moviepy - video ready ./KTH-Action-dataset/boxing\\person13_boxing_d4_uncomp.mp4\n",
      "Moviepy - Building video ./KTH-Action-dataset/boxing\\person14_boxing_d1_uncomp.mp4.\n",
      "Moviepy - Writing video ./KTH-Action-dataset/boxing\\person14_boxing_d1_uncomp.mp4\n",
      "\n"
     ]
    },
    {
     "name": "stderr",
     "output_type": "stream",
     "text": [
      "                                                                                               \r"
     ]
    },
    {
     "name": "stdout",
     "output_type": "stream",
     "text": [
      "Moviepy - Done !\n",
      "Moviepy - video ready ./KTH-Action-dataset/boxing\\person14_boxing_d1_uncomp.mp4\n",
      "Moviepy - Building video ./KTH-Action-dataset/boxing\\person14_boxing_d2_uncomp.mp4.\n",
      "Moviepy - Writing video ./KTH-Action-dataset/boxing\\person14_boxing_d2_uncomp.mp4\n",
      "\n"
     ]
    },
    {
     "name": "stderr",
     "output_type": "stream",
     "text": [
      "                                                                                               \r"
     ]
    },
    {
     "name": "stdout",
     "output_type": "stream",
     "text": [
      "Moviepy - Done !\n",
      "Moviepy - video ready ./KTH-Action-dataset/boxing\\person14_boxing_d2_uncomp.mp4\n",
      "Moviepy - Building video ./KTH-Action-dataset/boxing\\person14_boxing_d3_uncomp.mp4.\n",
      "Moviepy - Writing video ./KTH-Action-dataset/boxing\\person14_boxing_d3_uncomp.mp4\n",
      "\n"
     ]
    },
    {
     "name": "stderr",
     "output_type": "stream",
     "text": [
      "                                                                                               \r"
     ]
    },
    {
     "name": "stdout",
     "output_type": "stream",
     "text": [
      "Moviepy - Done !\n",
      "Moviepy - video ready ./KTH-Action-dataset/boxing\\person14_boxing_d3_uncomp.mp4\n",
      "Moviepy - Building video ./KTH-Action-dataset/boxing\\person14_boxing_d4_uncomp.mp4.\n",
      "Moviepy - Writing video ./KTH-Action-dataset/boxing\\person14_boxing_d4_uncomp.mp4\n",
      "\n"
     ]
    },
    {
     "name": "stderr",
     "output_type": "stream",
     "text": [
      "                                                                                               \r"
     ]
    },
    {
     "name": "stdout",
     "output_type": "stream",
     "text": [
      "Moviepy - Done !\n",
      "Moviepy - video ready ./KTH-Action-dataset/boxing\\person14_boxing_d4_uncomp.mp4\n",
      "Moviepy - Building video ./KTH-Action-dataset/boxing\\person15_boxing_d1_uncomp.mp4.\n",
      "Moviepy - Writing video ./KTH-Action-dataset/boxing\\person15_boxing_d1_uncomp.mp4\n",
      "\n"
     ]
    },
    {
     "name": "stderr",
     "output_type": "stream",
     "text": [
      "                                                                                               \r"
     ]
    },
    {
     "name": "stdout",
     "output_type": "stream",
     "text": [
      "Moviepy - Done !\n",
      "Moviepy - video ready ./KTH-Action-dataset/boxing\\person15_boxing_d1_uncomp.mp4\n",
      "Moviepy - Building video ./KTH-Action-dataset/boxing\\person15_boxing_d2_uncomp.mp4.\n",
      "Moviepy - Writing video ./KTH-Action-dataset/boxing\\person15_boxing_d2_uncomp.mp4\n",
      "\n"
     ]
    },
    {
     "name": "stderr",
     "output_type": "stream",
     "text": [
      "                                                                                               \r"
     ]
    },
    {
     "name": "stdout",
     "output_type": "stream",
     "text": [
      "Moviepy - Done !\n",
      "Moviepy - video ready ./KTH-Action-dataset/boxing\\person15_boxing_d2_uncomp.mp4\n",
      "Moviepy - Building video ./KTH-Action-dataset/boxing\\person15_boxing_d3_uncomp.mp4.\n",
      "Moviepy - Writing video ./KTH-Action-dataset/boxing\\person15_boxing_d3_uncomp.mp4\n",
      "\n"
     ]
    },
    {
     "name": "stderr",
     "output_type": "stream",
     "text": [
      "                                                                                               \r"
     ]
    },
    {
     "name": "stdout",
     "output_type": "stream",
     "text": [
      "Moviepy - Done !\n",
      "Moviepy - video ready ./KTH-Action-dataset/boxing\\person15_boxing_d3_uncomp.mp4\n",
      "Moviepy - Building video ./KTH-Action-dataset/boxing\\person15_boxing_d4_uncomp.mp4.\n",
      "Moviepy - Writing video ./KTH-Action-dataset/boxing\\person15_boxing_d4_uncomp.mp4\n",
      "\n"
     ]
    },
    {
     "name": "stderr",
     "output_type": "stream",
     "text": [
      "                                                                                               \r"
     ]
    },
    {
     "name": "stdout",
     "output_type": "stream",
     "text": [
      "Moviepy - Done !\n",
      "Moviepy - video ready ./KTH-Action-dataset/boxing\\person15_boxing_d4_uncomp.mp4\n",
      "Moviepy - Building video ./KTH-Action-dataset/boxing\\person16_boxing_d1_uncomp.mp4.\n",
      "Moviepy - Writing video ./KTH-Action-dataset/boxing\\person16_boxing_d1_uncomp.mp4\n",
      "\n"
     ]
    },
    {
     "name": "stderr",
     "output_type": "stream",
     "text": [
      "                                                                                               \r"
     ]
    },
    {
     "name": "stdout",
     "output_type": "stream",
     "text": [
      "Moviepy - Done !\n",
      "Moviepy - video ready ./KTH-Action-dataset/boxing\\person16_boxing_d1_uncomp.mp4\n",
      "Moviepy - Building video ./KTH-Action-dataset/boxing\\person16_boxing_d2_uncomp.mp4.\n",
      "Moviepy - Writing video ./KTH-Action-dataset/boxing\\person16_boxing_d2_uncomp.mp4\n",
      "\n"
     ]
    },
    {
     "name": "stderr",
     "output_type": "stream",
     "text": [
      "                                                                                               \r"
     ]
    },
    {
     "name": "stdout",
     "output_type": "stream",
     "text": [
      "Moviepy - Done !\n",
      "Moviepy - video ready ./KTH-Action-dataset/boxing\\person16_boxing_d2_uncomp.mp4\n",
      "Moviepy - Building video ./KTH-Action-dataset/boxing\\person16_boxing_d3_uncomp.mp4.\n",
      "Moviepy - Writing video ./KTH-Action-dataset/boxing\\person16_boxing_d3_uncomp.mp4\n",
      "\n"
     ]
    },
    {
     "name": "stderr",
     "output_type": "stream",
     "text": [
      "                                                                                               \r"
     ]
    },
    {
     "name": "stdout",
     "output_type": "stream",
     "text": [
      "Moviepy - Done !\n",
      "Moviepy - video ready ./KTH-Action-dataset/boxing\\person16_boxing_d3_uncomp.mp4\n",
      "Moviepy - Building video ./KTH-Action-dataset/boxing\\person16_boxing_d4_uncomp.mp4.\n",
      "Moviepy - Writing video ./KTH-Action-dataset/boxing\\person16_boxing_d4_uncomp.mp4\n",
      "\n"
     ]
    },
    {
     "name": "stderr",
     "output_type": "stream",
     "text": [
      "                                                                                               \r"
     ]
    },
    {
     "name": "stdout",
     "output_type": "stream",
     "text": [
      "Moviepy - Done !\n",
      "Moviepy - video ready ./KTH-Action-dataset/boxing\\person16_boxing_d4_uncomp.mp4\n",
      "Moviepy - Building video ./KTH-Action-dataset/boxing\\person17_boxing_d1_uncomp.mp4.\n",
      "Moviepy - Writing video ./KTH-Action-dataset/boxing\\person17_boxing_d1_uncomp.mp4\n",
      "\n"
     ]
    },
    {
     "name": "stderr",
     "output_type": "stream",
     "text": [
      "                                                                                               \r"
     ]
    },
    {
     "name": "stdout",
     "output_type": "stream",
     "text": [
      "Moviepy - Done !\n",
      "Moviepy - video ready ./KTH-Action-dataset/boxing\\person17_boxing_d1_uncomp.mp4\n",
      "Moviepy - Building video ./KTH-Action-dataset/boxing\\person17_boxing_d2_uncomp.mp4.\n",
      "Moviepy - Writing video ./KTH-Action-dataset/boxing\\person17_boxing_d2_uncomp.mp4\n",
      "\n"
     ]
    },
    {
     "name": "stderr",
     "output_type": "stream",
     "text": [
      "                                                                                               \r"
     ]
    },
    {
     "name": "stdout",
     "output_type": "stream",
     "text": [
      "Moviepy - Done !\n",
      "Moviepy - video ready ./KTH-Action-dataset/boxing\\person17_boxing_d2_uncomp.mp4\n",
      "Moviepy - Building video ./KTH-Action-dataset/boxing\\person17_boxing_d3_uncomp.mp4.\n",
      "Moviepy - Writing video ./KTH-Action-dataset/boxing\\person17_boxing_d3_uncomp.mp4\n",
      "\n"
     ]
    },
    {
     "name": "stderr",
     "output_type": "stream",
     "text": [
      "                                                                                               \r"
     ]
    },
    {
     "name": "stdout",
     "output_type": "stream",
     "text": [
      "Moviepy - Done !\n",
      "Moviepy - video ready ./KTH-Action-dataset/boxing\\person17_boxing_d3_uncomp.mp4\n",
      "Moviepy - Building video ./KTH-Action-dataset/boxing\\person17_boxing_d4_uncomp.mp4.\n",
      "Moviepy - Writing video ./KTH-Action-dataset/boxing\\person17_boxing_d4_uncomp.mp4\n",
      "\n"
     ]
    },
    {
     "name": "stderr",
     "output_type": "stream",
     "text": [
      "                                                                                               \r"
     ]
    },
    {
     "name": "stdout",
     "output_type": "stream",
     "text": [
      "Moviepy - Done !\n",
      "Moviepy - video ready ./KTH-Action-dataset/boxing\\person17_boxing_d4_uncomp.mp4\n",
      "Moviepy - Building video ./KTH-Action-dataset/boxing\\person18_boxing_d1_uncomp.mp4.\n",
      "Moviepy - Writing video ./KTH-Action-dataset/boxing\\person18_boxing_d1_uncomp.mp4\n",
      "\n"
     ]
    },
    {
     "name": "stderr",
     "output_type": "stream",
     "text": [
      "                                                                                               \r"
     ]
    },
    {
     "name": "stdout",
     "output_type": "stream",
     "text": [
      "Moviepy - Done !\n",
      "Moviepy - video ready ./KTH-Action-dataset/boxing\\person18_boxing_d1_uncomp.mp4\n",
      "Moviepy - Building video ./KTH-Action-dataset/boxing\\person18_boxing_d2_uncomp.mp4.\n",
      "Moviepy - Writing video ./KTH-Action-dataset/boxing\\person18_boxing_d2_uncomp.mp4\n",
      "\n"
     ]
    },
    {
     "name": "stderr",
     "output_type": "stream",
     "text": [
      "                                                                                               \r"
     ]
    },
    {
     "name": "stdout",
     "output_type": "stream",
     "text": [
      "Moviepy - Done !\n",
      "Moviepy - video ready ./KTH-Action-dataset/boxing\\person18_boxing_d2_uncomp.mp4\n",
      "Moviepy - Building video ./KTH-Action-dataset/boxing\\person18_boxing_d3_uncomp.mp4.\n",
      "Moviepy - Writing video ./KTH-Action-dataset/boxing\\person18_boxing_d3_uncomp.mp4\n",
      "\n"
     ]
    },
    {
     "name": "stderr",
     "output_type": "stream",
     "text": [
      "                                                                                               \r"
     ]
    },
    {
     "name": "stdout",
     "output_type": "stream",
     "text": [
      "Moviepy - Done !\n",
      "Moviepy - video ready ./KTH-Action-dataset/boxing\\person18_boxing_d3_uncomp.mp4\n",
      "Moviepy - Building video ./KTH-Action-dataset/boxing\\person18_boxing_d4_uncomp.mp4.\n",
      "Moviepy - Writing video ./KTH-Action-dataset/boxing\\person18_boxing_d4_uncomp.mp4\n",
      "\n"
     ]
    },
    {
     "name": "stderr",
     "output_type": "stream",
     "text": [
      "                                                                                               \r"
     ]
    },
    {
     "name": "stdout",
     "output_type": "stream",
     "text": [
      "Moviepy - Done !\n",
      "Moviepy - video ready ./KTH-Action-dataset/boxing\\person18_boxing_d4_uncomp.mp4\n",
      "Moviepy - Building video ./KTH-Action-dataset/boxing\\person19_boxing_d1_uncomp.mp4.\n",
      "Moviepy - Writing video ./KTH-Action-dataset/boxing\\person19_boxing_d1_uncomp.mp4\n",
      "\n"
     ]
    },
    {
     "name": "stderr",
     "output_type": "stream",
     "text": [
      "                                                                                               \r"
     ]
    },
    {
     "name": "stdout",
     "output_type": "stream",
     "text": [
      "Moviepy - Done !\n",
      "Moviepy - video ready ./KTH-Action-dataset/boxing\\person19_boxing_d1_uncomp.mp4\n",
      "Moviepy - Building video ./KTH-Action-dataset/boxing\\person19_boxing_d2_uncomp.mp4.\n",
      "Moviepy - Writing video ./KTH-Action-dataset/boxing\\person19_boxing_d2_uncomp.mp4\n",
      "\n"
     ]
    },
    {
     "name": "stderr",
     "output_type": "stream",
     "text": [
      "                                                                                               \r"
     ]
    },
    {
     "name": "stdout",
     "output_type": "stream",
     "text": [
      "Moviepy - Done !\n",
      "Moviepy - video ready ./KTH-Action-dataset/boxing\\person19_boxing_d2_uncomp.mp4\n",
      "Moviepy - Building video ./KTH-Action-dataset/boxing\\person19_boxing_d3_uncomp.mp4.\n",
      "Moviepy - Writing video ./KTH-Action-dataset/boxing\\person19_boxing_d3_uncomp.mp4\n",
      "\n"
     ]
    },
    {
     "name": "stderr",
     "output_type": "stream",
     "text": [
      "                                                                                               \r"
     ]
    },
    {
     "name": "stdout",
     "output_type": "stream",
     "text": [
      "Moviepy - Done !\n",
      "Moviepy - video ready ./KTH-Action-dataset/boxing\\person19_boxing_d3_uncomp.mp4\n",
      "Moviepy - Building video ./KTH-Action-dataset/boxing\\person19_boxing_d4_uncomp.mp4.\n",
      "Moviepy - Writing video ./KTH-Action-dataset/boxing\\person19_boxing_d4_uncomp.mp4\n",
      "\n"
     ]
    },
    {
     "name": "stderr",
     "output_type": "stream",
     "text": [
      "                                                                                               \r"
     ]
    },
    {
     "name": "stdout",
     "output_type": "stream",
     "text": [
      "Moviepy - Done !\n",
      "Moviepy - video ready ./KTH-Action-dataset/boxing\\person19_boxing_d4_uncomp.mp4\n",
      "Moviepy - Building video ./KTH-Action-dataset/boxing\\person20_boxing_d1_uncomp.mp4.\n",
      "Moviepy - Writing video ./KTH-Action-dataset/boxing\\person20_boxing_d1_uncomp.mp4\n",
      "\n"
     ]
    },
    {
     "name": "stderr",
     "output_type": "stream",
     "text": [
      "                                                                                               \r"
     ]
    },
    {
     "name": "stdout",
     "output_type": "stream",
     "text": [
      "Moviepy - Done !\n",
      "Moviepy - video ready ./KTH-Action-dataset/boxing\\person20_boxing_d1_uncomp.mp4\n",
      "Moviepy - Building video ./KTH-Action-dataset/boxing\\person20_boxing_d2_uncomp.mp4.\n",
      "Moviepy - Writing video ./KTH-Action-dataset/boxing\\person20_boxing_d2_uncomp.mp4\n",
      "\n"
     ]
    },
    {
     "name": "stderr",
     "output_type": "stream",
     "text": [
      "                                                                                               \r"
     ]
    },
    {
     "name": "stdout",
     "output_type": "stream",
     "text": [
      "Moviepy - Done !\n",
      "Moviepy - video ready ./KTH-Action-dataset/boxing\\person20_boxing_d2_uncomp.mp4\n",
      "Moviepy - Building video ./KTH-Action-dataset/boxing\\person20_boxing_d3_uncomp.mp4.\n",
      "Moviepy - Writing video ./KTH-Action-dataset/boxing\\person20_boxing_d3_uncomp.mp4\n",
      "\n"
     ]
    },
    {
     "name": "stderr",
     "output_type": "stream",
     "text": [
      "                                                                                               \r"
     ]
    },
    {
     "name": "stdout",
     "output_type": "stream",
     "text": [
      "Moviepy - Done !\n",
      "Moviepy - video ready ./KTH-Action-dataset/boxing\\person20_boxing_d3_uncomp.mp4\n",
      "Moviepy - Building video ./KTH-Action-dataset/boxing\\person20_boxing_d4_uncomp.mp4.\n",
      "Moviepy - Writing video ./KTH-Action-dataset/boxing\\person20_boxing_d4_uncomp.mp4\n",
      "\n"
     ]
    },
    {
     "name": "stderr",
     "output_type": "stream",
     "text": [
      "                                                                                               \r"
     ]
    },
    {
     "name": "stdout",
     "output_type": "stream",
     "text": [
      "Moviepy - Done !\n",
      "Moviepy - video ready ./KTH-Action-dataset/boxing\\person20_boxing_d4_uncomp.mp4\n",
      "Moviepy - Building video ./KTH-Action-dataset/boxing\\person21_boxing_d1_uncomp.mp4.\n",
      "Moviepy - Writing video ./KTH-Action-dataset/boxing\\person21_boxing_d1_uncomp.mp4\n",
      "\n"
     ]
    },
    {
     "name": "stderr",
     "output_type": "stream",
     "text": [
      "                                                                                               \r"
     ]
    },
    {
     "name": "stdout",
     "output_type": "stream",
     "text": [
      "Moviepy - Done !\n",
      "Moviepy - video ready ./KTH-Action-dataset/boxing\\person21_boxing_d1_uncomp.mp4\n",
      "Moviepy - Building video ./KTH-Action-dataset/boxing\\person21_boxing_d2_uncomp.mp4.\n",
      "Moviepy - Writing video ./KTH-Action-dataset/boxing\\person21_boxing_d2_uncomp.mp4\n",
      "\n"
     ]
    },
    {
     "name": "stderr",
     "output_type": "stream",
     "text": [
      "                                                                                               \r"
     ]
    },
    {
     "name": "stdout",
     "output_type": "stream",
     "text": [
      "Moviepy - Done !\n",
      "Moviepy - video ready ./KTH-Action-dataset/boxing\\person21_boxing_d2_uncomp.mp4\n",
      "Moviepy - Building video ./KTH-Action-dataset/boxing\\person21_boxing_d3_uncomp.mp4.\n",
      "Moviepy - Writing video ./KTH-Action-dataset/boxing\\person21_boxing_d3_uncomp.mp4\n",
      "\n"
     ]
    },
    {
     "name": "stderr",
     "output_type": "stream",
     "text": [
      "                                                                                               \r"
     ]
    },
    {
     "name": "stdout",
     "output_type": "stream",
     "text": [
      "Moviepy - Done !\n",
      "Moviepy - video ready ./KTH-Action-dataset/boxing\\person21_boxing_d3_uncomp.mp4\n",
      "Moviepy - Building video ./KTH-Action-dataset/boxing\\person21_boxing_d4_uncomp.mp4.\n",
      "Moviepy - Writing video ./KTH-Action-dataset/boxing\\person21_boxing_d4_uncomp.mp4\n",
      "\n"
     ]
    },
    {
     "name": "stderr",
     "output_type": "stream",
     "text": [
      "                                                                                               \r"
     ]
    },
    {
     "name": "stdout",
     "output_type": "stream",
     "text": [
      "Moviepy - Done !\n",
      "Moviepy - video ready ./KTH-Action-dataset/boxing\\person21_boxing_d4_uncomp.mp4\n",
      "Moviepy - Building video ./KTH-Action-dataset/boxing\\person22_boxing_d1_uncomp.mp4.\n",
      "Moviepy - Writing video ./KTH-Action-dataset/boxing\\person22_boxing_d1_uncomp.mp4\n",
      "\n"
     ]
    },
    {
     "name": "stderr",
     "output_type": "stream",
     "text": [
      "                                                                                               \r"
     ]
    },
    {
     "name": "stdout",
     "output_type": "stream",
     "text": [
      "Moviepy - Done !\n",
      "Moviepy - video ready ./KTH-Action-dataset/boxing\\person22_boxing_d1_uncomp.mp4\n",
      "Moviepy - Building video ./KTH-Action-dataset/boxing\\person22_boxing_d2_uncomp.mp4.\n",
      "Moviepy - Writing video ./KTH-Action-dataset/boxing\\person22_boxing_d2_uncomp.mp4\n",
      "\n"
     ]
    },
    {
     "name": "stderr",
     "output_type": "stream",
     "text": [
      "                                                                                               \r"
     ]
    },
    {
     "name": "stdout",
     "output_type": "stream",
     "text": [
      "Moviepy - Done !\n",
      "Moviepy - video ready ./KTH-Action-dataset/boxing\\person22_boxing_d2_uncomp.mp4\n",
      "Moviepy - Building video ./KTH-Action-dataset/boxing\\person22_boxing_d3_uncomp.mp4.\n",
      "Moviepy - Writing video ./KTH-Action-dataset/boxing\\person22_boxing_d3_uncomp.mp4\n",
      "\n"
     ]
    },
    {
     "name": "stderr",
     "output_type": "stream",
     "text": [
      "                                                                                               \r"
     ]
    },
    {
     "name": "stdout",
     "output_type": "stream",
     "text": [
      "Moviepy - Done !\n",
      "Moviepy - video ready ./KTH-Action-dataset/boxing\\person22_boxing_d3_uncomp.mp4\n",
      "Moviepy - Building video ./KTH-Action-dataset/boxing\\person22_boxing_d4_uncomp.mp4.\n",
      "Moviepy - Writing video ./KTH-Action-dataset/boxing\\person22_boxing_d4_uncomp.mp4\n",
      "\n"
     ]
    },
    {
     "name": "stderr",
     "output_type": "stream",
     "text": [
      "                                                                                               \r"
     ]
    },
    {
     "name": "stdout",
     "output_type": "stream",
     "text": [
      "Moviepy - Done !\n",
      "Moviepy - video ready ./KTH-Action-dataset/boxing\\person22_boxing_d4_uncomp.mp4\n",
      "Moviepy - Building video ./KTH-Action-dataset/boxing\\person23_boxing_d1_uncomp.mp4.\n",
      "Moviepy - Writing video ./KTH-Action-dataset/boxing\\person23_boxing_d1_uncomp.mp4\n",
      "\n"
     ]
    },
    {
     "name": "stderr",
     "output_type": "stream",
     "text": [
      "                                                                                               \r"
     ]
    },
    {
     "name": "stdout",
     "output_type": "stream",
     "text": [
      "Moviepy - Done !\n",
      "Moviepy - video ready ./KTH-Action-dataset/boxing\\person23_boxing_d1_uncomp.mp4\n",
      "Moviepy - Building video ./KTH-Action-dataset/boxing\\person23_boxing_d2_uncomp.mp4.\n",
      "Moviepy - Writing video ./KTH-Action-dataset/boxing\\person23_boxing_d2_uncomp.mp4\n",
      "\n"
     ]
    },
    {
     "name": "stderr",
     "output_type": "stream",
     "text": [
      "                                                                                               \r"
     ]
    },
    {
     "name": "stdout",
     "output_type": "stream",
     "text": [
      "Moviepy - Done !\n",
      "Moviepy - video ready ./KTH-Action-dataset/boxing\\person23_boxing_d2_uncomp.mp4\n",
      "Moviepy - Building video ./KTH-Action-dataset/boxing\\person23_boxing_d3_uncomp.mp4.\n",
      "Moviepy - Writing video ./KTH-Action-dataset/boxing\\person23_boxing_d3_uncomp.mp4\n",
      "\n"
     ]
    },
    {
     "name": "stderr",
     "output_type": "stream",
     "text": [
      "                                                                                               \r"
     ]
    },
    {
     "name": "stdout",
     "output_type": "stream",
     "text": [
      "Moviepy - Done !\n",
      "Moviepy - video ready ./KTH-Action-dataset/boxing\\person23_boxing_d3_uncomp.mp4\n",
      "Moviepy - Building video ./KTH-Action-dataset/boxing\\person23_boxing_d4_uncomp.mp4.\n",
      "Moviepy - Writing video ./KTH-Action-dataset/boxing\\person23_boxing_d4_uncomp.mp4\n",
      "\n"
     ]
    },
    {
     "name": "stderr",
     "output_type": "stream",
     "text": [
      "                                                                                               \r"
     ]
    },
    {
     "name": "stdout",
     "output_type": "stream",
     "text": [
      "Moviepy - Done !\n",
      "Moviepy - video ready ./KTH-Action-dataset/boxing\\person23_boxing_d4_uncomp.mp4\n",
      "Moviepy - Building video ./KTH-Action-dataset/boxing\\person24_boxing_d1_uncomp.mp4.\n",
      "Moviepy - Writing video ./KTH-Action-dataset/boxing\\person24_boxing_d1_uncomp.mp4\n",
      "\n"
     ]
    },
    {
     "name": "stderr",
     "output_type": "stream",
     "text": [
      "                                                                                               \r"
     ]
    },
    {
     "name": "stdout",
     "output_type": "stream",
     "text": [
      "Moviepy - Done !\n",
      "Moviepy - video ready ./KTH-Action-dataset/boxing\\person24_boxing_d1_uncomp.mp4\n",
      "Moviepy - Building video ./KTH-Action-dataset/boxing\\person24_boxing_d2_uncomp.mp4.\n",
      "Moviepy - Writing video ./KTH-Action-dataset/boxing\\person24_boxing_d2_uncomp.mp4\n",
      "\n"
     ]
    },
    {
     "name": "stderr",
     "output_type": "stream",
     "text": [
      "                                                                                               \r"
     ]
    },
    {
     "name": "stdout",
     "output_type": "stream",
     "text": [
      "Moviepy - Done !\n",
      "Moviepy - video ready ./KTH-Action-dataset/boxing\\person24_boxing_d2_uncomp.mp4\n",
      "Moviepy - Building video ./KTH-Action-dataset/boxing\\person24_boxing_d3_uncomp.mp4.\n",
      "Moviepy - Writing video ./KTH-Action-dataset/boxing\\person24_boxing_d3_uncomp.mp4\n",
      "\n"
     ]
    },
    {
     "name": "stderr",
     "output_type": "stream",
     "text": [
      "                                                                                               \r"
     ]
    },
    {
     "name": "stdout",
     "output_type": "stream",
     "text": [
      "Moviepy - Done !\n",
      "Moviepy - video ready ./KTH-Action-dataset/boxing\\person24_boxing_d3_uncomp.mp4\n",
      "Moviepy - Building video ./KTH-Action-dataset/boxing\\person24_boxing_d4_uncomp.mp4.\n",
      "Moviepy - Writing video ./KTH-Action-dataset/boxing\\person24_boxing_d4_uncomp.mp4\n",
      "\n"
     ]
    },
    {
     "name": "stderr",
     "output_type": "stream",
     "text": [
      "                                                                                               \r"
     ]
    },
    {
     "name": "stdout",
     "output_type": "stream",
     "text": [
      "Moviepy - Done !\n",
      "Moviepy - video ready ./KTH-Action-dataset/boxing\\person24_boxing_d4_uncomp.mp4\n",
      "Moviepy - Building video ./KTH-Action-dataset/boxing\\person25_boxing_d1_uncomp.mp4.\n",
      "Moviepy - Writing video ./KTH-Action-dataset/boxing\\person25_boxing_d1_uncomp.mp4\n",
      "\n"
     ]
    },
    {
     "name": "stderr",
     "output_type": "stream",
     "text": [
      "                                                                                               \r"
     ]
    },
    {
     "name": "stdout",
     "output_type": "stream",
     "text": [
      "Moviepy - Done !\n",
      "Moviepy - video ready ./KTH-Action-dataset/boxing\\person25_boxing_d1_uncomp.mp4\n",
      "Moviepy - Building video ./KTH-Action-dataset/boxing\\person25_boxing_d2_uncomp.mp4.\n",
      "Moviepy - Writing video ./KTH-Action-dataset/boxing\\person25_boxing_d2_uncomp.mp4\n",
      "\n"
     ]
    },
    {
     "name": "stderr",
     "output_type": "stream",
     "text": [
      "                                                                                               \r"
     ]
    },
    {
     "name": "stdout",
     "output_type": "stream",
     "text": [
      "Moviepy - Done !\n",
      "Moviepy - video ready ./KTH-Action-dataset/boxing\\person25_boxing_d2_uncomp.mp4\n",
      "Moviepy - Building video ./KTH-Action-dataset/boxing\\person25_boxing_d3_uncomp.mp4.\n",
      "Moviepy - Writing video ./KTH-Action-dataset/boxing\\person25_boxing_d3_uncomp.mp4\n",
      "\n"
     ]
    },
    {
     "name": "stderr",
     "output_type": "stream",
     "text": [
      "                                                                                               \r"
     ]
    },
    {
     "name": "stdout",
     "output_type": "stream",
     "text": [
      "Moviepy - Done !\n",
      "Moviepy - video ready ./KTH-Action-dataset/boxing\\person25_boxing_d3_uncomp.mp4\n",
      "Moviepy - Building video ./KTH-Action-dataset/boxing\\person25_boxing_d4_uncomp.mp4.\n",
      "Moviepy - Writing video ./KTH-Action-dataset/boxing\\person25_boxing_d4_uncomp.mp4\n",
      "\n"
     ]
    },
    {
     "name": "stderr",
     "output_type": "stream",
     "text": [
      "                                                                                               \r"
     ]
    },
    {
     "name": "stdout",
     "output_type": "stream",
     "text": [
      "Moviepy - Done !\n",
      "Moviepy - video ready ./KTH-Action-dataset/boxing\\person25_boxing_d4_uncomp.mp4\n"
     ]
    },
    {
     "name": "stderr",
     "output_type": "stream",
     "text": [
      "100% |########################################################################|\n"
     ]
    },
    {
     "name": "stdout",
     "output_type": "stream",
     "text": [
      "Moviepy - Building video ./KTH-Action-dataset/handclapping\\person01_handclapping_d1_uncomp.mp4.\n",
      "Moviepy - Writing video ./KTH-Action-dataset/handclapping\\person01_handclapping_d1_uncomp.mp4\n",
      "\n"
     ]
    },
    {
     "name": "stderr",
     "output_type": "stream",
     "text": [
      "                                                                                               \r"
     ]
    },
    {
     "name": "stdout",
     "output_type": "stream",
     "text": [
      "Moviepy - Done !\n",
      "Moviepy - video ready ./KTH-Action-dataset/handclapping\\person01_handclapping_d1_uncomp.mp4\n",
      "Moviepy - Building video ./KTH-Action-dataset/handclapping\\person01_handclapping_d2_uncomp.mp4.\n",
      "Moviepy - Writing video ./KTH-Action-dataset/handclapping\\person01_handclapping_d2_uncomp.mp4\n",
      "\n"
     ]
    },
    {
     "name": "stderr",
     "output_type": "stream",
     "text": [
      "                                                                                               \r"
     ]
    },
    {
     "name": "stdout",
     "output_type": "stream",
     "text": [
      "Moviepy - Done !\n",
      "Moviepy - video ready ./KTH-Action-dataset/handclapping\\person01_handclapping_d2_uncomp.mp4\n",
      "Moviepy - Building video ./KTH-Action-dataset/handclapping\\person01_handclapping_d3_uncomp.mp4.\n",
      "Moviepy - Writing video ./KTH-Action-dataset/handclapping\\person01_handclapping_d3_uncomp.mp4\n",
      "\n"
     ]
    },
    {
     "name": "stderr",
     "output_type": "stream",
     "text": [
      "                                                                                               \r"
     ]
    },
    {
     "name": "stdout",
     "output_type": "stream",
     "text": [
      "Moviepy - Done !\n",
      "Moviepy - video ready ./KTH-Action-dataset/handclapping\\person01_handclapping_d3_uncomp.mp4\n",
      "Moviepy - Building video ./KTH-Action-dataset/handclapping\\person01_handclapping_d4_uncomp.mp4.\n",
      "Moviepy - Writing video ./KTH-Action-dataset/handclapping\\person01_handclapping_d4_uncomp.mp4\n",
      "\n"
     ]
    },
    {
     "name": "stderr",
     "output_type": "stream",
     "text": [
      "                                                                                               \r"
     ]
    },
    {
     "name": "stdout",
     "output_type": "stream",
     "text": [
      "Moviepy - Done !\n",
      "Moviepy - video ready ./KTH-Action-dataset/handclapping\\person01_handclapping_d4_uncomp.mp4\n",
      "Moviepy - Building video ./KTH-Action-dataset/handclapping\\person02_handclapping_d1_uncomp.mp4.\n",
      "Moviepy - Writing video ./KTH-Action-dataset/handclapping\\person02_handclapping_d1_uncomp.mp4\n",
      "\n"
     ]
    },
    {
     "name": "stderr",
     "output_type": "stream",
     "text": [
      "                                                                                               \r"
     ]
    },
    {
     "name": "stdout",
     "output_type": "stream",
     "text": [
      "Moviepy - Done !\n",
      "Moviepy - video ready ./KTH-Action-dataset/handclapping\\person02_handclapping_d1_uncomp.mp4\n",
      "Moviepy - Building video ./KTH-Action-dataset/handclapping\\person02_handclapping_d2_uncomp.mp4.\n",
      "Moviepy - Writing video ./KTH-Action-dataset/handclapping\\person02_handclapping_d2_uncomp.mp4\n",
      "\n"
     ]
    },
    {
     "name": "stderr",
     "output_type": "stream",
     "text": [
      "                                                                                               \r"
     ]
    },
    {
     "name": "stdout",
     "output_type": "stream",
     "text": [
      "Moviepy - Done !\n",
      "Moviepy - video ready ./KTH-Action-dataset/handclapping\\person02_handclapping_d2_uncomp.mp4\n",
      "Moviepy - Building video ./KTH-Action-dataset/handclapping\\person02_handclapping_d3_uncomp.mp4.\n",
      "Moviepy - Writing video ./KTH-Action-dataset/handclapping\\person02_handclapping_d3_uncomp.mp4\n",
      "\n"
     ]
    },
    {
     "name": "stderr",
     "output_type": "stream",
     "text": [
      "                                                                                               \r"
     ]
    },
    {
     "name": "stdout",
     "output_type": "stream",
     "text": [
      "Moviepy - Done !\n",
      "Moviepy - video ready ./KTH-Action-dataset/handclapping\\person02_handclapping_d3_uncomp.mp4\n",
      "Moviepy - Building video ./KTH-Action-dataset/handclapping\\person02_handclapping_d4_uncomp.mp4.\n",
      "Moviepy - Writing video ./KTH-Action-dataset/handclapping\\person02_handclapping_d4_uncomp.mp4\n",
      "\n"
     ]
    },
    {
     "name": "stderr",
     "output_type": "stream",
     "text": [
      "                                                                                               \r"
     ]
    },
    {
     "name": "stdout",
     "output_type": "stream",
     "text": [
      "Moviepy - Done !\n",
      "Moviepy - video ready ./KTH-Action-dataset/handclapping\\person02_handclapping_d4_uncomp.mp4\n",
      "Moviepy - Building video ./KTH-Action-dataset/handclapping\\person03_handclapping_d1_uncomp.mp4.\n",
      "Moviepy - Writing video ./KTH-Action-dataset/handclapping\\person03_handclapping_d1_uncomp.mp4\n",
      "\n"
     ]
    },
    {
     "name": "stderr",
     "output_type": "stream",
     "text": [
      "                                                                                               \r"
     ]
    },
    {
     "name": "stdout",
     "output_type": "stream",
     "text": [
      "Moviepy - Done !\n",
      "Moviepy - video ready ./KTH-Action-dataset/handclapping\\person03_handclapping_d1_uncomp.mp4\n",
      "Moviepy - Building video ./KTH-Action-dataset/handclapping\\person03_handclapping_d2_uncomp.mp4.\n",
      "Moviepy - Writing video ./KTH-Action-dataset/handclapping\\person03_handclapping_d2_uncomp.mp4\n",
      "\n"
     ]
    },
    {
     "name": "stderr",
     "output_type": "stream",
     "text": [
      "                                                                                               \r"
     ]
    },
    {
     "name": "stdout",
     "output_type": "stream",
     "text": [
      "Moviepy - Done !\n",
      "Moviepy - video ready ./KTH-Action-dataset/handclapping\\person03_handclapping_d2_uncomp.mp4\n",
      "Moviepy - Building video ./KTH-Action-dataset/handclapping\\person03_handclapping_d3_uncomp.mp4.\n",
      "Moviepy - Writing video ./KTH-Action-dataset/handclapping\\person03_handclapping_d3_uncomp.mp4\n",
      "\n"
     ]
    },
    {
     "name": "stderr",
     "output_type": "stream",
     "text": [
      "                                                                                               \r"
     ]
    },
    {
     "name": "stdout",
     "output_type": "stream",
     "text": [
      "Moviepy - Done !\n",
      "Moviepy - video ready ./KTH-Action-dataset/handclapping\\person03_handclapping_d3_uncomp.mp4\n",
      "Moviepy - Building video ./KTH-Action-dataset/handclapping\\person03_handclapping_d4_uncomp.mp4.\n",
      "Moviepy - Writing video ./KTH-Action-dataset/handclapping\\person03_handclapping_d4_uncomp.mp4\n",
      "\n"
     ]
    },
    {
     "name": "stderr",
     "output_type": "stream",
     "text": [
      "                                                                                               \r"
     ]
    },
    {
     "name": "stdout",
     "output_type": "stream",
     "text": [
      "Moviepy - Done !\n",
      "Moviepy - video ready ./KTH-Action-dataset/handclapping\\person03_handclapping_d4_uncomp.mp4\n",
      "Moviepy - Building video ./KTH-Action-dataset/handclapping\\person04_handclapping_d1_uncomp.mp4.\n",
      "Moviepy - Writing video ./KTH-Action-dataset/handclapping\\person04_handclapping_d1_uncomp.mp4\n",
      "\n"
     ]
    },
    {
     "name": "stderr",
     "output_type": "stream",
     "text": [
      "                                                                                               \r"
     ]
    },
    {
     "name": "stdout",
     "output_type": "stream",
     "text": [
      "Moviepy - Done !\n",
      "Moviepy - video ready ./KTH-Action-dataset/handclapping\\person04_handclapping_d1_uncomp.mp4\n",
      "Moviepy - Building video ./KTH-Action-dataset/handclapping\\person04_handclapping_d2_uncomp.mp4.\n",
      "Moviepy - Writing video ./KTH-Action-dataset/handclapping\\person04_handclapping_d2_uncomp.mp4\n",
      "\n"
     ]
    },
    {
     "name": "stderr",
     "output_type": "stream",
     "text": [
      "                                                                                               \r"
     ]
    },
    {
     "name": "stdout",
     "output_type": "stream",
     "text": [
      "Moviepy - Done !\n",
      "Moviepy - video ready ./KTH-Action-dataset/handclapping\\person04_handclapping_d2_uncomp.mp4\n",
      "Moviepy - Building video ./KTH-Action-dataset/handclapping\\person04_handclapping_d3_uncomp.mp4.\n",
      "Moviepy - Writing video ./KTH-Action-dataset/handclapping\\person04_handclapping_d3_uncomp.mp4\n",
      "\n"
     ]
    },
    {
     "name": "stderr",
     "output_type": "stream",
     "text": [
      "                                                                                               \r"
     ]
    },
    {
     "name": "stdout",
     "output_type": "stream",
     "text": [
      "Moviepy - Done !\n",
      "Moviepy - video ready ./KTH-Action-dataset/handclapping\\person04_handclapping_d3_uncomp.mp4\n",
      "Moviepy - Building video ./KTH-Action-dataset/handclapping\\person04_handclapping_d4_uncomp.mp4.\n",
      "Moviepy - Writing video ./KTH-Action-dataset/handclapping\\person04_handclapping_d4_uncomp.mp4\n",
      "\n"
     ]
    },
    {
     "name": "stderr",
     "output_type": "stream",
     "text": [
      "                                                                                               \r"
     ]
    },
    {
     "name": "stdout",
     "output_type": "stream",
     "text": [
      "Moviepy - Done !\n",
      "Moviepy - video ready ./KTH-Action-dataset/handclapping\\person04_handclapping_d4_uncomp.mp4\n",
      "Moviepy - Building video ./KTH-Action-dataset/handclapping\\person05_handclapping_d1_uncomp.mp4.\n",
      "Moviepy - Writing video ./KTH-Action-dataset/handclapping\\person05_handclapping_d1_uncomp.mp4\n",
      "\n"
     ]
    },
    {
     "name": "stderr",
     "output_type": "stream",
     "text": [
      "                                                                                               \r"
     ]
    },
    {
     "name": "stdout",
     "output_type": "stream",
     "text": [
      "Moviepy - Done !\n",
      "Moviepy - video ready ./KTH-Action-dataset/handclapping\\person05_handclapping_d1_uncomp.mp4\n",
      "Moviepy - Building video ./KTH-Action-dataset/handclapping\\person05_handclapping_d2_uncomp.mp4.\n",
      "Moviepy - Writing video ./KTH-Action-dataset/handclapping\\person05_handclapping_d2_uncomp.mp4\n",
      "\n"
     ]
    },
    {
     "name": "stderr",
     "output_type": "stream",
     "text": [
      "                                                                                               \r"
     ]
    },
    {
     "name": "stdout",
     "output_type": "stream",
     "text": [
      "Moviepy - Done !\n",
      "Moviepy - video ready ./KTH-Action-dataset/handclapping\\person05_handclapping_d2_uncomp.mp4\n",
      "Moviepy - Building video ./KTH-Action-dataset/handclapping\\person05_handclapping_d3_uncomp.mp4.\n",
      "Moviepy - Writing video ./KTH-Action-dataset/handclapping\\person05_handclapping_d3_uncomp.mp4\n",
      "\n"
     ]
    },
    {
     "name": "stderr",
     "output_type": "stream",
     "text": [
      "                                                                                               \r"
     ]
    },
    {
     "name": "stdout",
     "output_type": "stream",
     "text": [
      "Moviepy - Done !\n",
      "Moviepy - video ready ./KTH-Action-dataset/handclapping\\person05_handclapping_d3_uncomp.mp4\n",
      "Moviepy - Building video ./KTH-Action-dataset/handclapping\\person05_handclapping_d4_uncomp.mp4.\n",
      "Moviepy - Writing video ./KTH-Action-dataset/handclapping\\person05_handclapping_d4_uncomp.mp4\n",
      "\n"
     ]
    },
    {
     "name": "stderr",
     "output_type": "stream",
     "text": [
      "                                                                                               \r"
     ]
    },
    {
     "name": "stdout",
     "output_type": "stream",
     "text": [
      "Moviepy - Done !\n",
      "Moviepy - video ready ./KTH-Action-dataset/handclapping\\person05_handclapping_d4_uncomp.mp4\n",
      "Moviepy - Building video ./KTH-Action-dataset/handclapping\\person06_handclapping_d1_uncomp.mp4.\n",
      "Moviepy - Writing video ./KTH-Action-dataset/handclapping\\person06_handclapping_d1_uncomp.mp4\n",
      "\n"
     ]
    },
    {
     "name": "stderr",
     "output_type": "stream",
     "text": [
      "                                                                                               \r"
     ]
    },
    {
     "name": "stdout",
     "output_type": "stream",
     "text": [
      "Moviepy - Done !\n",
      "Moviepy - video ready ./KTH-Action-dataset/handclapping\\person06_handclapping_d1_uncomp.mp4\n",
      "Moviepy - Building video ./KTH-Action-dataset/handclapping\\person06_handclapping_d2_uncomp.mp4.\n",
      "Moviepy - Writing video ./KTH-Action-dataset/handclapping\\person06_handclapping_d2_uncomp.mp4\n",
      "\n"
     ]
    },
    {
     "name": "stderr",
     "output_type": "stream",
     "text": [
      "                                                                                               \r"
     ]
    },
    {
     "name": "stdout",
     "output_type": "stream",
     "text": [
      "Moviepy - Done !\n",
      "Moviepy - video ready ./KTH-Action-dataset/handclapping\\person06_handclapping_d2_uncomp.mp4\n",
      "Moviepy - Building video ./KTH-Action-dataset/handclapping\\person06_handclapping_d3_uncomp.mp4.\n",
      "Moviepy - Writing video ./KTH-Action-dataset/handclapping\\person06_handclapping_d3_uncomp.mp4\n",
      "\n"
     ]
    },
    {
     "name": "stderr",
     "output_type": "stream",
     "text": [
      "                                                                                               \r"
     ]
    },
    {
     "name": "stdout",
     "output_type": "stream",
     "text": [
      "Moviepy - Done !\n",
      "Moviepy - video ready ./KTH-Action-dataset/handclapping\\person06_handclapping_d3_uncomp.mp4\n",
      "Moviepy - Building video ./KTH-Action-dataset/handclapping\\person06_handclapping_d4_uncomp.mp4.\n",
      "Moviepy - Writing video ./KTH-Action-dataset/handclapping\\person06_handclapping_d4_uncomp.mp4\n",
      "\n"
     ]
    },
    {
     "name": "stderr",
     "output_type": "stream",
     "text": [
      "                                                                                               \r"
     ]
    },
    {
     "name": "stdout",
     "output_type": "stream",
     "text": [
      "Moviepy - Done !\n",
      "Moviepy - video ready ./KTH-Action-dataset/handclapping\\person06_handclapping_d4_uncomp.mp4\n",
      "Moviepy - Building video ./KTH-Action-dataset/handclapping\\person07_handclapping_d1_uncomp.mp4.\n",
      "Moviepy - Writing video ./KTH-Action-dataset/handclapping\\person07_handclapping_d1_uncomp.mp4\n",
      "\n"
     ]
    },
    {
     "name": "stderr",
     "output_type": "stream",
     "text": [
      "                                                                                               \r"
     ]
    },
    {
     "name": "stdout",
     "output_type": "stream",
     "text": [
      "Moviepy - Done !\n",
      "Moviepy - video ready ./KTH-Action-dataset/handclapping\\person07_handclapping_d1_uncomp.mp4\n",
      "Moviepy - Building video ./KTH-Action-dataset/handclapping\\person07_handclapping_d2_uncomp.mp4.\n",
      "Moviepy - Writing video ./KTH-Action-dataset/handclapping\\person07_handclapping_d2_uncomp.mp4\n",
      "\n"
     ]
    },
    {
     "name": "stderr",
     "output_type": "stream",
     "text": [
      "                                                                                               \r"
     ]
    },
    {
     "name": "stdout",
     "output_type": "stream",
     "text": [
      "Moviepy - Done !\n",
      "Moviepy - video ready ./KTH-Action-dataset/handclapping\\person07_handclapping_d2_uncomp.mp4\n",
      "Moviepy - Building video ./KTH-Action-dataset/handclapping\\person07_handclapping_d3_uncomp.mp4.\n",
      "Moviepy - Writing video ./KTH-Action-dataset/handclapping\\person07_handclapping_d3_uncomp.mp4\n",
      "\n"
     ]
    },
    {
     "name": "stderr",
     "output_type": "stream",
     "text": [
      "                                                                                               \r"
     ]
    },
    {
     "name": "stdout",
     "output_type": "stream",
     "text": [
      "Moviepy - Done !\n",
      "Moviepy - video ready ./KTH-Action-dataset/handclapping\\person07_handclapping_d3_uncomp.mp4\n",
      "Moviepy - Building video ./KTH-Action-dataset/handclapping\\person07_handclapping_d4_uncomp.mp4.\n",
      "Moviepy - Writing video ./KTH-Action-dataset/handclapping\\person07_handclapping_d4_uncomp.mp4\n",
      "\n"
     ]
    },
    {
     "name": "stderr",
     "output_type": "stream",
     "text": [
      "                                                                                               \r"
     ]
    },
    {
     "name": "stdout",
     "output_type": "stream",
     "text": [
      "Moviepy - Done !\n",
      "Moviepy - video ready ./KTH-Action-dataset/handclapping\\person07_handclapping_d4_uncomp.mp4\n",
      "Moviepy - Building video ./KTH-Action-dataset/handclapping\\person08_handclapping_d1_uncomp.mp4.\n",
      "Moviepy - Writing video ./KTH-Action-dataset/handclapping\\person08_handclapping_d1_uncomp.mp4\n",
      "\n"
     ]
    },
    {
     "name": "stderr",
     "output_type": "stream",
     "text": [
      "                                                                                               \r"
     ]
    },
    {
     "name": "stdout",
     "output_type": "stream",
     "text": [
      "Moviepy - Done !\n",
      "Moviepy - video ready ./KTH-Action-dataset/handclapping\\person08_handclapping_d1_uncomp.mp4\n",
      "Moviepy - Building video ./KTH-Action-dataset/handclapping\\person08_handclapping_d2_uncomp.mp4.\n",
      "Moviepy - Writing video ./KTH-Action-dataset/handclapping\\person08_handclapping_d2_uncomp.mp4\n",
      "\n"
     ]
    },
    {
     "name": "stderr",
     "output_type": "stream",
     "text": [
      "                                                                                               \r"
     ]
    },
    {
     "name": "stdout",
     "output_type": "stream",
     "text": [
      "Moviepy - Done !\n",
      "Moviepy - video ready ./KTH-Action-dataset/handclapping\\person08_handclapping_d2_uncomp.mp4\n",
      "Moviepy - Building video ./KTH-Action-dataset/handclapping\\person08_handclapping_d3_uncomp.mp4.\n",
      "Moviepy - Writing video ./KTH-Action-dataset/handclapping\\person08_handclapping_d3_uncomp.mp4\n",
      "\n"
     ]
    },
    {
     "name": "stderr",
     "output_type": "stream",
     "text": [
      "                                                                                               \r"
     ]
    },
    {
     "name": "stdout",
     "output_type": "stream",
     "text": [
      "Moviepy - Done !\n",
      "Moviepy - video ready ./KTH-Action-dataset/handclapping\\person08_handclapping_d3_uncomp.mp4\n",
      "Moviepy - Building video ./KTH-Action-dataset/handclapping\\person08_handclapping_d4_uncomp.mp4.\n",
      "Moviepy - Writing video ./KTH-Action-dataset/handclapping\\person08_handclapping_d4_uncomp.mp4\n",
      "\n"
     ]
    },
    {
     "name": "stderr",
     "output_type": "stream",
     "text": [
      "                                                                                               \r"
     ]
    },
    {
     "name": "stdout",
     "output_type": "stream",
     "text": [
      "Moviepy - Done !\n",
      "Moviepy - video ready ./KTH-Action-dataset/handclapping\\person08_handclapping_d4_uncomp.mp4\n",
      "Moviepy - Building video ./KTH-Action-dataset/handclapping\\person09_handclapping_d1_uncomp.mp4.\n",
      "Moviepy - Writing video ./KTH-Action-dataset/handclapping\\person09_handclapping_d1_uncomp.mp4\n",
      "\n"
     ]
    },
    {
     "name": "stderr",
     "output_type": "stream",
     "text": [
      "                                                                                               \r"
     ]
    },
    {
     "name": "stdout",
     "output_type": "stream",
     "text": [
      "Moviepy - Done !\n",
      "Moviepy - video ready ./KTH-Action-dataset/handclapping\\person09_handclapping_d1_uncomp.mp4\n",
      "Moviepy - Building video ./KTH-Action-dataset/handclapping\\person09_handclapping_d2_uncomp.mp4.\n",
      "Moviepy - Writing video ./KTH-Action-dataset/handclapping\\person09_handclapping_d2_uncomp.mp4\n",
      "\n"
     ]
    },
    {
     "name": "stderr",
     "output_type": "stream",
     "text": [
      "                                                                                               \r"
     ]
    },
    {
     "name": "stdout",
     "output_type": "stream",
     "text": [
      "Moviepy - Done !\n",
      "Moviepy - video ready ./KTH-Action-dataset/handclapping\\person09_handclapping_d2_uncomp.mp4\n",
      "Moviepy - Building video ./KTH-Action-dataset/handclapping\\person09_handclapping_d3_uncomp.mp4.\n",
      "Moviepy - Writing video ./KTH-Action-dataset/handclapping\\person09_handclapping_d3_uncomp.mp4\n",
      "\n"
     ]
    },
    {
     "name": "stderr",
     "output_type": "stream",
     "text": [
      "                                                                                               \r"
     ]
    },
    {
     "name": "stdout",
     "output_type": "stream",
     "text": [
      "Moviepy - Done !\n",
      "Moviepy - video ready ./KTH-Action-dataset/handclapping\\person09_handclapping_d3_uncomp.mp4\n",
      "Moviepy - Building video ./KTH-Action-dataset/handclapping\\person09_handclapping_d4_uncomp.mp4.\n",
      "Moviepy - Writing video ./KTH-Action-dataset/handclapping\\person09_handclapping_d4_uncomp.mp4\n",
      "\n"
     ]
    },
    {
     "name": "stderr",
     "output_type": "stream",
     "text": [
      "                                                                                               \r"
     ]
    },
    {
     "name": "stdout",
     "output_type": "stream",
     "text": [
      "Moviepy - Done !\n",
      "Moviepy - video ready ./KTH-Action-dataset/handclapping\\person09_handclapping_d4_uncomp.mp4\n",
      "Moviepy - Building video ./KTH-Action-dataset/handclapping\\person10_handclapping_d1_uncomp.mp4.\n",
      "Moviepy - Writing video ./KTH-Action-dataset/handclapping\\person10_handclapping_d1_uncomp.mp4\n",
      "\n"
     ]
    },
    {
     "name": "stderr",
     "output_type": "stream",
     "text": [
      "                                                                                               \r"
     ]
    },
    {
     "name": "stdout",
     "output_type": "stream",
     "text": [
      "Moviepy - Done !\n",
      "Moviepy - video ready ./KTH-Action-dataset/handclapping\\person10_handclapping_d1_uncomp.mp4\n",
      "Moviepy - Building video ./KTH-Action-dataset/handclapping\\person10_handclapping_d2_uncomp.mp4.\n",
      "Moviepy - Writing video ./KTH-Action-dataset/handclapping\\person10_handclapping_d2_uncomp.mp4\n",
      "\n"
     ]
    },
    {
     "name": "stderr",
     "output_type": "stream",
     "text": [
      "                                                                                               \r"
     ]
    },
    {
     "name": "stdout",
     "output_type": "stream",
     "text": [
      "Moviepy - Done !\n",
      "Moviepy - video ready ./KTH-Action-dataset/handclapping\\person10_handclapping_d2_uncomp.mp4\n",
      "Moviepy - Building video ./KTH-Action-dataset/handclapping\\person10_handclapping_d3_uncomp.mp4.\n",
      "Moviepy - Writing video ./KTH-Action-dataset/handclapping\\person10_handclapping_d3_uncomp.mp4\n",
      "\n"
     ]
    },
    {
     "name": "stderr",
     "output_type": "stream",
     "text": [
      "                                                                                               \r"
     ]
    },
    {
     "name": "stdout",
     "output_type": "stream",
     "text": [
      "Moviepy - Done !\n",
      "Moviepy - video ready ./KTH-Action-dataset/handclapping\\person10_handclapping_d3_uncomp.mp4\n",
      "Moviepy - Building video ./KTH-Action-dataset/handclapping\\person10_handclapping_d4_uncomp.mp4.\n",
      "Moviepy - Writing video ./KTH-Action-dataset/handclapping\\person10_handclapping_d4_uncomp.mp4\n",
      "\n"
     ]
    },
    {
     "name": "stderr",
     "output_type": "stream",
     "text": [
      "                                                                                               \r"
     ]
    },
    {
     "name": "stdout",
     "output_type": "stream",
     "text": [
      "Moviepy - Done !\n",
      "Moviepy - video ready ./KTH-Action-dataset/handclapping\\person10_handclapping_d4_uncomp.mp4\n",
      "Moviepy - Building video ./KTH-Action-dataset/handclapping\\person11_handclapping_d1_uncomp.mp4.\n",
      "Moviepy - Writing video ./KTH-Action-dataset/handclapping\\person11_handclapping_d1_uncomp.mp4\n",
      "\n"
     ]
    },
    {
     "name": "stderr",
     "output_type": "stream",
     "text": [
      "                                                                                               \r"
     ]
    },
    {
     "name": "stdout",
     "output_type": "stream",
     "text": [
      "Moviepy - Done !\n",
      "Moviepy - video ready ./KTH-Action-dataset/handclapping\\person11_handclapping_d1_uncomp.mp4\n",
      "Moviepy - Building video ./KTH-Action-dataset/handclapping\\person11_handclapping_d2_uncomp.mp4.\n",
      "Moviepy - Writing video ./KTH-Action-dataset/handclapping\\person11_handclapping_d2_uncomp.mp4\n",
      "\n"
     ]
    },
    {
     "name": "stderr",
     "output_type": "stream",
     "text": [
      "                                                                                               \r"
     ]
    },
    {
     "name": "stdout",
     "output_type": "stream",
     "text": [
      "Moviepy - Done !\n",
      "Moviepy - video ready ./KTH-Action-dataset/handclapping\\person11_handclapping_d2_uncomp.mp4\n",
      "Moviepy - Building video ./KTH-Action-dataset/handclapping\\person11_handclapping_d3_uncomp.mp4.\n",
      "Moviepy - Writing video ./KTH-Action-dataset/handclapping\\person11_handclapping_d3_uncomp.mp4\n",
      "\n"
     ]
    },
    {
     "name": "stderr",
     "output_type": "stream",
     "text": [
      "                                                                                               \r"
     ]
    },
    {
     "name": "stdout",
     "output_type": "stream",
     "text": [
      "Moviepy - Done !\n",
      "Moviepy - video ready ./KTH-Action-dataset/handclapping\\person11_handclapping_d3_uncomp.mp4\n",
      "Moviepy - Building video ./KTH-Action-dataset/handclapping\\person11_handclapping_d4_uncomp.mp4.\n",
      "Moviepy - Writing video ./KTH-Action-dataset/handclapping\\person11_handclapping_d4_uncomp.mp4\n",
      "\n"
     ]
    },
    {
     "name": "stderr",
     "output_type": "stream",
     "text": [
      "                                                                                               \r"
     ]
    },
    {
     "name": "stdout",
     "output_type": "stream",
     "text": [
      "Moviepy - Done !\n",
      "Moviepy - video ready ./KTH-Action-dataset/handclapping\\person11_handclapping_d4_uncomp.mp4\n",
      "Moviepy - Building video ./KTH-Action-dataset/handclapping\\person12_handclapping_d1_uncomp.mp4.\n",
      "Moviepy - Writing video ./KTH-Action-dataset/handclapping\\person12_handclapping_d1_uncomp.mp4\n",
      "\n"
     ]
    },
    {
     "name": "stderr",
     "output_type": "stream",
     "text": [
      "                                                                                               \r"
     ]
    },
    {
     "name": "stdout",
     "output_type": "stream",
     "text": [
      "Moviepy - Done !\n",
      "Moviepy - video ready ./KTH-Action-dataset/handclapping\\person12_handclapping_d1_uncomp.mp4\n",
      "Moviepy - Building video ./KTH-Action-dataset/handclapping\\person12_handclapping_d2_uncomp.mp4.\n",
      "Moviepy - Writing video ./KTH-Action-dataset/handclapping\\person12_handclapping_d2_uncomp.mp4\n",
      "\n"
     ]
    },
    {
     "name": "stderr",
     "output_type": "stream",
     "text": [
      "                                                                                               \r"
     ]
    },
    {
     "name": "stdout",
     "output_type": "stream",
     "text": [
      "Moviepy - Done !\n",
      "Moviepy - video ready ./KTH-Action-dataset/handclapping\\person12_handclapping_d2_uncomp.mp4\n",
      "Moviepy - Building video ./KTH-Action-dataset/handclapping\\person12_handclapping_d3_uncomp.mp4.\n",
      "Moviepy - Writing video ./KTH-Action-dataset/handclapping\\person12_handclapping_d3_uncomp.mp4\n",
      "\n"
     ]
    },
    {
     "name": "stderr",
     "output_type": "stream",
     "text": [
      "                                                                                               \r"
     ]
    },
    {
     "name": "stdout",
     "output_type": "stream",
     "text": [
      "Moviepy - Done !\n",
      "Moviepy - video ready ./KTH-Action-dataset/handclapping\\person12_handclapping_d3_uncomp.mp4\n",
      "Moviepy - Building video ./KTH-Action-dataset/handclapping\\person12_handclapping_d4_uncomp.mp4.\n",
      "Moviepy - Writing video ./KTH-Action-dataset/handclapping\\person12_handclapping_d4_uncomp.mp4\n",
      "\n"
     ]
    },
    {
     "name": "stderr",
     "output_type": "stream",
     "text": [
      "                                                                                               \r"
     ]
    },
    {
     "name": "stdout",
     "output_type": "stream",
     "text": [
      "Moviepy - Done !\n",
      "Moviepy - video ready ./KTH-Action-dataset/handclapping\\person12_handclapping_d4_uncomp.mp4\n",
      "Moviepy - Building video ./KTH-Action-dataset/handclapping\\person13_handclapping_d1_uncomp.mp4.\n",
      "Moviepy - Writing video ./KTH-Action-dataset/handclapping\\person13_handclapping_d1_uncomp.mp4\n",
      "\n"
     ]
    },
    {
     "name": "stderr",
     "output_type": "stream",
     "text": [
      "                                                                                               \r"
     ]
    },
    {
     "name": "stdout",
     "output_type": "stream",
     "text": [
      "Moviepy - Done !\n",
      "Moviepy - video ready ./KTH-Action-dataset/handclapping\\person13_handclapping_d1_uncomp.mp4\n",
      "Moviepy - Building video ./KTH-Action-dataset/handclapping\\person13_handclapping_d2_uncomp.mp4.\n",
      "Moviepy - Writing video ./KTH-Action-dataset/handclapping\\person13_handclapping_d2_uncomp.mp4\n",
      "\n"
     ]
    },
    {
     "name": "stderr",
     "output_type": "stream",
     "text": [
      "                                                                                               \r"
     ]
    },
    {
     "name": "stdout",
     "output_type": "stream",
     "text": [
      "Moviepy - Done !\n",
      "Moviepy - video ready ./KTH-Action-dataset/handclapping\\person13_handclapping_d2_uncomp.mp4\n",
      "Moviepy - Building video ./KTH-Action-dataset/handclapping\\person13_handclapping_d4_uncomp.mp4.\n",
      "Moviepy - Writing video ./KTH-Action-dataset/handclapping\\person13_handclapping_d4_uncomp.mp4\n",
      "\n"
     ]
    },
    {
     "name": "stderr",
     "output_type": "stream",
     "text": [
      "                                                                                               \r"
     ]
    },
    {
     "name": "stdout",
     "output_type": "stream",
     "text": [
      "Moviepy - Done !\n",
      "Moviepy - video ready ./KTH-Action-dataset/handclapping\\person13_handclapping_d4_uncomp.mp4\n",
      "Moviepy - Building video ./KTH-Action-dataset/handclapping\\person14_handclapping_d1_uncomp.mp4.\n",
      "Moviepy - Writing video ./KTH-Action-dataset/handclapping\\person14_handclapping_d1_uncomp.mp4\n",
      "\n"
     ]
    },
    {
     "name": "stderr",
     "output_type": "stream",
     "text": [
      "                                                                                               \r"
     ]
    },
    {
     "name": "stdout",
     "output_type": "stream",
     "text": [
      "Moviepy - Done !\n",
      "Moviepy - video ready ./KTH-Action-dataset/handclapping\\person14_handclapping_d1_uncomp.mp4\n",
      "Moviepy - Building video ./KTH-Action-dataset/handclapping\\person14_handclapping_d2_uncomp.mp4.\n",
      "Moviepy - Writing video ./KTH-Action-dataset/handclapping\\person14_handclapping_d2_uncomp.mp4\n",
      "\n"
     ]
    },
    {
     "name": "stderr",
     "output_type": "stream",
     "text": [
      "                                                                                               \r"
     ]
    },
    {
     "name": "stdout",
     "output_type": "stream",
     "text": [
      "Moviepy - Done !\n",
      "Moviepy - video ready ./KTH-Action-dataset/handclapping\\person14_handclapping_d2_uncomp.mp4\n",
      "Moviepy - Building video ./KTH-Action-dataset/handclapping\\person14_handclapping_d3_uncomp.mp4.\n",
      "Moviepy - Writing video ./KTH-Action-dataset/handclapping\\person14_handclapping_d3_uncomp.mp4\n",
      "\n"
     ]
    },
    {
     "name": "stderr",
     "output_type": "stream",
     "text": [
      "                                                                                               \r"
     ]
    },
    {
     "name": "stdout",
     "output_type": "stream",
     "text": [
      "Moviepy - Done !\n",
      "Moviepy - video ready ./KTH-Action-dataset/handclapping\\person14_handclapping_d3_uncomp.mp4\n",
      "Moviepy - Building video ./KTH-Action-dataset/handclapping\\person14_handclapping_d4_uncomp.mp4.\n",
      "Moviepy - Writing video ./KTH-Action-dataset/handclapping\\person14_handclapping_d4_uncomp.mp4\n",
      "\n"
     ]
    },
    {
     "name": "stderr",
     "output_type": "stream",
     "text": [
      "                                                                                               \r"
     ]
    },
    {
     "name": "stdout",
     "output_type": "stream",
     "text": [
      "Moviepy - Done !\n",
      "Moviepy - video ready ./KTH-Action-dataset/handclapping\\person14_handclapping_d4_uncomp.mp4\n",
      "Moviepy - Building video ./KTH-Action-dataset/handclapping\\person15_handclapping_d1_uncomp.mp4.\n",
      "Moviepy - Writing video ./KTH-Action-dataset/handclapping\\person15_handclapping_d1_uncomp.mp4\n",
      "\n"
     ]
    },
    {
     "name": "stderr",
     "output_type": "stream",
     "text": [
      "                                                                                               \r"
     ]
    },
    {
     "name": "stdout",
     "output_type": "stream",
     "text": [
      "Moviepy - Done !\n",
      "Moviepy - video ready ./KTH-Action-dataset/handclapping\\person15_handclapping_d1_uncomp.mp4\n",
      "Moviepy - Building video ./KTH-Action-dataset/handclapping\\person15_handclapping_d2_uncomp.mp4.\n",
      "Moviepy - Writing video ./KTH-Action-dataset/handclapping\\person15_handclapping_d2_uncomp.mp4\n",
      "\n"
     ]
    },
    {
     "name": "stderr",
     "output_type": "stream",
     "text": [
      "                                                                                               \r"
     ]
    },
    {
     "name": "stdout",
     "output_type": "stream",
     "text": [
      "Moviepy - Done !\n",
      "Moviepy - video ready ./KTH-Action-dataset/handclapping\\person15_handclapping_d2_uncomp.mp4\n",
      "Moviepy - Building video ./KTH-Action-dataset/handclapping\\person15_handclapping_d3_uncomp.mp4.\n",
      "Moviepy - Writing video ./KTH-Action-dataset/handclapping\\person15_handclapping_d3_uncomp.mp4\n",
      "\n"
     ]
    },
    {
     "name": "stderr",
     "output_type": "stream",
     "text": [
      "                                                                                               \r"
     ]
    },
    {
     "name": "stdout",
     "output_type": "stream",
     "text": [
      "Moviepy - Done !\n",
      "Moviepy - video ready ./KTH-Action-dataset/handclapping\\person15_handclapping_d3_uncomp.mp4\n",
      "Moviepy - Building video ./KTH-Action-dataset/handclapping\\person15_handclapping_d4_uncomp.mp4.\n",
      "Moviepy - Writing video ./KTH-Action-dataset/handclapping\\person15_handclapping_d4_uncomp.mp4\n",
      "\n"
     ]
    },
    {
     "name": "stderr",
     "output_type": "stream",
     "text": [
      "                                                                                               \r"
     ]
    },
    {
     "name": "stdout",
     "output_type": "stream",
     "text": [
      "Moviepy - Done !\n",
      "Moviepy - video ready ./KTH-Action-dataset/handclapping\\person15_handclapping_d4_uncomp.mp4\n",
      "Moviepy - Building video ./KTH-Action-dataset/handclapping\\person16_handclapping_d1_uncomp.mp4.\n",
      "Moviepy - Writing video ./KTH-Action-dataset/handclapping\\person16_handclapping_d1_uncomp.mp4\n",
      "\n"
     ]
    },
    {
     "name": "stderr",
     "output_type": "stream",
     "text": [
      "                                                                                               \r"
     ]
    },
    {
     "name": "stdout",
     "output_type": "stream",
     "text": [
      "Moviepy - Done !\n",
      "Moviepy - video ready ./KTH-Action-dataset/handclapping\\person16_handclapping_d1_uncomp.mp4\n",
      "Moviepy - Building video ./KTH-Action-dataset/handclapping\\person16_handclapping_d2_uncomp.mp4.\n",
      "Moviepy - Writing video ./KTH-Action-dataset/handclapping\\person16_handclapping_d2_uncomp.mp4\n",
      "\n"
     ]
    },
    {
     "name": "stderr",
     "output_type": "stream",
     "text": [
      "                                                                                               \r"
     ]
    },
    {
     "name": "stdout",
     "output_type": "stream",
     "text": [
      "Moviepy - Done !\n",
      "Moviepy - video ready ./KTH-Action-dataset/handclapping\\person16_handclapping_d2_uncomp.mp4\n",
      "Moviepy - Building video ./KTH-Action-dataset/handclapping\\person16_handclapping_d3_uncomp.mp4.\n",
      "Moviepy - Writing video ./KTH-Action-dataset/handclapping\\person16_handclapping_d3_uncomp.mp4\n",
      "\n"
     ]
    },
    {
     "name": "stderr",
     "output_type": "stream",
     "text": [
      "                                                                                               \r"
     ]
    },
    {
     "name": "stdout",
     "output_type": "stream",
     "text": [
      "Moviepy - Done !\n",
      "Moviepy - video ready ./KTH-Action-dataset/handclapping\\person16_handclapping_d3_uncomp.mp4\n",
      "Moviepy - Building video ./KTH-Action-dataset/handclapping\\person16_handclapping_d4_uncomp.mp4.\n",
      "Moviepy - Writing video ./KTH-Action-dataset/handclapping\\person16_handclapping_d4_uncomp.mp4\n",
      "\n"
     ]
    },
    {
     "name": "stderr",
     "output_type": "stream",
     "text": [
      "                                                                                               \r"
     ]
    },
    {
     "name": "stdout",
     "output_type": "stream",
     "text": [
      "Moviepy - Done !\n",
      "Moviepy - video ready ./KTH-Action-dataset/handclapping\\person16_handclapping_d4_uncomp.mp4\n",
      "Moviepy - Building video ./KTH-Action-dataset/handclapping\\person17_handclapping_d1_uncomp.mp4.\n",
      "Moviepy - Writing video ./KTH-Action-dataset/handclapping\\person17_handclapping_d1_uncomp.mp4\n",
      "\n"
     ]
    },
    {
     "name": "stderr",
     "output_type": "stream",
     "text": [
      "                                                                                               \r"
     ]
    },
    {
     "name": "stdout",
     "output_type": "stream",
     "text": [
      "Moviepy - Done !\n",
      "Moviepy - video ready ./KTH-Action-dataset/handclapping\\person17_handclapping_d1_uncomp.mp4\n",
      "Moviepy - Building video ./KTH-Action-dataset/handclapping\\person17_handclapping_d2_uncomp.mp4.\n",
      "Moviepy - Writing video ./KTH-Action-dataset/handclapping\\person17_handclapping_d2_uncomp.mp4\n",
      "\n"
     ]
    },
    {
     "name": "stderr",
     "output_type": "stream",
     "text": [
      "                                                                                               \r"
     ]
    },
    {
     "name": "stdout",
     "output_type": "stream",
     "text": [
      "Moviepy - Done !\n",
      "Moviepy - video ready ./KTH-Action-dataset/handclapping\\person17_handclapping_d2_uncomp.mp4\n",
      "Moviepy - Building video ./KTH-Action-dataset/handclapping\\person17_handclapping_d3_uncomp.mp4.\n",
      "Moviepy - Writing video ./KTH-Action-dataset/handclapping\\person17_handclapping_d3_uncomp.mp4\n",
      "\n"
     ]
    },
    {
     "name": "stderr",
     "output_type": "stream",
     "text": [
      "                                                                                               \r"
     ]
    },
    {
     "name": "stdout",
     "output_type": "stream",
     "text": [
      "Moviepy - Done !\n",
      "Moviepy - video ready ./KTH-Action-dataset/handclapping\\person17_handclapping_d3_uncomp.mp4\n",
      "Moviepy - Building video ./KTH-Action-dataset/handclapping\\person17_handclapping_d4_uncomp.mp4.\n",
      "Moviepy - Writing video ./KTH-Action-dataset/handclapping\\person17_handclapping_d4_uncomp.mp4\n",
      "\n"
     ]
    },
    {
     "name": "stderr",
     "output_type": "stream",
     "text": [
      "                                                                                               \r"
     ]
    },
    {
     "name": "stdout",
     "output_type": "stream",
     "text": [
      "Moviepy - Done !\n",
      "Moviepy - video ready ./KTH-Action-dataset/handclapping\\person17_handclapping_d4_uncomp.mp4\n",
      "Moviepy - Building video ./KTH-Action-dataset/handclapping\\person18_handclapping_d1_uncomp.mp4.\n",
      "Moviepy - Writing video ./KTH-Action-dataset/handclapping\\person18_handclapping_d1_uncomp.mp4\n",
      "\n"
     ]
    },
    {
     "name": "stderr",
     "output_type": "stream",
     "text": [
      "                                                                                               \r"
     ]
    },
    {
     "name": "stdout",
     "output_type": "stream",
     "text": [
      "Moviepy - Done !\n",
      "Moviepy - video ready ./KTH-Action-dataset/handclapping\\person18_handclapping_d1_uncomp.mp4\n",
      "Moviepy - Building video ./KTH-Action-dataset/handclapping\\person18_handclapping_d2_uncomp.mp4.\n",
      "Moviepy - Writing video ./KTH-Action-dataset/handclapping\\person18_handclapping_d2_uncomp.mp4\n",
      "\n"
     ]
    },
    {
     "name": "stderr",
     "output_type": "stream",
     "text": [
      "                                                                                               \r"
     ]
    },
    {
     "name": "stdout",
     "output_type": "stream",
     "text": [
      "Moviepy - Done !\n",
      "Moviepy - video ready ./KTH-Action-dataset/handclapping\\person18_handclapping_d2_uncomp.mp4\n",
      "Moviepy - Building video ./KTH-Action-dataset/handclapping\\person18_handclapping_d3_uncomp.mp4.\n",
      "Moviepy - Writing video ./KTH-Action-dataset/handclapping\\person18_handclapping_d3_uncomp.mp4\n",
      "\n"
     ]
    },
    {
     "name": "stderr",
     "output_type": "stream",
     "text": [
      "                                                                                               \r"
     ]
    },
    {
     "name": "stdout",
     "output_type": "stream",
     "text": [
      "Moviepy - Done !\n",
      "Moviepy - video ready ./KTH-Action-dataset/handclapping\\person18_handclapping_d3_uncomp.mp4\n",
      "Moviepy - Building video ./KTH-Action-dataset/handclapping\\person18_handclapping_d4_uncomp.mp4.\n",
      "Moviepy - Writing video ./KTH-Action-dataset/handclapping\\person18_handclapping_d4_uncomp.mp4\n",
      "\n"
     ]
    },
    {
     "name": "stderr",
     "output_type": "stream",
     "text": [
      "                                                                                               \r"
     ]
    },
    {
     "name": "stdout",
     "output_type": "stream",
     "text": [
      "Moviepy - Done !\n",
      "Moviepy - video ready ./KTH-Action-dataset/handclapping\\person18_handclapping_d4_uncomp.mp4\n",
      "Moviepy - Building video ./KTH-Action-dataset/handclapping\\person19_handclapping_d1_uncomp.mp4.\n",
      "Moviepy - Writing video ./KTH-Action-dataset/handclapping\\person19_handclapping_d1_uncomp.mp4\n",
      "\n"
     ]
    },
    {
     "name": "stderr",
     "output_type": "stream",
     "text": [
      "                                                                                               \r"
     ]
    },
    {
     "name": "stdout",
     "output_type": "stream",
     "text": [
      "Moviepy - Done !\n",
      "Moviepy - video ready ./KTH-Action-dataset/handclapping\\person19_handclapping_d1_uncomp.mp4\n",
      "Moviepy - Building video ./KTH-Action-dataset/handclapping\\person19_handclapping_d2_uncomp.mp4.\n",
      "Moviepy - Writing video ./KTH-Action-dataset/handclapping\\person19_handclapping_d2_uncomp.mp4\n",
      "\n"
     ]
    },
    {
     "name": "stderr",
     "output_type": "stream",
     "text": [
      "                                                                                               \r"
     ]
    },
    {
     "name": "stdout",
     "output_type": "stream",
     "text": [
      "Moviepy - Done !\n",
      "Moviepy - video ready ./KTH-Action-dataset/handclapping\\person19_handclapping_d2_uncomp.mp4\n",
      "Moviepy - Building video ./KTH-Action-dataset/handclapping\\person19_handclapping_d3_uncomp.mp4.\n",
      "Moviepy - Writing video ./KTH-Action-dataset/handclapping\\person19_handclapping_d3_uncomp.mp4\n",
      "\n"
     ]
    },
    {
     "name": "stderr",
     "output_type": "stream",
     "text": [
      "                                                                                               \r"
     ]
    },
    {
     "name": "stdout",
     "output_type": "stream",
     "text": [
      "Moviepy - Done !\n",
      "Moviepy - video ready ./KTH-Action-dataset/handclapping\\person19_handclapping_d3_uncomp.mp4\n",
      "Moviepy - Building video ./KTH-Action-dataset/handclapping\\person19_handclapping_d4_uncomp.mp4.\n",
      "Moviepy - Writing video ./KTH-Action-dataset/handclapping\\person19_handclapping_d4_uncomp.mp4\n",
      "\n"
     ]
    },
    {
     "name": "stderr",
     "output_type": "stream",
     "text": [
      "                                                                                               \r"
     ]
    },
    {
     "name": "stdout",
     "output_type": "stream",
     "text": [
      "Moviepy - Done !\n",
      "Moviepy - video ready ./KTH-Action-dataset/handclapping\\person19_handclapping_d4_uncomp.mp4\n",
      "Moviepy - Building video ./KTH-Action-dataset/handclapping\\person20_handclapping_d1_uncomp.mp4.\n",
      "Moviepy - Writing video ./KTH-Action-dataset/handclapping\\person20_handclapping_d1_uncomp.mp4\n",
      "\n"
     ]
    },
    {
     "name": "stderr",
     "output_type": "stream",
     "text": [
      "                                                                                               \r"
     ]
    },
    {
     "name": "stdout",
     "output_type": "stream",
     "text": [
      "Moviepy - Done !\n",
      "Moviepy - video ready ./KTH-Action-dataset/handclapping\\person20_handclapping_d1_uncomp.mp4\n",
      "Moviepy - Building video ./KTH-Action-dataset/handclapping\\person20_handclapping_d2_uncomp.mp4.\n",
      "Moviepy - Writing video ./KTH-Action-dataset/handclapping\\person20_handclapping_d2_uncomp.mp4\n",
      "\n"
     ]
    },
    {
     "name": "stderr",
     "output_type": "stream",
     "text": [
      "                                                                                               \r"
     ]
    },
    {
     "name": "stdout",
     "output_type": "stream",
     "text": [
      "Moviepy - Done !\n",
      "Moviepy - video ready ./KTH-Action-dataset/handclapping\\person20_handclapping_d2_uncomp.mp4\n",
      "Moviepy - Building video ./KTH-Action-dataset/handclapping\\person20_handclapping_d3_uncomp.mp4.\n",
      "Moviepy - Writing video ./KTH-Action-dataset/handclapping\\person20_handclapping_d3_uncomp.mp4\n",
      "\n"
     ]
    },
    {
     "name": "stderr",
     "output_type": "stream",
     "text": [
      "                                                                                               \r"
     ]
    },
    {
     "name": "stdout",
     "output_type": "stream",
     "text": [
      "Moviepy - Done !\n",
      "Moviepy - video ready ./KTH-Action-dataset/handclapping\\person20_handclapping_d3_uncomp.mp4\n",
      "Moviepy - Building video ./KTH-Action-dataset/handclapping\\person20_handclapping_d4_uncomp.mp4.\n",
      "Moviepy - Writing video ./KTH-Action-dataset/handclapping\\person20_handclapping_d4_uncomp.mp4\n",
      "\n"
     ]
    },
    {
     "name": "stderr",
     "output_type": "stream",
     "text": [
      "                                                                                               \r"
     ]
    },
    {
     "name": "stdout",
     "output_type": "stream",
     "text": [
      "Moviepy - Done !\n",
      "Moviepy - video ready ./KTH-Action-dataset/handclapping\\person20_handclapping_d4_uncomp.mp4\n",
      "Moviepy - Building video ./KTH-Action-dataset/handclapping\\person21_handclapping_d1_uncomp.mp4.\n",
      "Moviepy - Writing video ./KTH-Action-dataset/handclapping\\person21_handclapping_d1_uncomp.mp4\n",
      "\n"
     ]
    },
    {
     "name": "stderr",
     "output_type": "stream",
     "text": [
      "                                                                                               \r"
     ]
    },
    {
     "name": "stdout",
     "output_type": "stream",
     "text": [
      "Moviepy - Done !\n",
      "Moviepy - video ready ./KTH-Action-dataset/handclapping\\person21_handclapping_d1_uncomp.mp4\n",
      "Moviepy - Building video ./KTH-Action-dataset/handclapping\\person21_handclapping_d2_uncomp.mp4.\n",
      "Moviepy - Writing video ./KTH-Action-dataset/handclapping\\person21_handclapping_d2_uncomp.mp4\n",
      "\n"
     ]
    },
    {
     "name": "stderr",
     "output_type": "stream",
     "text": [
      "                                                                                               \r"
     ]
    },
    {
     "name": "stdout",
     "output_type": "stream",
     "text": [
      "Moviepy - Done !\n",
      "Moviepy - video ready ./KTH-Action-dataset/handclapping\\person21_handclapping_d2_uncomp.mp4\n",
      "Moviepy - Building video ./KTH-Action-dataset/handclapping\\person21_handclapping_d3_uncomp.mp4.\n",
      "Moviepy - Writing video ./KTH-Action-dataset/handclapping\\person21_handclapping_d3_uncomp.mp4\n",
      "\n"
     ]
    },
    {
     "name": "stderr",
     "output_type": "stream",
     "text": [
      "                                                                                               \r"
     ]
    },
    {
     "name": "stdout",
     "output_type": "stream",
     "text": [
      "Moviepy - Done !\n",
      "Moviepy - video ready ./KTH-Action-dataset/handclapping\\person21_handclapping_d3_uncomp.mp4\n",
      "Moviepy - Building video ./KTH-Action-dataset/handclapping\\person21_handclapping_d4_uncomp.mp4.\n",
      "Moviepy - Writing video ./KTH-Action-dataset/handclapping\\person21_handclapping_d4_uncomp.mp4\n",
      "\n"
     ]
    },
    {
     "name": "stderr",
     "output_type": "stream",
     "text": [
      "                                                                                               \r"
     ]
    },
    {
     "name": "stdout",
     "output_type": "stream",
     "text": [
      "Moviepy - Done !\n",
      "Moviepy - video ready ./KTH-Action-dataset/handclapping\\person21_handclapping_d4_uncomp.mp4\n",
      "Moviepy - Building video ./KTH-Action-dataset/handclapping\\person22_handclapping_d1_uncomp.mp4.\n",
      "Moviepy - Writing video ./KTH-Action-dataset/handclapping\\person22_handclapping_d1_uncomp.mp4\n",
      "\n"
     ]
    },
    {
     "name": "stderr",
     "output_type": "stream",
     "text": [
      "                                                                                               \r"
     ]
    },
    {
     "name": "stdout",
     "output_type": "stream",
     "text": [
      "Moviepy - Done !\n",
      "Moviepy - video ready ./KTH-Action-dataset/handclapping\\person22_handclapping_d1_uncomp.mp4\n",
      "Moviepy - Building video ./KTH-Action-dataset/handclapping\\person22_handclapping_d2_uncomp.mp4.\n",
      "Moviepy - Writing video ./KTH-Action-dataset/handclapping\\person22_handclapping_d2_uncomp.mp4\n",
      "\n"
     ]
    },
    {
     "name": "stderr",
     "output_type": "stream",
     "text": [
      "                                                                                               \r"
     ]
    },
    {
     "name": "stdout",
     "output_type": "stream",
     "text": [
      "Moviepy - Done !\n",
      "Moviepy - video ready ./KTH-Action-dataset/handclapping\\person22_handclapping_d2_uncomp.mp4\n",
      "Moviepy - Building video ./KTH-Action-dataset/handclapping\\person22_handclapping_d3_uncomp.mp4.\n",
      "Moviepy - Writing video ./KTH-Action-dataset/handclapping\\person22_handclapping_d3_uncomp.mp4\n",
      "\n"
     ]
    },
    {
     "name": "stderr",
     "output_type": "stream",
     "text": [
      "                                                                                               \r"
     ]
    },
    {
     "name": "stdout",
     "output_type": "stream",
     "text": [
      "Moviepy - Done !\n",
      "Moviepy - video ready ./KTH-Action-dataset/handclapping\\person22_handclapping_d3_uncomp.mp4\n",
      "Moviepy - Building video ./KTH-Action-dataset/handclapping\\person22_handclapping_d4_uncomp.mp4.\n",
      "Moviepy - Writing video ./KTH-Action-dataset/handclapping\\person22_handclapping_d4_uncomp.mp4\n",
      "\n"
     ]
    },
    {
     "name": "stderr",
     "output_type": "stream",
     "text": [
      "                                                                                               \r"
     ]
    },
    {
     "name": "stdout",
     "output_type": "stream",
     "text": [
      "Moviepy - Done !\n",
      "Moviepy - video ready ./KTH-Action-dataset/handclapping\\person22_handclapping_d4_uncomp.mp4\n",
      "Moviepy - Building video ./KTH-Action-dataset/handclapping\\person23_handclapping_d1_uncomp.mp4.\n",
      "Moviepy - Writing video ./KTH-Action-dataset/handclapping\\person23_handclapping_d1_uncomp.mp4\n",
      "\n"
     ]
    },
    {
     "name": "stderr",
     "output_type": "stream",
     "text": [
      "                                                                                               \r"
     ]
    },
    {
     "name": "stdout",
     "output_type": "stream",
     "text": [
      "Moviepy - Done !\n",
      "Moviepy - video ready ./KTH-Action-dataset/handclapping\\person23_handclapping_d1_uncomp.mp4\n",
      "Moviepy - Building video ./KTH-Action-dataset/handclapping\\person23_handclapping_d2_uncomp.mp4.\n",
      "Moviepy - Writing video ./KTH-Action-dataset/handclapping\\person23_handclapping_d2_uncomp.mp4\n",
      "\n"
     ]
    },
    {
     "name": "stderr",
     "output_type": "stream",
     "text": [
      "                                                                                               \r"
     ]
    },
    {
     "name": "stdout",
     "output_type": "stream",
     "text": [
      "Moviepy - Done !\n",
      "Moviepy - video ready ./KTH-Action-dataset/handclapping\\person23_handclapping_d2_uncomp.mp4\n",
      "Moviepy - Building video ./KTH-Action-dataset/handclapping\\person23_handclapping_d3_uncomp.mp4.\n",
      "Moviepy - Writing video ./KTH-Action-dataset/handclapping\\person23_handclapping_d3_uncomp.mp4\n",
      "\n"
     ]
    },
    {
     "name": "stderr",
     "output_type": "stream",
     "text": [
      "                                                                                               \r"
     ]
    },
    {
     "name": "stdout",
     "output_type": "stream",
     "text": [
      "Moviepy - Done !\n",
      "Moviepy - video ready ./KTH-Action-dataset/handclapping\\person23_handclapping_d3_uncomp.mp4\n",
      "Moviepy - Building video ./KTH-Action-dataset/handclapping\\person23_handclapping_d4_uncomp.mp4.\n",
      "Moviepy - Writing video ./KTH-Action-dataset/handclapping\\person23_handclapping_d4_uncomp.mp4\n",
      "\n"
     ]
    },
    {
     "name": "stderr",
     "output_type": "stream",
     "text": [
      "                                                                                               \r"
     ]
    },
    {
     "name": "stdout",
     "output_type": "stream",
     "text": [
      "Moviepy - Done !\n",
      "Moviepy - video ready ./KTH-Action-dataset/handclapping\\person23_handclapping_d4_uncomp.mp4\n",
      "Moviepy - Building video ./KTH-Action-dataset/handclapping\\person24_handclapping_d1_uncomp.mp4.\n",
      "Moviepy - Writing video ./KTH-Action-dataset/handclapping\\person24_handclapping_d1_uncomp.mp4\n",
      "\n"
     ]
    },
    {
     "name": "stderr",
     "output_type": "stream",
     "text": [
      "                                                                                               \r"
     ]
    },
    {
     "name": "stdout",
     "output_type": "stream",
     "text": [
      "Moviepy - Done !\n",
      "Moviepy - video ready ./KTH-Action-dataset/handclapping\\person24_handclapping_d1_uncomp.mp4\n",
      "Moviepy - Building video ./KTH-Action-dataset/handclapping\\person24_handclapping_d2_uncomp.mp4.\n",
      "Moviepy - Writing video ./KTH-Action-dataset/handclapping\\person24_handclapping_d2_uncomp.mp4\n",
      "\n"
     ]
    },
    {
     "name": "stderr",
     "output_type": "stream",
     "text": [
      "                                                                                               \r"
     ]
    },
    {
     "name": "stdout",
     "output_type": "stream",
     "text": [
      "Moviepy - Done !\n",
      "Moviepy - video ready ./KTH-Action-dataset/handclapping\\person24_handclapping_d2_uncomp.mp4\n",
      "Moviepy - Building video ./KTH-Action-dataset/handclapping\\person24_handclapping_d3_uncomp.mp4.\n",
      "Moviepy - Writing video ./KTH-Action-dataset/handclapping\\person24_handclapping_d3_uncomp.mp4\n",
      "\n"
     ]
    },
    {
     "name": "stderr",
     "output_type": "stream",
     "text": [
      "                                                                                               \r"
     ]
    },
    {
     "name": "stdout",
     "output_type": "stream",
     "text": [
      "Moviepy - Done !\n",
      "Moviepy - video ready ./KTH-Action-dataset/handclapping\\person24_handclapping_d3_uncomp.mp4\n",
      "Moviepy - Building video ./KTH-Action-dataset/handclapping\\person24_handclapping_d4_uncomp.mp4.\n",
      "Moviepy - Writing video ./KTH-Action-dataset/handclapping\\person24_handclapping_d4_uncomp.mp4\n",
      "\n"
     ]
    },
    {
     "name": "stderr",
     "output_type": "stream",
     "text": [
      "                                                                                               \r"
     ]
    },
    {
     "name": "stdout",
     "output_type": "stream",
     "text": [
      "Moviepy - Done !\n",
      "Moviepy - video ready ./KTH-Action-dataset/handclapping\\person24_handclapping_d4_uncomp.mp4\n",
      "Moviepy - Building video ./KTH-Action-dataset/handclapping\\person25_handclapping_d1_uncomp.mp4.\n",
      "Moviepy - Writing video ./KTH-Action-dataset/handclapping\\person25_handclapping_d1_uncomp.mp4\n",
      "\n"
     ]
    },
    {
     "name": "stderr",
     "output_type": "stream",
     "text": [
      "                                                                                               \r"
     ]
    },
    {
     "name": "stdout",
     "output_type": "stream",
     "text": [
      "Moviepy - Done !\n",
      "Moviepy - video ready ./KTH-Action-dataset/handclapping\\person25_handclapping_d1_uncomp.mp4\n",
      "Moviepy - Building video ./KTH-Action-dataset/handclapping\\person25_handclapping_d2_uncomp.mp4.\n",
      "Moviepy - Writing video ./KTH-Action-dataset/handclapping\\person25_handclapping_d2_uncomp.mp4\n",
      "\n"
     ]
    },
    {
     "name": "stderr",
     "output_type": "stream",
     "text": [
      "                                                                                               \r"
     ]
    },
    {
     "name": "stdout",
     "output_type": "stream",
     "text": [
      "Moviepy - Done !\n",
      "Moviepy - video ready ./KTH-Action-dataset/handclapping\\person25_handclapping_d2_uncomp.mp4\n",
      "Moviepy - Building video ./KTH-Action-dataset/handclapping\\person25_handclapping_d3_uncomp.mp4.\n",
      "Moviepy - Writing video ./KTH-Action-dataset/handclapping\\person25_handclapping_d3_uncomp.mp4\n",
      "\n"
     ]
    },
    {
     "name": "stderr",
     "output_type": "stream",
     "text": [
      "                                                                                               \r"
     ]
    },
    {
     "name": "stdout",
     "output_type": "stream",
     "text": [
      "Moviepy - Done !\n",
      "Moviepy - video ready ./KTH-Action-dataset/handclapping\\person25_handclapping_d3_uncomp.mp4\n",
      "Moviepy - Building video ./KTH-Action-dataset/handclapping\\person25_handclapping_d4_uncomp.mp4.\n",
      "Moviepy - Writing video ./KTH-Action-dataset/handclapping\\person25_handclapping_d4_uncomp.mp4\n",
      "\n"
     ]
    },
    {
     "name": "stderr",
     "output_type": "stream",
     "text": [
      "                                                                                               \r"
     ]
    },
    {
     "name": "stdout",
     "output_type": "stream",
     "text": [
      "Moviepy - Done !\n",
      "Moviepy - video ready ./KTH-Action-dataset/handclapping\\person25_handclapping_d4_uncomp.mp4\n"
     ]
    },
    {
     "name": "stderr",
     "output_type": "stream",
     "text": [
      "100% |########################################################################|\n"
     ]
    },
    {
     "name": "stdout",
     "output_type": "stream",
     "text": [
      "Moviepy - Building video ./KTH-Action-dataset/handwaving\\person01_handwaving_d1_uncomp.mp4.\n",
      "Moviepy - Writing video ./KTH-Action-dataset/handwaving\\person01_handwaving_d1_uncomp.mp4\n",
      "\n"
     ]
    },
    {
     "name": "stderr",
     "output_type": "stream",
     "text": [
      "                                                                                               \r"
     ]
    },
    {
     "name": "stdout",
     "output_type": "stream",
     "text": [
      "Moviepy - Done !\n",
      "Moviepy - video ready ./KTH-Action-dataset/handwaving\\person01_handwaving_d1_uncomp.mp4\n",
      "Moviepy - Building video ./KTH-Action-dataset/handwaving\\person01_handwaving_d2_uncomp.mp4.\n",
      "Moviepy - Writing video ./KTH-Action-dataset/handwaving\\person01_handwaving_d2_uncomp.mp4\n",
      "\n"
     ]
    },
    {
     "name": "stderr",
     "output_type": "stream",
     "text": [
      "                                                                                               \r"
     ]
    },
    {
     "name": "stdout",
     "output_type": "stream",
     "text": [
      "Moviepy - Done !\n",
      "Moviepy - video ready ./KTH-Action-dataset/handwaving\\person01_handwaving_d2_uncomp.mp4\n",
      "Moviepy - Building video ./KTH-Action-dataset/handwaving\\person01_handwaving_d3_uncomp.mp4.\n",
      "Moviepy - Writing video ./KTH-Action-dataset/handwaving\\person01_handwaving_d3_uncomp.mp4\n",
      "\n"
     ]
    },
    {
     "name": "stderr",
     "output_type": "stream",
     "text": [
      "                                                                                               \r"
     ]
    },
    {
     "name": "stdout",
     "output_type": "stream",
     "text": [
      "Moviepy - Done !\n",
      "Moviepy - video ready ./KTH-Action-dataset/handwaving\\person01_handwaving_d3_uncomp.mp4\n",
      "Moviepy - Building video ./KTH-Action-dataset/handwaving\\person01_handwaving_d4_uncomp.mp4.\n",
      "Moviepy - Writing video ./KTH-Action-dataset/handwaving\\person01_handwaving_d4_uncomp.mp4\n",
      "\n"
     ]
    },
    {
     "name": "stderr",
     "output_type": "stream",
     "text": [
      "                                                                                               \r"
     ]
    },
    {
     "name": "stdout",
     "output_type": "stream",
     "text": [
      "Moviepy - Done !\n",
      "Moviepy - video ready ./KTH-Action-dataset/handwaving\\person01_handwaving_d4_uncomp.mp4\n",
      "Moviepy - Building video ./KTH-Action-dataset/handwaving\\person02_handwaving_d1_uncomp.mp4.\n",
      "Moviepy - Writing video ./KTH-Action-dataset/handwaving\\person02_handwaving_d1_uncomp.mp4\n",
      "\n"
     ]
    },
    {
     "name": "stderr",
     "output_type": "stream",
     "text": [
      "                                                                                               \r"
     ]
    },
    {
     "name": "stdout",
     "output_type": "stream",
     "text": [
      "Moviepy - Done !\n",
      "Moviepy - video ready ./KTH-Action-dataset/handwaving\\person02_handwaving_d1_uncomp.mp4\n",
      "Moviepy - Building video ./KTH-Action-dataset/handwaving\\person02_handwaving_d2_uncomp.mp4.\n",
      "Moviepy - Writing video ./KTH-Action-dataset/handwaving\\person02_handwaving_d2_uncomp.mp4\n",
      "\n"
     ]
    },
    {
     "name": "stderr",
     "output_type": "stream",
     "text": [
      "                                                                                               \r"
     ]
    },
    {
     "name": "stdout",
     "output_type": "stream",
     "text": [
      "Moviepy - Done !\n",
      "Moviepy - video ready ./KTH-Action-dataset/handwaving\\person02_handwaving_d2_uncomp.mp4\n",
      "Moviepy - Building video ./KTH-Action-dataset/handwaving\\person02_handwaving_d3_uncomp.mp4.\n",
      "Moviepy - Writing video ./KTH-Action-dataset/handwaving\\person02_handwaving_d3_uncomp.mp4\n",
      "\n"
     ]
    },
    {
     "name": "stderr",
     "output_type": "stream",
     "text": [
      "                                                                                               \r"
     ]
    },
    {
     "name": "stdout",
     "output_type": "stream",
     "text": [
      "Moviepy - Done !\n",
      "Moviepy - video ready ./KTH-Action-dataset/handwaving\\person02_handwaving_d3_uncomp.mp4\n",
      "Moviepy - Building video ./KTH-Action-dataset/handwaving\\person02_handwaving_d4_uncomp.mp4.\n",
      "Moviepy - Writing video ./KTH-Action-dataset/handwaving\\person02_handwaving_d4_uncomp.mp4\n",
      "\n"
     ]
    },
    {
     "name": "stderr",
     "output_type": "stream",
     "text": [
      "                                                                                               \r"
     ]
    },
    {
     "name": "stdout",
     "output_type": "stream",
     "text": [
      "Moviepy - Done !\n",
      "Moviepy - video ready ./KTH-Action-dataset/handwaving\\person02_handwaving_d4_uncomp.mp4\n",
      "Moviepy - Building video ./KTH-Action-dataset/handwaving\\person03_handwaving_d1_uncomp.mp4.\n",
      "Moviepy - Writing video ./KTH-Action-dataset/handwaving\\person03_handwaving_d1_uncomp.mp4\n",
      "\n"
     ]
    },
    {
     "name": "stderr",
     "output_type": "stream",
     "text": [
      "                                                                                               \r"
     ]
    },
    {
     "name": "stdout",
     "output_type": "stream",
     "text": [
      "Moviepy - Done !\n",
      "Moviepy - video ready ./KTH-Action-dataset/handwaving\\person03_handwaving_d1_uncomp.mp4\n",
      "Moviepy - Building video ./KTH-Action-dataset/handwaving\\person03_handwaving_d2_uncomp.mp4.\n",
      "Moviepy - Writing video ./KTH-Action-dataset/handwaving\\person03_handwaving_d2_uncomp.mp4\n",
      "\n"
     ]
    },
    {
     "name": "stderr",
     "output_type": "stream",
     "text": [
      "                                                                                               \r"
     ]
    },
    {
     "name": "stdout",
     "output_type": "stream",
     "text": [
      "Moviepy - Done !\n",
      "Moviepy - video ready ./KTH-Action-dataset/handwaving\\person03_handwaving_d2_uncomp.mp4\n",
      "Moviepy - Building video ./KTH-Action-dataset/handwaving\\person03_handwaving_d3_uncomp.mp4.\n",
      "Moviepy - Writing video ./KTH-Action-dataset/handwaving\\person03_handwaving_d3_uncomp.mp4\n",
      "\n"
     ]
    },
    {
     "name": "stderr",
     "output_type": "stream",
     "text": [
      "                                                                                               \r"
     ]
    },
    {
     "name": "stdout",
     "output_type": "stream",
     "text": [
      "Moviepy - Done !\n",
      "Moviepy - video ready ./KTH-Action-dataset/handwaving\\person03_handwaving_d3_uncomp.mp4\n",
      "Moviepy - Building video ./KTH-Action-dataset/handwaving\\person03_handwaving_d4_uncomp.mp4.\n",
      "Moviepy - Writing video ./KTH-Action-dataset/handwaving\\person03_handwaving_d4_uncomp.mp4\n",
      "\n"
     ]
    },
    {
     "name": "stderr",
     "output_type": "stream",
     "text": [
      "                                                                                               \r"
     ]
    },
    {
     "name": "stdout",
     "output_type": "stream",
     "text": [
      "Moviepy - Done !\n",
      "Moviepy - video ready ./KTH-Action-dataset/handwaving\\person03_handwaving_d4_uncomp.mp4\n",
      "Moviepy - Building video ./KTH-Action-dataset/handwaving\\person04_handwaving_d1_uncomp.mp4.\n",
      "Moviepy - Writing video ./KTH-Action-dataset/handwaving\\person04_handwaving_d1_uncomp.mp4\n",
      "\n"
     ]
    },
    {
     "name": "stderr",
     "output_type": "stream",
     "text": [
      "                                                                                               \r"
     ]
    },
    {
     "name": "stdout",
     "output_type": "stream",
     "text": [
      "Moviepy - Done !\n",
      "Moviepy - video ready ./KTH-Action-dataset/handwaving\\person04_handwaving_d1_uncomp.mp4\n",
      "Moviepy - Building video ./KTH-Action-dataset/handwaving\\person04_handwaving_d2_uncomp.mp4.\n",
      "Moviepy - Writing video ./KTH-Action-dataset/handwaving\\person04_handwaving_d2_uncomp.mp4\n",
      "\n"
     ]
    },
    {
     "name": "stderr",
     "output_type": "stream",
     "text": [
      "                                                                                               \r"
     ]
    },
    {
     "name": "stdout",
     "output_type": "stream",
     "text": [
      "Moviepy - Done !\n",
      "Moviepy - video ready ./KTH-Action-dataset/handwaving\\person04_handwaving_d2_uncomp.mp4\n",
      "Moviepy - Building video ./KTH-Action-dataset/handwaving\\person04_handwaving_d3_uncomp.mp4.\n",
      "Moviepy - Writing video ./KTH-Action-dataset/handwaving\\person04_handwaving_d3_uncomp.mp4\n",
      "\n"
     ]
    },
    {
     "name": "stderr",
     "output_type": "stream",
     "text": [
      "                                                                                               \r"
     ]
    },
    {
     "name": "stdout",
     "output_type": "stream",
     "text": [
      "Moviepy - Done !\n",
      "Moviepy - video ready ./KTH-Action-dataset/handwaving\\person04_handwaving_d3_uncomp.mp4\n",
      "Moviepy - Building video ./KTH-Action-dataset/handwaving\\person04_handwaving_d4_uncomp.mp4.\n",
      "Moviepy - Writing video ./KTH-Action-dataset/handwaving\\person04_handwaving_d4_uncomp.mp4\n",
      "\n"
     ]
    },
    {
     "name": "stderr",
     "output_type": "stream",
     "text": [
      "                                                                                               \r"
     ]
    },
    {
     "name": "stdout",
     "output_type": "stream",
     "text": [
      "Moviepy - Done !\n",
      "Moviepy - video ready ./KTH-Action-dataset/handwaving\\person04_handwaving_d4_uncomp.mp4\n",
      "Moviepy - Building video ./KTH-Action-dataset/handwaving\\person05_handwaving_d1_uncomp.mp4.\n",
      "Moviepy - Writing video ./KTH-Action-dataset/handwaving\\person05_handwaving_d1_uncomp.mp4\n",
      "\n"
     ]
    },
    {
     "name": "stderr",
     "output_type": "stream",
     "text": [
      "                                                                                               \r"
     ]
    },
    {
     "name": "stdout",
     "output_type": "stream",
     "text": [
      "Moviepy - Done !\n",
      "Moviepy - video ready ./KTH-Action-dataset/handwaving\\person05_handwaving_d1_uncomp.mp4\n",
      "Moviepy - Building video ./KTH-Action-dataset/handwaving\\person05_handwaving_d2_uncomp.mp4.\n",
      "Moviepy - Writing video ./KTH-Action-dataset/handwaving\\person05_handwaving_d2_uncomp.mp4\n",
      "\n"
     ]
    },
    {
     "name": "stderr",
     "output_type": "stream",
     "text": [
      "                                                                                               \r"
     ]
    },
    {
     "name": "stdout",
     "output_type": "stream",
     "text": [
      "Moviepy - Done !\n",
      "Moviepy - video ready ./KTH-Action-dataset/handwaving\\person05_handwaving_d2_uncomp.mp4\n",
      "Moviepy - Building video ./KTH-Action-dataset/handwaving\\person05_handwaving_d3_uncomp.mp4.\n",
      "Moviepy - Writing video ./KTH-Action-dataset/handwaving\\person05_handwaving_d3_uncomp.mp4\n",
      "\n"
     ]
    },
    {
     "name": "stderr",
     "output_type": "stream",
     "text": [
      "                                                                                               \r"
     ]
    },
    {
     "name": "stdout",
     "output_type": "stream",
     "text": [
      "Moviepy - Done !\n",
      "Moviepy - video ready ./KTH-Action-dataset/handwaving\\person05_handwaving_d3_uncomp.mp4\n",
      "Moviepy - Building video ./KTH-Action-dataset/handwaving\\person05_handwaving_d4_uncomp.mp4.\n",
      "Moviepy - Writing video ./KTH-Action-dataset/handwaving\\person05_handwaving_d4_uncomp.mp4\n",
      "\n"
     ]
    },
    {
     "name": "stderr",
     "output_type": "stream",
     "text": [
      "                                                                                               \r"
     ]
    },
    {
     "name": "stdout",
     "output_type": "stream",
     "text": [
      "Moviepy - Done !\n",
      "Moviepy - video ready ./KTH-Action-dataset/handwaving\\person05_handwaving_d4_uncomp.mp4\n",
      "Moviepy - Building video ./KTH-Action-dataset/handwaving\\person06_handwaving_d1_uncomp.mp4.\n",
      "Moviepy - Writing video ./KTH-Action-dataset/handwaving\\person06_handwaving_d1_uncomp.mp4\n",
      "\n"
     ]
    },
    {
     "name": "stderr",
     "output_type": "stream",
     "text": [
      "                                                                                               \r"
     ]
    },
    {
     "name": "stdout",
     "output_type": "stream",
     "text": [
      "Moviepy - Done !\n",
      "Moviepy - video ready ./KTH-Action-dataset/handwaving\\person06_handwaving_d1_uncomp.mp4\n",
      "Moviepy - Building video ./KTH-Action-dataset/handwaving\\person06_handwaving_d2_uncomp.mp4.\n",
      "Moviepy - Writing video ./KTH-Action-dataset/handwaving\\person06_handwaving_d2_uncomp.mp4\n",
      "\n"
     ]
    },
    {
     "name": "stderr",
     "output_type": "stream",
     "text": [
      "                                                                                               \r"
     ]
    },
    {
     "name": "stdout",
     "output_type": "stream",
     "text": [
      "Moviepy - Done !\n",
      "Moviepy - video ready ./KTH-Action-dataset/handwaving\\person06_handwaving_d2_uncomp.mp4\n",
      "Moviepy - Building video ./KTH-Action-dataset/handwaving\\person06_handwaving_d3_uncomp.mp4.\n",
      "Moviepy - Writing video ./KTH-Action-dataset/handwaving\\person06_handwaving_d3_uncomp.mp4\n",
      "\n"
     ]
    },
    {
     "name": "stderr",
     "output_type": "stream",
     "text": [
      "                                                                                               \r"
     ]
    },
    {
     "name": "stdout",
     "output_type": "stream",
     "text": [
      "Moviepy - Done !\n",
      "Moviepy - video ready ./KTH-Action-dataset/handwaving\\person06_handwaving_d3_uncomp.mp4\n",
      "Moviepy - Building video ./KTH-Action-dataset/handwaving\\person06_handwaving_d4_uncomp.mp4.\n",
      "Moviepy - Writing video ./KTH-Action-dataset/handwaving\\person06_handwaving_d4_uncomp.mp4\n",
      "\n"
     ]
    },
    {
     "name": "stderr",
     "output_type": "stream",
     "text": [
      "                                                                                               \r"
     ]
    },
    {
     "name": "stdout",
     "output_type": "stream",
     "text": [
      "Moviepy - Done !\n",
      "Moviepy - video ready ./KTH-Action-dataset/handwaving\\person06_handwaving_d4_uncomp.mp4\n",
      "Moviepy - Building video ./KTH-Action-dataset/handwaving\\person07_handwaving_d1_uncomp.mp4.\n",
      "Moviepy - Writing video ./KTH-Action-dataset/handwaving\\person07_handwaving_d1_uncomp.mp4\n",
      "\n"
     ]
    },
    {
     "name": "stderr",
     "output_type": "stream",
     "text": [
      "                                                                                               \r"
     ]
    },
    {
     "name": "stdout",
     "output_type": "stream",
     "text": [
      "Moviepy - Done !\n",
      "Moviepy - video ready ./KTH-Action-dataset/handwaving\\person07_handwaving_d1_uncomp.mp4\n",
      "Moviepy - Building video ./KTH-Action-dataset/handwaving\\person07_handwaving_d2_uncomp.mp4.\n",
      "Moviepy - Writing video ./KTH-Action-dataset/handwaving\\person07_handwaving_d2_uncomp.mp4\n",
      "\n"
     ]
    },
    {
     "name": "stderr",
     "output_type": "stream",
     "text": [
      "                                                                                               \r"
     ]
    },
    {
     "name": "stdout",
     "output_type": "stream",
     "text": [
      "Moviepy - Done !\n",
      "Moviepy - video ready ./KTH-Action-dataset/handwaving\\person07_handwaving_d2_uncomp.mp4\n",
      "Moviepy - Building video ./KTH-Action-dataset/handwaving\\person07_handwaving_d3_uncomp.mp4.\n",
      "Moviepy - Writing video ./KTH-Action-dataset/handwaving\\person07_handwaving_d3_uncomp.mp4\n",
      "\n"
     ]
    },
    {
     "name": "stderr",
     "output_type": "stream",
     "text": [
      "                                                                                               \r"
     ]
    },
    {
     "name": "stdout",
     "output_type": "stream",
     "text": [
      "Moviepy - Done !\n",
      "Moviepy - video ready ./KTH-Action-dataset/handwaving\\person07_handwaving_d3_uncomp.mp4\n",
      "Moviepy - Building video ./KTH-Action-dataset/handwaving\\person07_handwaving_d4_uncomp.mp4.\n",
      "Moviepy - Writing video ./KTH-Action-dataset/handwaving\\person07_handwaving_d4_uncomp.mp4\n",
      "\n"
     ]
    },
    {
     "name": "stderr",
     "output_type": "stream",
     "text": [
      "                                                                                               \r"
     ]
    },
    {
     "name": "stdout",
     "output_type": "stream",
     "text": [
      "Moviepy - Done !\n",
      "Moviepy - video ready ./KTH-Action-dataset/handwaving\\person07_handwaving_d4_uncomp.mp4\n",
      "Moviepy - Building video ./KTH-Action-dataset/handwaving\\person08_handwaving_d1_uncomp.mp4.\n",
      "Moviepy - Writing video ./KTH-Action-dataset/handwaving\\person08_handwaving_d1_uncomp.mp4\n",
      "\n"
     ]
    },
    {
     "name": "stderr",
     "output_type": "stream",
     "text": [
      "                                                                                               \r"
     ]
    },
    {
     "name": "stdout",
     "output_type": "stream",
     "text": [
      "Moviepy - Done !\n",
      "Moviepy - video ready ./KTH-Action-dataset/handwaving\\person08_handwaving_d1_uncomp.mp4\n",
      "Moviepy - Building video ./KTH-Action-dataset/handwaving\\person08_handwaving_d2_uncomp.mp4.\n",
      "Moviepy - Writing video ./KTH-Action-dataset/handwaving\\person08_handwaving_d2_uncomp.mp4\n",
      "\n"
     ]
    },
    {
     "name": "stderr",
     "output_type": "stream",
     "text": [
      "                                                                                               \r"
     ]
    },
    {
     "name": "stdout",
     "output_type": "stream",
     "text": [
      "Moviepy - Done !\n",
      "Moviepy - video ready ./KTH-Action-dataset/handwaving\\person08_handwaving_d2_uncomp.mp4\n",
      "Moviepy - Building video ./KTH-Action-dataset/handwaving\\person08_handwaving_d3_uncomp.mp4.\n",
      "Moviepy - Writing video ./KTH-Action-dataset/handwaving\\person08_handwaving_d3_uncomp.mp4\n",
      "\n"
     ]
    },
    {
     "name": "stderr",
     "output_type": "stream",
     "text": [
      "                                                                                               \r"
     ]
    },
    {
     "name": "stdout",
     "output_type": "stream",
     "text": [
      "Moviepy - Done !\n",
      "Moviepy - video ready ./KTH-Action-dataset/handwaving\\person08_handwaving_d3_uncomp.mp4\n",
      "Moviepy - Building video ./KTH-Action-dataset/handwaving\\person08_handwaving_d4_uncomp.mp4.\n",
      "Moviepy - Writing video ./KTH-Action-dataset/handwaving\\person08_handwaving_d4_uncomp.mp4\n",
      "\n"
     ]
    },
    {
     "name": "stderr",
     "output_type": "stream",
     "text": [
      "                                                                                               \r"
     ]
    },
    {
     "name": "stdout",
     "output_type": "stream",
     "text": [
      "Moviepy - Done !\n",
      "Moviepy - video ready ./KTH-Action-dataset/handwaving\\person08_handwaving_d4_uncomp.mp4\n",
      "Moviepy - Building video ./KTH-Action-dataset/handwaving\\person09_handwaving_d1_uncomp.mp4.\n",
      "Moviepy - Writing video ./KTH-Action-dataset/handwaving\\person09_handwaving_d1_uncomp.mp4\n",
      "\n"
     ]
    },
    {
     "name": "stderr",
     "output_type": "stream",
     "text": [
      "                                                                                               \r"
     ]
    },
    {
     "name": "stdout",
     "output_type": "stream",
     "text": [
      "Moviepy - Done !\n",
      "Moviepy - video ready ./KTH-Action-dataset/handwaving\\person09_handwaving_d1_uncomp.mp4\n",
      "Moviepy - Building video ./KTH-Action-dataset/handwaving\\person09_handwaving_d2_uncomp.mp4.\n",
      "Moviepy - Writing video ./KTH-Action-dataset/handwaving\\person09_handwaving_d2_uncomp.mp4\n",
      "\n"
     ]
    },
    {
     "name": "stderr",
     "output_type": "stream",
     "text": [
      "                                                                                               \r"
     ]
    },
    {
     "name": "stdout",
     "output_type": "stream",
     "text": [
      "Moviepy - Done !\n",
      "Moviepy - video ready ./KTH-Action-dataset/handwaving\\person09_handwaving_d2_uncomp.mp4\n",
      "Moviepy - Building video ./KTH-Action-dataset/handwaving\\person09_handwaving_d3_uncomp.mp4.\n",
      "Moviepy - Writing video ./KTH-Action-dataset/handwaving\\person09_handwaving_d3_uncomp.mp4\n",
      "\n"
     ]
    },
    {
     "name": "stderr",
     "output_type": "stream",
     "text": [
      "                                                                                               \r"
     ]
    },
    {
     "name": "stdout",
     "output_type": "stream",
     "text": [
      "Moviepy - Done !\n",
      "Moviepy - video ready ./KTH-Action-dataset/handwaving\\person09_handwaving_d3_uncomp.mp4\n",
      "Moviepy - Building video ./KTH-Action-dataset/handwaving\\person09_handwaving_d4_uncomp.mp4.\n",
      "Moviepy - Writing video ./KTH-Action-dataset/handwaving\\person09_handwaving_d4_uncomp.mp4\n",
      "\n"
     ]
    },
    {
     "name": "stderr",
     "output_type": "stream",
     "text": [
      "                                                                                               \r"
     ]
    },
    {
     "name": "stdout",
     "output_type": "stream",
     "text": [
      "Moviepy - Done !\n",
      "Moviepy - video ready ./KTH-Action-dataset/handwaving\\person09_handwaving_d4_uncomp.mp4\n",
      "Moviepy - Building video ./KTH-Action-dataset/handwaving\\person10_handwaving_d1_uncomp.mp4.\n",
      "Moviepy - Writing video ./KTH-Action-dataset/handwaving\\person10_handwaving_d1_uncomp.mp4\n",
      "\n"
     ]
    },
    {
     "name": "stderr",
     "output_type": "stream",
     "text": [
      "                                                                                               \r"
     ]
    },
    {
     "name": "stdout",
     "output_type": "stream",
     "text": [
      "Moviepy - Done !\n",
      "Moviepy - video ready ./KTH-Action-dataset/handwaving\\person10_handwaving_d1_uncomp.mp4\n",
      "Moviepy - Building video ./KTH-Action-dataset/handwaving\\person10_handwaving_d2_uncomp.mp4.\n",
      "Moviepy - Writing video ./KTH-Action-dataset/handwaving\\person10_handwaving_d2_uncomp.mp4\n",
      "\n"
     ]
    },
    {
     "name": "stderr",
     "output_type": "stream",
     "text": [
      "                                                                                               \r"
     ]
    },
    {
     "name": "stdout",
     "output_type": "stream",
     "text": [
      "Moviepy - Done !\n",
      "Moviepy - video ready ./KTH-Action-dataset/handwaving\\person10_handwaving_d2_uncomp.mp4\n",
      "Moviepy - Building video ./KTH-Action-dataset/handwaving\\person10_handwaving_d3_uncomp.mp4.\n",
      "Moviepy - Writing video ./KTH-Action-dataset/handwaving\\person10_handwaving_d3_uncomp.mp4\n",
      "\n"
     ]
    },
    {
     "name": "stderr",
     "output_type": "stream",
     "text": [
      "                                                                                               \r"
     ]
    },
    {
     "name": "stdout",
     "output_type": "stream",
     "text": [
      "Moviepy - Done !\n",
      "Moviepy - video ready ./KTH-Action-dataset/handwaving\\person10_handwaving_d3_uncomp.mp4\n",
      "Moviepy - Building video ./KTH-Action-dataset/handwaving\\person10_handwaving_d4_uncomp.mp4.\n",
      "Moviepy - Writing video ./KTH-Action-dataset/handwaving\\person10_handwaving_d4_uncomp.mp4\n",
      "\n"
     ]
    },
    {
     "name": "stderr",
     "output_type": "stream",
     "text": [
      "                                                                                               \r"
     ]
    },
    {
     "name": "stdout",
     "output_type": "stream",
     "text": [
      "Moviepy - Done !\n",
      "Moviepy - video ready ./KTH-Action-dataset/handwaving\\person10_handwaving_d4_uncomp.mp4\n",
      "Moviepy - Building video ./KTH-Action-dataset/handwaving\\person11_handwaving_d1_uncomp.mp4.\n",
      "Moviepy - Writing video ./KTH-Action-dataset/handwaving\\person11_handwaving_d1_uncomp.mp4\n",
      "\n"
     ]
    },
    {
     "name": "stderr",
     "output_type": "stream",
     "text": [
      "                                                                                               \r"
     ]
    },
    {
     "name": "stdout",
     "output_type": "stream",
     "text": [
      "Moviepy - Done !\n",
      "Moviepy - video ready ./KTH-Action-dataset/handwaving\\person11_handwaving_d1_uncomp.mp4\n",
      "Moviepy - Building video ./KTH-Action-dataset/handwaving\\person11_handwaving_d2_uncomp.mp4.\n",
      "Moviepy - Writing video ./KTH-Action-dataset/handwaving\\person11_handwaving_d2_uncomp.mp4\n",
      "\n"
     ]
    },
    {
     "name": "stderr",
     "output_type": "stream",
     "text": [
      "                                                                                               \r"
     ]
    },
    {
     "name": "stdout",
     "output_type": "stream",
     "text": [
      "Moviepy - Done !\n",
      "Moviepy - video ready ./KTH-Action-dataset/handwaving\\person11_handwaving_d2_uncomp.mp4\n",
      "Moviepy - Building video ./KTH-Action-dataset/handwaving\\person11_handwaving_d3_uncomp.mp4.\n",
      "Moviepy - Writing video ./KTH-Action-dataset/handwaving\\person11_handwaving_d3_uncomp.mp4\n",
      "\n"
     ]
    },
    {
     "name": "stderr",
     "output_type": "stream",
     "text": [
      "                                                                                               \r"
     ]
    },
    {
     "name": "stdout",
     "output_type": "stream",
     "text": [
      "Moviepy - Done !\n",
      "Moviepy - video ready ./KTH-Action-dataset/handwaving\\person11_handwaving_d3_uncomp.mp4\n",
      "Moviepy - Building video ./KTH-Action-dataset/handwaving\\person11_handwaving_d4_uncomp.mp4.\n",
      "Moviepy - Writing video ./KTH-Action-dataset/handwaving\\person11_handwaving_d4_uncomp.mp4\n",
      "\n"
     ]
    },
    {
     "name": "stderr",
     "output_type": "stream",
     "text": [
      "                                                                                               \r"
     ]
    },
    {
     "name": "stdout",
     "output_type": "stream",
     "text": [
      "Moviepy - Done !\n",
      "Moviepy - video ready ./KTH-Action-dataset/handwaving\\person11_handwaving_d4_uncomp.mp4\n",
      "Moviepy - Building video ./KTH-Action-dataset/handwaving\\person12_handwaving_d1_uncomp.mp4.\n",
      "Moviepy - Writing video ./KTH-Action-dataset/handwaving\\person12_handwaving_d1_uncomp.mp4\n",
      "\n"
     ]
    },
    {
     "name": "stderr",
     "output_type": "stream",
     "text": [
      "                                                                                               \r"
     ]
    },
    {
     "name": "stdout",
     "output_type": "stream",
     "text": [
      "Moviepy - Done !\n",
      "Moviepy - video ready ./KTH-Action-dataset/handwaving\\person12_handwaving_d1_uncomp.mp4\n",
      "Moviepy - Building video ./KTH-Action-dataset/handwaving\\person12_handwaving_d2_uncomp.mp4.\n",
      "Moviepy - Writing video ./KTH-Action-dataset/handwaving\\person12_handwaving_d2_uncomp.mp4\n",
      "\n"
     ]
    },
    {
     "name": "stderr",
     "output_type": "stream",
     "text": [
      "                                                                                               \r"
     ]
    },
    {
     "name": "stdout",
     "output_type": "stream",
     "text": [
      "Moviepy - Done !\n",
      "Moviepy - video ready ./KTH-Action-dataset/handwaving\\person12_handwaving_d2_uncomp.mp4\n",
      "Moviepy - Building video ./KTH-Action-dataset/handwaving\\person12_handwaving_d3_uncomp.mp4.\n",
      "Moviepy - Writing video ./KTH-Action-dataset/handwaving\\person12_handwaving_d3_uncomp.mp4\n",
      "\n"
     ]
    },
    {
     "name": "stderr",
     "output_type": "stream",
     "text": [
      "                                                                                               \r"
     ]
    },
    {
     "name": "stdout",
     "output_type": "stream",
     "text": [
      "Moviepy - Done !\n",
      "Moviepy - video ready ./KTH-Action-dataset/handwaving\\person12_handwaving_d3_uncomp.mp4\n",
      "Moviepy - Building video ./KTH-Action-dataset/handwaving\\person12_handwaving_d4_uncomp.mp4.\n",
      "Moviepy - Writing video ./KTH-Action-dataset/handwaving\\person12_handwaving_d4_uncomp.mp4\n",
      "\n"
     ]
    },
    {
     "name": "stderr",
     "output_type": "stream",
     "text": [
      "                                                                                               \r"
     ]
    },
    {
     "name": "stdout",
     "output_type": "stream",
     "text": [
      "Moviepy - Done !\n",
      "Moviepy - video ready ./KTH-Action-dataset/handwaving\\person12_handwaving_d4_uncomp.mp4\n",
      "Moviepy - Building video ./KTH-Action-dataset/handwaving\\person13_handwaving_d1_uncomp.mp4.\n",
      "Moviepy - Writing video ./KTH-Action-dataset/handwaving\\person13_handwaving_d1_uncomp.mp4\n",
      "\n"
     ]
    },
    {
     "name": "stderr",
     "output_type": "stream",
     "text": [
      "                                                                                               \r"
     ]
    },
    {
     "name": "stdout",
     "output_type": "stream",
     "text": [
      "Moviepy - Done !\n",
      "Moviepy - video ready ./KTH-Action-dataset/handwaving\\person13_handwaving_d1_uncomp.mp4\n",
      "Moviepy - Building video ./KTH-Action-dataset/handwaving\\person13_handwaving_d2_uncomp.mp4.\n",
      "Moviepy - Writing video ./KTH-Action-dataset/handwaving\\person13_handwaving_d2_uncomp.mp4\n",
      "\n"
     ]
    },
    {
     "name": "stderr",
     "output_type": "stream",
     "text": [
      "                                                                                               \r"
     ]
    },
    {
     "name": "stdout",
     "output_type": "stream",
     "text": [
      "Moviepy - Done !\n",
      "Moviepy - video ready ./KTH-Action-dataset/handwaving\\person13_handwaving_d2_uncomp.mp4\n",
      "Moviepy - Building video ./KTH-Action-dataset/handwaving\\person13_handwaving_d3_uncomp.mp4.\n",
      "Moviepy - Writing video ./KTH-Action-dataset/handwaving\\person13_handwaving_d3_uncomp.mp4\n",
      "\n"
     ]
    },
    {
     "name": "stderr",
     "output_type": "stream",
     "text": [
      "                                                                                               \r"
     ]
    },
    {
     "name": "stdout",
     "output_type": "stream",
     "text": [
      "Moviepy - Done !\n",
      "Moviepy - video ready ./KTH-Action-dataset/handwaving\\person13_handwaving_d3_uncomp.mp4\n",
      "Moviepy - Building video ./KTH-Action-dataset/handwaving\\person13_handwaving_d4_uncomp.mp4.\n",
      "Moviepy - Writing video ./KTH-Action-dataset/handwaving\\person13_handwaving_d4_uncomp.mp4\n",
      "\n"
     ]
    },
    {
     "name": "stderr",
     "output_type": "stream",
     "text": [
      "                                                                                               \r"
     ]
    },
    {
     "name": "stdout",
     "output_type": "stream",
     "text": [
      "Moviepy - Done !\n",
      "Moviepy - video ready ./KTH-Action-dataset/handwaving\\person13_handwaving_d4_uncomp.mp4\n",
      "Moviepy - Building video ./KTH-Action-dataset/handwaving\\person14_handwaving_d1_uncomp.mp4.\n",
      "Moviepy - Writing video ./KTH-Action-dataset/handwaving\\person14_handwaving_d1_uncomp.mp4\n",
      "\n"
     ]
    },
    {
     "name": "stderr",
     "output_type": "stream",
     "text": [
      "                                                                                               \r"
     ]
    },
    {
     "name": "stdout",
     "output_type": "stream",
     "text": [
      "Moviepy - Done !\n",
      "Moviepy - video ready ./KTH-Action-dataset/handwaving\\person14_handwaving_d1_uncomp.mp4\n",
      "Moviepy - Building video ./KTH-Action-dataset/handwaving\\person14_handwaving_d2_uncomp.mp4.\n",
      "Moviepy - Writing video ./KTH-Action-dataset/handwaving\\person14_handwaving_d2_uncomp.mp4\n",
      "\n"
     ]
    },
    {
     "name": "stderr",
     "output_type": "stream",
     "text": [
      "                                                                                               \r"
     ]
    },
    {
     "name": "stdout",
     "output_type": "stream",
     "text": [
      "Moviepy - Done !\n",
      "Moviepy - video ready ./KTH-Action-dataset/handwaving\\person14_handwaving_d2_uncomp.mp4\n",
      "Moviepy - Building video ./KTH-Action-dataset/handwaving\\person14_handwaving_d3_uncomp.mp4.\n",
      "Moviepy - Writing video ./KTH-Action-dataset/handwaving\\person14_handwaving_d3_uncomp.mp4\n",
      "\n"
     ]
    },
    {
     "name": "stderr",
     "output_type": "stream",
     "text": [
      "                                                                                               \r"
     ]
    },
    {
     "name": "stdout",
     "output_type": "stream",
     "text": [
      "Moviepy - Done !\n",
      "Moviepy - video ready ./KTH-Action-dataset/handwaving\\person14_handwaving_d3_uncomp.mp4\n",
      "Moviepy - Building video ./KTH-Action-dataset/handwaving\\person14_handwaving_d4_uncomp.mp4.\n",
      "Moviepy - Writing video ./KTH-Action-dataset/handwaving\\person14_handwaving_d4_uncomp.mp4\n",
      "\n"
     ]
    },
    {
     "name": "stderr",
     "output_type": "stream",
     "text": [
      "                                                                                               \r"
     ]
    },
    {
     "name": "stdout",
     "output_type": "stream",
     "text": [
      "Moviepy - Done !\n",
      "Moviepy - video ready ./KTH-Action-dataset/handwaving\\person14_handwaving_d4_uncomp.mp4\n",
      "Moviepy - Building video ./KTH-Action-dataset/handwaving\\person15_handwaving_d1_uncomp.mp4.\n",
      "Moviepy - Writing video ./KTH-Action-dataset/handwaving\\person15_handwaving_d1_uncomp.mp4\n",
      "\n"
     ]
    },
    {
     "name": "stderr",
     "output_type": "stream",
     "text": [
      "                                                                                               \r"
     ]
    },
    {
     "name": "stdout",
     "output_type": "stream",
     "text": [
      "Moviepy - Done !\n",
      "Moviepy - video ready ./KTH-Action-dataset/handwaving\\person15_handwaving_d1_uncomp.mp4\n",
      "Moviepy - Building video ./KTH-Action-dataset/handwaving\\person15_handwaving_d2_uncomp.mp4.\n",
      "Moviepy - Writing video ./KTH-Action-dataset/handwaving\\person15_handwaving_d2_uncomp.mp4\n",
      "\n"
     ]
    },
    {
     "name": "stderr",
     "output_type": "stream",
     "text": [
      "                                                                                               \r"
     ]
    },
    {
     "name": "stdout",
     "output_type": "stream",
     "text": [
      "Moviepy - Done !\n",
      "Moviepy - video ready ./KTH-Action-dataset/handwaving\\person15_handwaving_d2_uncomp.mp4\n",
      "Moviepy - Building video ./KTH-Action-dataset/handwaving\\person15_handwaving_d3_uncomp.mp4.\n",
      "Moviepy - Writing video ./KTH-Action-dataset/handwaving\\person15_handwaving_d3_uncomp.mp4\n",
      "\n"
     ]
    },
    {
     "name": "stderr",
     "output_type": "stream",
     "text": [
      "                                                                                               \r"
     ]
    },
    {
     "name": "stdout",
     "output_type": "stream",
     "text": [
      "Moviepy - Done !\n",
      "Moviepy - video ready ./KTH-Action-dataset/handwaving\\person15_handwaving_d3_uncomp.mp4\n",
      "Moviepy - Building video ./KTH-Action-dataset/handwaving\\person15_handwaving_d4_uncomp.mp4.\n",
      "Moviepy - Writing video ./KTH-Action-dataset/handwaving\\person15_handwaving_d4_uncomp.mp4\n",
      "\n"
     ]
    },
    {
     "name": "stderr",
     "output_type": "stream",
     "text": [
      "                                                                                               \r"
     ]
    },
    {
     "name": "stdout",
     "output_type": "stream",
     "text": [
      "Moviepy - Done !\n",
      "Moviepy - video ready ./KTH-Action-dataset/handwaving\\person15_handwaving_d4_uncomp.mp4\n",
      "Moviepy - Building video ./KTH-Action-dataset/handwaving\\person16_handwaving_d1_uncomp.mp4.\n",
      "Moviepy - Writing video ./KTH-Action-dataset/handwaving\\person16_handwaving_d1_uncomp.mp4\n",
      "\n"
     ]
    },
    {
     "name": "stderr",
     "output_type": "stream",
     "text": [
      "                                                                                               \r"
     ]
    },
    {
     "name": "stdout",
     "output_type": "stream",
     "text": [
      "Moviepy - Done !\n",
      "Moviepy - video ready ./KTH-Action-dataset/handwaving\\person16_handwaving_d1_uncomp.mp4\n",
      "Moviepy - Building video ./KTH-Action-dataset/handwaving\\person16_handwaving_d2_uncomp.mp4.\n",
      "Moviepy - Writing video ./KTH-Action-dataset/handwaving\\person16_handwaving_d2_uncomp.mp4\n",
      "\n"
     ]
    },
    {
     "name": "stderr",
     "output_type": "stream",
     "text": [
      "                                                                                               \r"
     ]
    },
    {
     "name": "stdout",
     "output_type": "stream",
     "text": [
      "Moviepy - Done !\n",
      "Moviepy - video ready ./KTH-Action-dataset/handwaving\\person16_handwaving_d2_uncomp.mp4\n",
      "Moviepy - Building video ./KTH-Action-dataset/handwaving\\person16_handwaving_d3_uncomp.mp4.\n",
      "Moviepy - Writing video ./KTH-Action-dataset/handwaving\\person16_handwaving_d3_uncomp.mp4\n",
      "\n"
     ]
    },
    {
     "name": "stderr",
     "output_type": "stream",
     "text": [
      "                                                                                               \r"
     ]
    },
    {
     "name": "stdout",
     "output_type": "stream",
     "text": [
      "Moviepy - Done !\n",
      "Moviepy - video ready ./KTH-Action-dataset/handwaving\\person16_handwaving_d3_uncomp.mp4\n",
      "Moviepy - Building video ./KTH-Action-dataset/handwaving\\person16_handwaving_d4_uncomp.mp4.\n",
      "Moviepy - Writing video ./KTH-Action-dataset/handwaving\\person16_handwaving_d4_uncomp.mp4\n",
      "\n"
     ]
    },
    {
     "name": "stderr",
     "output_type": "stream",
     "text": [
      "                                                                                               \r"
     ]
    },
    {
     "name": "stdout",
     "output_type": "stream",
     "text": [
      "Moviepy - Done !\n",
      "Moviepy - video ready ./KTH-Action-dataset/handwaving\\person16_handwaving_d4_uncomp.mp4\n",
      "Moviepy - Building video ./KTH-Action-dataset/handwaving\\person17_handwaving_d1_uncomp.mp4.\n",
      "Moviepy - Writing video ./KTH-Action-dataset/handwaving\\person17_handwaving_d1_uncomp.mp4\n",
      "\n"
     ]
    },
    {
     "name": "stderr",
     "output_type": "stream",
     "text": [
      "                                                                                               \r"
     ]
    },
    {
     "name": "stdout",
     "output_type": "stream",
     "text": [
      "Moviepy - Done !\n",
      "Moviepy - video ready ./KTH-Action-dataset/handwaving\\person17_handwaving_d1_uncomp.mp4\n",
      "Moviepy - Building video ./KTH-Action-dataset/handwaving\\person17_handwaving_d2_uncomp.mp4.\n",
      "Moviepy - Writing video ./KTH-Action-dataset/handwaving\\person17_handwaving_d2_uncomp.mp4\n",
      "\n"
     ]
    },
    {
     "name": "stderr",
     "output_type": "stream",
     "text": [
      "                                                                                               \r"
     ]
    },
    {
     "name": "stdout",
     "output_type": "stream",
     "text": [
      "Moviepy - Done !\n",
      "Moviepy - video ready ./KTH-Action-dataset/handwaving\\person17_handwaving_d2_uncomp.mp4\n",
      "Moviepy - Building video ./KTH-Action-dataset/handwaving\\person17_handwaving_d3_uncomp.mp4.\n",
      "Moviepy - Writing video ./KTH-Action-dataset/handwaving\\person17_handwaving_d3_uncomp.mp4\n",
      "\n"
     ]
    },
    {
     "name": "stderr",
     "output_type": "stream",
     "text": [
      "                                                                                               \r"
     ]
    },
    {
     "name": "stdout",
     "output_type": "stream",
     "text": [
      "Moviepy - Done !\n",
      "Moviepy - video ready ./KTH-Action-dataset/handwaving\\person17_handwaving_d3_uncomp.mp4\n",
      "Moviepy - Building video ./KTH-Action-dataset/handwaving\\person17_handwaving_d4_uncomp.mp4.\n",
      "Moviepy - Writing video ./KTH-Action-dataset/handwaving\\person17_handwaving_d4_uncomp.mp4\n",
      "\n"
     ]
    },
    {
     "name": "stderr",
     "output_type": "stream",
     "text": [
      "                                                                                               \r"
     ]
    },
    {
     "name": "stdout",
     "output_type": "stream",
     "text": [
      "Moviepy - Done !\n",
      "Moviepy - video ready ./KTH-Action-dataset/handwaving\\person17_handwaving_d4_uncomp.mp4\n",
      "Moviepy - Building video ./KTH-Action-dataset/handwaving\\person18_handwaving_d1_uncomp.mp4.\n",
      "Moviepy - Writing video ./KTH-Action-dataset/handwaving\\person18_handwaving_d1_uncomp.mp4\n",
      "\n"
     ]
    },
    {
     "name": "stderr",
     "output_type": "stream",
     "text": [
      "                                                                                               \r"
     ]
    },
    {
     "name": "stdout",
     "output_type": "stream",
     "text": [
      "Moviepy - Done !\n",
      "Moviepy - video ready ./KTH-Action-dataset/handwaving\\person18_handwaving_d1_uncomp.mp4\n",
      "Moviepy - Building video ./KTH-Action-dataset/handwaving\\person18_handwaving_d2_uncomp.mp4.\n",
      "Moviepy - Writing video ./KTH-Action-dataset/handwaving\\person18_handwaving_d2_uncomp.mp4\n",
      "\n"
     ]
    },
    {
     "name": "stderr",
     "output_type": "stream",
     "text": [
      "                                                                                               \r"
     ]
    },
    {
     "name": "stdout",
     "output_type": "stream",
     "text": [
      "Moviepy - Done !\n",
      "Moviepy - video ready ./KTH-Action-dataset/handwaving\\person18_handwaving_d2_uncomp.mp4\n",
      "Moviepy - Building video ./KTH-Action-dataset/handwaving\\person18_handwaving_d3_uncomp.mp4.\n",
      "Moviepy - Writing video ./KTH-Action-dataset/handwaving\\person18_handwaving_d3_uncomp.mp4\n",
      "\n"
     ]
    },
    {
     "name": "stderr",
     "output_type": "stream",
     "text": [
      "                                                                                               \r"
     ]
    },
    {
     "name": "stdout",
     "output_type": "stream",
     "text": [
      "Moviepy - Done !\n",
      "Moviepy - video ready ./KTH-Action-dataset/handwaving\\person18_handwaving_d3_uncomp.mp4\n",
      "Moviepy - Building video ./KTH-Action-dataset/handwaving\\person18_handwaving_d4_uncomp.mp4.\n",
      "Moviepy - Writing video ./KTH-Action-dataset/handwaving\\person18_handwaving_d4_uncomp.mp4\n",
      "\n"
     ]
    },
    {
     "name": "stderr",
     "output_type": "stream",
     "text": [
      "                                                                                               \r"
     ]
    },
    {
     "name": "stdout",
     "output_type": "stream",
     "text": [
      "Moviepy - Done !\n",
      "Moviepy - video ready ./KTH-Action-dataset/handwaving\\person18_handwaving_d4_uncomp.mp4\n",
      "Moviepy - Building video ./KTH-Action-dataset/handwaving\\person19_handwaving_d1_uncomp.mp4.\n",
      "Moviepy - Writing video ./KTH-Action-dataset/handwaving\\person19_handwaving_d1_uncomp.mp4\n",
      "\n"
     ]
    },
    {
     "name": "stderr",
     "output_type": "stream",
     "text": [
      "                                                                                               \r"
     ]
    },
    {
     "name": "stdout",
     "output_type": "stream",
     "text": [
      "Moviepy - Done !\n",
      "Moviepy - video ready ./KTH-Action-dataset/handwaving\\person19_handwaving_d1_uncomp.mp4\n",
      "Moviepy - Building video ./KTH-Action-dataset/handwaving\\person19_handwaving_d2_uncomp.mp4.\n",
      "Moviepy - Writing video ./KTH-Action-dataset/handwaving\\person19_handwaving_d2_uncomp.mp4\n",
      "\n"
     ]
    },
    {
     "name": "stderr",
     "output_type": "stream",
     "text": [
      "                                                                                               \r"
     ]
    },
    {
     "name": "stdout",
     "output_type": "stream",
     "text": [
      "Moviepy - Done !\n",
      "Moviepy - video ready ./KTH-Action-dataset/handwaving\\person19_handwaving_d2_uncomp.mp4\n",
      "Moviepy - Building video ./KTH-Action-dataset/handwaving\\person19_handwaving_d3_uncomp.mp4.\n",
      "Moviepy - Writing video ./KTH-Action-dataset/handwaving\\person19_handwaving_d3_uncomp.mp4\n",
      "\n"
     ]
    },
    {
     "name": "stderr",
     "output_type": "stream",
     "text": [
      "                                                                                               \r"
     ]
    },
    {
     "name": "stdout",
     "output_type": "stream",
     "text": [
      "Moviepy - Done !\n",
      "Moviepy - video ready ./KTH-Action-dataset/handwaving\\person19_handwaving_d3_uncomp.mp4\n",
      "Moviepy - Building video ./KTH-Action-dataset/handwaving\\person19_handwaving_d4_uncomp.mp4.\n",
      "Moviepy - Writing video ./KTH-Action-dataset/handwaving\\person19_handwaving_d4_uncomp.mp4\n",
      "\n"
     ]
    },
    {
     "name": "stderr",
     "output_type": "stream",
     "text": [
      "                                                                                               \r"
     ]
    },
    {
     "name": "stdout",
     "output_type": "stream",
     "text": [
      "Moviepy - Done !\n",
      "Moviepy - video ready ./KTH-Action-dataset/handwaving\\person19_handwaving_d4_uncomp.mp4\n",
      "Moviepy - Building video ./KTH-Action-dataset/handwaving\\person20_handwaving_d1_uncomp.mp4.\n",
      "Moviepy - Writing video ./KTH-Action-dataset/handwaving\\person20_handwaving_d1_uncomp.mp4\n",
      "\n"
     ]
    },
    {
     "name": "stderr",
     "output_type": "stream",
     "text": [
      "                                                                                               \r"
     ]
    },
    {
     "name": "stdout",
     "output_type": "stream",
     "text": [
      "Moviepy - Done !\n",
      "Moviepy - video ready ./KTH-Action-dataset/handwaving\\person20_handwaving_d1_uncomp.mp4\n",
      "Moviepy - Building video ./KTH-Action-dataset/handwaving\\person20_handwaving_d2_uncomp.mp4.\n",
      "Moviepy - Writing video ./KTH-Action-dataset/handwaving\\person20_handwaving_d2_uncomp.mp4\n",
      "\n"
     ]
    },
    {
     "name": "stderr",
     "output_type": "stream",
     "text": [
      "                                                                                               \r"
     ]
    },
    {
     "name": "stdout",
     "output_type": "stream",
     "text": [
      "Moviepy - Done !\n",
      "Moviepy - video ready ./KTH-Action-dataset/handwaving\\person20_handwaving_d2_uncomp.mp4\n",
      "Moviepy - Building video ./KTH-Action-dataset/handwaving\\person20_handwaving_d3_uncomp.mp4.\n",
      "Moviepy - Writing video ./KTH-Action-dataset/handwaving\\person20_handwaving_d3_uncomp.mp4\n",
      "\n"
     ]
    },
    {
     "name": "stderr",
     "output_type": "stream",
     "text": [
      "                                                                                               \r"
     ]
    },
    {
     "name": "stdout",
     "output_type": "stream",
     "text": [
      "Moviepy - Done !\n",
      "Moviepy - video ready ./KTH-Action-dataset/handwaving\\person20_handwaving_d3_uncomp.mp4\n",
      "Moviepy - Building video ./KTH-Action-dataset/handwaving\\person20_handwaving_d4_uncomp.mp4.\n",
      "Moviepy - Writing video ./KTH-Action-dataset/handwaving\\person20_handwaving_d4_uncomp.mp4\n",
      "\n"
     ]
    },
    {
     "name": "stderr",
     "output_type": "stream",
     "text": [
      "                                                                                               \r"
     ]
    },
    {
     "name": "stdout",
     "output_type": "stream",
     "text": [
      "Moviepy - Done !\n",
      "Moviepy - video ready ./KTH-Action-dataset/handwaving\\person20_handwaving_d4_uncomp.mp4\n",
      "Moviepy - Building video ./KTH-Action-dataset/handwaving\\person21_handwaving_d1_uncomp.mp4.\n",
      "Moviepy - Writing video ./KTH-Action-dataset/handwaving\\person21_handwaving_d1_uncomp.mp4\n",
      "\n"
     ]
    },
    {
     "name": "stderr",
     "output_type": "stream",
     "text": [
      "                                                                                               \r"
     ]
    },
    {
     "name": "stdout",
     "output_type": "stream",
     "text": [
      "Moviepy - Done !\n",
      "Moviepy - video ready ./KTH-Action-dataset/handwaving\\person21_handwaving_d1_uncomp.mp4\n",
      "Moviepy - Building video ./KTH-Action-dataset/handwaving\\person21_handwaving_d2_uncomp.mp4.\n",
      "Moviepy - Writing video ./KTH-Action-dataset/handwaving\\person21_handwaving_d2_uncomp.mp4\n",
      "\n"
     ]
    },
    {
     "name": "stderr",
     "output_type": "stream",
     "text": [
      "                                                                                               \r"
     ]
    },
    {
     "name": "stdout",
     "output_type": "stream",
     "text": [
      "Moviepy - Done !\n",
      "Moviepy - video ready ./KTH-Action-dataset/handwaving\\person21_handwaving_d2_uncomp.mp4\n",
      "Moviepy - Building video ./KTH-Action-dataset/handwaving\\person21_handwaving_d3_uncomp.mp4.\n",
      "Moviepy - Writing video ./KTH-Action-dataset/handwaving\\person21_handwaving_d3_uncomp.mp4\n",
      "\n"
     ]
    },
    {
     "name": "stderr",
     "output_type": "stream",
     "text": [
      "                                                                                               \r"
     ]
    },
    {
     "name": "stdout",
     "output_type": "stream",
     "text": [
      "Moviepy - Done !\n",
      "Moviepy - video ready ./KTH-Action-dataset/handwaving\\person21_handwaving_d3_uncomp.mp4\n",
      "Moviepy - Building video ./KTH-Action-dataset/handwaving\\person21_handwaving_d4_uncomp.mp4.\n",
      "Moviepy - Writing video ./KTH-Action-dataset/handwaving\\person21_handwaving_d4_uncomp.mp4\n",
      "\n"
     ]
    },
    {
     "name": "stderr",
     "output_type": "stream",
     "text": [
      "                                                                                               \r"
     ]
    },
    {
     "name": "stdout",
     "output_type": "stream",
     "text": [
      "Moviepy - Done !\n",
      "Moviepy - video ready ./KTH-Action-dataset/handwaving\\person21_handwaving_d4_uncomp.mp4\n",
      "Moviepy - Building video ./KTH-Action-dataset/handwaving\\person22_handwaving_d1_uncomp.mp4.\n",
      "Moviepy - Writing video ./KTH-Action-dataset/handwaving\\person22_handwaving_d1_uncomp.mp4\n",
      "\n"
     ]
    },
    {
     "name": "stderr",
     "output_type": "stream",
     "text": [
      "                                                                                               \r"
     ]
    },
    {
     "name": "stdout",
     "output_type": "stream",
     "text": [
      "Moviepy - Done !\n",
      "Moviepy - video ready ./KTH-Action-dataset/handwaving\\person22_handwaving_d1_uncomp.mp4\n",
      "Moviepy - Building video ./KTH-Action-dataset/handwaving\\person22_handwaving_d2_uncomp.mp4.\n",
      "Moviepy - Writing video ./KTH-Action-dataset/handwaving\\person22_handwaving_d2_uncomp.mp4\n",
      "\n"
     ]
    },
    {
     "name": "stderr",
     "output_type": "stream",
     "text": [
      "                                                                                               \r"
     ]
    },
    {
     "name": "stdout",
     "output_type": "stream",
     "text": [
      "Moviepy - Done !\n",
      "Moviepy - video ready ./KTH-Action-dataset/handwaving\\person22_handwaving_d2_uncomp.mp4\n",
      "Moviepy - Building video ./KTH-Action-dataset/handwaving\\person22_handwaving_d3_uncomp.mp4.\n",
      "Moviepy - Writing video ./KTH-Action-dataset/handwaving\\person22_handwaving_d3_uncomp.mp4\n",
      "\n"
     ]
    },
    {
     "name": "stderr",
     "output_type": "stream",
     "text": [
      "                                                                                               \r"
     ]
    },
    {
     "name": "stdout",
     "output_type": "stream",
     "text": [
      "Moviepy - Done !\n",
      "Moviepy - video ready ./KTH-Action-dataset/handwaving\\person22_handwaving_d3_uncomp.mp4\n",
      "Moviepy - Building video ./KTH-Action-dataset/handwaving\\person22_handwaving_d4_uncomp.mp4.\n",
      "Moviepy - Writing video ./KTH-Action-dataset/handwaving\\person22_handwaving_d4_uncomp.mp4\n",
      "\n"
     ]
    },
    {
     "name": "stderr",
     "output_type": "stream",
     "text": [
      "                                                                                               \r"
     ]
    },
    {
     "name": "stdout",
     "output_type": "stream",
     "text": [
      "Moviepy - Done !\n",
      "Moviepy - video ready ./KTH-Action-dataset/handwaving\\person22_handwaving_d4_uncomp.mp4\n",
      "Moviepy - Building video ./KTH-Action-dataset/handwaving\\person23_handwaving_d1_uncomp.mp4.\n",
      "Moviepy - Writing video ./KTH-Action-dataset/handwaving\\person23_handwaving_d1_uncomp.mp4\n",
      "\n"
     ]
    },
    {
     "name": "stderr",
     "output_type": "stream",
     "text": [
      "                                                                                               \r"
     ]
    },
    {
     "name": "stdout",
     "output_type": "stream",
     "text": [
      "Moviepy - Done !\n",
      "Moviepy - video ready ./KTH-Action-dataset/handwaving\\person23_handwaving_d1_uncomp.mp4\n",
      "Moviepy - Building video ./KTH-Action-dataset/handwaving\\person23_handwaving_d2_uncomp.mp4.\n",
      "Moviepy - Writing video ./KTH-Action-dataset/handwaving\\person23_handwaving_d2_uncomp.mp4\n",
      "\n"
     ]
    },
    {
     "name": "stderr",
     "output_type": "stream",
     "text": [
      "                                                                                               \r"
     ]
    },
    {
     "name": "stdout",
     "output_type": "stream",
     "text": [
      "Moviepy - Done !\n",
      "Moviepy - video ready ./KTH-Action-dataset/handwaving\\person23_handwaving_d2_uncomp.mp4\n",
      "Moviepy - Building video ./KTH-Action-dataset/handwaving\\person23_handwaving_d3_uncomp.mp4.\n",
      "Moviepy - Writing video ./KTH-Action-dataset/handwaving\\person23_handwaving_d3_uncomp.mp4\n",
      "\n"
     ]
    },
    {
     "name": "stderr",
     "output_type": "stream",
     "text": [
      "                                                                                               \r"
     ]
    },
    {
     "name": "stdout",
     "output_type": "stream",
     "text": [
      "Moviepy - Done !\n",
      "Moviepy - video ready ./KTH-Action-dataset/handwaving\\person23_handwaving_d3_uncomp.mp4\n",
      "Moviepy - Building video ./KTH-Action-dataset/handwaving\\person23_handwaving_d4_uncomp.mp4.\n",
      "Moviepy - Writing video ./KTH-Action-dataset/handwaving\\person23_handwaving_d4_uncomp.mp4\n",
      "\n"
     ]
    },
    {
     "name": "stderr",
     "output_type": "stream",
     "text": [
      "                                                                                               \r"
     ]
    },
    {
     "name": "stdout",
     "output_type": "stream",
     "text": [
      "Moviepy - Done !\n",
      "Moviepy - video ready ./KTH-Action-dataset/handwaving\\person23_handwaving_d4_uncomp.mp4\n",
      "Moviepy - Building video ./KTH-Action-dataset/handwaving\\person24_handwaving_d1_uncomp.mp4.\n",
      "Moviepy - Writing video ./KTH-Action-dataset/handwaving\\person24_handwaving_d1_uncomp.mp4\n",
      "\n"
     ]
    },
    {
     "name": "stderr",
     "output_type": "stream",
     "text": [
      "                                                                                               \r"
     ]
    },
    {
     "name": "stdout",
     "output_type": "stream",
     "text": [
      "Moviepy - Done !\n",
      "Moviepy - video ready ./KTH-Action-dataset/handwaving\\person24_handwaving_d1_uncomp.mp4\n",
      "Moviepy - Building video ./KTH-Action-dataset/handwaving\\person24_handwaving_d2_uncomp.mp4.\n",
      "Moviepy - Writing video ./KTH-Action-dataset/handwaving\\person24_handwaving_d2_uncomp.mp4\n",
      "\n"
     ]
    },
    {
     "name": "stderr",
     "output_type": "stream",
     "text": [
      "                                                                                               \r"
     ]
    },
    {
     "name": "stdout",
     "output_type": "stream",
     "text": [
      "Moviepy - Done !\n",
      "Moviepy - video ready ./KTH-Action-dataset/handwaving\\person24_handwaving_d2_uncomp.mp4\n",
      "Moviepy - Building video ./KTH-Action-dataset/handwaving\\person24_handwaving_d3_uncomp.mp4.\n",
      "Moviepy - Writing video ./KTH-Action-dataset/handwaving\\person24_handwaving_d3_uncomp.mp4\n",
      "\n"
     ]
    },
    {
     "name": "stderr",
     "output_type": "stream",
     "text": [
      "                                                                                               \r"
     ]
    },
    {
     "name": "stdout",
     "output_type": "stream",
     "text": [
      "Moviepy - Done !\n",
      "Moviepy - video ready ./KTH-Action-dataset/handwaving\\person24_handwaving_d3_uncomp.mp4\n",
      "Moviepy - Building video ./KTH-Action-dataset/handwaving\\person24_handwaving_d4_uncomp.mp4.\n",
      "Moviepy - Writing video ./KTH-Action-dataset/handwaving\\person24_handwaving_d4_uncomp.mp4\n",
      "\n"
     ]
    },
    {
     "name": "stderr",
     "output_type": "stream",
     "text": [
      "                                                                                               \r"
     ]
    },
    {
     "name": "stdout",
     "output_type": "stream",
     "text": [
      "Moviepy - Done !\n",
      "Moviepy - video ready ./KTH-Action-dataset/handwaving\\person24_handwaving_d4_uncomp.mp4\n",
      "Moviepy - Building video ./KTH-Action-dataset/handwaving\\person25_handwaving_d1_uncomp.mp4.\n",
      "Moviepy - Writing video ./KTH-Action-dataset/handwaving\\person25_handwaving_d1_uncomp.mp4\n",
      "\n"
     ]
    },
    {
     "name": "stderr",
     "output_type": "stream",
     "text": [
      "                                                                                               \r"
     ]
    },
    {
     "name": "stdout",
     "output_type": "stream",
     "text": [
      "Moviepy - Done !\n",
      "Moviepy - video ready ./KTH-Action-dataset/handwaving\\person25_handwaving_d1_uncomp.mp4\n",
      "Moviepy - Building video ./KTH-Action-dataset/handwaving\\person25_handwaving_d2_uncomp.mp4.\n",
      "Moviepy - Writing video ./KTH-Action-dataset/handwaving\\person25_handwaving_d2_uncomp.mp4\n",
      "\n"
     ]
    },
    {
     "name": "stderr",
     "output_type": "stream",
     "text": [
      "                                                                                               \r"
     ]
    },
    {
     "name": "stdout",
     "output_type": "stream",
     "text": [
      "Moviepy - Done !\n",
      "Moviepy - video ready ./KTH-Action-dataset/handwaving\\person25_handwaving_d2_uncomp.mp4\n",
      "Moviepy - Building video ./KTH-Action-dataset/handwaving\\person25_handwaving_d3_uncomp.mp4.\n",
      "Moviepy - Writing video ./KTH-Action-dataset/handwaving\\person25_handwaving_d3_uncomp.mp4\n",
      "\n"
     ]
    },
    {
     "name": "stderr",
     "output_type": "stream",
     "text": [
      "                                                                                               \r"
     ]
    },
    {
     "name": "stdout",
     "output_type": "stream",
     "text": [
      "Moviepy - Done !\n",
      "Moviepy - video ready ./KTH-Action-dataset/handwaving\\person25_handwaving_d3_uncomp.mp4\n",
      "Moviepy - Building video ./KTH-Action-dataset/handwaving\\person25_handwaving_d4_uncomp.mp4.\n",
      "Moviepy - Writing video ./KTH-Action-dataset/handwaving\\person25_handwaving_d4_uncomp.mp4\n",
      "\n"
     ]
    },
    {
     "name": "stderr",
     "output_type": "stream",
     "text": [
      "                                                                                               \r"
     ]
    },
    {
     "name": "stdout",
     "output_type": "stream",
     "text": [
      "Moviepy - Done !\n",
      "Moviepy - video ready ./KTH-Action-dataset/handwaving\\person25_handwaving_d4_uncomp.mp4\n"
     ]
    },
    {
     "name": "stderr",
     "output_type": "stream",
     "text": [
      "100% |########################################################################|\n"
     ]
    },
    {
     "name": "stdout",
     "output_type": "stream",
     "text": [
      "Moviepy - Building video ./KTH-Action-dataset/jogging\\person01_jogging_d1_uncomp.mp4.\n",
      "Moviepy - Writing video ./KTH-Action-dataset/jogging\\person01_jogging_d1_uncomp.mp4\n",
      "\n"
     ]
    },
    {
     "name": "stderr",
     "output_type": "stream",
     "text": [
      "                                                                                               \r"
     ]
    },
    {
     "name": "stdout",
     "output_type": "stream",
     "text": [
      "Moviepy - Done !\n",
      "Moviepy - video ready ./KTH-Action-dataset/jogging\\person01_jogging_d1_uncomp.mp4\n",
      "Moviepy - Building video ./KTH-Action-dataset/jogging\\person01_jogging_d2_uncomp.mp4.\n",
      "Moviepy - Writing video ./KTH-Action-dataset/jogging\\person01_jogging_d2_uncomp.mp4\n",
      "\n"
     ]
    },
    {
     "name": "stderr",
     "output_type": "stream",
     "text": [
      "                                                                                               \r"
     ]
    },
    {
     "name": "stdout",
     "output_type": "stream",
     "text": [
      "Moviepy - Done !\n",
      "Moviepy - video ready ./KTH-Action-dataset/jogging\\person01_jogging_d2_uncomp.mp4\n",
      "Moviepy - Building video ./KTH-Action-dataset/jogging\\person01_jogging_d3_uncomp.mp4.\n",
      "Moviepy - Writing video ./KTH-Action-dataset/jogging\\person01_jogging_d3_uncomp.mp4\n",
      "\n"
     ]
    },
    {
     "name": "stderr",
     "output_type": "stream",
     "text": [
      "                                                                                               \r"
     ]
    },
    {
     "name": "stdout",
     "output_type": "stream",
     "text": [
      "Moviepy - Done !\n",
      "Moviepy - video ready ./KTH-Action-dataset/jogging\\person01_jogging_d3_uncomp.mp4\n",
      "Moviepy - Building video ./KTH-Action-dataset/jogging\\person01_jogging_d4_uncomp.mp4.\n",
      "Moviepy - Writing video ./KTH-Action-dataset/jogging\\person01_jogging_d4_uncomp.mp4\n",
      "\n"
     ]
    },
    {
     "name": "stderr",
     "output_type": "stream",
     "text": [
      "                                                                                               \r"
     ]
    },
    {
     "name": "stdout",
     "output_type": "stream",
     "text": [
      "Moviepy - Done !\n",
      "Moviepy - video ready ./KTH-Action-dataset/jogging\\person01_jogging_d4_uncomp.mp4\n",
      "Moviepy - Building video ./KTH-Action-dataset/jogging\\person02_jogging_d1_uncomp.mp4.\n",
      "Moviepy - Writing video ./KTH-Action-dataset/jogging\\person02_jogging_d1_uncomp.mp4\n",
      "\n"
     ]
    },
    {
     "name": "stderr",
     "output_type": "stream",
     "text": [
      "                                                                                               \r"
     ]
    },
    {
     "name": "stdout",
     "output_type": "stream",
     "text": [
      "Moviepy - Done !\n",
      "Moviepy - video ready ./KTH-Action-dataset/jogging\\person02_jogging_d1_uncomp.mp4\n",
      "Moviepy - Building video ./KTH-Action-dataset/jogging\\person02_jogging_d2_uncomp.mp4.\n",
      "Moviepy - Writing video ./KTH-Action-dataset/jogging\\person02_jogging_d2_uncomp.mp4\n",
      "\n"
     ]
    },
    {
     "name": "stderr",
     "output_type": "stream",
     "text": [
      "                                                                                               \r"
     ]
    },
    {
     "name": "stdout",
     "output_type": "stream",
     "text": [
      "Moviepy - Done !\n",
      "Moviepy - video ready ./KTH-Action-dataset/jogging\\person02_jogging_d2_uncomp.mp4\n",
      "Moviepy - Building video ./KTH-Action-dataset/jogging\\person02_jogging_d3_uncomp.mp4.\n",
      "Moviepy - Writing video ./KTH-Action-dataset/jogging\\person02_jogging_d3_uncomp.mp4\n",
      "\n"
     ]
    },
    {
     "name": "stderr",
     "output_type": "stream",
     "text": [
      "                                                                                               \r"
     ]
    },
    {
     "name": "stdout",
     "output_type": "stream",
     "text": [
      "Moviepy - Done !\n",
      "Moviepy - video ready ./KTH-Action-dataset/jogging\\person02_jogging_d3_uncomp.mp4\n",
      "Moviepy - Building video ./KTH-Action-dataset/jogging\\person02_jogging_d4_uncomp.mp4.\n",
      "Moviepy - Writing video ./KTH-Action-dataset/jogging\\person02_jogging_d4_uncomp.mp4\n",
      "\n"
     ]
    },
    {
     "name": "stderr",
     "output_type": "stream",
     "text": [
      "                                                                                               \r"
     ]
    },
    {
     "name": "stdout",
     "output_type": "stream",
     "text": [
      "Moviepy - Done !\n",
      "Moviepy - video ready ./KTH-Action-dataset/jogging\\person02_jogging_d4_uncomp.mp4\n",
      "Moviepy - Building video ./KTH-Action-dataset/jogging\\person03_jogging_d1_uncomp.mp4.\n",
      "Moviepy - Writing video ./KTH-Action-dataset/jogging\\person03_jogging_d1_uncomp.mp4\n",
      "\n"
     ]
    },
    {
     "name": "stderr",
     "output_type": "stream",
     "text": [
      "                                                                                               \r"
     ]
    },
    {
     "name": "stdout",
     "output_type": "stream",
     "text": [
      "Moviepy - Done !\n",
      "Moviepy - video ready ./KTH-Action-dataset/jogging\\person03_jogging_d1_uncomp.mp4\n",
      "Moviepy - Building video ./KTH-Action-dataset/jogging\\person03_jogging_d2_uncomp.mp4.\n",
      "Moviepy - Writing video ./KTH-Action-dataset/jogging\\person03_jogging_d2_uncomp.mp4\n",
      "\n"
     ]
    },
    {
     "name": "stderr",
     "output_type": "stream",
     "text": [
      "                                                                                               \r"
     ]
    },
    {
     "name": "stdout",
     "output_type": "stream",
     "text": [
      "Moviepy - Done !\n",
      "Moviepy - video ready ./KTH-Action-dataset/jogging\\person03_jogging_d2_uncomp.mp4\n",
      "Moviepy - Building video ./KTH-Action-dataset/jogging\\person03_jogging_d3_uncomp.mp4.\n",
      "Moviepy - Writing video ./KTH-Action-dataset/jogging\\person03_jogging_d3_uncomp.mp4\n",
      "\n"
     ]
    },
    {
     "name": "stderr",
     "output_type": "stream",
     "text": [
      "                                                                                               \r"
     ]
    },
    {
     "name": "stdout",
     "output_type": "stream",
     "text": [
      "Moviepy - Done !\n",
      "Moviepy - video ready ./KTH-Action-dataset/jogging\\person03_jogging_d3_uncomp.mp4\n",
      "Moviepy - Building video ./KTH-Action-dataset/jogging\\person03_jogging_d4_uncomp.mp4.\n",
      "Moviepy - Writing video ./KTH-Action-dataset/jogging\\person03_jogging_d4_uncomp.mp4\n",
      "\n"
     ]
    },
    {
     "name": "stderr",
     "output_type": "stream",
     "text": [
      "                                                                                               \r"
     ]
    },
    {
     "name": "stdout",
     "output_type": "stream",
     "text": [
      "Moviepy - Done !\n",
      "Moviepy - video ready ./KTH-Action-dataset/jogging\\person03_jogging_d4_uncomp.mp4\n",
      "Moviepy - Building video ./KTH-Action-dataset/jogging\\person04_jogging_d1_uncomp.mp4.\n",
      "Moviepy - Writing video ./KTH-Action-dataset/jogging\\person04_jogging_d1_uncomp.mp4\n",
      "\n"
     ]
    },
    {
     "name": "stderr",
     "output_type": "stream",
     "text": [
      "                                                                                               \r"
     ]
    },
    {
     "name": "stdout",
     "output_type": "stream",
     "text": [
      "Moviepy - Done !\n",
      "Moviepy - video ready ./KTH-Action-dataset/jogging\\person04_jogging_d1_uncomp.mp4\n",
      "Moviepy - Building video ./KTH-Action-dataset/jogging\\person04_jogging_d2_uncomp.mp4.\n",
      "Moviepy - Writing video ./KTH-Action-dataset/jogging\\person04_jogging_d2_uncomp.mp4\n",
      "\n"
     ]
    },
    {
     "name": "stderr",
     "output_type": "stream",
     "text": [
      "                                                                                               \r"
     ]
    },
    {
     "name": "stdout",
     "output_type": "stream",
     "text": [
      "Moviepy - Done !\n",
      "Moviepy - video ready ./KTH-Action-dataset/jogging\\person04_jogging_d2_uncomp.mp4\n",
      "Moviepy - Building video ./KTH-Action-dataset/jogging\\person04_jogging_d3_uncomp.mp4.\n",
      "Moviepy - Writing video ./KTH-Action-dataset/jogging\\person04_jogging_d3_uncomp.mp4\n",
      "\n"
     ]
    },
    {
     "name": "stderr",
     "output_type": "stream",
     "text": [
      "                                                                                               \r"
     ]
    },
    {
     "name": "stdout",
     "output_type": "stream",
     "text": [
      "Moviepy - Done !\n",
      "Moviepy - video ready ./KTH-Action-dataset/jogging\\person04_jogging_d3_uncomp.mp4\n",
      "Moviepy - Building video ./KTH-Action-dataset/jogging\\person04_jogging_d4_uncomp.mp4.\n",
      "Moviepy - Writing video ./KTH-Action-dataset/jogging\\person04_jogging_d4_uncomp.mp4\n",
      "\n"
     ]
    },
    {
     "name": "stderr",
     "output_type": "stream",
     "text": [
      "                                                                                               \r"
     ]
    },
    {
     "name": "stdout",
     "output_type": "stream",
     "text": [
      "Moviepy - Done !\n",
      "Moviepy - video ready ./KTH-Action-dataset/jogging\\person04_jogging_d4_uncomp.mp4\n",
      "Moviepy - Building video ./KTH-Action-dataset/jogging\\person05_jogging_d1_uncomp.mp4.\n",
      "Moviepy - Writing video ./KTH-Action-dataset/jogging\\person05_jogging_d1_uncomp.mp4\n",
      "\n"
     ]
    },
    {
     "name": "stderr",
     "output_type": "stream",
     "text": [
      "                                                                                               \r"
     ]
    },
    {
     "name": "stdout",
     "output_type": "stream",
     "text": [
      "Moviepy - Done !\n",
      "Moviepy - video ready ./KTH-Action-dataset/jogging\\person05_jogging_d1_uncomp.mp4\n",
      "Moviepy - Building video ./KTH-Action-dataset/jogging\\person05_jogging_d2_uncomp.mp4.\n",
      "Moviepy - Writing video ./KTH-Action-dataset/jogging\\person05_jogging_d2_uncomp.mp4\n",
      "\n"
     ]
    },
    {
     "name": "stderr",
     "output_type": "stream",
     "text": [
      "                                                                                               \r"
     ]
    },
    {
     "name": "stdout",
     "output_type": "stream",
     "text": [
      "Moviepy - Done !\n",
      "Moviepy - video ready ./KTH-Action-dataset/jogging\\person05_jogging_d2_uncomp.mp4\n",
      "Moviepy - Building video ./KTH-Action-dataset/jogging\\person05_jogging_d3_uncomp.mp4.\n",
      "Moviepy - Writing video ./KTH-Action-dataset/jogging\\person05_jogging_d3_uncomp.mp4\n",
      "\n"
     ]
    },
    {
     "name": "stderr",
     "output_type": "stream",
     "text": [
      "                                                                                               \r"
     ]
    },
    {
     "name": "stdout",
     "output_type": "stream",
     "text": [
      "Moviepy - Done !\n",
      "Moviepy - video ready ./KTH-Action-dataset/jogging\\person05_jogging_d3_uncomp.mp4\n",
      "Moviepy - Building video ./KTH-Action-dataset/jogging\\person05_jogging_d4_uncomp.mp4.\n",
      "Moviepy - Writing video ./KTH-Action-dataset/jogging\\person05_jogging_d4_uncomp.mp4\n",
      "\n"
     ]
    },
    {
     "name": "stderr",
     "output_type": "stream",
     "text": [
      "                                                                                               \r"
     ]
    },
    {
     "name": "stdout",
     "output_type": "stream",
     "text": [
      "Moviepy - Done !\n",
      "Moviepy - video ready ./KTH-Action-dataset/jogging\\person05_jogging_d4_uncomp.mp4\n",
      "Moviepy - Building video ./KTH-Action-dataset/jogging\\person06_jogging_d1_uncomp.mp4.\n",
      "Moviepy - Writing video ./KTH-Action-dataset/jogging\\person06_jogging_d1_uncomp.mp4\n",
      "\n"
     ]
    },
    {
     "name": "stderr",
     "output_type": "stream",
     "text": [
      "                                                                                               \r"
     ]
    },
    {
     "name": "stdout",
     "output_type": "stream",
     "text": [
      "Moviepy - Done !\n",
      "Moviepy - video ready ./KTH-Action-dataset/jogging\\person06_jogging_d1_uncomp.mp4\n",
      "Moviepy - Building video ./KTH-Action-dataset/jogging\\person06_jogging_d2_uncomp.mp4.\n",
      "Moviepy - Writing video ./KTH-Action-dataset/jogging\\person06_jogging_d2_uncomp.mp4\n",
      "\n"
     ]
    },
    {
     "name": "stderr",
     "output_type": "stream",
     "text": [
      "                                                                                               \r"
     ]
    },
    {
     "name": "stdout",
     "output_type": "stream",
     "text": [
      "Moviepy - Done !\n",
      "Moviepy - video ready ./KTH-Action-dataset/jogging\\person06_jogging_d2_uncomp.mp4\n",
      "Moviepy - Building video ./KTH-Action-dataset/jogging\\person06_jogging_d3_uncomp.mp4.\n",
      "Moviepy - Writing video ./KTH-Action-dataset/jogging\\person06_jogging_d3_uncomp.mp4\n",
      "\n"
     ]
    },
    {
     "name": "stderr",
     "output_type": "stream",
     "text": [
      "                                                                                               \r"
     ]
    },
    {
     "name": "stdout",
     "output_type": "stream",
     "text": [
      "Moviepy - Done !\n",
      "Moviepy - video ready ./KTH-Action-dataset/jogging\\person06_jogging_d3_uncomp.mp4\n",
      "Moviepy - Building video ./KTH-Action-dataset/jogging\\person06_jogging_d4_uncomp.mp4.\n",
      "Moviepy - Writing video ./KTH-Action-dataset/jogging\\person06_jogging_d4_uncomp.mp4\n",
      "\n"
     ]
    },
    {
     "name": "stderr",
     "output_type": "stream",
     "text": [
      "                                                                                               \r"
     ]
    },
    {
     "name": "stdout",
     "output_type": "stream",
     "text": [
      "Moviepy - Done !\n",
      "Moviepy - video ready ./KTH-Action-dataset/jogging\\person06_jogging_d4_uncomp.mp4\n",
      "Moviepy - Building video ./KTH-Action-dataset/jogging\\person07_jogging_d1_uncomp.mp4.\n",
      "Moviepy - Writing video ./KTH-Action-dataset/jogging\\person07_jogging_d1_uncomp.mp4\n",
      "\n"
     ]
    },
    {
     "name": "stderr",
     "output_type": "stream",
     "text": [
      "                                                                                               \r"
     ]
    },
    {
     "name": "stdout",
     "output_type": "stream",
     "text": [
      "Moviepy - Done !\n",
      "Moviepy - video ready ./KTH-Action-dataset/jogging\\person07_jogging_d1_uncomp.mp4\n",
      "Moviepy - Building video ./KTH-Action-dataset/jogging\\person07_jogging_d2_uncomp.mp4.\n",
      "Moviepy - Writing video ./KTH-Action-dataset/jogging\\person07_jogging_d2_uncomp.mp4\n",
      "\n"
     ]
    },
    {
     "name": "stderr",
     "output_type": "stream",
     "text": [
      "                                                                                               \r"
     ]
    },
    {
     "name": "stdout",
     "output_type": "stream",
     "text": [
      "Moviepy - Done !\n",
      "Moviepy - video ready ./KTH-Action-dataset/jogging\\person07_jogging_d2_uncomp.mp4\n",
      "Moviepy - Building video ./KTH-Action-dataset/jogging\\person07_jogging_d3_uncomp.mp4.\n",
      "Moviepy - Writing video ./KTH-Action-dataset/jogging\\person07_jogging_d3_uncomp.mp4\n",
      "\n"
     ]
    },
    {
     "name": "stderr",
     "output_type": "stream",
     "text": [
      "                                                                                               \r"
     ]
    },
    {
     "name": "stdout",
     "output_type": "stream",
     "text": [
      "Moviepy - Done !\n",
      "Moviepy - video ready ./KTH-Action-dataset/jogging\\person07_jogging_d3_uncomp.mp4\n",
      "Moviepy - Building video ./KTH-Action-dataset/jogging\\person07_jogging_d4_uncomp.mp4.\n",
      "Moviepy - Writing video ./KTH-Action-dataset/jogging\\person07_jogging_d4_uncomp.mp4\n",
      "\n"
     ]
    },
    {
     "name": "stderr",
     "output_type": "stream",
     "text": [
      "                                                                                               \r"
     ]
    },
    {
     "name": "stdout",
     "output_type": "stream",
     "text": [
      "Moviepy - Done !\n",
      "Moviepy - video ready ./KTH-Action-dataset/jogging\\person07_jogging_d4_uncomp.mp4\n",
      "Moviepy - Building video ./KTH-Action-dataset/jogging\\person08_jogging_d1_uncomp.mp4.\n",
      "Moviepy - Writing video ./KTH-Action-dataset/jogging\\person08_jogging_d1_uncomp.mp4\n",
      "\n"
     ]
    },
    {
     "name": "stderr",
     "output_type": "stream",
     "text": [
      "                                                                                               \r"
     ]
    },
    {
     "name": "stdout",
     "output_type": "stream",
     "text": [
      "Moviepy - Done !\n",
      "Moviepy - video ready ./KTH-Action-dataset/jogging\\person08_jogging_d1_uncomp.mp4\n",
      "Moviepy - Building video ./KTH-Action-dataset/jogging\\person08_jogging_d2_uncomp.mp4.\n",
      "Moviepy - Writing video ./KTH-Action-dataset/jogging\\person08_jogging_d2_uncomp.mp4\n",
      "\n"
     ]
    },
    {
     "name": "stderr",
     "output_type": "stream",
     "text": [
      "                                                                                               \r"
     ]
    },
    {
     "name": "stdout",
     "output_type": "stream",
     "text": [
      "Moviepy - Done !\n",
      "Moviepy - video ready ./KTH-Action-dataset/jogging\\person08_jogging_d2_uncomp.mp4\n",
      "Moviepy - Building video ./KTH-Action-dataset/jogging\\person08_jogging_d3_uncomp.mp4.\n",
      "Moviepy - Writing video ./KTH-Action-dataset/jogging\\person08_jogging_d3_uncomp.mp4\n",
      "\n"
     ]
    },
    {
     "name": "stderr",
     "output_type": "stream",
     "text": [
      "                                                                                               \r"
     ]
    },
    {
     "name": "stdout",
     "output_type": "stream",
     "text": [
      "Moviepy - Done !\n",
      "Moviepy - video ready ./KTH-Action-dataset/jogging\\person08_jogging_d3_uncomp.mp4\n",
      "Moviepy - Building video ./KTH-Action-dataset/jogging\\person08_jogging_d4_uncomp.mp4.\n",
      "Moviepy - Writing video ./KTH-Action-dataset/jogging\\person08_jogging_d4_uncomp.mp4\n",
      "\n"
     ]
    },
    {
     "name": "stderr",
     "output_type": "stream",
     "text": [
      "                                                                                               \r"
     ]
    },
    {
     "name": "stdout",
     "output_type": "stream",
     "text": [
      "Moviepy - Done !\n",
      "Moviepy - video ready ./KTH-Action-dataset/jogging\\person08_jogging_d4_uncomp.mp4\n",
      "Moviepy - Building video ./KTH-Action-dataset/jogging\\person09_jogging_d1_uncomp.mp4.\n",
      "Moviepy - Writing video ./KTH-Action-dataset/jogging\\person09_jogging_d1_uncomp.mp4\n",
      "\n"
     ]
    },
    {
     "name": "stderr",
     "output_type": "stream",
     "text": [
      "                                                                                               \r"
     ]
    },
    {
     "name": "stdout",
     "output_type": "stream",
     "text": [
      "Moviepy - Done !\n",
      "Moviepy - video ready ./KTH-Action-dataset/jogging\\person09_jogging_d1_uncomp.mp4\n",
      "Moviepy - Building video ./KTH-Action-dataset/jogging\\person09_jogging_d2_uncomp.mp4.\n",
      "Moviepy - Writing video ./KTH-Action-dataset/jogging\\person09_jogging_d2_uncomp.mp4\n",
      "\n"
     ]
    },
    {
     "name": "stderr",
     "output_type": "stream",
     "text": [
      "                                                                                               \r"
     ]
    },
    {
     "name": "stdout",
     "output_type": "stream",
     "text": [
      "Moviepy - Done !\n",
      "Moviepy - video ready ./KTH-Action-dataset/jogging\\person09_jogging_d2_uncomp.mp4\n",
      "Moviepy - Building video ./KTH-Action-dataset/jogging\\person09_jogging_d3_uncomp.mp4.\n",
      "Moviepy - Writing video ./KTH-Action-dataset/jogging\\person09_jogging_d3_uncomp.mp4\n",
      "\n"
     ]
    },
    {
     "name": "stderr",
     "output_type": "stream",
     "text": [
      "                                                                                               \r"
     ]
    },
    {
     "name": "stdout",
     "output_type": "stream",
     "text": [
      "Moviepy - Done !\n",
      "Moviepy - video ready ./KTH-Action-dataset/jogging\\person09_jogging_d3_uncomp.mp4\n",
      "Moviepy - Building video ./KTH-Action-dataset/jogging\\person09_jogging_d4_uncomp.mp4.\n",
      "Moviepy - Writing video ./KTH-Action-dataset/jogging\\person09_jogging_d4_uncomp.mp4\n",
      "\n"
     ]
    },
    {
     "name": "stderr",
     "output_type": "stream",
     "text": [
      "                                                                                               \r"
     ]
    },
    {
     "name": "stdout",
     "output_type": "stream",
     "text": [
      "Moviepy - Done !\n",
      "Moviepy - video ready ./KTH-Action-dataset/jogging\\person09_jogging_d4_uncomp.mp4\n",
      "Moviepy - Building video ./KTH-Action-dataset/jogging\\person10_jogging_d1_uncomp.mp4.\n",
      "Moviepy - Writing video ./KTH-Action-dataset/jogging\\person10_jogging_d1_uncomp.mp4\n",
      "\n"
     ]
    },
    {
     "name": "stderr",
     "output_type": "stream",
     "text": [
      "                                                                                               \r"
     ]
    },
    {
     "name": "stdout",
     "output_type": "stream",
     "text": [
      "Moviepy - Done !\n",
      "Moviepy - video ready ./KTH-Action-dataset/jogging\\person10_jogging_d1_uncomp.mp4\n",
      "Moviepy - Building video ./KTH-Action-dataset/jogging\\person10_jogging_d2_uncomp.mp4.\n",
      "Moviepy - Writing video ./KTH-Action-dataset/jogging\\person10_jogging_d2_uncomp.mp4\n",
      "\n"
     ]
    },
    {
     "name": "stderr",
     "output_type": "stream",
     "text": [
      "                                                                                               \r"
     ]
    },
    {
     "name": "stdout",
     "output_type": "stream",
     "text": [
      "Moviepy - Done !\n",
      "Moviepy - video ready ./KTH-Action-dataset/jogging\\person10_jogging_d2_uncomp.mp4\n",
      "Moviepy - Building video ./KTH-Action-dataset/jogging\\person10_jogging_d3_uncomp.mp4.\n",
      "Moviepy - Writing video ./KTH-Action-dataset/jogging\\person10_jogging_d3_uncomp.mp4\n",
      "\n"
     ]
    },
    {
     "name": "stderr",
     "output_type": "stream",
     "text": [
      "                                                                                               \r"
     ]
    },
    {
     "name": "stdout",
     "output_type": "stream",
     "text": [
      "Moviepy - Done !\n",
      "Moviepy - video ready ./KTH-Action-dataset/jogging\\person10_jogging_d3_uncomp.mp4\n",
      "Moviepy - Building video ./KTH-Action-dataset/jogging\\person10_jogging_d4_uncomp.mp4.\n",
      "Moviepy - Writing video ./KTH-Action-dataset/jogging\\person10_jogging_d4_uncomp.mp4\n",
      "\n"
     ]
    },
    {
     "name": "stderr",
     "output_type": "stream",
     "text": [
      "                                                                                               \r"
     ]
    },
    {
     "name": "stdout",
     "output_type": "stream",
     "text": [
      "Moviepy - Done !\n",
      "Moviepy - video ready ./KTH-Action-dataset/jogging\\person10_jogging_d4_uncomp.mp4\n",
      "Moviepy - Building video ./KTH-Action-dataset/jogging\\person11_jogging_d1_uncomp.mp4.\n",
      "Moviepy - Writing video ./KTH-Action-dataset/jogging\\person11_jogging_d1_uncomp.mp4\n",
      "\n"
     ]
    },
    {
     "name": "stderr",
     "output_type": "stream",
     "text": [
      "                                                                                               \r"
     ]
    },
    {
     "name": "stdout",
     "output_type": "stream",
     "text": [
      "Moviepy - Done !\n",
      "Moviepy - video ready ./KTH-Action-dataset/jogging\\person11_jogging_d1_uncomp.mp4\n",
      "Moviepy - Building video ./KTH-Action-dataset/jogging\\person11_jogging_d2_uncomp.mp4.\n",
      "Moviepy - Writing video ./KTH-Action-dataset/jogging\\person11_jogging_d2_uncomp.mp4\n",
      "\n"
     ]
    },
    {
     "name": "stderr",
     "output_type": "stream",
     "text": [
      "                                                                                               \r"
     ]
    },
    {
     "name": "stdout",
     "output_type": "stream",
     "text": [
      "Moviepy - Done !\n",
      "Moviepy - video ready ./KTH-Action-dataset/jogging\\person11_jogging_d2_uncomp.mp4\n",
      "Moviepy - Building video ./KTH-Action-dataset/jogging\\person11_jogging_d3_uncomp.mp4.\n",
      "Moviepy - Writing video ./KTH-Action-dataset/jogging\\person11_jogging_d3_uncomp.mp4\n",
      "\n"
     ]
    },
    {
     "name": "stderr",
     "output_type": "stream",
     "text": [
      "                                                                                               \r"
     ]
    },
    {
     "name": "stdout",
     "output_type": "stream",
     "text": [
      "Moviepy - Done !\n",
      "Moviepy - video ready ./KTH-Action-dataset/jogging\\person11_jogging_d3_uncomp.mp4\n",
      "Moviepy - Building video ./KTH-Action-dataset/jogging\\person11_jogging_d4_uncomp.mp4.\n",
      "Moviepy - Writing video ./KTH-Action-dataset/jogging\\person11_jogging_d4_uncomp.mp4\n",
      "\n"
     ]
    },
    {
     "name": "stderr",
     "output_type": "stream",
     "text": [
      "                                                                                               \r"
     ]
    },
    {
     "name": "stdout",
     "output_type": "stream",
     "text": [
      "Moviepy - Done !\n",
      "Moviepy - video ready ./KTH-Action-dataset/jogging\\person11_jogging_d4_uncomp.mp4\n",
      "Moviepy - Building video ./KTH-Action-dataset/jogging\\person12_jogging_d1_uncomp.mp4.\n",
      "Moviepy - Writing video ./KTH-Action-dataset/jogging\\person12_jogging_d1_uncomp.mp4\n",
      "\n"
     ]
    },
    {
     "name": "stderr",
     "output_type": "stream",
     "text": [
      "                                                                                               \r"
     ]
    },
    {
     "name": "stdout",
     "output_type": "stream",
     "text": [
      "Moviepy - Done !\n",
      "Moviepy - video ready ./KTH-Action-dataset/jogging\\person12_jogging_d1_uncomp.mp4\n",
      "Moviepy - Building video ./KTH-Action-dataset/jogging\\person12_jogging_d2_uncomp.mp4.\n",
      "Moviepy - Writing video ./KTH-Action-dataset/jogging\\person12_jogging_d2_uncomp.mp4\n",
      "\n"
     ]
    },
    {
     "name": "stderr",
     "output_type": "stream",
     "text": [
      "                                                                                               \r"
     ]
    },
    {
     "name": "stdout",
     "output_type": "stream",
     "text": [
      "Moviepy - Done !\n",
      "Moviepy - video ready ./KTH-Action-dataset/jogging\\person12_jogging_d2_uncomp.mp4\n",
      "Moviepy - Building video ./KTH-Action-dataset/jogging\\person12_jogging_d3_uncomp.mp4.\n",
      "Moviepy - Writing video ./KTH-Action-dataset/jogging\\person12_jogging_d3_uncomp.mp4\n",
      "\n"
     ]
    },
    {
     "name": "stderr",
     "output_type": "stream",
     "text": [
      "                                                                                               \r"
     ]
    },
    {
     "name": "stdout",
     "output_type": "stream",
     "text": [
      "Moviepy - Done !\n",
      "Moviepy - video ready ./KTH-Action-dataset/jogging\\person12_jogging_d3_uncomp.mp4\n",
      "Moviepy - Building video ./KTH-Action-dataset/jogging\\person12_jogging_d4_uncomp.mp4.\n",
      "Moviepy - Writing video ./KTH-Action-dataset/jogging\\person12_jogging_d4_uncomp.mp4\n",
      "\n"
     ]
    },
    {
     "name": "stderr",
     "output_type": "stream",
     "text": [
      "                                                                                               \r"
     ]
    },
    {
     "name": "stdout",
     "output_type": "stream",
     "text": [
      "Moviepy - Done !\n",
      "Moviepy - video ready ./KTH-Action-dataset/jogging\\person12_jogging_d4_uncomp.mp4\n",
      "Moviepy - Building video ./KTH-Action-dataset/jogging\\person13_jogging_d1_uncomp.mp4.\n",
      "Moviepy - Writing video ./KTH-Action-dataset/jogging\\person13_jogging_d1_uncomp.mp4\n",
      "\n"
     ]
    },
    {
     "name": "stderr",
     "output_type": "stream",
     "text": [
      "                                                                                               \r"
     ]
    },
    {
     "name": "stdout",
     "output_type": "stream",
     "text": [
      "Moviepy - Done !\n",
      "Moviepy - video ready ./KTH-Action-dataset/jogging\\person13_jogging_d1_uncomp.mp4\n",
      "Moviepy - Building video ./KTH-Action-dataset/jogging\\person13_jogging_d2_uncomp.mp4.\n",
      "Moviepy - Writing video ./KTH-Action-dataset/jogging\\person13_jogging_d2_uncomp.mp4\n",
      "\n"
     ]
    },
    {
     "name": "stderr",
     "output_type": "stream",
     "text": [
      "                                                                                               \r"
     ]
    },
    {
     "name": "stdout",
     "output_type": "stream",
     "text": [
      "Moviepy - Done !\n",
      "Moviepy - video ready ./KTH-Action-dataset/jogging\\person13_jogging_d2_uncomp.mp4\n",
      "Moviepy - Building video ./KTH-Action-dataset/jogging\\person13_jogging_d3_uncomp.mp4.\n",
      "Moviepy - Writing video ./KTH-Action-dataset/jogging\\person13_jogging_d3_uncomp.mp4\n",
      "\n"
     ]
    },
    {
     "name": "stderr",
     "output_type": "stream",
     "text": [
      "                                                                                               \r"
     ]
    },
    {
     "name": "stdout",
     "output_type": "stream",
     "text": [
      "Moviepy - Done !\n",
      "Moviepy - video ready ./KTH-Action-dataset/jogging\\person13_jogging_d3_uncomp.mp4\n",
      "Moviepy - Building video ./KTH-Action-dataset/jogging\\person13_jogging_d4_uncomp.mp4.\n",
      "Moviepy - Writing video ./KTH-Action-dataset/jogging\\person13_jogging_d4_uncomp.mp4\n",
      "\n"
     ]
    },
    {
     "name": "stderr",
     "output_type": "stream",
     "text": [
      "                                                                                               \r"
     ]
    },
    {
     "name": "stdout",
     "output_type": "stream",
     "text": [
      "Moviepy - Done !\n",
      "Moviepy - video ready ./KTH-Action-dataset/jogging\\person13_jogging_d4_uncomp.mp4\n",
      "Moviepy - Building video ./KTH-Action-dataset/jogging\\person14_jogging_d1_uncomp.mp4.\n",
      "Moviepy - Writing video ./KTH-Action-dataset/jogging\\person14_jogging_d1_uncomp.mp4\n",
      "\n"
     ]
    },
    {
     "name": "stderr",
     "output_type": "stream",
     "text": [
      "                                                                                               \r"
     ]
    },
    {
     "name": "stdout",
     "output_type": "stream",
     "text": [
      "Moviepy - Done !\n",
      "Moviepy - video ready ./KTH-Action-dataset/jogging\\person14_jogging_d1_uncomp.mp4\n",
      "Moviepy - Building video ./KTH-Action-dataset/jogging\\person14_jogging_d2_uncomp.mp4.\n",
      "Moviepy - Writing video ./KTH-Action-dataset/jogging\\person14_jogging_d2_uncomp.mp4\n",
      "\n"
     ]
    },
    {
     "name": "stderr",
     "output_type": "stream",
     "text": [
      "                                                                                               \r"
     ]
    },
    {
     "name": "stdout",
     "output_type": "stream",
     "text": [
      "Moviepy - Done !\n",
      "Moviepy - video ready ./KTH-Action-dataset/jogging\\person14_jogging_d2_uncomp.mp4\n",
      "Moviepy - Building video ./KTH-Action-dataset/jogging\\person14_jogging_d3_uncomp.mp4.\n",
      "Moviepy - Writing video ./KTH-Action-dataset/jogging\\person14_jogging_d3_uncomp.mp4\n",
      "\n"
     ]
    },
    {
     "name": "stderr",
     "output_type": "stream",
     "text": [
      "                                                                                               \r"
     ]
    },
    {
     "name": "stdout",
     "output_type": "stream",
     "text": [
      "Moviepy - Done !\n",
      "Moviepy - video ready ./KTH-Action-dataset/jogging\\person14_jogging_d3_uncomp.mp4\n",
      "Moviepy - Building video ./KTH-Action-dataset/jogging\\person14_jogging_d4_uncomp.mp4.\n",
      "Moviepy - Writing video ./KTH-Action-dataset/jogging\\person14_jogging_d4_uncomp.mp4\n",
      "\n"
     ]
    },
    {
     "name": "stderr",
     "output_type": "stream",
     "text": [
      "                                                                                               \r"
     ]
    },
    {
     "name": "stdout",
     "output_type": "stream",
     "text": [
      "Moviepy - Done !\n",
      "Moviepy - video ready ./KTH-Action-dataset/jogging\\person14_jogging_d4_uncomp.mp4\n",
      "Moviepy - Building video ./KTH-Action-dataset/jogging\\person15_jogging_d1_uncomp.mp4.\n",
      "Moviepy - Writing video ./KTH-Action-dataset/jogging\\person15_jogging_d1_uncomp.mp4\n",
      "\n"
     ]
    },
    {
     "name": "stderr",
     "output_type": "stream",
     "text": [
      "                                                                                               \r"
     ]
    },
    {
     "name": "stdout",
     "output_type": "stream",
     "text": [
      "Moviepy - Done !\n",
      "Moviepy - video ready ./KTH-Action-dataset/jogging\\person15_jogging_d1_uncomp.mp4\n",
      "Moviepy - Building video ./KTH-Action-dataset/jogging\\person15_jogging_d2_uncomp.mp4.\n",
      "Moviepy - Writing video ./KTH-Action-dataset/jogging\\person15_jogging_d2_uncomp.mp4\n",
      "\n"
     ]
    },
    {
     "name": "stderr",
     "output_type": "stream",
     "text": [
      "                                                                                               \r"
     ]
    },
    {
     "name": "stdout",
     "output_type": "stream",
     "text": [
      "Moviepy - Done !\n",
      "Moviepy - video ready ./KTH-Action-dataset/jogging\\person15_jogging_d2_uncomp.mp4\n",
      "Moviepy - Building video ./KTH-Action-dataset/jogging\\person15_jogging_d3_uncomp.mp4.\n",
      "Moviepy - Writing video ./KTH-Action-dataset/jogging\\person15_jogging_d3_uncomp.mp4\n",
      "\n"
     ]
    },
    {
     "name": "stderr",
     "output_type": "stream",
     "text": [
      "                                                                                               \r"
     ]
    },
    {
     "name": "stdout",
     "output_type": "stream",
     "text": [
      "Moviepy - Done !\n",
      "Moviepy - video ready ./KTH-Action-dataset/jogging\\person15_jogging_d3_uncomp.mp4\n",
      "Moviepy - Building video ./KTH-Action-dataset/jogging\\person15_jogging_d4_uncomp.mp4.\n",
      "Moviepy - Writing video ./KTH-Action-dataset/jogging\\person15_jogging_d4_uncomp.mp4\n",
      "\n"
     ]
    },
    {
     "name": "stderr",
     "output_type": "stream",
     "text": [
      "                                                                                               \r"
     ]
    },
    {
     "name": "stdout",
     "output_type": "stream",
     "text": [
      "Moviepy - Done !\n",
      "Moviepy - video ready ./KTH-Action-dataset/jogging\\person15_jogging_d4_uncomp.mp4\n",
      "Moviepy - Building video ./KTH-Action-dataset/jogging\\person16_jogging_d1_uncomp.mp4.\n",
      "Moviepy - Writing video ./KTH-Action-dataset/jogging\\person16_jogging_d1_uncomp.mp4\n",
      "\n"
     ]
    },
    {
     "name": "stderr",
     "output_type": "stream",
     "text": [
      "                                                                                               \r"
     ]
    },
    {
     "name": "stdout",
     "output_type": "stream",
     "text": [
      "Moviepy - Done !\n",
      "Moviepy - video ready ./KTH-Action-dataset/jogging\\person16_jogging_d1_uncomp.mp4\n",
      "Moviepy - Building video ./KTH-Action-dataset/jogging\\person16_jogging_d2_uncomp.mp4.\n",
      "Moviepy - Writing video ./KTH-Action-dataset/jogging\\person16_jogging_d2_uncomp.mp4\n",
      "\n"
     ]
    },
    {
     "name": "stderr",
     "output_type": "stream",
     "text": [
      "                                                                                               \r"
     ]
    },
    {
     "name": "stdout",
     "output_type": "stream",
     "text": [
      "Moviepy - Done !\n",
      "Moviepy - video ready ./KTH-Action-dataset/jogging\\person16_jogging_d2_uncomp.mp4\n",
      "Moviepy - Building video ./KTH-Action-dataset/jogging\\person16_jogging_d3_uncomp.mp4.\n",
      "Moviepy - Writing video ./KTH-Action-dataset/jogging\\person16_jogging_d3_uncomp.mp4\n",
      "\n"
     ]
    },
    {
     "name": "stderr",
     "output_type": "stream",
     "text": [
      "                                                                                               \r"
     ]
    },
    {
     "name": "stdout",
     "output_type": "stream",
     "text": [
      "Moviepy - Done !\n",
      "Moviepy - video ready ./KTH-Action-dataset/jogging\\person16_jogging_d3_uncomp.mp4\n",
      "Moviepy - Building video ./KTH-Action-dataset/jogging\\person16_jogging_d4_uncomp.mp4.\n",
      "Moviepy - Writing video ./KTH-Action-dataset/jogging\\person16_jogging_d4_uncomp.mp4\n",
      "\n"
     ]
    },
    {
     "name": "stderr",
     "output_type": "stream",
     "text": [
      "                                                                                               \r"
     ]
    },
    {
     "name": "stdout",
     "output_type": "stream",
     "text": [
      "Moviepy - Done !\n",
      "Moviepy - video ready ./KTH-Action-dataset/jogging\\person16_jogging_d4_uncomp.mp4\n",
      "Moviepy - Building video ./KTH-Action-dataset/jogging\\person17_jogging_d1_uncomp.mp4.\n",
      "Moviepy - Writing video ./KTH-Action-dataset/jogging\\person17_jogging_d1_uncomp.mp4\n",
      "\n"
     ]
    },
    {
     "name": "stderr",
     "output_type": "stream",
     "text": [
      "                                                                                               \r"
     ]
    },
    {
     "name": "stdout",
     "output_type": "stream",
     "text": [
      "Moviepy - Done !\n",
      "Moviepy - video ready ./KTH-Action-dataset/jogging\\person17_jogging_d1_uncomp.mp4\n",
      "Moviepy - Building video ./KTH-Action-dataset/jogging\\person17_jogging_d2_uncomp.mp4.\n",
      "Moviepy - Writing video ./KTH-Action-dataset/jogging\\person17_jogging_d2_uncomp.mp4\n",
      "\n"
     ]
    },
    {
     "name": "stderr",
     "output_type": "stream",
     "text": [
      "                                                                                               \r"
     ]
    },
    {
     "name": "stdout",
     "output_type": "stream",
     "text": [
      "Moviepy - Done !\n",
      "Moviepy - video ready ./KTH-Action-dataset/jogging\\person17_jogging_d2_uncomp.mp4\n",
      "Moviepy - Building video ./KTH-Action-dataset/jogging\\person17_jogging_d3_uncomp.mp4.\n",
      "Moviepy - Writing video ./KTH-Action-dataset/jogging\\person17_jogging_d3_uncomp.mp4\n",
      "\n"
     ]
    },
    {
     "name": "stderr",
     "output_type": "stream",
     "text": [
      "                                                                                               \r"
     ]
    },
    {
     "name": "stdout",
     "output_type": "stream",
     "text": [
      "Moviepy - Done !\n",
      "Moviepy - video ready ./KTH-Action-dataset/jogging\\person17_jogging_d3_uncomp.mp4\n",
      "Moviepy - Building video ./KTH-Action-dataset/jogging\\person17_jogging_d4_uncomp.mp4.\n",
      "Moviepy - Writing video ./KTH-Action-dataset/jogging\\person17_jogging_d4_uncomp.mp4\n",
      "\n"
     ]
    },
    {
     "name": "stderr",
     "output_type": "stream",
     "text": [
      "                                                                                               \r"
     ]
    },
    {
     "name": "stdout",
     "output_type": "stream",
     "text": [
      "Moviepy - Done !\n",
      "Moviepy - video ready ./KTH-Action-dataset/jogging\\person17_jogging_d4_uncomp.mp4\n",
      "Moviepy - Building video ./KTH-Action-dataset/jogging\\person18_jogging_d1_uncomp.mp4.\n",
      "Moviepy - Writing video ./KTH-Action-dataset/jogging\\person18_jogging_d1_uncomp.mp4\n",
      "\n"
     ]
    },
    {
     "name": "stderr",
     "output_type": "stream",
     "text": [
      "                                                                                               \r"
     ]
    },
    {
     "name": "stdout",
     "output_type": "stream",
     "text": [
      "Moviepy - Done !\n",
      "Moviepy - video ready ./KTH-Action-dataset/jogging\\person18_jogging_d1_uncomp.mp4\n",
      "Moviepy - Building video ./KTH-Action-dataset/jogging\\person18_jogging_d2_uncomp.mp4.\n",
      "Moviepy - Writing video ./KTH-Action-dataset/jogging\\person18_jogging_d2_uncomp.mp4\n",
      "\n"
     ]
    },
    {
     "name": "stderr",
     "output_type": "stream",
     "text": [
      "                                                                                               \r"
     ]
    },
    {
     "name": "stdout",
     "output_type": "stream",
     "text": [
      "Moviepy - Done !\n",
      "Moviepy - video ready ./KTH-Action-dataset/jogging\\person18_jogging_d2_uncomp.mp4\n",
      "Moviepy - Building video ./KTH-Action-dataset/jogging\\person18_jogging_d3_uncomp.mp4.\n",
      "Moviepy - Writing video ./KTH-Action-dataset/jogging\\person18_jogging_d3_uncomp.mp4\n",
      "\n"
     ]
    },
    {
     "name": "stderr",
     "output_type": "stream",
     "text": [
      "                                                                                               \r"
     ]
    },
    {
     "name": "stdout",
     "output_type": "stream",
     "text": [
      "Moviepy - Done !\n",
      "Moviepy - video ready ./KTH-Action-dataset/jogging\\person18_jogging_d3_uncomp.mp4\n",
      "Moviepy - Building video ./KTH-Action-dataset/jogging\\person18_jogging_d4_uncomp.mp4.\n",
      "Moviepy - Writing video ./KTH-Action-dataset/jogging\\person18_jogging_d4_uncomp.mp4\n",
      "\n"
     ]
    },
    {
     "name": "stderr",
     "output_type": "stream",
     "text": [
      "                                                                                               \r"
     ]
    },
    {
     "name": "stdout",
     "output_type": "stream",
     "text": [
      "Moviepy - Done !\n",
      "Moviepy - video ready ./KTH-Action-dataset/jogging\\person18_jogging_d4_uncomp.mp4\n",
      "Moviepy - Building video ./KTH-Action-dataset/jogging\\person19_jogging_d1_uncomp.mp4.\n",
      "Moviepy - Writing video ./KTH-Action-dataset/jogging\\person19_jogging_d1_uncomp.mp4\n",
      "\n"
     ]
    },
    {
     "name": "stderr",
     "output_type": "stream",
     "text": [
      "                                                                                               \r"
     ]
    },
    {
     "name": "stdout",
     "output_type": "stream",
     "text": [
      "Moviepy - Done !\n",
      "Moviepy - video ready ./KTH-Action-dataset/jogging\\person19_jogging_d1_uncomp.mp4\n",
      "Moviepy - Building video ./KTH-Action-dataset/jogging\\person19_jogging_d2_uncomp.mp4.\n",
      "Moviepy - Writing video ./KTH-Action-dataset/jogging\\person19_jogging_d2_uncomp.mp4\n",
      "\n"
     ]
    },
    {
     "name": "stderr",
     "output_type": "stream",
     "text": [
      "                                                                                               \r"
     ]
    },
    {
     "name": "stdout",
     "output_type": "stream",
     "text": [
      "Moviepy - Done !\n",
      "Moviepy - video ready ./KTH-Action-dataset/jogging\\person19_jogging_d2_uncomp.mp4\n",
      "Moviepy - Building video ./KTH-Action-dataset/jogging\\person19_jogging_d3_uncomp.mp4.\n",
      "Moviepy - Writing video ./KTH-Action-dataset/jogging\\person19_jogging_d3_uncomp.mp4\n",
      "\n"
     ]
    },
    {
     "name": "stderr",
     "output_type": "stream",
     "text": [
      "                                                                                               \r"
     ]
    },
    {
     "name": "stdout",
     "output_type": "stream",
     "text": [
      "Moviepy - Done !\n",
      "Moviepy - video ready ./KTH-Action-dataset/jogging\\person19_jogging_d3_uncomp.mp4\n",
      "Moviepy - Building video ./KTH-Action-dataset/jogging\\person19_jogging_d4_uncomp.mp4.\n",
      "Moviepy - Writing video ./KTH-Action-dataset/jogging\\person19_jogging_d4_uncomp.mp4\n",
      "\n"
     ]
    },
    {
     "name": "stderr",
     "output_type": "stream",
     "text": [
      "                                                                                               \r"
     ]
    },
    {
     "name": "stdout",
     "output_type": "stream",
     "text": [
      "Moviepy - Done !\n",
      "Moviepy - video ready ./KTH-Action-dataset/jogging\\person19_jogging_d4_uncomp.mp4\n",
      "Moviepy - Building video ./KTH-Action-dataset/jogging\\person20_jogging_d1_uncomp.mp4.\n",
      "Moviepy - Writing video ./KTH-Action-dataset/jogging\\person20_jogging_d1_uncomp.mp4\n",
      "\n"
     ]
    },
    {
     "name": "stderr",
     "output_type": "stream",
     "text": [
      "                                                                                               \r"
     ]
    },
    {
     "name": "stdout",
     "output_type": "stream",
     "text": [
      "Moviepy - Done !\n",
      "Moviepy - video ready ./KTH-Action-dataset/jogging\\person20_jogging_d1_uncomp.mp4\n",
      "Moviepy - Building video ./KTH-Action-dataset/jogging\\person20_jogging_d2_uncomp.mp4.\n",
      "Moviepy - Writing video ./KTH-Action-dataset/jogging\\person20_jogging_d2_uncomp.mp4\n",
      "\n"
     ]
    },
    {
     "name": "stderr",
     "output_type": "stream",
     "text": [
      "                                                                                               \r"
     ]
    },
    {
     "name": "stdout",
     "output_type": "stream",
     "text": [
      "Moviepy - Done !\n",
      "Moviepy - video ready ./KTH-Action-dataset/jogging\\person20_jogging_d2_uncomp.mp4\n",
      "Moviepy - Building video ./KTH-Action-dataset/jogging\\person20_jogging_d3_uncomp.mp4.\n",
      "Moviepy - Writing video ./KTH-Action-dataset/jogging\\person20_jogging_d3_uncomp.mp4\n",
      "\n"
     ]
    },
    {
     "name": "stderr",
     "output_type": "stream",
     "text": [
      "                                                                                               \r"
     ]
    },
    {
     "name": "stdout",
     "output_type": "stream",
     "text": [
      "Moviepy - Done !\n",
      "Moviepy - video ready ./KTH-Action-dataset/jogging\\person20_jogging_d3_uncomp.mp4\n",
      "Moviepy - Building video ./KTH-Action-dataset/jogging\\person20_jogging_d4_uncomp.mp4.\n",
      "Moviepy - Writing video ./KTH-Action-dataset/jogging\\person20_jogging_d4_uncomp.mp4\n",
      "\n"
     ]
    },
    {
     "name": "stderr",
     "output_type": "stream",
     "text": [
      "                                                                                               \r"
     ]
    },
    {
     "name": "stdout",
     "output_type": "stream",
     "text": [
      "Moviepy - Done !\n",
      "Moviepy - video ready ./KTH-Action-dataset/jogging\\person20_jogging_d4_uncomp.mp4\n",
      "Moviepy - Building video ./KTH-Action-dataset/jogging\\person21_jogging_d1_uncomp.mp4.\n",
      "Moviepy - Writing video ./KTH-Action-dataset/jogging\\person21_jogging_d1_uncomp.mp4\n",
      "\n"
     ]
    },
    {
     "name": "stderr",
     "output_type": "stream",
     "text": [
      "                                                                                               \r"
     ]
    },
    {
     "name": "stdout",
     "output_type": "stream",
     "text": [
      "Moviepy - Done !\n",
      "Moviepy - video ready ./KTH-Action-dataset/jogging\\person21_jogging_d1_uncomp.mp4\n",
      "Moviepy - Building video ./KTH-Action-dataset/jogging\\person21_jogging_d2_uncomp.mp4.\n",
      "Moviepy - Writing video ./KTH-Action-dataset/jogging\\person21_jogging_d2_uncomp.mp4\n",
      "\n"
     ]
    },
    {
     "name": "stderr",
     "output_type": "stream",
     "text": [
      "                                                                                               \r"
     ]
    },
    {
     "name": "stdout",
     "output_type": "stream",
     "text": [
      "Moviepy - Done !\n",
      "Moviepy - video ready ./KTH-Action-dataset/jogging\\person21_jogging_d2_uncomp.mp4\n",
      "Moviepy - Building video ./KTH-Action-dataset/jogging\\person21_jogging_d3_uncomp.mp4.\n",
      "Moviepy - Writing video ./KTH-Action-dataset/jogging\\person21_jogging_d3_uncomp.mp4\n",
      "\n"
     ]
    },
    {
     "name": "stderr",
     "output_type": "stream",
     "text": [
      "                                                                                               \r"
     ]
    },
    {
     "name": "stdout",
     "output_type": "stream",
     "text": [
      "Moviepy - Done !\n",
      "Moviepy - video ready ./KTH-Action-dataset/jogging\\person21_jogging_d3_uncomp.mp4\n",
      "Moviepy - Building video ./KTH-Action-dataset/jogging\\person21_jogging_d4_uncomp.mp4.\n",
      "Moviepy - Writing video ./KTH-Action-dataset/jogging\\person21_jogging_d4_uncomp.mp4\n",
      "\n"
     ]
    },
    {
     "name": "stderr",
     "output_type": "stream",
     "text": [
      "                                                                                               \r"
     ]
    },
    {
     "name": "stdout",
     "output_type": "stream",
     "text": [
      "Moviepy - Done !\n",
      "Moviepy - video ready ./KTH-Action-dataset/jogging\\person21_jogging_d4_uncomp.mp4\n",
      "Moviepy - Building video ./KTH-Action-dataset/jogging\\person22_jogging_d1_uncomp.mp4.\n",
      "Moviepy - Writing video ./KTH-Action-dataset/jogging\\person22_jogging_d1_uncomp.mp4\n",
      "\n"
     ]
    },
    {
     "name": "stderr",
     "output_type": "stream",
     "text": [
      "                                                                                               \r"
     ]
    },
    {
     "name": "stdout",
     "output_type": "stream",
     "text": [
      "Moviepy - Done !\n",
      "Moviepy - video ready ./KTH-Action-dataset/jogging\\person22_jogging_d1_uncomp.mp4\n",
      "Moviepy - Building video ./KTH-Action-dataset/jogging\\person22_jogging_d2_uncomp.mp4.\n",
      "Moviepy - Writing video ./KTH-Action-dataset/jogging\\person22_jogging_d2_uncomp.mp4\n",
      "\n"
     ]
    },
    {
     "name": "stderr",
     "output_type": "stream",
     "text": [
      "                                                                                               \r"
     ]
    },
    {
     "name": "stdout",
     "output_type": "stream",
     "text": [
      "Moviepy - Done !\n",
      "Moviepy - video ready ./KTH-Action-dataset/jogging\\person22_jogging_d2_uncomp.mp4\n",
      "Moviepy - Building video ./KTH-Action-dataset/jogging\\person22_jogging_d3_uncomp.mp4.\n",
      "Moviepy - Writing video ./KTH-Action-dataset/jogging\\person22_jogging_d3_uncomp.mp4\n",
      "\n"
     ]
    },
    {
     "name": "stderr",
     "output_type": "stream",
     "text": [
      "                                                                                               \r"
     ]
    },
    {
     "name": "stdout",
     "output_type": "stream",
     "text": [
      "Moviepy - Done !\n",
      "Moviepy - video ready ./KTH-Action-dataset/jogging\\person22_jogging_d3_uncomp.mp4\n",
      "Moviepy - Building video ./KTH-Action-dataset/jogging\\person22_jogging_d4_uncomp.mp4.\n",
      "Moviepy - Writing video ./KTH-Action-dataset/jogging\\person22_jogging_d4_uncomp.mp4\n",
      "\n"
     ]
    },
    {
     "name": "stderr",
     "output_type": "stream",
     "text": [
      "                                                                                               \r"
     ]
    },
    {
     "name": "stdout",
     "output_type": "stream",
     "text": [
      "Moviepy - Done !\n",
      "Moviepy - video ready ./KTH-Action-dataset/jogging\\person22_jogging_d4_uncomp.mp4\n",
      "Moviepy - Building video ./KTH-Action-dataset/jogging\\person23_jogging_d1_uncomp.mp4.\n",
      "Moviepy - Writing video ./KTH-Action-dataset/jogging\\person23_jogging_d1_uncomp.mp4\n",
      "\n"
     ]
    },
    {
     "name": "stderr",
     "output_type": "stream",
     "text": [
      "                                                                                               \r"
     ]
    },
    {
     "name": "stdout",
     "output_type": "stream",
     "text": [
      "Moviepy - Done !\n",
      "Moviepy - video ready ./KTH-Action-dataset/jogging\\person23_jogging_d1_uncomp.mp4\n",
      "Moviepy - Building video ./KTH-Action-dataset/jogging\\person23_jogging_d2_uncomp.mp4.\n",
      "Moviepy - Writing video ./KTH-Action-dataset/jogging\\person23_jogging_d2_uncomp.mp4\n",
      "\n"
     ]
    },
    {
     "name": "stderr",
     "output_type": "stream",
     "text": [
      "                                                                                               \r"
     ]
    },
    {
     "name": "stdout",
     "output_type": "stream",
     "text": [
      "Moviepy - Done !\n",
      "Moviepy - video ready ./KTH-Action-dataset/jogging\\person23_jogging_d2_uncomp.mp4\n",
      "Moviepy - Building video ./KTH-Action-dataset/jogging\\person23_jogging_d3_uncomp.mp4.\n",
      "Moviepy - Writing video ./KTH-Action-dataset/jogging\\person23_jogging_d3_uncomp.mp4\n",
      "\n"
     ]
    },
    {
     "name": "stderr",
     "output_type": "stream",
     "text": [
      "                                                                                               \r"
     ]
    },
    {
     "name": "stdout",
     "output_type": "stream",
     "text": [
      "Moviepy - Done !\n",
      "Moviepy - video ready ./KTH-Action-dataset/jogging\\person23_jogging_d3_uncomp.mp4\n",
      "Moviepy - Building video ./KTH-Action-dataset/jogging\\person23_jogging_d4_uncomp.mp4.\n",
      "Moviepy - Writing video ./KTH-Action-dataset/jogging\\person23_jogging_d4_uncomp.mp4\n",
      "\n"
     ]
    },
    {
     "name": "stderr",
     "output_type": "stream",
     "text": [
      "                                                                                               \r"
     ]
    },
    {
     "name": "stdout",
     "output_type": "stream",
     "text": [
      "Moviepy - Done !\n",
      "Moviepy - video ready ./KTH-Action-dataset/jogging\\person23_jogging_d4_uncomp.mp4\n",
      "Moviepy - Building video ./KTH-Action-dataset/jogging\\person24_jogging_d1_uncomp.mp4.\n",
      "Moviepy - Writing video ./KTH-Action-dataset/jogging\\person24_jogging_d1_uncomp.mp4\n",
      "\n"
     ]
    },
    {
     "name": "stderr",
     "output_type": "stream",
     "text": [
      "                                                                                               \r"
     ]
    },
    {
     "name": "stdout",
     "output_type": "stream",
     "text": [
      "Moviepy - Done !\n",
      "Moviepy - video ready ./KTH-Action-dataset/jogging\\person24_jogging_d1_uncomp.mp4\n",
      "Moviepy - Building video ./KTH-Action-dataset/jogging\\person24_jogging_d2_uncomp.mp4.\n",
      "Moviepy - Writing video ./KTH-Action-dataset/jogging\\person24_jogging_d2_uncomp.mp4\n",
      "\n"
     ]
    },
    {
     "name": "stderr",
     "output_type": "stream",
     "text": [
      "                                                                                               \r"
     ]
    },
    {
     "name": "stdout",
     "output_type": "stream",
     "text": [
      "Moviepy - Done !\n",
      "Moviepy - video ready ./KTH-Action-dataset/jogging\\person24_jogging_d2_uncomp.mp4\n",
      "Moviepy - Building video ./KTH-Action-dataset/jogging\\person24_jogging_d3_uncomp.mp4.\n",
      "Moviepy - Writing video ./KTH-Action-dataset/jogging\\person24_jogging_d3_uncomp.mp4\n",
      "\n"
     ]
    },
    {
     "name": "stderr",
     "output_type": "stream",
     "text": [
      "                                                                                               \r"
     ]
    },
    {
     "name": "stdout",
     "output_type": "stream",
     "text": [
      "Moviepy - Done !\n",
      "Moviepy - video ready ./KTH-Action-dataset/jogging\\person24_jogging_d3_uncomp.mp4\n",
      "Moviepy - Building video ./KTH-Action-dataset/jogging\\person24_jogging_d4_uncomp.mp4.\n",
      "Moviepy - Writing video ./KTH-Action-dataset/jogging\\person24_jogging_d4_uncomp.mp4\n",
      "\n"
     ]
    },
    {
     "name": "stderr",
     "output_type": "stream",
     "text": [
      "                                                                                               \r"
     ]
    },
    {
     "name": "stdout",
     "output_type": "stream",
     "text": [
      "Moviepy - Done !\n",
      "Moviepy - video ready ./KTH-Action-dataset/jogging\\person24_jogging_d4_uncomp.mp4\n",
      "Moviepy - Building video ./KTH-Action-dataset/jogging\\person25_jogging_d1_uncomp.mp4.\n",
      "Moviepy - Writing video ./KTH-Action-dataset/jogging\\person25_jogging_d1_uncomp.mp4\n",
      "\n"
     ]
    },
    {
     "name": "stderr",
     "output_type": "stream",
     "text": [
      "                                                                                               \r"
     ]
    },
    {
     "name": "stdout",
     "output_type": "stream",
     "text": [
      "Moviepy - Done !\n",
      "Moviepy - video ready ./KTH-Action-dataset/jogging\\person25_jogging_d1_uncomp.mp4\n",
      "Moviepy - Building video ./KTH-Action-dataset/jogging\\person25_jogging_d2_uncomp.mp4.\n",
      "Moviepy - Writing video ./KTH-Action-dataset/jogging\\person25_jogging_d2_uncomp.mp4\n",
      "\n"
     ]
    },
    {
     "name": "stderr",
     "output_type": "stream",
     "text": [
      "                                                                                               \r"
     ]
    },
    {
     "name": "stdout",
     "output_type": "stream",
     "text": [
      "Moviepy - Done !\n",
      "Moviepy - video ready ./KTH-Action-dataset/jogging\\person25_jogging_d2_uncomp.mp4\n",
      "Moviepy - Building video ./KTH-Action-dataset/jogging\\person25_jogging_d3_uncomp.mp4.\n",
      "Moviepy - Writing video ./KTH-Action-dataset/jogging\\person25_jogging_d3_uncomp.mp4\n",
      "\n"
     ]
    },
    {
     "name": "stderr",
     "output_type": "stream",
     "text": [
      "                                                                                               \r"
     ]
    },
    {
     "name": "stdout",
     "output_type": "stream",
     "text": [
      "Moviepy - Done !\n",
      "Moviepy - video ready ./KTH-Action-dataset/jogging\\person25_jogging_d3_uncomp.mp4\n",
      "Moviepy - Building video ./KTH-Action-dataset/jogging\\person25_jogging_d4_uncomp.mp4.\n",
      "Moviepy - Writing video ./KTH-Action-dataset/jogging\\person25_jogging_d4_uncomp.mp4\n",
      "\n"
     ]
    },
    {
     "name": "stderr",
     "output_type": "stream",
     "text": [
      "                                                                                               \r"
     ]
    },
    {
     "name": "stdout",
     "output_type": "stream",
     "text": [
      "Moviepy - Done !\n",
      "Moviepy - video ready ./KTH-Action-dataset/jogging\\person25_jogging_d4_uncomp.mp4\n"
     ]
    },
    {
     "name": "stderr",
     "output_type": "stream",
     "text": [
      "100% |########################################################################|\n"
     ]
    },
    {
     "name": "stdout",
     "output_type": "stream",
     "text": [
      "Moviepy - Building video ./KTH-Action-dataset/running\\person01_running_d1_uncomp.mp4.\n",
      "Moviepy - Writing video ./KTH-Action-dataset/running\\person01_running_d1_uncomp.mp4\n",
      "\n"
     ]
    },
    {
     "name": "stderr",
     "output_type": "stream",
     "text": [
      "                                                                                               \r"
     ]
    },
    {
     "name": "stdout",
     "output_type": "stream",
     "text": [
      "Moviepy - Done !\n",
      "Moviepy - video ready ./KTH-Action-dataset/running\\person01_running_d1_uncomp.mp4\n",
      "Moviepy - Building video ./KTH-Action-dataset/running\\person01_running_d2_uncomp.mp4.\n",
      "Moviepy - Writing video ./KTH-Action-dataset/running\\person01_running_d2_uncomp.mp4\n",
      "\n"
     ]
    },
    {
     "name": "stderr",
     "output_type": "stream",
     "text": [
      "                                                                                               \r"
     ]
    },
    {
     "name": "stdout",
     "output_type": "stream",
     "text": [
      "Moviepy - Done !\n",
      "Moviepy - video ready ./KTH-Action-dataset/running\\person01_running_d2_uncomp.mp4\n",
      "Moviepy - Building video ./KTH-Action-dataset/running\\person01_running_d3_uncomp.mp4.\n",
      "Moviepy - Writing video ./KTH-Action-dataset/running\\person01_running_d3_uncomp.mp4\n",
      "\n"
     ]
    },
    {
     "name": "stderr",
     "output_type": "stream",
     "text": [
      "                                                                                               \r"
     ]
    },
    {
     "name": "stdout",
     "output_type": "stream",
     "text": [
      "Moviepy - Done !\n",
      "Moviepy - video ready ./KTH-Action-dataset/running\\person01_running_d3_uncomp.mp4\n",
      "Moviepy - Building video ./KTH-Action-dataset/running\\person01_running_d4_uncomp.mp4.\n",
      "Moviepy - Writing video ./KTH-Action-dataset/running\\person01_running_d4_uncomp.mp4\n",
      "\n"
     ]
    },
    {
     "name": "stderr",
     "output_type": "stream",
     "text": [
      "                                                                                               \r"
     ]
    },
    {
     "name": "stdout",
     "output_type": "stream",
     "text": [
      "Moviepy - Done !\n",
      "Moviepy - video ready ./KTH-Action-dataset/running\\person01_running_d4_uncomp.mp4\n",
      "Moviepy - Building video ./KTH-Action-dataset/running\\person02_running_d1_uncomp.mp4.\n",
      "Moviepy - Writing video ./KTH-Action-dataset/running\\person02_running_d1_uncomp.mp4\n",
      "\n"
     ]
    },
    {
     "name": "stderr",
     "output_type": "stream",
     "text": [
      "                                                                                               \r"
     ]
    },
    {
     "name": "stdout",
     "output_type": "stream",
     "text": [
      "Moviepy - Done !\n",
      "Moviepy - video ready ./KTH-Action-dataset/running\\person02_running_d1_uncomp.mp4\n",
      "Moviepy - Building video ./KTH-Action-dataset/running\\person02_running_d2_uncomp.mp4.\n",
      "Moviepy - Writing video ./KTH-Action-dataset/running\\person02_running_d2_uncomp.mp4\n",
      "\n"
     ]
    },
    {
     "name": "stderr",
     "output_type": "stream",
     "text": [
      "                                                                                               \r"
     ]
    },
    {
     "name": "stdout",
     "output_type": "stream",
     "text": [
      "Moviepy - Done !\n",
      "Moviepy - video ready ./KTH-Action-dataset/running\\person02_running_d2_uncomp.mp4\n",
      "Moviepy - Building video ./KTH-Action-dataset/running\\person02_running_d3_uncomp.mp4.\n",
      "Moviepy - Writing video ./KTH-Action-dataset/running\\person02_running_d3_uncomp.mp4\n",
      "\n"
     ]
    },
    {
     "name": "stderr",
     "output_type": "stream",
     "text": [
      "                                                                                               \r"
     ]
    },
    {
     "name": "stdout",
     "output_type": "stream",
     "text": [
      "Moviepy - Done !\n",
      "Moviepy - video ready ./KTH-Action-dataset/running\\person02_running_d3_uncomp.mp4\n",
      "Moviepy - Building video ./KTH-Action-dataset/running\\person02_running_d4_uncomp.mp4.\n",
      "Moviepy - Writing video ./KTH-Action-dataset/running\\person02_running_d4_uncomp.mp4\n",
      "\n"
     ]
    },
    {
     "name": "stderr",
     "output_type": "stream",
     "text": [
      "                                                                                               \r"
     ]
    },
    {
     "name": "stdout",
     "output_type": "stream",
     "text": [
      "Moviepy - Done !\n",
      "Moviepy - video ready ./KTH-Action-dataset/running\\person02_running_d4_uncomp.mp4\n",
      "Moviepy - Building video ./KTH-Action-dataset/running\\person03_running_d1_uncomp.mp4.\n",
      "Moviepy - Writing video ./KTH-Action-dataset/running\\person03_running_d1_uncomp.mp4\n",
      "\n"
     ]
    },
    {
     "name": "stderr",
     "output_type": "stream",
     "text": [
      "                                                                                               \r"
     ]
    },
    {
     "name": "stdout",
     "output_type": "stream",
     "text": [
      "Moviepy - Done !\n",
      "Moviepy - video ready ./KTH-Action-dataset/running\\person03_running_d1_uncomp.mp4\n",
      "Moviepy - Building video ./KTH-Action-dataset/running\\person03_running_d2_uncomp.mp4.\n",
      "Moviepy - Writing video ./KTH-Action-dataset/running\\person03_running_d2_uncomp.mp4\n",
      "\n"
     ]
    },
    {
     "name": "stderr",
     "output_type": "stream",
     "text": [
      "                                                                                               \r"
     ]
    },
    {
     "name": "stdout",
     "output_type": "stream",
     "text": [
      "Moviepy - Done !\n",
      "Moviepy - video ready ./KTH-Action-dataset/running\\person03_running_d2_uncomp.mp4\n",
      "Moviepy - Building video ./KTH-Action-dataset/running\\person03_running_d3_uncomp.mp4.\n",
      "Moviepy - Writing video ./KTH-Action-dataset/running\\person03_running_d3_uncomp.mp4\n",
      "\n"
     ]
    },
    {
     "name": "stderr",
     "output_type": "stream",
     "text": [
      "                                                                                               \r"
     ]
    },
    {
     "name": "stdout",
     "output_type": "stream",
     "text": [
      "Moviepy - Done !\n",
      "Moviepy - video ready ./KTH-Action-dataset/running\\person03_running_d3_uncomp.mp4\n",
      "Moviepy - Building video ./KTH-Action-dataset/running\\person03_running_d4_uncomp.mp4.\n",
      "Moviepy - Writing video ./KTH-Action-dataset/running\\person03_running_d4_uncomp.mp4\n",
      "\n"
     ]
    },
    {
     "name": "stderr",
     "output_type": "stream",
     "text": [
      "                                                                                               \r"
     ]
    },
    {
     "name": "stdout",
     "output_type": "stream",
     "text": [
      "Moviepy - Done !\n",
      "Moviepy - video ready ./KTH-Action-dataset/running\\person03_running_d4_uncomp.mp4\n",
      "Moviepy - Building video ./KTH-Action-dataset/running\\person04_running_d1_uncomp.mp4.\n",
      "Moviepy - Writing video ./KTH-Action-dataset/running\\person04_running_d1_uncomp.mp4\n",
      "\n"
     ]
    },
    {
     "name": "stderr",
     "output_type": "stream",
     "text": [
      "                                                                                               \r"
     ]
    },
    {
     "name": "stdout",
     "output_type": "stream",
     "text": [
      "Moviepy - Done !\n",
      "Moviepy - video ready ./KTH-Action-dataset/running\\person04_running_d1_uncomp.mp4\n",
      "Moviepy - Building video ./KTH-Action-dataset/running\\person04_running_d2_uncomp.mp4.\n",
      "Moviepy - Writing video ./KTH-Action-dataset/running\\person04_running_d2_uncomp.mp4\n",
      "\n"
     ]
    },
    {
     "name": "stderr",
     "output_type": "stream",
     "text": [
      "                                                                                               \r"
     ]
    },
    {
     "name": "stdout",
     "output_type": "stream",
     "text": [
      "Moviepy - Done !\n",
      "Moviepy - video ready ./KTH-Action-dataset/running\\person04_running_d2_uncomp.mp4\n",
      "Moviepy - Building video ./KTH-Action-dataset/running\\person04_running_d3_uncomp.mp4.\n",
      "Moviepy - Writing video ./KTH-Action-dataset/running\\person04_running_d3_uncomp.mp4\n",
      "\n"
     ]
    },
    {
     "name": "stderr",
     "output_type": "stream",
     "text": [
      "                                                                                               \r"
     ]
    },
    {
     "name": "stdout",
     "output_type": "stream",
     "text": [
      "Moviepy - Done !\n",
      "Moviepy - video ready ./KTH-Action-dataset/running\\person04_running_d3_uncomp.mp4\n",
      "Moviepy - Building video ./KTH-Action-dataset/running\\person04_running_d4_uncomp.mp4.\n",
      "Moviepy - Writing video ./KTH-Action-dataset/running\\person04_running_d4_uncomp.mp4\n",
      "\n"
     ]
    },
    {
     "name": "stderr",
     "output_type": "stream",
     "text": [
      "                                                                                               \r"
     ]
    },
    {
     "name": "stdout",
     "output_type": "stream",
     "text": [
      "Moviepy - Done !\n",
      "Moviepy - video ready ./KTH-Action-dataset/running\\person04_running_d4_uncomp.mp4\n",
      "Moviepy - Building video ./KTH-Action-dataset/running\\person05_running_d1_uncomp.mp4.\n",
      "Moviepy - Writing video ./KTH-Action-dataset/running\\person05_running_d1_uncomp.mp4\n",
      "\n"
     ]
    },
    {
     "name": "stderr",
     "output_type": "stream",
     "text": [
      "                                                                                               \r"
     ]
    },
    {
     "name": "stdout",
     "output_type": "stream",
     "text": [
      "Moviepy - Done !\n",
      "Moviepy - video ready ./KTH-Action-dataset/running\\person05_running_d1_uncomp.mp4\n",
      "Moviepy - Building video ./KTH-Action-dataset/running\\person05_running_d2_uncomp.mp4.\n",
      "Moviepy - Writing video ./KTH-Action-dataset/running\\person05_running_d2_uncomp.mp4\n",
      "\n"
     ]
    },
    {
     "name": "stderr",
     "output_type": "stream",
     "text": [
      "                                                                                               \r"
     ]
    },
    {
     "name": "stdout",
     "output_type": "stream",
     "text": [
      "Moviepy - Done !\n",
      "Moviepy - video ready ./KTH-Action-dataset/running\\person05_running_d2_uncomp.mp4\n",
      "Moviepy - Building video ./KTH-Action-dataset/running\\person05_running_d3_uncomp.mp4.\n",
      "Moviepy - Writing video ./KTH-Action-dataset/running\\person05_running_d3_uncomp.mp4\n",
      "\n"
     ]
    },
    {
     "name": "stderr",
     "output_type": "stream",
     "text": [
      "                                                                                               \r"
     ]
    },
    {
     "name": "stdout",
     "output_type": "stream",
     "text": [
      "Moviepy - Done !\n",
      "Moviepy - video ready ./KTH-Action-dataset/running\\person05_running_d3_uncomp.mp4\n",
      "Moviepy - Building video ./KTH-Action-dataset/running\\person05_running_d4_uncomp.mp4.\n",
      "Moviepy - Writing video ./KTH-Action-dataset/running\\person05_running_d4_uncomp.mp4\n",
      "\n"
     ]
    },
    {
     "name": "stderr",
     "output_type": "stream",
     "text": [
      "                                                                                               \r"
     ]
    },
    {
     "name": "stdout",
     "output_type": "stream",
     "text": [
      "Moviepy - Done !\n",
      "Moviepy - video ready ./KTH-Action-dataset/running\\person05_running_d4_uncomp.mp4\n",
      "Moviepy - Building video ./KTH-Action-dataset/running\\person06_running_d1_uncomp.mp4.\n",
      "Moviepy - Writing video ./KTH-Action-dataset/running\\person06_running_d1_uncomp.mp4\n",
      "\n"
     ]
    },
    {
     "name": "stderr",
     "output_type": "stream",
     "text": [
      "                                                                                               \r"
     ]
    },
    {
     "name": "stdout",
     "output_type": "stream",
     "text": [
      "Moviepy - Done !\n",
      "Moviepy - video ready ./KTH-Action-dataset/running\\person06_running_d1_uncomp.mp4\n",
      "Moviepy - Building video ./KTH-Action-dataset/running\\person06_running_d2_uncomp.mp4.\n",
      "Moviepy - Writing video ./KTH-Action-dataset/running\\person06_running_d2_uncomp.mp4\n",
      "\n"
     ]
    },
    {
     "name": "stderr",
     "output_type": "stream",
     "text": [
      "                                                                                               \r"
     ]
    },
    {
     "name": "stdout",
     "output_type": "stream",
     "text": [
      "Moviepy - Done !\n",
      "Moviepy - video ready ./KTH-Action-dataset/running\\person06_running_d2_uncomp.mp4\n",
      "Moviepy - Building video ./KTH-Action-dataset/running\\person06_running_d3_uncomp.mp4.\n",
      "Moviepy - Writing video ./KTH-Action-dataset/running\\person06_running_d3_uncomp.mp4\n",
      "\n"
     ]
    },
    {
     "name": "stderr",
     "output_type": "stream",
     "text": [
      "                                                                                               \r"
     ]
    },
    {
     "name": "stdout",
     "output_type": "stream",
     "text": [
      "Moviepy - Done !\n",
      "Moviepy - video ready ./KTH-Action-dataset/running\\person06_running_d3_uncomp.mp4\n",
      "Moviepy - Building video ./KTH-Action-dataset/running\\person06_running_d4_uncomp.mp4.\n",
      "Moviepy - Writing video ./KTH-Action-dataset/running\\person06_running_d4_uncomp.mp4\n",
      "\n"
     ]
    },
    {
     "name": "stderr",
     "output_type": "stream",
     "text": [
      "                                                                                               \r"
     ]
    },
    {
     "name": "stdout",
     "output_type": "stream",
     "text": [
      "Moviepy - Done !\n",
      "Moviepy - video ready ./KTH-Action-dataset/running\\person06_running_d4_uncomp.mp4\n",
      "Moviepy - Building video ./KTH-Action-dataset/running\\person07_running_d1_uncomp.mp4.\n",
      "Moviepy - Writing video ./KTH-Action-dataset/running\\person07_running_d1_uncomp.mp4\n",
      "\n"
     ]
    },
    {
     "name": "stderr",
     "output_type": "stream",
     "text": [
      "                                                                                               \r"
     ]
    },
    {
     "name": "stdout",
     "output_type": "stream",
     "text": [
      "Moviepy - Done !\n",
      "Moviepy - video ready ./KTH-Action-dataset/running\\person07_running_d1_uncomp.mp4\n",
      "Moviepy - Building video ./KTH-Action-dataset/running\\person07_running_d2_uncomp.mp4.\n",
      "Moviepy - Writing video ./KTH-Action-dataset/running\\person07_running_d2_uncomp.mp4\n",
      "\n"
     ]
    },
    {
     "name": "stderr",
     "output_type": "stream",
     "text": [
      "                                                                                               \r"
     ]
    },
    {
     "name": "stdout",
     "output_type": "stream",
     "text": [
      "Moviepy - Done !\n",
      "Moviepy - video ready ./KTH-Action-dataset/running\\person07_running_d2_uncomp.mp4\n",
      "Moviepy - Building video ./KTH-Action-dataset/running\\person07_running_d3_uncomp.mp4.\n",
      "Moviepy - Writing video ./KTH-Action-dataset/running\\person07_running_d3_uncomp.mp4\n",
      "\n"
     ]
    },
    {
     "name": "stderr",
     "output_type": "stream",
     "text": [
      "                                                                                               \r"
     ]
    },
    {
     "name": "stdout",
     "output_type": "stream",
     "text": [
      "Moviepy - Done !\n",
      "Moviepy - video ready ./KTH-Action-dataset/running\\person07_running_d3_uncomp.mp4\n",
      "Moviepy - Building video ./KTH-Action-dataset/running\\person07_running_d4_uncomp.mp4.\n",
      "Moviepy - Writing video ./KTH-Action-dataset/running\\person07_running_d4_uncomp.mp4\n",
      "\n"
     ]
    },
    {
     "name": "stderr",
     "output_type": "stream",
     "text": [
      "                                                                                               \r"
     ]
    },
    {
     "name": "stdout",
     "output_type": "stream",
     "text": [
      "Moviepy - Done !\n",
      "Moviepy - video ready ./KTH-Action-dataset/running\\person07_running_d4_uncomp.mp4\n",
      "Moviepy - Building video ./KTH-Action-dataset/running\\person08_running_d1_uncomp.mp4.\n",
      "Moviepy - Writing video ./KTH-Action-dataset/running\\person08_running_d1_uncomp.mp4\n",
      "\n"
     ]
    },
    {
     "name": "stderr",
     "output_type": "stream",
     "text": [
      "                                                                                               \r"
     ]
    },
    {
     "name": "stdout",
     "output_type": "stream",
     "text": [
      "Moviepy - Done !\n",
      "Moviepy - video ready ./KTH-Action-dataset/running\\person08_running_d1_uncomp.mp4\n",
      "Moviepy - Building video ./KTH-Action-dataset/running\\person08_running_d2_uncomp.mp4.\n",
      "Moviepy - Writing video ./KTH-Action-dataset/running\\person08_running_d2_uncomp.mp4\n",
      "\n"
     ]
    },
    {
     "name": "stderr",
     "output_type": "stream",
     "text": [
      "                                                                                               \r"
     ]
    },
    {
     "name": "stdout",
     "output_type": "stream",
     "text": [
      "Moviepy - Done !\n",
      "Moviepy - video ready ./KTH-Action-dataset/running\\person08_running_d2_uncomp.mp4\n",
      "Moviepy - Building video ./KTH-Action-dataset/running\\person08_running_d3_uncomp.mp4.\n",
      "Moviepy - Writing video ./KTH-Action-dataset/running\\person08_running_d3_uncomp.mp4\n",
      "\n"
     ]
    },
    {
     "name": "stderr",
     "output_type": "stream",
     "text": [
      "                                                                                               \r"
     ]
    },
    {
     "name": "stdout",
     "output_type": "stream",
     "text": [
      "Moviepy - Done !\n",
      "Moviepy - video ready ./KTH-Action-dataset/running\\person08_running_d3_uncomp.mp4\n",
      "Moviepy - Building video ./KTH-Action-dataset/running\\person08_running_d4_uncomp.mp4.\n",
      "Moviepy - Writing video ./KTH-Action-dataset/running\\person08_running_d4_uncomp.mp4\n",
      "\n"
     ]
    },
    {
     "name": "stderr",
     "output_type": "stream",
     "text": [
      "                                                                                               \r"
     ]
    },
    {
     "name": "stdout",
     "output_type": "stream",
     "text": [
      "Moviepy - Done !\n",
      "Moviepy - video ready ./KTH-Action-dataset/running\\person08_running_d4_uncomp.mp4\n",
      "Moviepy - Building video ./KTH-Action-dataset/running\\person09_running_d1_uncomp.mp4.\n",
      "Moviepy - Writing video ./KTH-Action-dataset/running\\person09_running_d1_uncomp.mp4\n",
      "\n"
     ]
    },
    {
     "name": "stderr",
     "output_type": "stream",
     "text": [
      "                                                                                               \r"
     ]
    },
    {
     "name": "stdout",
     "output_type": "stream",
     "text": [
      "Moviepy - Done !\n",
      "Moviepy - video ready ./KTH-Action-dataset/running\\person09_running_d1_uncomp.mp4\n",
      "Moviepy - Building video ./KTH-Action-dataset/running\\person09_running_d2_uncomp.mp4.\n",
      "Moviepy - Writing video ./KTH-Action-dataset/running\\person09_running_d2_uncomp.mp4\n",
      "\n"
     ]
    },
    {
     "name": "stderr",
     "output_type": "stream",
     "text": [
      "                                                                                               \r"
     ]
    },
    {
     "name": "stdout",
     "output_type": "stream",
     "text": [
      "Moviepy - Done !\n",
      "Moviepy - video ready ./KTH-Action-dataset/running\\person09_running_d2_uncomp.mp4\n",
      "Moviepy - Building video ./KTH-Action-dataset/running\\person09_running_d3_uncomp.mp4.\n",
      "Moviepy - Writing video ./KTH-Action-dataset/running\\person09_running_d3_uncomp.mp4\n",
      "\n"
     ]
    },
    {
     "name": "stderr",
     "output_type": "stream",
     "text": [
      "                                                                                               \r"
     ]
    },
    {
     "name": "stdout",
     "output_type": "stream",
     "text": [
      "Moviepy - Done !\n",
      "Moviepy - video ready ./KTH-Action-dataset/running\\person09_running_d3_uncomp.mp4\n",
      "Moviepy - Building video ./KTH-Action-dataset/running\\person09_running_d4_uncomp.mp4.\n",
      "Moviepy - Writing video ./KTH-Action-dataset/running\\person09_running_d4_uncomp.mp4\n",
      "\n"
     ]
    },
    {
     "name": "stderr",
     "output_type": "stream",
     "text": [
      "                                                                                               \r"
     ]
    },
    {
     "name": "stdout",
     "output_type": "stream",
     "text": [
      "Moviepy - Done !\n",
      "Moviepy - video ready ./KTH-Action-dataset/running\\person09_running_d4_uncomp.mp4\n",
      "Moviepy - Building video ./KTH-Action-dataset/running\\person10_running_d1_uncomp.mp4.\n",
      "Moviepy - Writing video ./KTH-Action-dataset/running\\person10_running_d1_uncomp.mp4\n",
      "\n"
     ]
    },
    {
     "name": "stderr",
     "output_type": "stream",
     "text": [
      "                                                                                               \r"
     ]
    },
    {
     "name": "stdout",
     "output_type": "stream",
     "text": [
      "Moviepy - Done !\n",
      "Moviepy - video ready ./KTH-Action-dataset/running\\person10_running_d1_uncomp.mp4\n",
      "Moviepy - Building video ./KTH-Action-dataset/running\\person10_running_d2_uncomp.mp4.\n",
      "Moviepy - Writing video ./KTH-Action-dataset/running\\person10_running_d2_uncomp.mp4\n",
      "\n"
     ]
    },
    {
     "name": "stderr",
     "output_type": "stream",
     "text": [
      "                                                                                               \r"
     ]
    },
    {
     "name": "stdout",
     "output_type": "stream",
     "text": [
      "Moviepy - Done !\n",
      "Moviepy - video ready ./KTH-Action-dataset/running\\person10_running_d2_uncomp.mp4\n",
      "Moviepy - Building video ./KTH-Action-dataset/running\\person10_running_d3_uncomp.mp4.\n",
      "Moviepy - Writing video ./KTH-Action-dataset/running\\person10_running_d3_uncomp.mp4\n",
      "\n"
     ]
    },
    {
     "name": "stderr",
     "output_type": "stream",
     "text": [
      "                                                                                               \r"
     ]
    },
    {
     "name": "stdout",
     "output_type": "stream",
     "text": [
      "Moviepy - Done !\n",
      "Moviepy - video ready ./KTH-Action-dataset/running\\person10_running_d3_uncomp.mp4\n",
      "Moviepy - Building video ./KTH-Action-dataset/running\\person10_running_d4_uncomp.mp4.\n",
      "Moviepy - Writing video ./KTH-Action-dataset/running\\person10_running_d4_uncomp.mp4\n",
      "\n"
     ]
    },
    {
     "name": "stderr",
     "output_type": "stream",
     "text": [
      "                                                                                               \r"
     ]
    },
    {
     "name": "stdout",
     "output_type": "stream",
     "text": [
      "Moviepy - Done !\n",
      "Moviepy - video ready ./KTH-Action-dataset/running\\person10_running_d4_uncomp.mp4\n",
      "Moviepy - Building video ./KTH-Action-dataset/running\\person11_running_d1_uncomp.mp4.\n",
      "Moviepy - Writing video ./KTH-Action-dataset/running\\person11_running_d1_uncomp.mp4\n",
      "\n"
     ]
    },
    {
     "name": "stderr",
     "output_type": "stream",
     "text": [
      "                                                                                               \r"
     ]
    },
    {
     "name": "stdout",
     "output_type": "stream",
     "text": [
      "Moviepy - Done !\n",
      "Moviepy - video ready ./KTH-Action-dataset/running\\person11_running_d1_uncomp.mp4\n",
      "Moviepy - Building video ./KTH-Action-dataset/running\\person11_running_d2_uncomp.mp4.\n",
      "Moviepy - Writing video ./KTH-Action-dataset/running\\person11_running_d2_uncomp.mp4\n",
      "\n"
     ]
    },
    {
     "name": "stderr",
     "output_type": "stream",
     "text": [
      "                                                                                               \r"
     ]
    },
    {
     "name": "stdout",
     "output_type": "stream",
     "text": [
      "Moviepy - Done !\n",
      "Moviepy - video ready ./KTH-Action-dataset/running\\person11_running_d2_uncomp.mp4\n",
      "Moviepy - Building video ./KTH-Action-dataset/running\\person11_running_d3_uncomp.mp4.\n",
      "Moviepy - Writing video ./KTH-Action-dataset/running\\person11_running_d3_uncomp.mp4\n",
      "\n"
     ]
    },
    {
     "name": "stderr",
     "output_type": "stream",
     "text": [
      "                                                                                               \r"
     ]
    },
    {
     "name": "stdout",
     "output_type": "stream",
     "text": [
      "Moviepy - Done !\n",
      "Moviepy - video ready ./KTH-Action-dataset/running\\person11_running_d3_uncomp.mp4\n",
      "Moviepy - Building video ./KTH-Action-dataset/running\\person11_running_d4_uncomp.mp4.\n",
      "Moviepy - Writing video ./KTH-Action-dataset/running\\person11_running_d4_uncomp.mp4\n",
      "\n"
     ]
    },
    {
     "name": "stderr",
     "output_type": "stream",
     "text": [
      "                                                                                               \r"
     ]
    },
    {
     "name": "stdout",
     "output_type": "stream",
     "text": [
      "Moviepy - Done !\n",
      "Moviepy - video ready ./KTH-Action-dataset/running\\person11_running_d4_uncomp.mp4\n",
      "Moviepy - Building video ./KTH-Action-dataset/running\\person12_running_d1_uncomp.mp4.\n",
      "Moviepy - Writing video ./KTH-Action-dataset/running\\person12_running_d1_uncomp.mp4\n",
      "\n"
     ]
    },
    {
     "name": "stderr",
     "output_type": "stream",
     "text": [
      "                                                                                               \r"
     ]
    },
    {
     "name": "stdout",
     "output_type": "stream",
     "text": [
      "Moviepy - Done !\n",
      "Moviepy - video ready ./KTH-Action-dataset/running\\person12_running_d1_uncomp.mp4\n",
      "Moviepy - Building video ./KTH-Action-dataset/running\\person12_running_d2_uncomp.mp4.\n",
      "Moviepy - Writing video ./KTH-Action-dataset/running\\person12_running_d2_uncomp.mp4\n",
      "\n"
     ]
    },
    {
     "name": "stderr",
     "output_type": "stream",
     "text": [
      "                                                                                               \r"
     ]
    },
    {
     "name": "stdout",
     "output_type": "stream",
     "text": [
      "Moviepy - Done !\n",
      "Moviepy - video ready ./KTH-Action-dataset/running\\person12_running_d2_uncomp.mp4\n",
      "Moviepy - Building video ./KTH-Action-dataset/running\\person12_running_d3_uncomp.mp4.\n",
      "Moviepy - Writing video ./KTH-Action-dataset/running\\person12_running_d3_uncomp.mp4\n",
      "\n"
     ]
    },
    {
     "name": "stderr",
     "output_type": "stream",
     "text": [
      "                                                                                               \r"
     ]
    },
    {
     "name": "stdout",
     "output_type": "stream",
     "text": [
      "Moviepy - Done !\n",
      "Moviepy - video ready ./KTH-Action-dataset/running\\person12_running_d3_uncomp.mp4\n",
      "Moviepy - Building video ./KTH-Action-dataset/running\\person12_running_d4_uncomp.mp4.\n",
      "Moviepy - Writing video ./KTH-Action-dataset/running\\person12_running_d4_uncomp.mp4\n",
      "\n"
     ]
    },
    {
     "name": "stderr",
     "output_type": "stream",
     "text": [
      "                                                                                               \r"
     ]
    },
    {
     "name": "stdout",
     "output_type": "stream",
     "text": [
      "Moviepy - Done !\n",
      "Moviepy - video ready ./KTH-Action-dataset/running\\person12_running_d4_uncomp.mp4\n",
      "Moviepy - Building video ./KTH-Action-dataset/running\\person13_running_d1_uncomp.mp4.\n",
      "Moviepy - Writing video ./KTH-Action-dataset/running\\person13_running_d1_uncomp.mp4\n",
      "\n"
     ]
    },
    {
     "name": "stderr",
     "output_type": "stream",
     "text": [
      "                                                                                               \r"
     ]
    },
    {
     "name": "stdout",
     "output_type": "stream",
     "text": [
      "Moviepy - Done !\n",
      "Moviepy - video ready ./KTH-Action-dataset/running\\person13_running_d1_uncomp.mp4\n",
      "Moviepy - Building video ./KTH-Action-dataset/running\\person13_running_d2_uncomp.mp4.\n",
      "Moviepy - Writing video ./KTH-Action-dataset/running\\person13_running_d2_uncomp.mp4\n",
      "\n"
     ]
    },
    {
     "name": "stderr",
     "output_type": "stream",
     "text": [
      "                                                                                               \r"
     ]
    },
    {
     "name": "stdout",
     "output_type": "stream",
     "text": [
      "Moviepy - Done !\n",
      "Moviepy - video ready ./KTH-Action-dataset/running\\person13_running_d2_uncomp.mp4\n",
      "Moviepy - Building video ./KTH-Action-dataset/running\\person13_running_d3_uncomp.mp4.\n",
      "Moviepy - Writing video ./KTH-Action-dataset/running\\person13_running_d3_uncomp.mp4\n",
      "\n"
     ]
    },
    {
     "name": "stderr",
     "output_type": "stream",
     "text": [
      "                                                                                               \r"
     ]
    },
    {
     "name": "stdout",
     "output_type": "stream",
     "text": [
      "Moviepy - Done !\n",
      "Moviepy - video ready ./KTH-Action-dataset/running\\person13_running_d3_uncomp.mp4\n",
      "Moviepy - Building video ./KTH-Action-dataset/running\\person13_running_d4_uncomp.mp4.\n",
      "Moviepy - Writing video ./KTH-Action-dataset/running\\person13_running_d4_uncomp.mp4\n",
      "\n"
     ]
    },
    {
     "name": "stderr",
     "output_type": "stream",
     "text": [
      "                                                                                               \r"
     ]
    },
    {
     "name": "stdout",
     "output_type": "stream",
     "text": [
      "Moviepy - Done !\n",
      "Moviepy - video ready ./KTH-Action-dataset/running\\person13_running_d4_uncomp.mp4\n",
      "Moviepy - Building video ./KTH-Action-dataset/running\\person14_running_d1_uncomp.mp4.\n",
      "Moviepy - Writing video ./KTH-Action-dataset/running\\person14_running_d1_uncomp.mp4\n",
      "\n"
     ]
    },
    {
     "name": "stderr",
     "output_type": "stream",
     "text": [
      "                                                                                               \r"
     ]
    },
    {
     "name": "stdout",
     "output_type": "stream",
     "text": [
      "Moviepy - Done !\n",
      "Moviepy - video ready ./KTH-Action-dataset/running\\person14_running_d1_uncomp.mp4\n",
      "Moviepy - Building video ./KTH-Action-dataset/running\\person14_running_d2_uncomp.mp4.\n",
      "Moviepy - Writing video ./KTH-Action-dataset/running\\person14_running_d2_uncomp.mp4\n",
      "\n"
     ]
    },
    {
     "name": "stderr",
     "output_type": "stream",
     "text": [
      "                                                                                               \r"
     ]
    },
    {
     "name": "stdout",
     "output_type": "stream",
     "text": [
      "Moviepy - Done !\n",
      "Moviepy - video ready ./KTH-Action-dataset/running\\person14_running_d2_uncomp.mp4\n",
      "Moviepy - Building video ./KTH-Action-dataset/running\\person14_running_d3_uncomp.mp4.\n",
      "Moviepy - Writing video ./KTH-Action-dataset/running\\person14_running_d3_uncomp.mp4\n",
      "\n"
     ]
    },
    {
     "name": "stderr",
     "output_type": "stream",
     "text": [
      "                                                                                               \r"
     ]
    },
    {
     "name": "stdout",
     "output_type": "stream",
     "text": [
      "Moviepy - Done !\n",
      "Moviepy - video ready ./KTH-Action-dataset/running\\person14_running_d3_uncomp.mp4\n",
      "Moviepy - Building video ./KTH-Action-dataset/running\\person14_running_d4_uncomp.mp4.\n",
      "Moviepy - Writing video ./KTH-Action-dataset/running\\person14_running_d4_uncomp.mp4\n",
      "\n"
     ]
    },
    {
     "name": "stderr",
     "output_type": "stream",
     "text": [
      "                                                                                               \r"
     ]
    },
    {
     "name": "stdout",
     "output_type": "stream",
     "text": [
      "Moviepy - Done !\n",
      "Moviepy - video ready ./KTH-Action-dataset/running\\person14_running_d4_uncomp.mp4\n",
      "Moviepy - Building video ./KTH-Action-dataset/running\\person15_running_d1_uncomp.mp4.\n",
      "Moviepy - Writing video ./KTH-Action-dataset/running\\person15_running_d1_uncomp.mp4\n",
      "\n"
     ]
    },
    {
     "name": "stderr",
     "output_type": "stream",
     "text": [
      "                                                                                               \r"
     ]
    },
    {
     "name": "stdout",
     "output_type": "stream",
     "text": [
      "Moviepy - Done !\n",
      "Moviepy - video ready ./KTH-Action-dataset/running\\person15_running_d1_uncomp.mp4\n",
      "Moviepy - Building video ./KTH-Action-dataset/running\\person15_running_d2_uncomp.mp4.\n",
      "Moviepy - Writing video ./KTH-Action-dataset/running\\person15_running_d2_uncomp.mp4\n",
      "\n"
     ]
    },
    {
     "name": "stderr",
     "output_type": "stream",
     "text": [
      "                                                                                               \r"
     ]
    },
    {
     "name": "stdout",
     "output_type": "stream",
     "text": [
      "Moviepy - Done !\n",
      "Moviepy - video ready ./KTH-Action-dataset/running\\person15_running_d2_uncomp.mp4\n",
      "Moviepy - Building video ./KTH-Action-dataset/running\\person15_running_d3_uncomp.mp4.\n",
      "Moviepy - Writing video ./KTH-Action-dataset/running\\person15_running_d3_uncomp.mp4\n",
      "\n"
     ]
    },
    {
     "name": "stderr",
     "output_type": "stream",
     "text": [
      "                                                                                               \r"
     ]
    },
    {
     "name": "stdout",
     "output_type": "stream",
     "text": [
      "Moviepy - Done !\n",
      "Moviepy - video ready ./KTH-Action-dataset/running\\person15_running_d3_uncomp.mp4\n",
      "Moviepy - Building video ./KTH-Action-dataset/running\\person15_running_d4_uncomp.mp4.\n",
      "Moviepy - Writing video ./KTH-Action-dataset/running\\person15_running_d4_uncomp.mp4\n",
      "\n"
     ]
    },
    {
     "name": "stderr",
     "output_type": "stream",
     "text": [
      "                                                                                               \r"
     ]
    },
    {
     "name": "stdout",
     "output_type": "stream",
     "text": [
      "Moviepy - Done !\n",
      "Moviepy - video ready ./KTH-Action-dataset/running\\person15_running_d4_uncomp.mp4\n",
      "Moviepy - Building video ./KTH-Action-dataset/running\\person16_running_d1_uncomp.mp4.\n",
      "Moviepy - Writing video ./KTH-Action-dataset/running\\person16_running_d1_uncomp.mp4\n",
      "\n"
     ]
    },
    {
     "name": "stderr",
     "output_type": "stream",
     "text": [
      "                                                                                               \r"
     ]
    },
    {
     "name": "stdout",
     "output_type": "stream",
     "text": [
      "Moviepy - Done !\n",
      "Moviepy - video ready ./KTH-Action-dataset/running\\person16_running_d1_uncomp.mp4\n",
      "Moviepy - Building video ./KTH-Action-dataset/running\\person16_running_d2_uncomp.mp4.\n",
      "Moviepy - Writing video ./KTH-Action-dataset/running\\person16_running_d2_uncomp.mp4\n",
      "\n"
     ]
    },
    {
     "name": "stderr",
     "output_type": "stream",
     "text": [
      "                                                                                               \r"
     ]
    },
    {
     "name": "stdout",
     "output_type": "stream",
     "text": [
      "Moviepy - Done !\n",
      "Moviepy - video ready ./KTH-Action-dataset/running\\person16_running_d2_uncomp.mp4\n",
      "Moviepy - Building video ./KTH-Action-dataset/running\\person16_running_d3_uncomp.mp4.\n",
      "Moviepy - Writing video ./KTH-Action-dataset/running\\person16_running_d3_uncomp.mp4\n",
      "\n"
     ]
    },
    {
     "name": "stderr",
     "output_type": "stream",
     "text": [
      "                                                                                               \r"
     ]
    },
    {
     "name": "stdout",
     "output_type": "stream",
     "text": [
      "Moviepy - Done !\n",
      "Moviepy - video ready ./KTH-Action-dataset/running\\person16_running_d3_uncomp.mp4\n",
      "Moviepy - Building video ./KTH-Action-dataset/running\\person16_running_d4_uncomp.mp4.\n",
      "Moviepy - Writing video ./KTH-Action-dataset/running\\person16_running_d4_uncomp.mp4\n",
      "\n"
     ]
    },
    {
     "name": "stderr",
     "output_type": "stream",
     "text": [
      "                                                                                               \r"
     ]
    },
    {
     "name": "stdout",
     "output_type": "stream",
     "text": [
      "Moviepy - Done !\n",
      "Moviepy - video ready ./KTH-Action-dataset/running\\person16_running_d4_uncomp.mp4\n",
      "Moviepy - Building video ./KTH-Action-dataset/running\\person17_running_d1_uncomp.mp4.\n",
      "Moviepy - Writing video ./KTH-Action-dataset/running\\person17_running_d1_uncomp.mp4\n",
      "\n"
     ]
    },
    {
     "name": "stderr",
     "output_type": "stream",
     "text": [
      "                                                                                               \r"
     ]
    },
    {
     "name": "stdout",
     "output_type": "stream",
     "text": [
      "Moviepy - Done !\n",
      "Moviepy - video ready ./KTH-Action-dataset/running\\person17_running_d1_uncomp.mp4\n",
      "Moviepy - Building video ./KTH-Action-dataset/running\\person17_running_d2_uncomp.mp4.\n",
      "Moviepy - Writing video ./KTH-Action-dataset/running\\person17_running_d2_uncomp.mp4\n",
      "\n"
     ]
    },
    {
     "name": "stderr",
     "output_type": "stream",
     "text": [
      "                                                                                               \r"
     ]
    },
    {
     "name": "stdout",
     "output_type": "stream",
     "text": [
      "Moviepy - Done !\n",
      "Moviepy - video ready ./KTH-Action-dataset/running\\person17_running_d2_uncomp.mp4\n",
      "Moviepy - Building video ./KTH-Action-dataset/running\\person17_running_d3_uncomp.mp4.\n",
      "Moviepy - Writing video ./KTH-Action-dataset/running\\person17_running_d3_uncomp.mp4\n",
      "\n"
     ]
    },
    {
     "name": "stderr",
     "output_type": "stream",
     "text": [
      "                                                                                               \r"
     ]
    },
    {
     "name": "stdout",
     "output_type": "stream",
     "text": [
      "Moviepy - Done !\n",
      "Moviepy - video ready ./KTH-Action-dataset/running\\person17_running_d3_uncomp.mp4\n",
      "Moviepy - Building video ./KTH-Action-dataset/running\\person17_running_d4_uncomp.mp4.\n",
      "Moviepy - Writing video ./KTH-Action-dataset/running\\person17_running_d4_uncomp.mp4\n",
      "\n"
     ]
    },
    {
     "name": "stderr",
     "output_type": "stream",
     "text": [
      "                                                                                               \r"
     ]
    },
    {
     "name": "stdout",
     "output_type": "stream",
     "text": [
      "Moviepy - Done !\n",
      "Moviepy - video ready ./KTH-Action-dataset/running\\person17_running_d4_uncomp.mp4\n",
      "Moviepy - Building video ./KTH-Action-dataset/running\\person18_running_d1_uncomp.mp4.\n",
      "Moviepy - Writing video ./KTH-Action-dataset/running\\person18_running_d1_uncomp.mp4\n",
      "\n"
     ]
    },
    {
     "name": "stderr",
     "output_type": "stream",
     "text": [
      "                                                                                               \r"
     ]
    },
    {
     "name": "stdout",
     "output_type": "stream",
     "text": [
      "Moviepy - Done !\n",
      "Moviepy - video ready ./KTH-Action-dataset/running\\person18_running_d1_uncomp.mp4\n",
      "Moviepy - Building video ./KTH-Action-dataset/running\\person18_running_d2_uncomp.mp4.\n",
      "Moviepy - Writing video ./KTH-Action-dataset/running\\person18_running_d2_uncomp.mp4\n",
      "\n"
     ]
    },
    {
     "name": "stderr",
     "output_type": "stream",
     "text": [
      "                                                                                               \r"
     ]
    },
    {
     "name": "stdout",
     "output_type": "stream",
     "text": [
      "Moviepy - Done !\n",
      "Moviepy - video ready ./KTH-Action-dataset/running\\person18_running_d2_uncomp.mp4\n",
      "Moviepy - Building video ./KTH-Action-dataset/running\\person18_running_d3_uncomp.mp4.\n",
      "Moviepy - Writing video ./KTH-Action-dataset/running\\person18_running_d3_uncomp.mp4\n",
      "\n"
     ]
    },
    {
     "name": "stderr",
     "output_type": "stream",
     "text": [
      "                                                                                               \r"
     ]
    },
    {
     "name": "stdout",
     "output_type": "stream",
     "text": [
      "Moviepy - Done !\n",
      "Moviepy - video ready ./KTH-Action-dataset/running\\person18_running_d3_uncomp.mp4\n",
      "Moviepy - Building video ./KTH-Action-dataset/running\\person18_running_d4_uncomp.mp4.\n",
      "Moviepy - Writing video ./KTH-Action-dataset/running\\person18_running_d4_uncomp.mp4\n",
      "\n"
     ]
    },
    {
     "name": "stderr",
     "output_type": "stream",
     "text": [
      "                                                                                               \r"
     ]
    },
    {
     "name": "stdout",
     "output_type": "stream",
     "text": [
      "Moviepy - Done !\n",
      "Moviepy - video ready ./KTH-Action-dataset/running\\person18_running_d4_uncomp.mp4\n",
      "Moviepy - Building video ./KTH-Action-dataset/running\\person19_running_d1_uncomp.mp4.\n",
      "Moviepy - Writing video ./KTH-Action-dataset/running\\person19_running_d1_uncomp.mp4\n",
      "\n"
     ]
    },
    {
     "name": "stderr",
     "output_type": "stream",
     "text": [
      "                                                                                               \r"
     ]
    },
    {
     "name": "stdout",
     "output_type": "stream",
     "text": [
      "Moviepy - Done !\n",
      "Moviepy - video ready ./KTH-Action-dataset/running\\person19_running_d1_uncomp.mp4\n",
      "Moviepy - Building video ./KTH-Action-dataset/running\\person19_running_d2_uncomp.mp4.\n",
      "Moviepy - Writing video ./KTH-Action-dataset/running\\person19_running_d2_uncomp.mp4\n",
      "\n"
     ]
    },
    {
     "name": "stderr",
     "output_type": "stream",
     "text": [
      "                                                                                               \r"
     ]
    },
    {
     "name": "stdout",
     "output_type": "stream",
     "text": [
      "Moviepy - Done !\n",
      "Moviepy - video ready ./KTH-Action-dataset/running\\person19_running_d2_uncomp.mp4\n",
      "Moviepy - Building video ./KTH-Action-dataset/running\\person19_running_d3_uncomp.mp4.\n",
      "Moviepy - Writing video ./KTH-Action-dataset/running\\person19_running_d3_uncomp.mp4\n",
      "\n"
     ]
    },
    {
     "name": "stderr",
     "output_type": "stream",
     "text": [
      "                                                                                               \r"
     ]
    },
    {
     "name": "stdout",
     "output_type": "stream",
     "text": [
      "Moviepy - Done !\n",
      "Moviepy - video ready ./KTH-Action-dataset/running\\person19_running_d3_uncomp.mp4\n",
      "Moviepy - Building video ./KTH-Action-dataset/running\\person19_running_d4_uncomp.mp4.\n",
      "Moviepy - Writing video ./KTH-Action-dataset/running\\person19_running_d4_uncomp.mp4\n",
      "\n"
     ]
    },
    {
     "name": "stderr",
     "output_type": "stream",
     "text": [
      "                                                                                               \r"
     ]
    },
    {
     "name": "stdout",
     "output_type": "stream",
     "text": [
      "Moviepy - Done !\n",
      "Moviepy - video ready ./KTH-Action-dataset/running\\person19_running_d4_uncomp.mp4\n",
      "Moviepy - Building video ./KTH-Action-dataset/running\\person20_running_d1_uncomp.mp4.\n",
      "Moviepy - Writing video ./KTH-Action-dataset/running\\person20_running_d1_uncomp.mp4\n",
      "\n"
     ]
    },
    {
     "name": "stderr",
     "output_type": "stream",
     "text": [
      "                                                                                               \r"
     ]
    },
    {
     "name": "stdout",
     "output_type": "stream",
     "text": [
      "Moviepy - Done !\n",
      "Moviepy - video ready ./KTH-Action-dataset/running\\person20_running_d1_uncomp.mp4\n",
      "Moviepy - Building video ./KTH-Action-dataset/running\\person20_running_d2_uncomp.mp4.\n",
      "Moviepy - Writing video ./KTH-Action-dataset/running\\person20_running_d2_uncomp.mp4\n",
      "\n"
     ]
    },
    {
     "name": "stderr",
     "output_type": "stream",
     "text": [
      "                                                                                               \r"
     ]
    },
    {
     "name": "stdout",
     "output_type": "stream",
     "text": [
      "Moviepy - Done !\n",
      "Moviepy - video ready ./KTH-Action-dataset/running\\person20_running_d2_uncomp.mp4\n",
      "Moviepy - Building video ./KTH-Action-dataset/running\\person20_running_d3_uncomp.mp4.\n",
      "Moviepy - Writing video ./KTH-Action-dataset/running\\person20_running_d3_uncomp.mp4\n",
      "\n"
     ]
    },
    {
     "name": "stderr",
     "output_type": "stream",
     "text": [
      "                                                                                               \r"
     ]
    },
    {
     "name": "stdout",
     "output_type": "stream",
     "text": [
      "Moviepy - Done !\n",
      "Moviepy - video ready ./KTH-Action-dataset/running\\person20_running_d3_uncomp.mp4\n",
      "Moviepy - Building video ./KTH-Action-dataset/running\\person20_running_d4_uncomp.mp4.\n",
      "Moviepy - Writing video ./KTH-Action-dataset/running\\person20_running_d4_uncomp.mp4\n",
      "\n"
     ]
    },
    {
     "name": "stderr",
     "output_type": "stream",
     "text": [
      "                                                                                               \r"
     ]
    },
    {
     "name": "stdout",
     "output_type": "stream",
     "text": [
      "Moviepy - Done !\n",
      "Moviepy - video ready ./KTH-Action-dataset/running\\person20_running_d4_uncomp.mp4\n",
      "Moviepy - Building video ./KTH-Action-dataset/running\\person21_running_d1_uncomp.mp4.\n",
      "Moviepy - Writing video ./KTH-Action-dataset/running\\person21_running_d1_uncomp.mp4\n",
      "\n"
     ]
    },
    {
     "name": "stderr",
     "output_type": "stream",
     "text": [
      "                                                                                               \r"
     ]
    },
    {
     "name": "stdout",
     "output_type": "stream",
     "text": [
      "Moviepy - Done !\n",
      "Moviepy - video ready ./KTH-Action-dataset/running\\person21_running_d1_uncomp.mp4\n",
      "Moviepy - Building video ./KTH-Action-dataset/running\\person21_running_d2_uncomp.mp4.\n",
      "Moviepy - Writing video ./KTH-Action-dataset/running\\person21_running_d2_uncomp.mp4\n",
      "\n"
     ]
    },
    {
     "name": "stderr",
     "output_type": "stream",
     "text": [
      "                                                                                               \r"
     ]
    },
    {
     "name": "stdout",
     "output_type": "stream",
     "text": [
      "Moviepy - Done !\n",
      "Moviepy - video ready ./KTH-Action-dataset/running\\person21_running_d2_uncomp.mp4\n",
      "Moviepy - Building video ./KTH-Action-dataset/running\\person21_running_d3_uncomp.mp4.\n",
      "Moviepy - Writing video ./KTH-Action-dataset/running\\person21_running_d3_uncomp.mp4\n",
      "\n"
     ]
    },
    {
     "name": "stderr",
     "output_type": "stream",
     "text": [
      "                                                                                               \r"
     ]
    },
    {
     "name": "stdout",
     "output_type": "stream",
     "text": [
      "Moviepy - Done !\n",
      "Moviepy - video ready ./KTH-Action-dataset/running\\person21_running_d3_uncomp.mp4\n",
      "Moviepy - Building video ./KTH-Action-dataset/running\\person21_running_d4_uncomp.mp4.\n",
      "Moviepy - Writing video ./KTH-Action-dataset/running\\person21_running_d4_uncomp.mp4\n",
      "\n"
     ]
    },
    {
     "name": "stderr",
     "output_type": "stream",
     "text": [
      "                                                                                               \r"
     ]
    },
    {
     "name": "stdout",
     "output_type": "stream",
     "text": [
      "Moviepy - Done !\n",
      "Moviepy - video ready ./KTH-Action-dataset/running\\person21_running_d4_uncomp.mp4\n",
      "Moviepy - Building video ./KTH-Action-dataset/running\\person22_running_d1_uncomp.mp4.\n",
      "Moviepy - Writing video ./KTH-Action-dataset/running\\person22_running_d1_uncomp.mp4\n",
      "\n"
     ]
    },
    {
     "name": "stderr",
     "output_type": "stream",
     "text": [
      "                                                                                               \r"
     ]
    },
    {
     "name": "stdout",
     "output_type": "stream",
     "text": [
      "Moviepy - Done !\n",
      "Moviepy - video ready ./KTH-Action-dataset/running\\person22_running_d1_uncomp.mp4\n",
      "Moviepy - Building video ./KTH-Action-dataset/running\\person22_running_d2_uncomp.mp4.\n",
      "Moviepy - Writing video ./KTH-Action-dataset/running\\person22_running_d2_uncomp.mp4\n",
      "\n"
     ]
    },
    {
     "name": "stderr",
     "output_type": "stream",
     "text": [
      "                                                                                               \r"
     ]
    },
    {
     "name": "stdout",
     "output_type": "stream",
     "text": [
      "Moviepy - Done !\n",
      "Moviepy - video ready ./KTH-Action-dataset/running\\person22_running_d2_uncomp.mp4\n",
      "Moviepy - Building video ./KTH-Action-dataset/running\\person22_running_d3_uncomp.mp4.\n",
      "Moviepy - Writing video ./KTH-Action-dataset/running\\person22_running_d3_uncomp.mp4\n",
      "\n"
     ]
    },
    {
     "name": "stderr",
     "output_type": "stream",
     "text": [
      "                                                                                               \r"
     ]
    },
    {
     "name": "stdout",
     "output_type": "stream",
     "text": [
      "Moviepy - Done !\n",
      "Moviepy - video ready ./KTH-Action-dataset/running\\person22_running_d3_uncomp.mp4\n",
      "Moviepy - Building video ./KTH-Action-dataset/running\\person22_running_d4_uncomp.mp4.\n",
      "Moviepy - Writing video ./KTH-Action-dataset/running\\person22_running_d4_uncomp.mp4\n",
      "\n"
     ]
    },
    {
     "name": "stderr",
     "output_type": "stream",
     "text": [
      "                                                                                               \r"
     ]
    },
    {
     "name": "stdout",
     "output_type": "stream",
     "text": [
      "Moviepy - Done !\n",
      "Moviepy - video ready ./KTH-Action-dataset/running\\person22_running_d4_uncomp.mp4\n",
      "Moviepy - Building video ./KTH-Action-dataset/running\\person23_running_d1_uncomp.mp4.\n",
      "Moviepy - Writing video ./KTH-Action-dataset/running\\person23_running_d1_uncomp.mp4\n",
      "\n"
     ]
    },
    {
     "name": "stderr",
     "output_type": "stream",
     "text": [
      "                                                                                               \r"
     ]
    },
    {
     "name": "stdout",
     "output_type": "stream",
     "text": [
      "Moviepy - Done !\n",
      "Moviepy - video ready ./KTH-Action-dataset/running\\person23_running_d1_uncomp.mp4\n",
      "Moviepy - Building video ./KTH-Action-dataset/running\\person23_running_d2_uncomp.mp4.\n",
      "Moviepy - Writing video ./KTH-Action-dataset/running\\person23_running_d2_uncomp.mp4\n",
      "\n"
     ]
    },
    {
     "name": "stderr",
     "output_type": "stream",
     "text": [
      "                                                                                               \r"
     ]
    },
    {
     "name": "stdout",
     "output_type": "stream",
     "text": [
      "Moviepy - Done !\n",
      "Moviepy - video ready ./KTH-Action-dataset/running\\person23_running_d2_uncomp.mp4\n",
      "Moviepy - Building video ./KTH-Action-dataset/running\\person23_running_d3_uncomp.mp4.\n",
      "Moviepy - Writing video ./KTH-Action-dataset/running\\person23_running_d3_uncomp.mp4\n",
      "\n"
     ]
    },
    {
     "name": "stderr",
     "output_type": "stream",
     "text": [
      "                                                                                               \r"
     ]
    },
    {
     "name": "stdout",
     "output_type": "stream",
     "text": [
      "Moviepy - Done !\n",
      "Moviepy - video ready ./KTH-Action-dataset/running\\person23_running_d3_uncomp.mp4\n",
      "Moviepy - Building video ./KTH-Action-dataset/running\\person23_running_d4_uncomp.mp4.\n",
      "Moviepy - Writing video ./KTH-Action-dataset/running\\person23_running_d4_uncomp.mp4\n",
      "\n"
     ]
    },
    {
     "name": "stderr",
     "output_type": "stream",
     "text": [
      "                                                                                               \r"
     ]
    },
    {
     "name": "stdout",
     "output_type": "stream",
     "text": [
      "Moviepy - Done !\n",
      "Moviepy - video ready ./KTH-Action-dataset/running\\person23_running_d4_uncomp.mp4\n",
      "Moviepy - Building video ./KTH-Action-dataset/running\\person24_running_d1_uncomp.mp4.\n",
      "Moviepy - Writing video ./KTH-Action-dataset/running\\person24_running_d1_uncomp.mp4\n",
      "\n"
     ]
    },
    {
     "name": "stderr",
     "output_type": "stream",
     "text": [
      "                                                                                               \r"
     ]
    },
    {
     "name": "stdout",
     "output_type": "stream",
     "text": [
      "Moviepy - Done !\n",
      "Moviepy - video ready ./KTH-Action-dataset/running\\person24_running_d1_uncomp.mp4\n",
      "Moviepy - Building video ./KTH-Action-dataset/running\\person24_running_d2_uncomp.mp4.\n",
      "Moviepy - Writing video ./KTH-Action-dataset/running\\person24_running_d2_uncomp.mp4\n",
      "\n"
     ]
    },
    {
     "name": "stderr",
     "output_type": "stream",
     "text": [
      "                                                                                               \r"
     ]
    },
    {
     "name": "stdout",
     "output_type": "stream",
     "text": [
      "Moviepy - Done !\n",
      "Moviepy - video ready ./KTH-Action-dataset/running\\person24_running_d2_uncomp.mp4\n",
      "Moviepy - Building video ./KTH-Action-dataset/running\\person24_running_d3_uncomp.mp4.\n",
      "Moviepy - Writing video ./KTH-Action-dataset/running\\person24_running_d3_uncomp.mp4\n",
      "\n"
     ]
    },
    {
     "name": "stderr",
     "output_type": "stream",
     "text": [
      "                                                                                               \r"
     ]
    },
    {
     "name": "stdout",
     "output_type": "stream",
     "text": [
      "Moviepy - Done !\n",
      "Moviepy - video ready ./KTH-Action-dataset/running\\person24_running_d3_uncomp.mp4\n",
      "Moviepy - Building video ./KTH-Action-dataset/running\\person24_running_d4_uncomp.mp4.\n",
      "Moviepy - Writing video ./KTH-Action-dataset/running\\person24_running_d4_uncomp.mp4\n",
      "\n"
     ]
    },
    {
     "name": "stderr",
     "output_type": "stream",
     "text": [
      "                                                                                               \r"
     ]
    },
    {
     "name": "stdout",
     "output_type": "stream",
     "text": [
      "Moviepy - Done !\n",
      "Moviepy - video ready ./KTH-Action-dataset/running\\person24_running_d4_uncomp.mp4\n",
      "Moviepy - Building video ./KTH-Action-dataset/running\\person25_running_d1_uncomp.mp4.\n",
      "Moviepy - Writing video ./KTH-Action-dataset/running\\person25_running_d1_uncomp.mp4\n",
      "\n"
     ]
    },
    {
     "name": "stderr",
     "output_type": "stream",
     "text": [
      "                                                                                               \r"
     ]
    },
    {
     "name": "stdout",
     "output_type": "stream",
     "text": [
      "Moviepy - Done !\n",
      "Moviepy - video ready ./KTH-Action-dataset/running\\person25_running_d1_uncomp.mp4\n",
      "Moviepy - Building video ./KTH-Action-dataset/running\\person25_running_d2_uncomp.mp4.\n",
      "Moviepy - Writing video ./KTH-Action-dataset/running\\person25_running_d2_uncomp.mp4\n",
      "\n"
     ]
    },
    {
     "name": "stderr",
     "output_type": "stream",
     "text": [
      "                                                                                               \r"
     ]
    },
    {
     "name": "stdout",
     "output_type": "stream",
     "text": [
      "Moviepy - Done !\n",
      "Moviepy - video ready ./KTH-Action-dataset/running\\person25_running_d2_uncomp.mp4\n",
      "Moviepy - Building video ./KTH-Action-dataset/running\\person25_running_d3_uncomp.mp4.\n",
      "Moviepy - Writing video ./KTH-Action-dataset/running\\person25_running_d3_uncomp.mp4\n",
      "\n"
     ]
    },
    {
     "name": "stderr",
     "output_type": "stream",
     "text": [
      "                                                                                               \r"
     ]
    },
    {
     "name": "stdout",
     "output_type": "stream",
     "text": [
      "Moviepy - Done !\n",
      "Moviepy - video ready ./KTH-Action-dataset/running\\person25_running_d3_uncomp.mp4\n",
      "Moviepy - Building video ./KTH-Action-dataset/running\\person25_running_d4_uncomp.mp4.\n",
      "Moviepy - Writing video ./KTH-Action-dataset/running\\person25_running_d4_uncomp.mp4\n",
      "\n"
     ]
    },
    {
     "name": "stderr",
     "output_type": "stream",
     "text": [
      "                                                                                               \r"
     ]
    },
    {
     "name": "stdout",
     "output_type": "stream",
     "text": [
      "Moviepy - Done !\n",
      "Moviepy - video ready ./KTH-Action-dataset/running\\person25_running_d4_uncomp.mp4\n"
     ]
    },
    {
     "name": "stderr",
     "output_type": "stream",
     "text": [
      "100% |########################################################################|\n"
     ]
    },
    {
     "name": "stdout",
     "output_type": "stream",
     "text": [
      "Moviepy - Building video ./KTH-Action-dataset/walking\\person01_walking_d1_uncomp.mp4.\n",
      "Moviepy - Writing video ./KTH-Action-dataset/walking\\person01_walking_d1_uncomp.mp4\n",
      "\n"
     ]
    },
    {
     "name": "stderr",
     "output_type": "stream",
     "text": [
      "                                                                                               \r"
     ]
    },
    {
     "name": "stdout",
     "output_type": "stream",
     "text": [
      "Moviepy - Done !\n",
      "Moviepy - video ready ./KTH-Action-dataset/walking\\person01_walking_d1_uncomp.mp4\n",
      "Moviepy - Building video ./KTH-Action-dataset/walking\\person01_walking_d2_uncomp.mp4.\n",
      "Moviepy - Writing video ./KTH-Action-dataset/walking\\person01_walking_d2_uncomp.mp4\n",
      "\n"
     ]
    },
    {
     "name": "stderr",
     "output_type": "stream",
     "text": [
      "                                                                                               \r"
     ]
    },
    {
     "name": "stdout",
     "output_type": "stream",
     "text": [
      "Moviepy - Done !\n",
      "Moviepy - video ready ./KTH-Action-dataset/walking\\person01_walking_d2_uncomp.mp4\n",
      "Moviepy - Building video ./KTH-Action-dataset/walking\\person01_walking_d3_uncomp.mp4.\n",
      "Moviepy - Writing video ./KTH-Action-dataset/walking\\person01_walking_d3_uncomp.mp4\n",
      "\n"
     ]
    },
    {
     "name": "stderr",
     "output_type": "stream",
     "text": [
      "                                                                                               \r"
     ]
    },
    {
     "name": "stdout",
     "output_type": "stream",
     "text": [
      "Moviepy - Done !\n",
      "Moviepy - video ready ./KTH-Action-dataset/walking\\person01_walking_d3_uncomp.mp4\n",
      "Moviepy - Building video ./KTH-Action-dataset/walking\\person01_walking_d4_uncomp.mp4.\n",
      "Moviepy - Writing video ./KTH-Action-dataset/walking\\person01_walking_d4_uncomp.mp4\n",
      "\n"
     ]
    },
    {
     "name": "stderr",
     "output_type": "stream",
     "text": [
      "                                                                                               \r"
     ]
    },
    {
     "name": "stdout",
     "output_type": "stream",
     "text": [
      "Moviepy - Done !\n",
      "Moviepy - video ready ./KTH-Action-dataset/walking\\person01_walking_d4_uncomp.mp4\n",
      "Moviepy - Building video ./KTH-Action-dataset/walking\\person02_walking_d1_uncomp.mp4.\n",
      "Moviepy - Writing video ./KTH-Action-dataset/walking\\person02_walking_d1_uncomp.mp4\n",
      "\n"
     ]
    },
    {
     "name": "stderr",
     "output_type": "stream",
     "text": [
      "                                                                                               \r"
     ]
    },
    {
     "name": "stdout",
     "output_type": "stream",
     "text": [
      "Moviepy - Done !\n",
      "Moviepy - video ready ./KTH-Action-dataset/walking\\person02_walking_d1_uncomp.mp4\n",
      "Moviepy - Building video ./KTH-Action-dataset/walking\\person02_walking_d2_uncomp.mp4.\n",
      "Moviepy - Writing video ./KTH-Action-dataset/walking\\person02_walking_d2_uncomp.mp4\n",
      "\n"
     ]
    },
    {
     "name": "stderr",
     "output_type": "stream",
     "text": [
      "                                                                                               \r"
     ]
    },
    {
     "name": "stdout",
     "output_type": "stream",
     "text": [
      "Moviepy - Done !\n",
      "Moviepy - video ready ./KTH-Action-dataset/walking\\person02_walking_d2_uncomp.mp4\n",
      "Moviepy - Building video ./KTH-Action-dataset/walking\\person02_walking_d3_uncomp.mp4.\n",
      "Moviepy - Writing video ./KTH-Action-dataset/walking\\person02_walking_d3_uncomp.mp4\n",
      "\n"
     ]
    },
    {
     "name": "stderr",
     "output_type": "stream",
     "text": [
      "                                                                                               \r"
     ]
    },
    {
     "name": "stdout",
     "output_type": "stream",
     "text": [
      "Moviepy - Done !\n",
      "Moviepy - video ready ./KTH-Action-dataset/walking\\person02_walking_d3_uncomp.mp4\n",
      "Moviepy - Building video ./KTH-Action-dataset/walking\\person02_walking_d4_uncomp.mp4.\n",
      "Moviepy - Writing video ./KTH-Action-dataset/walking\\person02_walking_d4_uncomp.mp4\n",
      "\n"
     ]
    },
    {
     "name": "stderr",
     "output_type": "stream",
     "text": [
      "                                                                                               \r"
     ]
    },
    {
     "name": "stdout",
     "output_type": "stream",
     "text": [
      "Moviepy - Done !\n",
      "Moviepy - video ready ./KTH-Action-dataset/walking\\person02_walking_d4_uncomp.mp4\n",
      "Moviepy - Building video ./KTH-Action-dataset/walking\\person03_walking_d1_uncomp.mp4.\n",
      "Moviepy - Writing video ./KTH-Action-dataset/walking\\person03_walking_d1_uncomp.mp4\n",
      "\n"
     ]
    },
    {
     "name": "stderr",
     "output_type": "stream",
     "text": [
      "                                                                                               \r"
     ]
    },
    {
     "name": "stdout",
     "output_type": "stream",
     "text": [
      "Moviepy - Done !\n",
      "Moviepy - video ready ./KTH-Action-dataset/walking\\person03_walking_d1_uncomp.mp4\n",
      "Moviepy - Building video ./KTH-Action-dataset/walking\\person03_walking_d2_uncomp.mp4.\n",
      "Moviepy - Writing video ./KTH-Action-dataset/walking\\person03_walking_d2_uncomp.mp4\n",
      "\n"
     ]
    },
    {
     "name": "stderr",
     "output_type": "stream",
     "text": [
      "                                                                                               \r"
     ]
    },
    {
     "name": "stdout",
     "output_type": "stream",
     "text": [
      "Moviepy - Done !\n",
      "Moviepy - video ready ./KTH-Action-dataset/walking\\person03_walking_d2_uncomp.mp4\n",
      "Moviepy - Building video ./KTH-Action-dataset/walking\\person03_walking_d3_uncomp.mp4.\n",
      "Moviepy - Writing video ./KTH-Action-dataset/walking\\person03_walking_d3_uncomp.mp4\n",
      "\n"
     ]
    },
    {
     "name": "stderr",
     "output_type": "stream",
     "text": [
      "                                                                                               \r"
     ]
    },
    {
     "name": "stdout",
     "output_type": "stream",
     "text": [
      "Moviepy - Done !\n",
      "Moviepy - video ready ./KTH-Action-dataset/walking\\person03_walking_d3_uncomp.mp4\n",
      "Moviepy - Building video ./KTH-Action-dataset/walking\\person03_walking_d4_uncomp.mp4.\n",
      "Moviepy - Writing video ./KTH-Action-dataset/walking\\person03_walking_d4_uncomp.mp4\n",
      "\n"
     ]
    },
    {
     "name": "stderr",
     "output_type": "stream",
     "text": [
      "                                                                                               \r"
     ]
    },
    {
     "name": "stdout",
     "output_type": "stream",
     "text": [
      "Moviepy - Done !\n",
      "Moviepy - video ready ./KTH-Action-dataset/walking\\person03_walking_d4_uncomp.mp4\n",
      "Moviepy - Building video ./KTH-Action-dataset/walking\\person04_walking_d1_uncomp.mp4.\n",
      "Moviepy - Writing video ./KTH-Action-dataset/walking\\person04_walking_d1_uncomp.mp4\n",
      "\n"
     ]
    },
    {
     "name": "stderr",
     "output_type": "stream",
     "text": [
      "                                                                                               \r"
     ]
    },
    {
     "name": "stdout",
     "output_type": "stream",
     "text": [
      "Moviepy - Done !\n",
      "Moviepy - video ready ./KTH-Action-dataset/walking\\person04_walking_d1_uncomp.mp4\n",
      "Moviepy - Building video ./KTH-Action-dataset/walking\\person04_walking_d2_uncomp.mp4.\n",
      "Moviepy - Writing video ./KTH-Action-dataset/walking\\person04_walking_d2_uncomp.mp4\n",
      "\n"
     ]
    },
    {
     "name": "stderr",
     "output_type": "stream",
     "text": [
      "                                                                                               \r"
     ]
    },
    {
     "name": "stdout",
     "output_type": "stream",
     "text": [
      "Moviepy - Done !\n",
      "Moviepy - video ready ./KTH-Action-dataset/walking\\person04_walking_d2_uncomp.mp4\n",
      "Moviepy - Building video ./KTH-Action-dataset/walking\\person04_walking_d3_uncomp.mp4.\n",
      "Moviepy - Writing video ./KTH-Action-dataset/walking\\person04_walking_d3_uncomp.mp4\n",
      "\n"
     ]
    },
    {
     "name": "stderr",
     "output_type": "stream",
     "text": [
      "                                                                                               \r"
     ]
    },
    {
     "name": "stdout",
     "output_type": "stream",
     "text": [
      "Moviepy - Done !\n",
      "Moviepy - video ready ./KTH-Action-dataset/walking\\person04_walking_d3_uncomp.mp4\n",
      "Moviepy - Building video ./KTH-Action-dataset/walking\\person04_walking_d4_uncomp.mp4.\n",
      "Moviepy - Writing video ./KTH-Action-dataset/walking\\person04_walking_d4_uncomp.mp4\n",
      "\n"
     ]
    },
    {
     "name": "stderr",
     "output_type": "stream",
     "text": [
      "                                                                                               \r"
     ]
    },
    {
     "name": "stdout",
     "output_type": "stream",
     "text": [
      "Moviepy - Done !\n",
      "Moviepy - video ready ./KTH-Action-dataset/walking\\person04_walking_d4_uncomp.mp4\n",
      "Moviepy - Building video ./KTH-Action-dataset/walking\\person05_walking_d1_uncomp.mp4.\n",
      "Moviepy - Writing video ./KTH-Action-dataset/walking\\person05_walking_d1_uncomp.mp4\n",
      "\n"
     ]
    },
    {
     "name": "stderr",
     "output_type": "stream",
     "text": [
      "                                                                                               \r"
     ]
    },
    {
     "name": "stdout",
     "output_type": "stream",
     "text": [
      "Moviepy - Done !\n",
      "Moviepy - video ready ./KTH-Action-dataset/walking\\person05_walking_d1_uncomp.mp4\n",
      "Moviepy - Building video ./KTH-Action-dataset/walking\\person05_walking_d2_uncomp.mp4.\n",
      "Moviepy - Writing video ./KTH-Action-dataset/walking\\person05_walking_d2_uncomp.mp4\n",
      "\n"
     ]
    },
    {
     "name": "stderr",
     "output_type": "stream",
     "text": [
      "                                                                                               \r"
     ]
    },
    {
     "name": "stdout",
     "output_type": "stream",
     "text": [
      "Moviepy - Done !\n",
      "Moviepy - video ready ./KTH-Action-dataset/walking\\person05_walking_d2_uncomp.mp4\n",
      "Moviepy - Building video ./KTH-Action-dataset/walking\\person05_walking_d3_uncomp.mp4.\n",
      "Moviepy - Writing video ./KTH-Action-dataset/walking\\person05_walking_d3_uncomp.mp4\n",
      "\n"
     ]
    },
    {
     "name": "stderr",
     "output_type": "stream",
     "text": [
      "                                                                                               \r"
     ]
    },
    {
     "name": "stdout",
     "output_type": "stream",
     "text": [
      "Moviepy - Done !\n",
      "Moviepy - video ready ./KTH-Action-dataset/walking\\person05_walking_d3_uncomp.mp4\n",
      "Moviepy - Building video ./KTH-Action-dataset/walking\\person05_walking_d4_uncomp.mp4.\n",
      "Moviepy - Writing video ./KTH-Action-dataset/walking\\person05_walking_d4_uncomp.mp4\n",
      "\n"
     ]
    },
    {
     "name": "stderr",
     "output_type": "stream",
     "text": [
      "                                                                                               \r"
     ]
    },
    {
     "name": "stdout",
     "output_type": "stream",
     "text": [
      "Moviepy - Done !\n",
      "Moviepy - video ready ./KTH-Action-dataset/walking\\person05_walking_d4_uncomp.mp4\n",
      "Moviepy - Building video ./KTH-Action-dataset/walking\\person06_walking_d1_uncomp.mp4.\n",
      "Moviepy - Writing video ./KTH-Action-dataset/walking\\person06_walking_d1_uncomp.mp4\n",
      "\n"
     ]
    },
    {
     "name": "stderr",
     "output_type": "stream",
     "text": [
      "                                                                                               \r"
     ]
    },
    {
     "name": "stdout",
     "output_type": "stream",
     "text": [
      "Moviepy - Done !\n",
      "Moviepy - video ready ./KTH-Action-dataset/walking\\person06_walking_d1_uncomp.mp4\n",
      "Moviepy - Building video ./KTH-Action-dataset/walking\\person06_walking_d2_uncomp.mp4.\n",
      "Moviepy - Writing video ./KTH-Action-dataset/walking\\person06_walking_d2_uncomp.mp4\n",
      "\n"
     ]
    },
    {
     "name": "stderr",
     "output_type": "stream",
     "text": [
      "                                                                                               \r"
     ]
    },
    {
     "name": "stdout",
     "output_type": "stream",
     "text": [
      "Moviepy - Done !\n",
      "Moviepy - video ready ./KTH-Action-dataset/walking\\person06_walking_d2_uncomp.mp4\n",
      "Moviepy - Building video ./KTH-Action-dataset/walking\\person06_walking_d3_uncomp.mp4.\n",
      "Moviepy - Writing video ./KTH-Action-dataset/walking\\person06_walking_d3_uncomp.mp4\n",
      "\n"
     ]
    },
    {
     "name": "stderr",
     "output_type": "stream",
     "text": [
      "                                                                                               \r"
     ]
    },
    {
     "name": "stdout",
     "output_type": "stream",
     "text": [
      "Moviepy - Done !\n",
      "Moviepy - video ready ./KTH-Action-dataset/walking\\person06_walking_d3_uncomp.mp4\n",
      "Moviepy - Building video ./KTH-Action-dataset/walking\\person06_walking_d4_uncomp.mp4.\n",
      "Moviepy - Writing video ./KTH-Action-dataset/walking\\person06_walking_d4_uncomp.mp4\n",
      "\n"
     ]
    },
    {
     "name": "stderr",
     "output_type": "stream",
     "text": [
      "                                                                                               \r"
     ]
    },
    {
     "name": "stdout",
     "output_type": "stream",
     "text": [
      "Moviepy - Done !\n",
      "Moviepy - video ready ./KTH-Action-dataset/walking\\person06_walking_d4_uncomp.mp4\n",
      "Moviepy - Building video ./KTH-Action-dataset/walking\\person07_walking_d1_uncomp.mp4.\n",
      "Moviepy - Writing video ./KTH-Action-dataset/walking\\person07_walking_d1_uncomp.mp4\n",
      "\n"
     ]
    },
    {
     "name": "stderr",
     "output_type": "stream",
     "text": [
      "                                                                                               \r"
     ]
    },
    {
     "name": "stdout",
     "output_type": "stream",
     "text": [
      "Moviepy - Done !\n",
      "Moviepy - video ready ./KTH-Action-dataset/walking\\person07_walking_d1_uncomp.mp4\n",
      "Moviepy - Building video ./KTH-Action-dataset/walking\\person07_walking_d2_uncomp.mp4.\n",
      "Moviepy - Writing video ./KTH-Action-dataset/walking\\person07_walking_d2_uncomp.mp4\n",
      "\n"
     ]
    },
    {
     "name": "stderr",
     "output_type": "stream",
     "text": [
      "                                                                                               \r"
     ]
    },
    {
     "name": "stdout",
     "output_type": "stream",
     "text": [
      "Moviepy - Done !\n",
      "Moviepy - video ready ./KTH-Action-dataset/walking\\person07_walking_d2_uncomp.mp4\n",
      "Moviepy - Building video ./KTH-Action-dataset/walking\\person07_walking_d3_uncomp.mp4.\n",
      "Moviepy - Writing video ./KTH-Action-dataset/walking\\person07_walking_d3_uncomp.mp4\n",
      "\n"
     ]
    },
    {
     "name": "stderr",
     "output_type": "stream",
     "text": [
      "                                                                                               \r"
     ]
    },
    {
     "name": "stdout",
     "output_type": "stream",
     "text": [
      "Moviepy - Done !\n",
      "Moviepy - video ready ./KTH-Action-dataset/walking\\person07_walking_d3_uncomp.mp4\n",
      "Moviepy - Building video ./KTH-Action-dataset/walking\\person07_walking_d4_uncomp.mp4.\n",
      "Moviepy - Writing video ./KTH-Action-dataset/walking\\person07_walking_d4_uncomp.mp4\n",
      "\n"
     ]
    },
    {
     "name": "stderr",
     "output_type": "stream",
     "text": [
      "                                                                                               \r"
     ]
    },
    {
     "name": "stdout",
     "output_type": "stream",
     "text": [
      "Moviepy - Done !\n",
      "Moviepy - video ready ./KTH-Action-dataset/walking\\person07_walking_d4_uncomp.mp4\n",
      "Moviepy - Building video ./KTH-Action-dataset/walking\\person08_walking_d1_uncomp.mp4.\n",
      "Moviepy - Writing video ./KTH-Action-dataset/walking\\person08_walking_d1_uncomp.mp4\n",
      "\n"
     ]
    },
    {
     "name": "stderr",
     "output_type": "stream",
     "text": [
      "                                                                                               \r"
     ]
    },
    {
     "name": "stdout",
     "output_type": "stream",
     "text": [
      "Moviepy - Done !\n",
      "Moviepy - video ready ./KTH-Action-dataset/walking\\person08_walking_d1_uncomp.mp4\n",
      "Moviepy - Building video ./KTH-Action-dataset/walking\\person08_walking_d2_uncomp.mp4.\n",
      "Moviepy - Writing video ./KTH-Action-dataset/walking\\person08_walking_d2_uncomp.mp4\n",
      "\n"
     ]
    },
    {
     "name": "stderr",
     "output_type": "stream",
     "text": [
      "                                                                                               \r"
     ]
    },
    {
     "name": "stdout",
     "output_type": "stream",
     "text": [
      "Moviepy - Done !\n",
      "Moviepy - video ready ./KTH-Action-dataset/walking\\person08_walking_d2_uncomp.mp4\n",
      "Moviepy - Building video ./KTH-Action-dataset/walking\\person08_walking_d3_uncomp.mp4.\n",
      "Moviepy - Writing video ./KTH-Action-dataset/walking\\person08_walking_d3_uncomp.mp4\n",
      "\n"
     ]
    },
    {
     "name": "stderr",
     "output_type": "stream",
     "text": [
      "                                                                                               \r"
     ]
    },
    {
     "name": "stdout",
     "output_type": "stream",
     "text": [
      "Moviepy - Done !\n",
      "Moviepy - video ready ./KTH-Action-dataset/walking\\person08_walking_d3_uncomp.mp4\n",
      "Moviepy - Building video ./KTH-Action-dataset/walking\\person08_walking_d4_uncomp.mp4.\n",
      "Moviepy - Writing video ./KTH-Action-dataset/walking\\person08_walking_d4_uncomp.mp4\n",
      "\n"
     ]
    },
    {
     "name": "stderr",
     "output_type": "stream",
     "text": [
      "                                                                                               \r"
     ]
    },
    {
     "name": "stdout",
     "output_type": "stream",
     "text": [
      "Moviepy - Done !\n",
      "Moviepy - video ready ./KTH-Action-dataset/walking\\person08_walking_d4_uncomp.mp4\n",
      "Moviepy - Building video ./KTH-Action-dataset/walking\\person09_walking_d1_uncomp.mp4.\n",
      "Moviepy - Writing video ./KTH-Action-dataset/walking\\person09_walking_d1_uncomp.mp4\n",
      "\n"
     ]
    },
    {
     "name": "stderr",
     "output_type": "stream",
     "text": [
      "                                                                                               \r"
     ]
    },
    {
     "name": "stdout",
     "output_type": "stream",
     "text": [
      "Moviepy - Done !\n",
      "Moviepy - video ready ./KTH-Action-dataset/walking\\person09_walking_d1_uncomp.mp4\n",
      "Moviepy - Building video ./KTH-Action-dataset/walking\\person09_walking_d2_uncomp.mp4.\n",
      "Moviepy - Writing video ./KTH-Action-dataset/walking\\person09_walking_d2_uncomp.mp4\n",
      "\n"
     ]
    },
    {
     "name": "stderr",
     "output_type": "stream",
     "text": [
      "                                                                                               \r"
     ]
    },
    {
     "name": "stdout",
     "output_type": "stream",
     "text": [
      "Moviepy - Done !\n",
      "Moviepy - video ready ./KTH-Action-dataset/walking\\person09_walking_d2_uncomp.mp4\n",
      "Moviepy - Building video ./KTH-Action-dataset/walking\\person09_walking_d3_uncomp.mp4.\n",
      "Moviepy - Writing video ./KTH-Action-dataset/walking\\person09_walking_d3_uncomp.mp4\n",
      "\n"
     ]
    },
    {
     "name": "stderr",
     "output_type": "stream",
     "text": [
      "                                                                                               \r"
     ]
    },
    {
     "name": "stdout",
     "output_type": "stream",
     "text": [
      "Moviepy - Done !\n",
      "Moviepy - video ready ./KTH-Action-dataset/walking\\person09_walking_d3_uncomp.mp4\n",
      "Moviepy - Building video ./KTH-Action-dataset/walking\\person09_walking_d4_uncomp.mp4.\n",
      "Moviepy - Writing video ./KTH-Action-dataset/walking\\person09_walking_d4_uncomp.mp4\n",
      "\n"
     ]
    },
    {
     "name": "stderr",
     "output_type": "stream",
     "text": [
      "                                                                                               \r"
     ]
    },
    {
     "name": "stdout",
     "output_type": "stream",
     "text": [
      "Moviepy - Done !\n",
      "Moviepy - video ready ./KTH-Action-dataset/walking\\person09_walking_d4_uncomp.mp4\n",
      "Moviepy - Building video ./KTH-Action-dataset/walking\\person10_walking_d1_uncomp.mp4.\n",
      "Moviepy - Writing video ./KTH-Action-dataset/walking\\person10_walking_d1_uncomp.mp4\n",
      "\n"
     ]
    },
    {
     "name": "stderr",
     "output_type": "stream",
     "text": [
      "                                                                                               \r"
     ]
    },
    {
     "name": "stdout",
     "output_type": "stream",
     "text": [
      "Moviepy - Done !\n",
      "Moviepy - video ready ./KTH-Action-dataset/walking\\person10_walking_d1_uncomp.mp4\n",
      "Moviepy - Building video ./KTH-Action-dataset/walking\\person10_walking_d2_uncomp.mp4.\n",
      "Moviepy - Writing video ./KTH-Action-dataset/walking\\person10_walking_d2_uncomp.mp4\n",
      "\n"
     ]
    },
    {
     "name": "stderr",
     "output_type": "stream",
     "text": [
      "                                                                                               \r"
     ]
    },
    {
     "name": "stdout",
     "output_type": "stream",
     "text": [
      "Moviepy - Done !\n",
      "Moviepy - video ready ./KTH-Action-dataset/walking\\person10_walking_d2_uncomp.mp4\n",
      "Moviepy - Building video ./KTH-Action-dataset/walking\\person10_walking_d3_uncomp.mp4.\n",
      "Moviepy - Writing video ./KTH-Action-dataset/walking\\person10_walking_d3_uncomp.mp4\n",
      "\n"
     ]
    },
    {
     "name": "stderr",
     "output_type": "stream",
     "text": [
      "                                                                                               \r"
     ]
    },
    {
     "name": "stdout",
     "output_type": "stream",
     "text": [
      "Moviepy - Done !\n",
      "Moviepy - video ready ./KTH-Action-dataset/walking\\person10_walking_d3_uncomp.mp4\n",
      "Moviepy - Building video ./KTH-Action-dataset/walking\\person10_walking_d4_uncomp.mp4.\n",
      "Moviepy - Writing video ./KTH-Action-dataset/walking\\person10_walking_d4_uncomp.mp4\n",
      "\n"
     ]
    },
    {
     "name": "stderr",
     "output_type": "stream",
     "text": [
      "                                                                                               \r"
     ]
    },
    {
     "name": "stdout",
     "output_type": "stream",
     "text": [
      "Moviepy - Done !\n",
      "Moviepy - video ready ./KTH-Action-dataset/walking\\person10_walking_d4_uncomp.mp4\n",
      "Moviepy - Building video ./KTH-Action-dataset/walking\\person11_walking_d1_uncomp.mp4.\n",
      "Moviepy - Writing video ./KTH-Action-dataset/walking\\person11_walking_d1_uncomp.mp4\n",
      "\n"
     ]
    },
    {
     "name": "stderr",
     "output_type": "stream",
     "text": [
      "                                                                                               \r"
     ]
    },
    {
     "name": "stdout",
     "output_type": "stream",
     "text": [
      "Moviepy - Done !\n",
      "Moviepy - video ready ./KTH-Action-dataset/walking\\person11_walking_d1_uncomp.mp4\n",
      "Moviepy - Building video ./KTH-Action-dataset/walking\\person11_walking_d2_uncomp.mp4.\n",
      "Moviepy - Writing video ./KTH-Action-dataset/walking\\person11_walking_d2_uncomp.mp4\n",
      "\n"
     ]
    },
    {
     "name": "stderr",
     "output_type": "stream",
     "text": [
      "                                                                                               \r"
     ]
    },
    {
     "name": "stdout",
     "output_type": "stream",
     "text": [
      "Moviepy - Done !\n",
      "Moviepy - video ready ./KTH-Action-dataset/walking\\person11_walking_d2_uncomp.mp4\n",
      "Moviepy - Building video ./KTH-Action-dataset/walking\\person11_walking_d3_uncomp.mp4.\n",
      "Moviepy - Writing video ./KTH-Action-dataset/walking\\person11_walking_d3_uncomp.mp4\n",
      "\n"
     ]
    },
    {
     "name": "stderr",
     "output_type": "stream",
     "text": [
      "                                                                                               \r"
     ]
    },
    {
     "name": "stdout",
     "output_type": "stream",
     "text": [
      "Moviepy - Done !\n",
      "Moviepy - video ready ./KTH-Action-dataset/walking\\person11_walking_d3_uncomp.mp4\n",
      "Moviepy - Building video ./KTH-Action-dataset/walking\\person11_walking_d4_uncomp.mp4.\n",
      "Moviepy - Writing video ./KTH-Action-dataset/walking\\person11_walking_d4_uncomp.mp4\n",
      "\n"
     ]
    },
    {
     "name": "stderr",
     "output_type": "stream",
     "text": [
      "                                                                                               \r"
     ]
    },
    {
     "name": "stdout",
     "output_type": "stream",
     "text": [
      "Moviepy - Done !\n",
      "Moviepy - video ready ./KTH-Action-dataset/walking\\person11_walking_d4_uncomp.mp4\n",
      "Moviepy - Building video ./KTH-Action-dataset/walking\\person12_walking_d1_uncomp.mp4.\n",
      "Moviepy - Writing video ./KTH-Action-dataset/walking\\person12_walking_d1_uncomp.mp4\n",
      "\n"
     ]
    },
    {
     "name": "stderr",
     "output_type": "stream",
     "text": [
      "                                                                                               \r"
     ]
    },
    {
     "name": "stdout",
     "output_type": "stream",
     "text": [
      "Moviepy - Done !\n",
      "Moviepy - video ready ./KTH-Action-dataset/walking\\person12_walking_d1_uncomp.mp4\n",
      "Moviepy - Building video ./KTH-Action-dataset/walking\\person12_walking_d2_uncomp.mp4.\n",
      "Moviepy - Writing video ./KTH-Action-dataset/walking\\person12_walking_d2_uncomp.mp4\n",
      "\n"
     ]
    },
    {
     "name": "stderr",
     "output_type": "stream",
     "text": [
      "                                                                                               \r"
     ]
    },
    {
     "name": "stdout",
     "output_type": "stream",
     "text": [
      "Moviepy - Done !\n",
      "Moviepy - video ready ./KTH-Action-dataset/walking\\person12_walking_d2_uncomp.mp4\n",
      "Moviepy - Building video ./KTH-Action-dataset/walking\\person12_walking_d3_uncomp.mp4.\n",
      "Moviepy - Writing video ./KTH-Action-dataset/walking\\person12_walking_d3_uncomp.mp4\n",
      "\n"
     ]
    },
    {
     "name": "stderr",
     "output_type": "stream",
     "text": [
      "                                                                                               \r"
     ]
    },
    {
     "name": "stdout",
     "output_type": "stream",
     "text": [
      "Moviepy - Done !\n",
      "Moviepy - video ready ./KTH-Action-dataset/walking\\person12_walking_d3_uncomp.mp4\n",
      "Moviepy - Building video ./KTH-Action-dataset/walking\\person12_walking_d4_uncomp.mp4.\n",
      "Moviepy - Writing video ./KTH-Action-dataset/walking\\person12_walking_d4_uncomp.mp4\n",
      "\n"
     ]
    },
    {
     "name": "stderr",
     "output_type": "stream",
     "text": [
      "                                                                                               \r"
     ]
    },
    {
     "name": "stdout",
     "output_type": "stream",
     "text": [
      "Moviepy - Done !\n",
      "Moviepy - video ready ./KTH-Action-dataset/walking\\person12_walking_d4_uncomp.mp4\n",
      "Moviepy - Building video ./KTH-Action-dataset/walking\\person13_walking_d1_uncomp.mp4.\n",
      "Moviepy - Writing video ./KTH-Action-dataset/walking\\person13_walking_d1_uncomp.mp4\n",
      "\n"
     ]
    },
    {
     "name": "stderr",
     "output_type": "stream",
     "text": [
      "                                                                                               \r"
     ]
    },
    {
     "name": "stdout",
     "output_type": "stream",
     "text": [
      "Moviepy - Done !\n",
      "Moviepy - video ready ./KTH-Action-dataset/walking\\person13_walking_d1_uncomp.mp4\n",
      "Moviepy - Building video ./KTH-Action-dataset/walking\\person13_walking_d2_uncomp.mp4.\n",
      "Moviepy - Writing video ./KTH-Action-dataset/walking\\person13_walking_d2_uncomp.mp4\n",
      "\n"
     ]
    },
    {
     "name": "stderr",
     "output_type": "stream",
     "text": [
      "                                                                                               \r"
     ]
    },
    {
     "name": "stdout",
     "output_type": "stream",
     "text": [
      "Moviepy - Done !\n",
      "Moviepy - video ready ./KTH-Action-dataset/walking\\person13_walking_d2_uncomp.mp4\n",
      "Moviepy - Building video ./KTH-Action-dataset/walking\\person13_walking_d3_uncomp.mp4.\n",
      "Moviepy - Writing video ./KTH-Action-dataset/walking\\person13_walking_d3_uncomp.mp4\n",
      "\n"
     ]
    },
    {
     "name": "stderr",
     "output_type": "stream",
     "text": [
      "                                                                                               \r"
     ]
    },
    {
     "name": "stdout",
     "output_type": "stream",
     "text": [
      "Moviepy - Done !\n",
      "Moviepy - video ready ./KTH-Action-dataset/walking\\person13_walking_d3_uncomp.mp4\n",
      "Moviepy - Building video ./KTH-Action-dataset/walking\\person13_walking_d4_uncomp.mp4.\n",
      "Moviepy - Writing video ./KTH-Action-dataset/walking\\person13_walking_d4_uncomp.mp4\n",
      "\n"
     ]
    },
    {
     "name": "stderr",
     "output_type": "stream",
     "text": [
      "                                                                                               \r"
     ]
    },
    {
     "name": "stdout",
     "output_type": "stream",
     "text": [
      "Moviepy - Done !\n",
      "Moviepy - video ready ./KTH-Action-dataset/walking\\person13_walking_d4_uncomp.mp4\n",
      "Moviepy - Building video ./KTH-Action-dataset/walking\\person14_walking_d1_uncomp.mp4.\n",
      "Moviepy - Writing video ./KTH-Action-dataset/walking\\person14_walking_d1_uncomp.mp4\n",
      "\n"
     ]
    },
    {
     "name": "stderr",
     "output_type": "stream",
     "text": [
      "                                                                                               \r"
     ]
    },
    {
     "name": "stdout",
     "output_type": "stream",
     "text": [
      "Moviepy - Done !\n",
      "Moviepy - video ready ./KTH-Action-dataset/walking\\person14_walking_d1_uncomp.mp4\n",
      "Moviepy - Building video ./KTH-Action-dataset/walking\\person14_walking_d2_uncomp.mp4.\n",
      "Moviepy - Writing video ./KTH-Action-dataset/walking\\person14_walking_d2_uncomp.mp4\n",
      "\n"
     ]
    },
    {
     "name": "stderr",
     "output_type": "stream",
     "text": [
      "                                                                                               \r"
     ]
    },
    {
     "name": "stdout",
     "output_type": "stream",
     "text": [
      "Moviepy - Done !\n",
      "Moviepy - video ready ./KTH-Action-dataset/walking\\person14_walking_d2_uncomp.mp4\n",
      "Moviepy - Building video ./KTH-Action-dataset/walking\\person14_walking_d3_uncomp.mp4.\n",
      "Moviepy - Writing video ./KTH-Action-dataset/walking\\person14_walking_d3_uncomp.mp4\n",
      "\n"
     ]
    },
    {
     "name": "stderr",
     "output_type": "stream",
     "text": [
      "                                                                                               \r"
     ]
    },
    {
     "name": "stdout",
     "output_type": "stream",
     "text": [
      "Moviepy - Done !\n",
      "Moviepy - video ready ./KTH-Action-dataset/walking\\person14_walking_d3_uncomp.mp4\n",
      "Moviepy - Building video ./KTH-Action-dataset/walking\\person14_walking_d4_uncomp.mp4.\n",
      "Moviepy - Writing video ./KTH-Action-dataset/walking\\person14_walking_d4_uncomp.mp4\n",
      "\n"
     ]
    },
    {
     "name": "stderr",
     "output_type": "stream",
     "text": [
      "                                                                                               \r"
     ]
    },
    {
     "name": "stdout",
     "output_type": "stream",
     "text": [
      "Moviepy - Done !\n",
      "Moviepy - video ready ./KTH-Action-dataset/walking\\person14_walking_d4_uncomp.mp4\n",
      "Moviepy - Building video ./KTH-Action-dataset/walking\\person15_walking_d1_uncomp.mp4.\n",
      "Moviepy - Writing video ./KTH-Action-dataset/walking\\person15_walking_d1_uncomp.mp4\n",
      "\n"
     ]
    },
    {
     "name": "stderr",
     "output_type": "stream",
     "text": [
      "                                                                                               \r"
     ]
    },
    {
     "name": "stdout",
     "output_type": "stream",
     "text": [
      "Moviepy - Done !\n",
      "Moviepy - video ready ./KTH-Action-dataset/walking\\person15_walking_d1_uncomp.mp4\n",
      "Moviepy - Building video ./KTH-Action-dataset/walking\\person15_walking_d2_uncomp.mp4.\n",
      "Moviepy - Writing video ./KTH-Action-dataset/walking\\person15_walking_d2_uncomp.mp4\n",
      "\n"
     ]
    },
    {
     "name": "stderr",
     "output_type": "stream",
     "text": [
      "                                                                                               \r"
     ]
    },
    {
     "name": "stdout",
     "output_type": "stream",
     "text": [
      "Moviepy - Done !\n",
      "Moviepy - video ready ./KTH-Action-dataset/walking\\person15_walking_d2_uncomp.mp4\n",
      "Moviepy - Building video ./KTH-Action-dataset/walking\\person15_walking_d3_uncomp.mp4.\n",
      "Moviepy - Writing video ./KTH-Action-dataset/walking\\person15_walking_d3_uncomp.mp4\n",
      "\n"
     ]
    },
    {
     "name": "stderr",
     "output_type": "stream",
     "text": [
      "                                                                                               \r"
     ]
    },
    {
     "name": "stdout",
     "output_type": "stream",
     "text": [
      "Moviepy - Done !\n",
      "Moviepy - video ready ./KTH-Action-dataset/walking\\person15_walking_d3_uncomp.mp4\n",
      "Moviepy - Building video ./KTH-Action-dataset/walking\\person15_walking_d4_uncomp.mp4.\n",
      "Moviepy - Writing video ./KTH-Action-dataset/walking\\person15_walking_d4_uncomp.mp4\n",
      "\n"
     ]
    },
    {
     "name": "stderr",
     "output_type": "stream",
     "text": [
      "                                                                                               \r"
     ]
    },
    {
     "name": "stdout",
     "output_type": "stream",
     "text": [
      "Moviepy - Done !\n",
      "Moviepy - video ready ./KTH-Action-dataset/walking\\person15_walking_d4_uncomp.mp4\n",
      "Moviepy - Building video ./KTH-Action-dataset/walking\\person16_walking_d1_uncomp.mp4.\n",
      "Moviepy - Writing video ./KTH-Action-dataset/walking\\person16_walking_d1_uncomp.mp4\n",
      "\n"
     ]
    },
    {
     "name": "stderr",
     "output_type": "stream",
     "text": [
      "                                                                                               \r"
     ]
    },
    {
     "name": "stdout",
     "output_type": "stream",
     "text": [
      "Moviepy - Done !\n",
      "Moviepy - video ready ./KTH-Action-dataset/walking\\person16_walking_d1_uncomp.mp4\n",
      "Moviepy - Building video ./KTH-Action-dataset/walking\\person16_walking_d2_uncomp.mp4.\n",
      "Moviepy - Writing video ./KTH-Action-dataset/walking\\person16_walking_d2_uncomp.mp4\n",
      "\n"
     ]
    },
    {
     "name": "stderr",
     "output_type": "stream",
     "text": [
      "                                                                                               \r"
     ]
    },
    {
     "name": "stdout",
     "output_type": "stream",
     "text": [
      "Moviepy - Done !\n",
      "Moviepy - video ready ./KTH-Action-dataset/walking\\person16_walking_d2_uncomp.mp4\n",
      "Moviepy - Building video ./KTH-Action-dataset/walking\\person16_walking_d3_uncomp.mp4.\n",
      "Moviepy - Writing video ./KTH-Action-dataset/walking\\person16_walking_d3_uncomp.mp4\n",
      "\n"
     ]
    },
    {
     "name": "stderr",
     "output_type": "stream",
     "text": [
      "                                                                                               \r"
     ]
    },
    {
     "name": "stdout",
     "output_type": "stream",
     "text": [
      "Moviepy - Done !\n",
      "Moviepy - video ready ./KTH-Action-dataset/walking\\person16_walking_d3_uncomp.mp4\n",
      "Moviepy - Building video ./KTH-Action-dataset/walking\\person16_walking_d4_uncomp.mp4.\n",
      "Moviepy - Writing video ./KTH-Action-dataset/walking\\person16_walking_d4_uncomp.mp4\n",
      "\n"
     ]
    },
    {
     "name": "stderr",
     "output_type": "stream",
     "text": [
      "                                                                                               \r"
     ]
    },
    {
     "name": "stdout",
     "output_type": "stream",
     "text": [
      "Moviepy - Done !\n",
      "Moviepy - video ready ./KTH-Action-dataset/walking\\person16_walking_d4_uncomp.mp4\n",
      "Moviepy - Building video ./KTH-Action-dataset/walking\\person17_walking_d1_uncomp.mp4.\n",
      "Moviepy - Writing video ./KTH-Action-dataset/walking\\person17_walking_d1_uncomp.mp4\n",
      "\n"
     ]
    },
    {
     "name": "stderr",
     "output_type": "stream",
     "text": [
      "                                                                                               \r"
     ]
    },
    {
     "name": "stdout",
     "output_type": "stream",
     "text": [
      "Moviepy - Done !\n",
      "Moviepy - video ready ./KTH-Action-dataset/walking\\person17_walking_d1_uncomp.mp4\n",
      "Moviepy - Building video ./KTH-Action-dataset/walking\\person17_walking_d2_uncomp.mp4.\n",
      "Moviepy - Writing video ./KTH-Action-dataset/walking\\person17_walking_d2_uncomp.mp4\n",
      "\n"
     ]
    },
    {
     "name": "stderr",
     "output_type": "stream",
     "text": [
      "                                                                                               \r"
     ]
    },
    {
     "name": "stdout",
     "output_type": "stream",
     "text": [
      "Moviepy - Done !\n",
      "Moviepy - video ready ./KTH-Action-dataset/walking\\person17_walking_d2_uncomp.mp4\n",
      "Moviepy - Building video ./KTH-Action-dataset/walking\\person17_walking_d3_uncomp.mp4.\n",
      "Moviepy - Writing video ./KTH-Action-dataset/walking\\person17_walking_d3_uncomp.mp4\n",
      "\n"
     ]
    },
    {
     "name": "stderr",
     "output_type": "stream",
     "text": [
      "                                                                                               \r"
     ]
    },
    {
     "name": "stdout",
     "output_type": "stream",
     "text": [
      "Moviepy - Done !\n",
      "Moviepy - video ready ./KTH-Action-dataset/walking\\person17_walking_d3_uncomp.mp4\n",
      "Moviepy - Building video ./KTH-Action-dataset/walking\\person17_walking_d4_uncomp.mp4.\n",
      "Moviepy - Writing video ./KTH-Action-dataset/walking\\person17_walking_d4_uncomp.mp4\n",
      "\n"
     ]
    },
    {
     "name": "stderr",
     "output_type": "stream",
     "text": [
      "                                                                                               \r"
     ]
    },
    {
     "name": "stdout",
     "output_type": "stream",
     "text": [
      "Moviepy - Done !\n",
      "Moviepy - video ready ./KTH-Action-dataset/walking\\person17_walking_d4_uncomp.mp4\n",
      "Moviepy - Building video ./KTH-Action-dataset/walking\\person18_walking_d1_uncomp.mp4.\n",
      "Moviepy - Writing video ./KTH-Action-dataset/walking\\person18_walking_d1_uncomp.mp4\n",
      "\n"
     ]
    },
    {
     "name": "stderr",
     "output_type": "stream",
     "text": [
      "                                                                                               \r"
     ]
    },
    {
     "name": "stdout",
     "output_type": "stream",
     "text": [
      "Moviepy - Done !\n",
      "Moviepy - video ready ./KTH-Action-dataset/walking\\person18_walking_d1_uncomp.mp4\n",
      "Moviepy - Building video ./KTH-Action-dataset/walking\\person18_walking_d2_uncomp.mp4.\n",
      "Moviepy - Writing video ./KTH-Action-dataset/walking\\person18_walking_d2_uncomp.mp4\n",
      "\n"
     ]
    },
    {
     "name": "stderr",
     "output_type": "stream",
     "text": [
      "                                                                                               \r"
     ]
    },
    {
     "name": "stdout",
     "output_type": "stream",
     "text": [
      "Moviepy - Done !\n",
      "Moviepy - video ready ./KTH-Action-dataset/walking\\person18_walking_d2_uncomp.mp4\n",
      "Moviepy - Building video ./KTH-Action-dataset/walking\\person18_walking_d3_uncomp.mp4.\n",
      "Moviepy - Writing video ./KTH-Action-dataset/walking\\person18_walking_d3_uncomp.mp4\n",
      "\n"
     ]
    },
    {
     "name": "stderr",
     "output_type": "stream",
     "text": [
      "                                                                                               \r"
     ]
    },
    {
     "name": "stdout",
     "output_type": "stream",
     "text": [
      "Moviepy - Done !\n",
      "Moviepy - video ready ./KTH-Action-dataset/walking\\person18_walking_d3_uncomp.mp4\n",
      "Moviepy - Building video ./KTH-Action-dataset/walking\\person18_walking_d4_uncomp.mp4.\n",
      "Moviepy - Writing video ./KTH-Action-dataset/walking\\person18_walking_d4_uncomp.mp4\n",
      "\n"
     ]
    },
    {
     "name": "stderr",
     "output_type": "stream",
     "text": [
      "                                                                                               \r"
     ]
    },
    {
     "name": "stdout",
     "output_type": "stream",
     "text": [
      "Moviepy - Done !\n",
      "Moviepy - video ready ./KTH-Action-dataset/walking\\person18_walking_d4_uncomp.mp4\n",
      "Moviepy - Building video ./KTH-Action-dataset/walking\\person19_walking_d1_uncomp.mp4.\n",
      "Moviepy - Writing video ./KTH-Action-dataset/walking\\person19_walking_d1_uncomp.mp4\n",
      "\n"
     ]
    },
    {
     "name": "stderr",
     "output_type": "stream",
     "text": [
      "                                                                                               \r"
     ]
    },
    {
     "name": "stdout",
     "output_type": "stream",
     "text": [
      "Moviepy - Done !\n",
      "Moviepy - video ready ./KTH-Action-dataset/walking\\person19_walking_d1_uncomp.mp4\n",
      "Moviepy - Building video ./KTH-Action-dataset/walking\\person19_walking_d2_uncomp.mp4.\n",
      "Moviepy - Writing video ./KTH-Action-dataset/walking\\person19_walking_d2_uncomp.mp4\n",
      "\n"
     ]
    },
    {
     "name": "stderr",
     "output_type": "stream",
     "text": [
      "                                                                                               \r"
     ]
    },
    {
     "name": "stdout",
     "output_type": "stream",
     "text": [
      "Moviepy - Done !\n",
      "Moviepy - video ready ./KTH-Action-dataset/walking\\person19_walking_d2_uncomp.mp4\n",
      "Moviepy - Building video ./KTH-Action-dataset/walking\\person19_walking_d3_uncomp.mp4.\n",
      "Moviepy - Writing video ./KTH-Action-dataset/walking\\person19_walking_d3_uncomp.mp4\n",
      "\n"
     ]
    },
    {
     "name": "stderr",
     "output_type": "stream",
     "text": [
      "                                                                                               \r"
     ]
    },
    {
     "name": "stdout",
     "output_type": "stream",
     "text": [
      "Moviepy - Done !\n",
      "Moviepy - video ready ./KTH-Action-dataset/walking\\person19_walking_d3_uncomp.mp4\n",
      "Moviepy - Building video ./KTH-Action-dataset/walking\\person19_walking_d4_uncomp.mp4.\n",
      "Moviepy - Writing video ./KTH-Action-dataset/walking\\person19_walking_d4_uncomp.mp4\n",
      "\n"
     ]
    },
    {
     "name": "stderr",
     "output_type": "stream",
     "text": [
      "                                                                                               \r"
     ]
    },
    {
     "name": "stdout",
     "output_type": "stream",
     "text": [
      "Moviepy - Done !\n",
      "Moviepy - video ready ./KTH-Action-dataset/walking\\person19_walking_d4_uncomp.mp4\n",
      "Moviepy - Building video ./KTH-Action-dataset/walking\\person20_walking_d1_uncomp.mp4.\n",
      "Moviepy - Writing video ./KTH-Action-dataset/walking\\person20_walking_d1_uncomp.mp4\n",
      "\n"
     ]
    },
    {
     "name": "stderr",
     "output_type": "stream",
     "text": [
      "                                                                                               \r"
     ]
    },
    {
     "name": "stdout",
     "output_type": "stream",
     "text": [
      "Moviepy - Done !\n",
      "Moviepy - video ready ./KTH-Action-dataset/walking\\person20_walking_d1_uncomp.mp4\n",
      "Moviepy - Building video ./KTH-Action-dataset/walking\\person20_walking_d2_uncomp.mp4.\n",
      "Moviepy - Writing video ./KTH-Action-dataset/walking\\person20_walking_d2_uncomp.mp4\n",
      "\n"
     ]
    },
    {
     "name": "stderr",
     "output_type": "stream",
     "text": [
      "                                                                                               \r"
     ]
    },
    {
     "name": "stdout",
     "output_type": "stream",
     "text": [
      "Moviepy - Done !\n",
      "Moviepy - video ready ./KTH-Action-dataset/walking\\person20_walking_d2_uncomp.mp4\n",
      "Moviepy - Building video ./KTH-Action-dataset/walking\\person20_walking_d3_uncomp.mp4.\n",
      "Moviepy - Writing video ./KTH-Action-dataset/walking\\person20_walking_d3_uncomp.mp4\n",
      "\n"
     ]
    },
    {
     "name": "stderr",
     "output_type": "stream",
     "text": [
      "                                                                                               \r"
     ]
    },
    {
     "name": "stdout",
     "output_type": "stream",
     "text": [
      "Moviepy - Done !\n",
      "Moviepy - video ready ./KTH-Action-dataset/walking\\person20_walking_d3_uncomp.mp4\n",
      "Moviepy - Building video ./KTH-Action-dataset/walking\\person20_walking_d4_uncomp.mp4.\n",
      "Moviepy - Writing video ./KTH-Action-dataset/walking\\person20_walking_d4_uncomp.mp4\n",
      "\n"
     ]
    },
    {
     "name": "stderr",
     "output_type": "stream",
     "text": [
      "                                                                                               \r"
     ]
    },
    {
     "name": "stdout",
     "output_type": "stream",
     "text": [
      "Moviepy - Done !\n",
      "Moviepy - video ready ./KTH-Action-dataset/walking\\person20_walking_d4_uncomp.mp4\n",
      "Moviepy - Building video ./KTH-Action-dataset/walking\\person21_walking_d1_uncomp.mp4.\n",
      "Moviepy - Writing video ./KTH-Action-dataset/walking\\person21_walking_d1_uncomp.mp4\n",
      "\n"
     ]
    },
    {
     "name": "stderr",
     "output_type": "stream",
     "text": [
      "                                                                                               \r"
     ]
    },
    {
     "name": "stdout",
     "output_type": "stream",
     "text": [
      "Moviepy - Done !\n",
      "Moviepy - video ready ./KTH-Action-dataset/walking\\person21_walking_d1_uncomp.mp4\n",
      "Moviepy - Building video ./KTH-Action-dataset/walking\\person21_walking_d2_uncomp.mp4.\n",
      "Moviepy - Writing video ./KTH-Action-dataset/walking\\person21_walking_d2_uncomp.mp4\n",
      "\n"
     ]
    },
    {
     "name": "stderr",
     "output_type": "stream",
     "text": [
      "                                                                                               \r"
     ]
    },
    {
     "name": "stdout",
     "output_type": "stream",
     "text": [
      "Moviepy - Done !\n",
      "Moviepy - video ready ./KTH-Action-dataset/walking\\person21_walking_d2_uncomp.mp4\n",
      "Moviepy - Building video ./KTH-Action-dataset/walking\\person21_walking_d3_uncomp.mp4.\n",
      "Moviepy - Writing video ./KTH-Action-dataset/walking\\person21_walking_d3_uncomp.mp4\n",
      "\n"
     ]
    },
    {
     "name": "stderr",
     "output_type": "stream",
     "text": [
      "                                                                                               \r"
     ]
    },
    {
     "name": "stdout",
     "output_type": "stream",
     "text": [
      "Moviepy - Done !\n",
      "Moviepy - video ready ./KTH-Action-dataset/walking\\person21_walking_d3_uncomp.mp4\n",
      "Moviepy - Building video ./KTH-Action-dataset/walking\\person21_walking_d4_uncomp.mp4.\n",
      "Moviepy - Writing video ./KTH-Action-dataset/walking\\person21_walking_d4_uncomp.mp4\n",
      "\n"
     ]
    },
    {
     "name": "stderr",
     "output_type": "stream",
     "text": [
      "                                                                                               \r"
     ]
    },
    {
     "name": "stdout",
     "output_type": "stream",
     "text": [
      "Moviepy - Done !\n",
      "Moviepy - video ready ./KTH-Action-dataset/walking\\person21_walking_d4_uncomp.mp4\n",
      "Moviepy - Building video ./KTH-Action-dataset/walking\\person22_walking_d1_uncomp.mp4.\n",
      "Moviepy - Writing video ./KTH-Action-dataset/walking\\person22_walking_d1_uncomp.mp4\n",
      "\n"
     ]
    },
    {
     "name": "stderr",
     "output_type": "stream",
     "text": [
      "                                                                                               \r"
     ]
    },
    {
     "name": "stdout",
     "output_type": "stream",
     "text": [
      "Moviepy - Done !\n",
      "Moviepy - video ready ./KTH-Action-dataset/walking\\person22_walking_d1_uncomp.mp4\n",
      "Moviepy - Building video ./KTH-Action-dataset/walking\\person22_walking_d2_uncomp.mp4.\n",
      "Moviepy - Writing video ./KTH-Action-dataset/walking\\person22_walking_d2_uncomp.mp4\n",
      "\n"
     ]
    },
    {
     "name": "stderr",
     "output_type": "stream",
     "text": [
      "                                                                                               \r"
     ]
    },
    {
     "name": "stdout",
     "output_type": "stream",
     "text": [
      "Moviepy - Done !\n",
      "Moviepy - video ready ./KTH-Action-dataset/walking\\person22_walking_d2_uncomp.mp4\n",
      "Moviepy - Building video ./KTH-Action-dataset/walking\\person22_walking_d3_uncomp.mp4.\n",
      "Moviepy - Writing video ./KTH-Action-dataset/walking\\person22_walking_d3_uncomp.mp4\n",
      "\n"
     ]
    },
    {
     "name": "stderr",
     "output_type": "stream",
     "text": [
      "                                                                                               \r"
     ]
    },
    {
     "name": "stdout",
     "output_type": "stream",
     "text": [
      "Moviepy - Done !\n",
      "Moviepy - video ready ./KTH-Action-dataset/walking\\person22_walking_d3_uncomp.mp4\n",
      "Moviepy - Building video ./KTH-Action-dataset/walking\\person22_walking_d4_uncomp.mp4.\n",
      "Moviepy - Writing video ./KTH-Action-dataset/walking\\person22_walking_d4_uncomp.mp4\n",
      "\n"
     ]
    },
    {
     "name": "stderr",
     "output_type": "stream",
     "text": [
      "                                                                                               \r"
     ]
    },
    {
     "name": "stdout",
     "output_type": "stream",
     "text": [
      "Moviepy - Done !\n",
      "Moviepy - video ready ./KTH-Action-dataset/walking\\person22_walking_d4_uncomp.mp4\n",
      "Moviepy - Building video ./KTH-Action-dataset/walking\\person23_walking_d1_uncomp.mp4.\n",
      "Moviepy - Writing video ./KTH-Action-dataset/walking\\person23_walking_d1_uncomp.mp4\n",
      "\n"
     ]
    },
    {
     "name": "stderr",
     "output_type": "stream",
     "text": [
      "                                                                                               \r"
     ]
    },
    {
     "name": "stdout",
     "output_type": "stream",
     "text": [
      "Moviepy - Done !\n",
      "Moviepy - video ready ./KTH-Action-dataset/walking\\person23_walking_d1_uncomp.mp4\n",
      "Moviepy - Building video ./KTH-Action-dataset/walking\\person23_walking_d2_uncomp.mp4.\n",
      "Moviepy - Writing video ./KTH-Action-dataset/walking\\person23_walking_d2_uncomp.mp4\n",
      "\n"
     ]
    },
    {
     "name": "stderr",
     "output_type": "stream",
     "text": [
      "                                                                                               \r"
     ]
    },
    {
     "name": "stdout",
     "output_type": "stream",
     "text": [
      "Moviepy - Done !\n",
      "Moviepy - video ready ./KTH-Action-dataset/walking\\person23_walking_d2_uncomp.mp4\n",
      "Moviepy - Building video ./KTH-Action-dataset/walking\\person23_walking_d3_uncomp.mp4.\n",
      "Moviepy - Writing video ./KTH-Action-dataset/walking\\person23_walking_d3_uncomp.mp4\n",
      "\n"
     ]
    },
    {
     "name": "stderr",
     "output_type": "stream",
     "text": [
      "                                                                                               \r"
     ]
    },
    {
     "name": "stdout",
     "output_type": "stream",
     "text": [
      "Moviepy - Done !\n",
      "Moviepy - video ready ./KTH-Action-dataset/walking\\person23_walking_d3_uncomp.mp4\n",
      "Moviepy - Building video ./KTH-Action-dataset/walking\\person23_walking_d4_uncomp.mp4.\n",
      "Moviepy - Writing video ./KTH-Action-dataset/walking\\person23_walking_d4_uncomp.mp4\n",
      "\n"
     ]
    },
    {
     "name": "stderr",
     "output_type": "stream",
     "text": [
      "                                                                                               \r"
     ]
    },
    {
     "name": "stdout",
     "output_type": "stream",
     "text": [
      "Moviepy - Done !\n",
      "Moviepy - video ready ./KTH-Action-dataset/walking\\person23_walking_d4_uncomp.mp4\n",
      "Moviepy - Building video ./KTH-Action-dataset/walking\\person24_walking_d1_uncomp.mp4.\n",
      "Moviepy - Writing video ./KTH-Action-dataset/walking\\person24_walking_d1_uncomp.mp4\n",
      "\n"
     ]
    },
    {
     "name": "stderr",
     "output_type": "stream",
     "text": [
      "                                                                                               \r"
     ]
    },
    {
     "name": "stdout",
     "output_type": "stream",
     "text": [
      "Moviepy - Done !\n",
      "Moviepy - video ready ./KTH-Action-dataset/walking\\person24_walking_d1_uncomp.mp4\n",
      "Moviepy - Building video ./KTH-Action-dataset/walking\\person24_walking_d2_uncomp.mp4.\n",
      "Moviepy - Writing video ./KTH-Action-dataset/walking\\person24_walking_d2_uncomp.mp4\n",
      "\n"
     ]
    },
    {
     "name": "stderr",
     "output_type": "stream",
     "text": [
      "                                                                                               \r"
     ]
    },
    {
     "name": "stdout",
     "output_type": "stream",
     "text": [
      "Moviepy - Done !\n",
      "Moviepy - video ready ./KTH-Action-dataset/walking\\person24_walking_d2_uncomp.mp4\n",
      "Moviepy - Building video ./KTH-Action-dataset/walking\\person24_walking_d3_uncomp.mp4.\n",
      "Moviepy - Writing video ./KTH-Action-dataset/walking\\person24_walking_d3_uncomp.mp4\n",
      "\n"
     ]
    },
    {
     "name": "stderr",
     "output_type": "stream",
     "text": [
      "                                                                                               \r"
     ]
    },
    {
     "name": "stdout",
     "output_type": "stream",
     "text": [
      "Moviepy - Done !\n",
      "Moviepy - video ready ./KTH-Action-dataset/walking\\person24_walking_d3_uncomp.mp4\n",
      "Moviepy - Building video ./KTH-Action-dataset/walking\\person24_walking_d4_uncomp.mp4.\n",
      "Moviepy - Writing video ./KTH-Action-dataset/walking\\person24_walking_d4_uncomp.mp4\n",
      "\n"
     ]
    },
    {
     "name": "stderr",
     "output_type": "stream",
     "text": [
      "                                                                                               \r"
     ]
    },
    {
     "name": "stdout",
     "output_type": "stream",
     "text": [
      "Moviepy - Done !\n",
      "Moviepy - video ready ./KTH-Action-dataset/walking\\person24_walking_d4_uncomp.mp4\n",
      "Moviepy - Building video ./KTH-Action-dataset/walking\\person25_walking_d1_uncomp.mp4.\n",
      "Moviepy - Writing video ./KTH-Action-dataset/walking\\person25_walking_d1_uncomp.mp4\n",
      "\n"
     ]
    },
    {
     "name": "stderr",
     "output_type": "stream",
     "text": [
      "                                                                                               \r"
     ]
    },
    {
     "name": "stdout",
     "output_type": "stream",
     "text": [
      "Moviepy - Done !\n",
      "Moviepy - video ready ./KTH-Action-dataset/walking\\person25_walking_d1_uncomp.mp4\n",
      "Moviepy - Building video ./KTH-Action-dataset/walking\\person25_walking_d2_uncomp.mp4.\n",
      "Moviepy - Writing video ./KTH-Action-dataset/walking\\person25_walking_d2_uncomp.mp4\n",
      "\n"
     ]
    },
    {
     "name": "stderr",
     "output_type": "stream",
     "text": [
      "                                                                                               \r"
     ]
    },
    {
     "name": "stdout",
     "output_type": "stream",
     "text": [
      "Moviepy - Done !\n",
      "Moviepy - video ready ./KTH-Action-dataset/walking\\person25_walking_d2_uncomp.mp4\n",
      "Moviepy - Building video ./KTH-Action-dataset/walking\\person25_walking_d3_uncomp.mp4.\n",
      "Moviepy - Writing video ./KTH-Action-dataset/walking\\person25_walking_d3_uncomp.mp4\n",
      "\n"
     ]
    },
    {
     "name": "stderr",
     "output_type": "stream",
     "text": [
      "                                                                                               \r"
     ]
    },
    {
     "name": "stdout",
     "output_type": "stream",
     "text": [
      "Moviepy - Done !\n",
      "Moviepy - video ready ./KTH-Action-dataset/walking\\person25_walking_d3_uncomp.mp4\n",
      "Moviepy - Building video ./KTH-Action-dataset/walking\\person25_walking_d4_uncomp.mp4.\n",
      "Moviepy - Writing video ./KTH-Action-dataset/walking\\person25_walking_d4_uncomp.mp4\n",
      "\n"
     ]
    },
    {
     "name": "stderr",
     "output_type": "stream",
     "text": [
      "                                                                                               \r"
     ]
    },
    {
     "name": "stdout",
     "output_type": "stream",
     "text": [
      "Moviepy - Done !\n",
      "Moviepy - video ready ./KTH-Action-dataset/walking\\person25_walking_d4_uncomp.mp4\n"
     ]
    }
   ],
   "source": [
    "import glob\n",
    "import moviepy.editor as moviepy\n",
    "import os\n",
    "import progressbar\n",
    "import urllib.request\n",
    "import zipfile\n",
    "\n",
    "dataset_name = 'KTH-Action-dataset'\n",
    "if not os.path.exists(dataset_name):\n",
    "    os.makedirs(dataset_name)\n",
    "\n",
    "class MyProgressBar():\n",
    "    def __init__(self):\n",
    "        self.pbar = None\n",
    "\n",
    "    def __call__(self, block_num, block_size, total_size):\n",
    "        if not self.pbar:\n",
    "            self.pbar=progressbar.ProgressBar(maxval=total_size)\n",
    "            self.pbar.start()\n",
    "\n",
    "        downloaded = block_num * block_size\n",
    "        if downloaded < total_size:\n",
    "            self.pbar.update(downloaded)\n",
    "        else:\n",
    "            self.pbar.finish()\n",
    "\n",
    "categories = [\n",
    "    'boxing',\n",
    "    'handclapping',\n",
    "    'handwaving',\n",
    "    'jogging',\n",
    "    'running',\n",
    "    'walking',\n",
    "]\n",
    "\n",
    "category_attrs = [\n",
    "    {\n",
    "        'name': category,\n",
    "        'link': f'http://www.nada.kth.se/cvap/actions/{category}.zip',\n",
    "        'zipname': f'{category}.zip',\n",
    "    }\n",
    "    for category in categories\n",
    "]\n",
    "\n",
    "for category_attr in category_attrs:\n",
    "    category = category_attr['name']\n",
    "    link = category_attr['link']\n",
    "    zipname = category_attr['zipname']\n",
    "    \n",
    "    zipfile_path = f'./{dataset_name}/{zipname}'\n",
    "    \n",
    "    # download videos\n",
    "    urllib.request.urlretrieve(link, zipfile_path, MyProgressBar())\n",
    "\n",
    "    # unzip videos\n",
    "    with zipfile.ZipFile(zipfile_path, 'r') as zip_ref:\n",
    "        zip_ref.extractall(f'./{dataset_name}/{category}')\n",
    "    \n",
    "    file_paths = glob.glob(f'./{dataset_name}/{category}/*.avi')\n",
    "    for file_path in file_paths:\n",
    "        # convert avi to mp4\n",
    "        clip = moviepy.VideoFileClip(file_path)\n",
    "        split = file_path.split('.avi')[0]\n",
    "        clip.write_videofile(f'{split}.mp4')\n",
    "    \n",
    "    for file_path in file_paths:\n",
    "        os.remove(file_path)\n",
    "\n",
    "    os.remove(zipfile_path)"
   ]
  },
  {
   "cell_type": "code",
   "execution_count": 25,
   "id": "b1d107f0",
   "metadata": {
    "ExecuteTime": {
     "end_time": "2021-07-21T09:48:46.854246Z",
     "start_time": "2021-07-21T09:48:46.841219Z"
    }
   },
   "outputs": [],
   "source": [
    "import os\n",
    "import shutil\n",
    "\n",
    "# flatten the dataset\n",
    "for category in categories:\n",
    "    file_paths = glob.glob(f'./{dataset_name}/{category}/*')\n",
    "    for file_path in file_paths:\n",
    "        filename = file_path.split('\\\\')[-1]\n",
    "        os.rename(file_path, f'./{dataset_name}/{filename}')\n",
    "    if os.path.exists(f'./{dataset_name}/{category}'):\n",
    "        shutil.rmtree(f'./{dataset_name}/{category}')"
   ]
  }
 ],
 "metadata": {
  "hide_input": false,
  "kernelspec": {
   "display_name": "Python 3",
   "language": "python",
   "name": "python3"
  },
  "language_info": {
   "codemirror_mode": {
    "name": "ipython",
    "version": 3
   },
   "file_extension": ".py",
   "mimetype": "text/x-python",
   "name": "python",
   "nbconvert_exporter": "python",
   "pygments_lexer": "ipython3",
   "version": "3.6.4"
  },
  "toc": {
   "base_numbering": 1,
   "nav_menu": {},
   "number_sections": true,
   "sideBar": true,
   "skip_h1_title": false,
   "title_cell": "Table of Contents",
   "title_sidebar": "Contents",
   "toc_cell": false,
   "toc_position": {},
   "toc_section_display": true,
   "toc_window_display": false
  },
  "varInspector": {
   "cols": {
    "lenName": 16,
    "lenType": 16,
    "lenVar": 40
   },
   "kernels_config": {
    "python": {
     "delete_cmd_postfix": "",
     "delete_cmd_prefix": "del ",
     "library": "var_list.py",
     "varRefreshCmd": "print(var_dic_list())"
    },
    "r": {
     "delete_cmd_postfix": ") ",
     "delete_cmd_prefix": "rm(",
     "library": "var_list.r",
     "varRefreshCmd": "cat(var_dic_list()) "
    }
   },
   "types_to_exclude": [
    "module",
    "function",
    "builtin_function_or_method",
    "instance",
    "_Feature"
   ],
   "window_display": false
  }
 },
 "nbformat": 4,
 "nbformat_minor": 5
}

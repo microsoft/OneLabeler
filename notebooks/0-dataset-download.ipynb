{
 "cells": [
  {
   "cell_type": "markdown",
   "id": "ca28af49",
   "metadata": {},
   "source": [
    "# Dataset Download"
   ]
  },
  {
   "cell_type": "markdown",
   "id": "e9d0137f",
   "metadata": {},
   "source": [
    "## UCI ML hand-written digits datasets\n",
    "\n",
    "- data object type: gray image\n",
    "    - image size: 8 * 8\n",
    "- number of data objects: 1797\n",
    "- label task: classification\n",
    "    - classes: 0, ..., 9\n",
    "\n",
    "Reference\n",
    "\n",
    "1. sklearn dataset download api ([link](https://scikit-learn.org/stable/modules/generated/sklearn.datasets.load_digits.html))\n",
    "2. dataset homepage ([link](https://archive.ics.uci.edu/ml/datasets/Optical+Recognition+of+Handwritten+Digits))"
   ]
  },
  {
   "cell_type": "code",
   "execution_count": null,
   "id": "54ee088c",
   "metadata": {},
   "outputs": [],
   "source": [
    "import os\n",
    "import cv2 as cv\n",
    "import numpy as np\n",
    "from sklearn.datasets import load_digits\n",
    "\n",
    "digits = load_digits()\n",
    "\n",
    "X_raw = (digits.images.astype(float) / 16 * 255).astype(np.uint8)\n",
    "y = digits.target\n",
    "\n",
    "dataset_name = 'UCI_handwritten_digits'\n",
    "if not os.path.exists(dataset_name):\n",
    "    os.makedirs(dataset_name)\n",
    "\n",
    "for i, img in enumerate(X_raw):\n",
    "    cv.imwrite(f'{dataset_name}/{i}.png', img)"
   ]
  },
  {
   "cell_type": "markdown",
   "id": "0846982c",
   "metadata": {},
   "source": [
    "## Cifar-10\n",
    "\n",
    "- data object type: color image\n",
    "    - image size: 32 * 32\n",
    "- number of data objects: 50000 (train) + 10000 (test)\n",
    "- label task: classification\n",
    "    - classes:\n",
    "        - 0 = airplane\n",
    "        - 1 = automobile\n",
    "        - 2 = bird\n",
    "        - 3 = cat\n",
    "        - 4 = deer\n",
    "        - 5 = dog\n",
    "        - 6 = frog\n",
    "        - 7 = horse\n",
    "        - 8 = ship\n",
    "        - 9 = truck\n",
    "\n",
    "Reference\n",
    "\n",
    "1. tensorflow dataset download api ([link](https://www.tensorflow.org/datasets/catalog/cifar10))\n",
    "2. dataset homepage ([link](https://www.cs.toronto.edu/~kriz/cifar.html))"
   ]
  },
  {
   "cell_type": "code",
   "execution_count": null,
   "id": "90a1a1dd",
   "metadata": {},
   "outputs": [],
   "source": [
    "import os\n",
    "import cv2 as cv\n",
    "import tensorflow_datasets as tfds\n",
    "\n",
    "cifar10 = tfds.load('cifar10', download=True)\n",
    "train = [*tfds.as_numpy(cifar10)['train']]\n",
    "test = [*tfds.as_numpy(cifar10)['test']]\n",
    "\n",
    "dataset_name = 'Cifar-10'\n",
    "if not os.path.exists(dataset_name):\n",
    "    os.makedirs(dataset_name)\n",
    "if not os.path.exists(f'{dataset_name}/train'):\n",
    "    os.makedirs(f'{dataset_name}/train')\n",
    "if not os.path.exists(f'{dataset_name}/test'):\n",
    "    os.makedirs(f'{dataset_name}/test')\n",
    "\n",
    "for i in range(len(train)):\n",
    "    img = train[i]['image']\n",
    "    title = train[i]['id'].decode()\n",
    "    cv.imwrite(f'{dataset_name}/train/{title}.png', img)\n",
    "for i in range(len(test)):\n",
    "    img = test[i]['image']\n",
    "    title = test[i]['id'].decode()\n",
    "    cv.imwrite(f'{dataset_name}/test/{title}.png', img)"
   ]
  },
  {
   "cell_type": "markdown",
   "id": "65c0072e",
   "metadata": {},
   "source": [
    "## imagenette\n",
    "\n",
    "- data object type: color image\n",
    "    - image size: >= 160 * 160 (shortest side is 160)\n",
    "- number of data objcets: 12894 (train) + 500 (validation)\n",
    "- label task: classification\n",
    "    - classes:\n",
    "        - n01440764 = 'tench'\n",
    "        - n02102040 = 'English springer'\n",
    "        - n02979186 = 'cassette player'\n",
    "        - n03000684 = 'chain saw'\n",
    "        - n03028079 = 'church'\n",
    "        - n03394916 = 'French horn'\n",
    "        - n03417042 = 'garbage truck'\n",
    "        - n03425413 = 'gas pump'\n",
    "        - n03445777 = 'golf ball'\n",
    "        - n03888257 = 'parachute'\n",
    "\n",
    "Reference\n",
    "\n",
    "1. tensorflow dataset download api ([link](https://www.tensorflow.org/datasets/catalog/imagenette))\n",
    "2. dataset homepage ([link](https://github.com/fastai/imagenette))"
   ]
  },
  {
   "cell_type": "code",
   "execution_count": null,
   "id": "aa97a783",
   "metadata": {
    "ExecuteTime": {
     "end_time": "2021-07-21T03:03:20.964128Z",
     "start_time": "2021-07-21T02:53:56.724723Z"
    },
    "scrolled": false
   },
   "outputs": [],
   "source": [
    "import os\n",
    "import cv2 as cv\n",
    "import tensorflow_datasets as tfds\n",
    "\n",
    "imagenette = tfds.load('imagenette/160px', download=True)\n",
    "train = [*tfds.as_numpy(imagenette)['train']]\n",
    "validation = [*tfds.as_numpy(imagenette)['validation']]\n",
    "\n",
    "dataset_name = 'imagenette'\n",
    "if not os.path.exists(dataset_name):\n",
    "    os.makedirs(dataset_name)\n",
    "if not os.path.exists(f'{dataset_name}/train'):\n",
    "    os.makedirs(f'{dataset_name}/train')\n",
    "if not os.path.exists(f'{dataset_name}/validation'):\n",
    "    os.makedirs(f'{dataset_name}/validation')\n",
    "\n",
    "# imagenette dataset originally stored the image in bgr order\n",
    "for i in range(len(train)):\n",
    "    img = cv.cvtColor(train[i]['image'], cv.COLOR_BGR2RGB)\n",
    "    label = train[i]['label']\n",
    "    cv.imwrite(f'{dataset_name}/train/{i}-{label}.png', img)\n",
    "for i in range(len(validation)):\n",
    "    img = cv.cvtColor(validation[i]['image'], cv.COLOR_BGR2RGB)\n",
    "    label = validation[i]['label']\n",
    "    cv.imwrite(f'{dataset_name}/validation/{i}-{label}.png', img)"
   ]
  },
  {
   "cell_type": "markdown",
   "id": "2ca04c3e",
   "metadata": {},
   "source": [
    "## 20 Newsgroups\n",
    "\n",
    "- data object type: text\n",
    "- number of data objects: 18846 (total), 18466 (empty body filtered)\n",
    "- task: classification\n",
    "    - classes:\n",
    "        - 'alt.atheism'\n",
    "        - 'comp.graphics'\n",
    "        - 'comp.os.ms-windows.misc'\n",
    "        - 'comp.sys.ibm.pc.hardware'\n",
    "        - 'comp.sys.mac.hardware'\n",
    "        - 'comp.windows.x'\n",
    "        - 'misc.forsale'\n",
    "        - 'rec.autos'\n",
    "        - 'rec.motorcycles'\n",
    "        - 'rec.sport.baseball'\n",
    "        - 'rec.sport.hockey'\n",
    "        - 'sci.crypt'\n",
    "        - 'sci.electronics'\n",
    "        - 'sci.med'\n",
    "        - 'sci.space'\n",
    "        - 'soc.religion.christian'\n",
    "        - 'talk.politics.guns'\n",
    "        - 'talk.politics.mideast'\n",
    "        - 'talk.politics.misc'\n",
    "        - 'talk.religion.misc'\n",
    "\n",
    "Reference\n",
    "\n",
    "1. sklearn dataset download api ([link](https://scikit-learn.org/stable/modules/generated/sklearn.datasets.fetch_20newsgroups.html))\n",
    "2. dataset homepage ([link](http://qwone.com/~jason/20Newsgroups/))"
   ]
  },
  {
   "cell_type": "code",
   "execution_count": null,
   "id": "f5ae30d5",
   "metadata": {
    "ExecuteTime": {
     "end_time": "2021-07-21T02:35:21.622131Z",
     "start_time": "2021-07-21T02:29:43.606901Z"
    }
   },
   "outputs": [],
   "source": [
    "import json\n",
    "from sklearn.datasets import fetch_20newsgroups\n",
    "\n",
    "\n",
    "X, y = fetch_20newsgroups(subset='all', remove=['headers', 'footers', 'quotes'], return_X_y=True)\n",
    "#X, y = fetch_20newsgroups(subset='all', return_X_y=True)\n",
    "\n",
    "# filter data objects with empty body\n",
    "indices = [i for i, x in enumerate(X) if len(x) == 0]\n",
    "X = [x for i, x in enumerate(X) if i not in indices]\n",
    "y = [y for i, y in enumerate(y) if i not in indices]\n",
    "\n",
    "with open('20newsgroups.json', 'w', encoding='utf-8') as f:\n",
    "    json.dump(X, f, ensure_ascii=False, indent=4)"
   ]
  },
  {
   "cell_type": "markdown",
   "id": "10c65e32",
   "metadata": {},
   "source": [
    "## IMDb Movie Reviews\n",
    "\n",
    "- data object type: text\n",
    "- number of data objects: 25000 (train) + 25000 (test)\n",
    "- task: classification\n",
    "    - classes:\n",
    "        - 0: negative\n",
    "        - 1: positive\n",
    "\n",
    "Reference\n",
    "\n",
    "1. tensorflow dataset download api ([link](https://www.tensorflow.org/datasets/catalog/imdb_reviews))\n",
    "2. dataset homepage ([link](https://ai.stanford.edu/~amaas/data/sentiment/))"
   ]
  },
  {
   "cell_type": "code",
   "execution_count": null,
   "id": "653b1759",
   "metadata": {
    "ExecuteTime": {
     "end_time": "2021-07-22T08:40:27.027878Z",
     "start_time": "2021-07-22T08:40:11.204880Z"
    }
   },
   "outputs": [],
   "source": [
    "import tensorflow_datasets as tfds\n",
    "\n",
    "imdb = tfds.load('imdb_reviews', download=True)\n",
    "X = [d['text'].decode() for d in [*tfds.as_numpy(imdb)['unsupervised']]]\n",
    "\n",
    "with open('imdb-reviews.json', 'w', encoding='utf-8') as f:\n",
    "    json.dump(X, f, ensure_ascii=False, indent=4)"
   ]
  },
  {
   "cell_type": "markdown",
   "id": "dfb13b2a",
   "metadata": {},
   "source": [
    "## KTH\n",
    "\n",
    "- data object type: video\n",
    "- number of data objects: 600\n",
    "- task: classification\n",
    "    - classes:\n",
    "        - 'walking'\n",
    "        - 'jogging'\n",
    "        - 'running'\n",
    "        - 'boxing'\n",
    "        - 'handwaving'\n",
    "        - 'handclapping'\n",
    "\n",
    "Reference\n",
    "\n",
    "1. dataset homepage ([link](https://www.csc.kth.se/cvap/actions/))"
   ]
  },
  {
   "cell_type": "code",
   "execution_count": null,
   "id": "a31ad530",
   "metadata": {
    "ExecuteTime": {
     "end_time": "2021-07-21T06:54:27.149661Z",
     "start_time": "2021-07-21T04:48:13.332266Z"
    },
    "code_folding": [
     11
    ]
   },
   "outputs": [],
   "source": [
    "import glob\n",
    "import moviepy.editor as moviepy\n",
    "import os\n",
    "import progressbar\n",
    "import urllib.request\n",
    "import zipfile\n",
    "\n",
    "dataset_name = 'KTH-Action-dataset'\n",
    "if not os.path.exists(dataset_name):\n",
    "    os.makedirs(dataset_name)\n",
    "\n",
    "class MyProgressBar():\n",
    "    def __init__(self):\n",
    "        self.pbar = None\n",
    "\n",
    "    def __call__(self, block_num, block_size, total_size):\n",
    "        if not self.pbar:\n",
    "            self.pbar=progressbar.ProgressBar(maxval=total_size)\n",
    "            self.pbar.start()\n",
    "\n",
    "        downloaded = block_num * block_size\n",
    "        if downloaded < total_size:\n",
    "            self.pbar.update(downloaded)\n",
    "        else:\n",
    "            self.pbar.finish()\n",
    "\n",
    "categories = [\n",
    "    'boxing',\n",
    "    'handclapping',\n",
    "    'handwaving',\n",
    "    'jogging',\n",
    "    'running',\n",
    "    'walking',\n",
    "]\n",
    "\n",
    "category_attrs = [\n",
    "    {\n",
    "        'name': category,\n",
    "        'link': f'http://www.nada.kth.se/cvap/actions/{category}.zip',\n",
    "        'zipname': f'{category}.zip',\n",
    "    }\n",
    "    for category in categories\n",
    "]\n",
    "\n",
    "for category_attr in category_attrs:\n",
    "    category = category_attr['name']\n",
    "    link = category_attr['link']\n",
    "    zipname = category_attr['zipname']\n",
    "    \n",
    "    zipfile_path = f'./{dataset_name}/{zipname}'\n",
    "    \n",
    "    # download videos\n",
    "    urllib.request.urlretrieve(link, zipfile_path, MyProgressBar())\n",
    "\n",
    "    # unzip videos\n",
    "    with zipfile.ZipFile(zipfile_path, 'r') as zip_ref:\n",
    "        zip_ref.extractall(f'./{dataset_name}/{category}')\n",
    "    \n",
    "    file_paths = glob.glob(f'./{dataset_name}/{category}/*.avi')\n",
    "    for file_path in file_paths:\n",
    "        # convert avi to mp4\n",
    "        clip = moviepy.VideoFileClip(file_path)\n",
    "        split = file_path.split('.avi')[0]\n",
    "        clip.write_videofile(f'{split}.mp4')\n",
    "    \n",
    "    for file_path in file_paths:\n",
    "        os.remove(file_path)\n",
    "\n",
    "    os.remove(zipfile_path)"
   ]
  },
  {
   "cell_type": "code",
   "execution_count": null,
   "id": "46df71f0",
   "metadata": {
    "ExecuteTime": {
     "end_time": "2021-07-21T09:48:46.854246Z",
     "start_time": "2021-07-21T09:48:46.841219Z"
    }
   },
   "outputs": [],
   "source": [
    "import os\n",
    "import shutil\n",
    "\n",
    "# flatten the dataset\n",
    "for category in categories:\n",
    "    file_paths = glob.glob(f'./{dataset_name}/{category}/*')\n",
    "    for file_path in file_paths:\n",
    "        filename = file_path.split('\\\\')[-1]\n",
    "        os.rename(file_path, f'./{dataset_name}/{filename}')\n",
    "    if os.path.exists(f'./{dataset_name}/{category}'):\n",
    "        shutil.rmtree(f'./{dataset_name}/{category}')"
   ]
  }
 ],
 "metadata": {
  "hide_input": false,
  "kernelspec": {
   "display_name": "Python 3",
   "language": "python",
   "name": "python3"
  },
  "language_info": {
   "codemirror_mode": {
    "name": "ipython",
    "version": 3
   },
   "file_extension": ".py",
   "mimetype": "text/x-python",
   "name": "python",
   "nbconvert_exporter": "python",
   "pygments_lexer": "ipython3",
   "version": "3.6.4"
  },
  "toc": {
   "base_numbering": 1,
   "nav_menu": {},
   "number_sections": true,
   "sideBar": true,
   "skip_h1_title": false,
   "title_cell": "Table of Contents",
   "title_sidebar": "Contents",
   "toc_cell": false,
   "toc_position": {},
   "toc_section_display": true,
   "toc_window_display": false
  },
  "varInspector": {
   "cols": {
    "lenName": 16,
    "lenType": 16,
    "lenVar": 40
   },
   "kernels_config": {
    "python": {
     "delete_cmd_postfix": "",
     "delete_cmd_prefix": "del ",
     "library": "var_list.py",
     "varRefreshCmd": "print(var_dic_list())"
    },
    "r": {
     "delete_cmd_postfix": ") ",
     "delete_cmd_prefix": "rm(",
     "library": "var_list.r",
     "varRefreshCmd": "cat(var_dic_list()) "
    }
   },
   "types_to_exclude": [
    "module",
    "function",
    "builtin_function_or_method",
    "instance",
    "_Feature"
   ],
   "window_display": false
  }
 },
 "nbformat": 4,
 "nbformat_minor": 5
}

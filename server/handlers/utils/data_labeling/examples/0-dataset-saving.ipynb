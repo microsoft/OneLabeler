{
 "cells": [
  {
   "cell_type": "markdown",
   "id": "limiting-indication",
   "metadata": {},
   "source": [
    "# Dataset Saving"
   ]
  },
  {
   "cell_type": "markdown",
   "id": "ultimate-simon",
   "metadata": {},
   "source": [
    "- UCI ML hand-written digits datasets\n",
    "    - data object type: gray image\n",
    "    - number of images: 1797\n",
    "    - image size: 8 * 8\n",
    "    - classes: 0, ..., 9"
   ]
  },
  {
   "cell_type": "code",
   "execution_count": null,
   "id": "numerical-convertible",
   "metadata": {},
   "outputs": [],
   "source": [
    "import os\n",
    "import cv2 as cv\n",
    "import numpy as np\n",
    "from sklearn.datasets import load_digits\n",
    "\n",
    "digits = load_digits()\n",
    "\n",
    "X_raw = (digits.images.astype(float) / 16 * 255).astype(np.uint8)\n",
    "y = digits.target\n",
    "\n",
    "dataset_name = 'UCI_handwritten_digits'\n",
    "if not os.path.exists(dataset_name):\n",
    "    os.makedirs(dataset_name)\n",
    "\n",
    "for i, img in enumerate(X_raw):\n",
    "    cv.imwrite(f'{dataset_name}/{i}.png', img)"
   ]
  },
  {
   "cell_type": "markdown",
   "id": "fewer-tiffany",
   "metadata": {},
   "source": [
    "- Cifar-10\n",
    "    - data object type: color image\n",
    "    - numbre of images: 50000 (train) + 10000 (test)\n",
    "    - image size: 32 * 32\n",
    "    - classes:\n",
    "        - 0 = airplane\n",
    "        - 1 = automobile\n",
    "        - 2 = bird\n",
    "        - 3 = cat\n",
    "        - 4 = deer\n",
    "        - 5 = dog\n",
    "        - 6 = frog\n",
    "        - 7 = horse\n",
    "        - 8 = ship\n",
    "        - 9 = truck"
   ]
  },
  {
   "cell_type": "code",
   "execution_count": null,
   "id": "regular-minimum",
   "metadata": {},
   "outputs": [],
   "source": [
    "import os\n",
    "import cv2 as cv\n",
    "import tensorflow_datasets as tfds\n",
    "\n",
    "cifar10 = tfds.load('cifar10', download=True)\n",
    "train = [*tfds.as_numpy(cifar10)['train']]\n",
    "test = [*tfds.as_numpy(cifar10)['test']]\n",
    "\n",
    "dataset_name = 'Cifar-10'\n",
    "if not os.path.exists(dataset_name):\n",
    "    os.makedirs(dataset_name)\n",
    "if not os.path.exists(f'{dataset_name}/train'):\n",
    "    os.makedirs(f'{dataset_name}/train')\n",
    "if not os.path.exists(f'{dataset_name}/test'):\n",
    "    os.makedirs(f'{dataset_name}/test')\n",
    "\n",
    "for i in range(len(train)):\n",
    "    img = train[i]['image']\n",
    "    title = train[i]['id'].decode()\n",
    "    cv.imwrite(f'{dataset_name}/train/{title}.png', img)\n",
    "for i in range(len(test)):\n",
    "    img = test[i]['image']\n",
    "    title = test[i]['id'].decode()\n",
    "    cv.imwrite(f'{dataset_name}/test/{title}.png', img)"
   ]
  },
  {
   "cell_type": "markdown",
   "id": "dental-correlation",
   "metadata": {},
   "source": [
    "- imagenette\n",
    "    - data object type: color image\n",
    "        - numbre of images: 12894 (train) + 500 (validation)\n",
    "        - image size: >= 160 * 160 (shortest side is 160)\n",
    "        - classes:\n",
    "            - n01440764 = 'tench'\n",
    "            - n02102040 = 'English springer'\n",
    "            - n02979186 = 'cassette player'\n",
    "            - n03000684 = 'chain saw'\n",
    "            - n03028079 = 'church'\n",
    "            - n03394916 = 'French horn'\n",
    "            - n03417042 = 'garbage truck'\n",
    "            - n03425413 = 'gas pump'\n",
    "            - n03445777 = 'golf ball'\n",
    "            - n03888257 = 'parachute'"
   ]
  },
  {
   "cell_type": "code",
   "execution_count": 18,
   "id": "latter-remedy",
   "metadata": {},
   "outputs": [],
   "source": [
    "import os\n",
    "import cv2 as cv\n",
    "import tensorflow_datasets as tfds\n",
    "\n",
    "imagenette = tfds.load('imagenette/160px', download=True)\n",
    "train = [*tfds.as_numpy(imagenette)['train']]\n",
    "validation = [*tfds.as_numpy(imagenette)['validation']]\n",
    "\n",
    "dataset_name = 'imagenette'\n",
    "if not os.path.exists(dataset_name):\n",
    "    os.makedirs(dataset_name)\n",
    "if not os.path.exists(f'{dataset_name}/train'):\n",
    "    os.makedirs(f'{dataset_name}/train')\n",
    "if not os.path.exists(f'{dataset_name}/validation'):\n",
    "    os.makedirs(f'{dataset_name}/validation')\n",
    "\n",
    "for i in range(len(train)):\n",
    "    img = train[i]['image']\n",
    "    label = train[i]['label']\n",
    "    cv.imwrite(f'{dataset_name}/train/{i}-{label}.png', img)\n",
    "for i in range(len(validation)):\n",
    "    img = validation[i]['image']\n",
    "    label = validation[i]['label']\n",
    "    cv.imwrite(f'{dataset_name}/validation/{i}-{label}.png', img)"
   ]
  },
  {
   "cell_type": "code",
   "execution_count": null,
   "id": "national-leisure",
   "metadata": {},
   "outputs": [],
   "source": []
  }
 ],
 "metadata": {
  "kernelspec": {
   "display_name": "Python 3",
   "language": "python",
   "name": "python3"
  },
  "language_info": {
   "codemirror_mode": {
    "name": "ipython",
    "version": 3
   },
   "file_extension": ".py",
   "mimetype": "text/x-python",
   "name": "python",
   "nbconvert_exporter": "python",
   "pygments_lexer": "ipython3",
   "version": "3.7.0"
  }
 },
 "nbformat": 4,
 "nbformat_minor": 5
}

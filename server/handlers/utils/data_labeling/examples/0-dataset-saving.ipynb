{
 "cells": [
  {
   "cell_type": "code",
   "execution_count": 15,
   "id": "numerical-convertible",
   "metadata": {},
   "outputs": [],
   "source": [
    "import cv2 as cv\n",
    "import numpy as np\n",
    "from sklearn.datasets import load_digits\n",
    "\n",
    "digits = load_digits()\n",
    "\n",
    "X_raw = (digits.images.astype(float) / 16 * 255).astype(np.uint8)\n",
    "y = digits.target\n",
    "\n",
    "for i, img in enumerate(X_raw):\n",
    "    cv.imwrite(f'dataset/{i}.png', img)"
   ]
  },
  {
   "cell_type": "code",
   "execution_count": null,
   "id": "regular-minimum",
   "metadata": {},
   "outputs": [],
   "source": []
  }
 ],
 "metadata": {
  "kernelspec": {
   "display_name": "Python 3",
   "language": "python",
   "name": "python3"
  },
  "language_info": {
   "codemirror_mode": {
    "name": "ipython",
    "version": 3
   },
   "file_extension": ".py",
   "mimetype": "text/x-python",
   "name": "python",
   "nbconvert_exporter": "python",
   "pygments_lexer": "ipython3",
   "version": "3.7.0"
  }
 },
 "nbformat": 4,
 "nbformat_minor": 5
}
